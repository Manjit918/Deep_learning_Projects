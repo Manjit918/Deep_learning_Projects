{
  "nbformat": 4,
  "nbformat_minor": 0,
  "metadata": {
    "colab": {
      "name": "ASD_prediction_UsingDropout.ipynb",
      "provenance": []
    },
    "kernelspec": {
      "name": "python3",
      "display_name": "Python 3"
    },
    "language_info": {
      "name": "python"
    }
  },
  "cells": [
    {
      "cell_type": "code",
      "metadata": {
        "id": "bWNi2syDw_Dn"
      },
      "source": [
        "import tensorflow as tf \n",
        "import pandas as pd\n",
        "import numpy as np\n",
        "import matplotlib.pyplot as plt\n",
        "%matplotlib inline\n",
        "import seaborn as sns\n",
        "from sklearn.preprocessing import LabelEncoder,OneHotEncoder\n",
        "from sklearn.preprocessing import StandardScaler,Normalizer,MinMaxScaler\n",
        "from sklearn.model_selection import train_test_split\n",
        "from tensorflow.keras.models import Sequential\n",
        "from tensorflow.keras.layers import Activation,Dense,BatchNormalization,Dropout\n",
        "from tensorflow.keras import optimizers"
      ],
      "execution_count": 1,
      "outputs": []
    },
    {
      "cell_type": "code",
      "metadata": {
        "id": "IYd6pm3yxbq8"
      },
      "source": [
        "df = pd.read_csv(\"/content/dataset (1).csv\")"
      ],
      "execution_count": 2,
      "outputs": []
    },
    {
      "cell_type": "code",
      "metadata": {
        "colab": {
          "base_uri": "https://localhost:8080/",
          "height": 309
        },
        "id": "D-Wm4tqCxdVz",
        "outputId": "4c793a1f-b20a-4c00-fe9d-4762fb3cd9e9"
      },
      "source": [
        "df.head()"
      ],
      "execution_count": 3,
      "outputs": [
        {
          "output_type": "execute_result",
          "data": {
            "text/html": [
              "<div>\n",
              "<style scoped>\n",
              "    .dataframe tbody tr th:only-of-type {\n",
              "        vertical-align: middle;\n",
              "    }\n",
              "\n",
              "    .dataframe tbody tr th {\n",
              "        vertical-align: top;\n",
              "    }\n",
              "\n",
              "    .dataframe thead th {\n",
              "        text-align: right;\n",
              "    }\n",
              "</style>\n",
              "<table border=\"1\" class=\"dataframe\">\n",
              "  <thead>\n",
              "    <tr style=\"text-align: right;\">\n",
              "      <th></th>\n",
              "      <th>A1_Score</th>\n",
              "      <th>A2_Score</th>\n",
              "      <th>A3_Score</th>\n",
              "      <th>A4_Score</th>\n",
              "      <th>A5_Score</th>\n",
              "      <th>A6_Score</th>\n",
              "      <th>A7_Score</th>\n",
              "      <th>A8_Score</th>\n",
              "      <th>A9_Score</th>\n",
              "      <th>A10_Score</th>\n",
              "      <th>age</th>\n",
              "      <th>gender</th>\n",
              "      <th>ethnicity</th>\n",
              "      <th>jaundice</th>\n",
              "      <th>autism</th>\n",
              "      <th>country_of_res</th>\n",
              "      <th>used_app_before</th>\n",
              "      <th>result</th>\n",
              "      <th>age_desc</th>\n",
              "      <th>relation</th>\n",
              "      <th>Class_ASD</th>\n",
              "    </tr>\n",
              "  </thead>\n",
              "  <tbody>\n",
              "    <tr>\n",
              "      <th>0</th>\n",
              "      <td>1</td>\n",
              "      <td>1</td>\n",
              "      <td>1</td>\n",
              "      <td>1</td>\n",
              "      <td>0</td>\n",
              "      <td>0</td>\n",
              "      <td>1</td>\n",
              "      <td>1</td>\n",
              "      <td>0</td>\n",
              "      <td>0</td>\n",
              "      <td>26</td>\n",
              "      <td>f</td>\n",
              "      <td>White-European</td>\n",
              "      <td>no</td>\n",
              "      <td>no</td>\n",
              "      <td>'United States'</td>\n",
              "      <td>no</td>\n",
              "      <td>6</td>\n",
              "      <td>'18 and more'</td>\n",
              "      <td>Self</td>\n",
              "      <td>NO</td>\n",
              "    </tr>\n",
              "    <tr>\n",
              "      <th>1</th>\n",
              "      <td>1</td>\n",
              "      <td>1</td>\n",
              "      <td>0</td>\n",
              "      <td>1</td>\n",
              "      <td>0</td>\n",
              "      <td>0</td>\n",
              "      <td>0</td>\n",
              "      <td>1</td>\n",
              "      <td>0</td>\n",
              "      <td>1</td>\n",
              "      <td>24</td>\n",
              "      <td>m</td>\n",
              "      <td>Latino</td>\n",
              "      <td>no</td>\n",
              "      <td>yes</td>\n",
              "      <td>Brazil</td>\n",
              "      <td>no</td>\n",
              "      <td>5</td>\n",
              "      <td>'18 and more'</td>\n",
              "      <td>Self</td>\n",
              "      <td>NO</td>\n",
              "    </tr>\n",
              "    <tr>\n",
              "      <th>2</th>\n",
              "      <td>1</td>\n",
              "      <td>1</td>\n",
              "      <td>0</td>\n",
              "      <td>1</td>\n",
              "      <td>1</td>\n",
              "      <td>0</td>\n",
              "      <td>1</td>\n",
              "      <td>1</td>\n",
              "      <td>1</td>\n",
              "      <td>1</td>\n",
              "      <td>27</td>\n",
              "      <td>m</td>\n",
              "      <td>Latino</td>\n",
              "      <td>yes</td>\n",
              "      <td>yes</td>\n",
              "      <td>Spain</td>\n",
              "      <td>no</td>\n",
              "      <td>8</td>\n",
              "      <td>'18 and more'</td>\n",
              "      <td>Parent</td>\n",
              "      <td>YES</td>\n",
              "    </tr>\n",
              "    <tr>\n",
              "      <th>3</th>\n",
              "      <td>1</td>\n",
              "      <td>1</td>\n",
              "      <td>0</td>\n",
              "      <td>1</td>\n",
              "      <td>0</td>\n",
              "      <td>0</td>\n",
              "      <td>1</td>\n",
              "      <td>1</td>\n",
              "      <td>0</td>\n",
              "      <td>1</td>\n",
              "      <td>35</td>\n",
              "      <td>f</td>\n",
              "      <td>White-European</td>\n",
              "      <td>no</td>\n",
              "      <td>yes</td>\n",
              "      <td>'United States'</td>\n",
              "      <td>no</td>\n",
              "      <td>6</td>\n",
              "      <td>'18 and more'</td>\n",
              "      <td>Self</td>\n",
              "      <td>NO</td>\n",
              "    </tr>\n",
              "    <tr>\n",
              "      <th>4</th>\n",
              "      <td>1</td>\n",
              "      <td>0</td>\n",
              "      <td>0</td>\n",
              "      <td>0</td>\n",
              "      <td>0</td>\n",
              "      <td>0</td>\n",
              "      <td>0</td>\n",
              "      <td>1</td>\n",
              "      <td>0</td>\n",
              "      <td>0</td>\n",
              "      <td>40</td>\n",
              "      <td>f</td>\n",
              "      <td>?</td>\n",
              "      <td>no</td>\n",
              "      <td>no</td>\n",
              "      <td>Egypt</td>\n",
              "      <td>no</td>\n",
              "      <td>2</td>\n",
              "      <td>'18 and more'</td>\n",
              "      <td>?</td>\n",
              "      <td>NO</td>\n",
              "    </tr>\n",
              "  </tbody>\n",
              "</table>\n",
              "</div>"
            ],
            "text/plain": [
              "   A1_Score  A2_Score  A3_Score  ...       age_desc  relation  Class_ASD\n",
              "0         1         1         1  ...  '18 and more'      Self         NO\n",
              "1         1         1         0  ...  '18 and more'      Self         NO\n",
              "2         1         1         0  ...  '18 and more'    Parent        YES\n",
              "3         1         1         0  ...  '18 and more'      Self         NO\n",
              "4         1         0         0  ...  '18 and more'         ?         NO\n",
              "\n",
              "[5 rows x 21 columns]"
            ]
          },
          "metadata": {
            "tags": []
          },
          "execution_count": 3
        }
      ]
    },
    {
      "cell_type": "code",
      "metadata": {
        "colab": {
          "base_uri": "https://localhost:8080/"
        },
        "id": "gr4c94Rsxefn",
        "outputId": "19419515-57df-4bcf-97ac-91a05fc1c987"
      },
      "source": [
        "df.columns"
      ],
      "execution_count": 4,
      "outputs": [
        {
          "output_type": "execute_result",
          "data": {
            "text/plain": [
              "Index(['A1_Score', 'A2_Score', 'A3_Score', 'A4_Score', 'A5_Score', 'A6_Score',\n",
              "       'A7_Score', 'A8_Score', 'A9_Score', 'A10_Score', 'age', 'gender',\n",
              "       'ethnicity', 'jaundice', 'autism', 'country_of_res', 'used_app_before',\n",
              "       'result', 'age_desc', 'relation', 'Class_ASD'],\n",
              "      dtype='object')"
            ]
          },
          "metadata": {
            "tags": []
          },
          "execution_count": 4
        }
      ]
    },
    {
      "cell_type": "code",
      "metadata": {
        "colab": {
          "base_uri": "https://localhost:8080/"
        },
        "id": "0YeTD7HAxfxx",
        "outputId": "12e564d6-a6a7-43b2-c462-0838607ebec6"
      },
      "source": [
        "df.info()"
      ],
      "execution_count": 5,
      "outputs": [
        {
          "output_type": "stream",
          "text": [
            "<class 'pandas.core.frame.DataFrame'>\n",
            "RangeIndex: 704 entries, 0 to 703\n",
            "Data columns (total 21 columns):\n",
            " #   Column           Non-Null Count  Dtype \n",
            "---  ------           --------------  ----- \n",
            " 0   A1_Score         704 non-null    int64 \n",
            " 1   A2_Score         704 non-null    int64 \n",
            " 2   A3_Score         704 non-null    int64 \n",
            " 3   A4_Score         704 non-null    int64 \n",
            " 4   A5_Score         704 non-null    int64 \n",
            " 5   A6_Score         704 non-null    int64 \n",
            " 6   A7_Score         704 non-null    int64 \n",
            " 7   A8_Score         704 non-null    int64 \n",
            " 8   A9_Score         704 non-null    int64 \n",
            " 9   A10_Score        704 non-null    int64 \n",
            " 10  age              704 non-null    object\n",
            " 11  gender           704 non-null    object\n",
            " 12  ethnicity        704 non-null    object\n",
            " 13  jaundice         704 non-null    object\n",
            " 14  autism           704 non-null    object\n",
            " 15  country_of_res   704 non-null    object\n",
            " 16  used_app_before  704 non-null    object\n",
            " 17  result           704 non-null    int64 \n",
            " 18  age_desc         704 non-null    object\n",
            " 19  relation         704 non-null    object\n",
            " 20  Class_ASD        704 non-null    object\n",
            "dtypes: int64(11), object(10)\n",
            "memory usage: 115.6+ KB\n"
          ],
          "name": "stdout"
        }
      ]
    },
    {
      "cell_type": "code",
      "metadata": {
        "id": "Bhiew0pnxhB1"
      },
      "source": [
        "categorical_columns = df.select_dtypes(include='O').columns.tolist()"
      ],
      "execution_count": 6,
      "outputs": []
    },
    {
      "cell_type": "code",
      "metadata": {
        "colab": {
          "base_uri": "https://localhost:8080/"
        },
        "id": "vOLpNblqxi-n",
        "outputId": "6a262cca-b2f7-42c7-de00-1ccb62409ea9"
      },
      "source": [
        "categorical_columns"
      ],
      "execution_count": 7,
      "outputs": [
        {
          "output_type": "execute_result",
          "data": {
            "text/plain": [
              "['age',\n",
              " 'gender',\n",
              " 'ethnicity',\n",
              " 'jaundice',\n",
              " 'autism',\n",
              " 'country_of_res',\n",
              " 'used_app_before',\n",
              " 'age_desc',\n",
              " 'relation',\n",
              " 'Class_ASD']"
            ]
          },
          "metadata": {
            "tags": []
          },
          "execution_count": 7
        }
      ]
    },
    {
      "cell_type": "code",
      "metadata": {
        "colab": {
          "base_uri": "https://localhost:8080/"
        },
        "id": "YfSevKl2xkPa",
        "outputId": "fe9252f3-9287-423e-e30f-7c6598c73a76"
      },
      "source": [
        "for i in categorical_columns:\n",
        "    print(\"unique values in-\"+ i,df[i].unique())"
      ],
      "execution_count": 8,
      "outputs": [
        {
          "output_type": "stream",
          "text": [
            "unique values in-age ['26' '24' '27' '35' '40' '36' '64' '29' '17' '33' '18' '31' '43' '37'\n",
            " '55' '34' '53' '20' '30' '21' '383' '47' '28' '32' '44' '19' '45' '42'\n",
            " '22' '39' '25' '38' '23' '54' '60' '50' '41' '46' '56' '58' '61' '59'\n",
            " '52' '48' '51' '49' '?']\n",
            "unique values in-gender ['f' 'm']\n",
            "unique values in-ethnicity ['White-European' 'Latino' '?' 'Others' 'Asian' \"'Middle Eastern '\"\n",
            " 'Pasifika' 'Black' \"'South Asian'\" 'Hispanic' 'Turkish' 'others']\n",
            "unique values in-jaundice ['no' 'yes']\n",
            "unique values in-autism ['no' 'yes']\n",
            "unique values in-country_of_res [\"'United States'\" 'Brazil' 'Spain' 'Egypt' \"'New Zealand'\" 'Bahamas'\n",
            " 'Austria' 'Argentina' 'Jordan' 'Lebanon' \"'South Africa'\" 'Italy'\n",
            " 'Bangladesh' 'Chile' 'France' 'China' 'Australia' 'Canada'\n",
            " \"'Saudi Arabia'\" 'Netherlands' 'Afghanistan' \"'United Kingdom'\" 'Romania'\n",
            " 'Sweden' 'Tonga' 'Philippines' 'India' \"'Sri Lanka'\"\n",
            " \"'United Arab Emirates'\" \"'Sierra Leone'\" 'Ireland' 'Ethiopia' 'Iran'\n",
            " \"'Viet Nam'\" \"'Costa Rica'\" 'Germany' 'Armenia' 'Iceland' 'Russia'\n",
            " 'AmericanSamoa' 'Kazakhstan' 'Uruguay' 'Ukraine' 'Serbia' 'Portugal'\n",
            " 'Malaysia' 'Ecuador' 'Mexico' 'Bolivia' 'Finland' 'Nepal' 'Indonesia'\n",
            " 'Angola' 'Pakistan' \"'Czech Republic'\" 'Belgium' 'Cyprus' 'Burundi'\n",
            " 'Oman' 'Nicaragua' \"'Hong Kong'\" 'Japan' 'Niger' 'Aruba' 'Turkey'\n",
            " 'Azerbaijan' 'Iraq']\n",
            "unique values in-used_app_before ['no' 'yes']\n",
            "unique values in-age_desc [\"'18 and more'\"]\n",
            "unique values in-relation ['Self' 'Parent' '?' \"'Health care professional'\" 'Relative' 'Others']\n",
            "unique values in-Class_ASD ['NO' 'YES' 'YES}']\n"
          ],
          "name": "stdout"
        }
      ]
    },
    {
      "cell_type": "code",
      "metadata": {
        "colab": {
          "base_uri": "https://localhost:8080/",
          "height": 700
        },
        "id": "DgHjmZULxlle",
        "outputId": "ad395245-b24d-41b0-943b-1443954b6152"
      },
      "source": [
        "df[df[\"age\"]==\"?\"].T"
      ],
      "execution_count": 9,
      "outputs": [
        {
          "output_type": "execute_result",
          "data": {
            "text/html": [
              "<div>\n",
              "<style scoped>\n",
              "    .dataframe tbody tr th:only-of-type {\n",
              "        vertical-align: middle;\n",
              "    }\n",
              "\n",
              "    .dataframe tbody tr th {\n",
              "        vertical-align: top;\n",
              "    }\n",
              "\n",
              "    .dataframe thead th {\n",
              "        text-align: right;\n",
              "    }\n",
              "</style>\n",
              "<table border=\"1\" class=\"dataframe\">\n",
              "  <thead>\n",
              "    <tr style=\"text-align: right;\">\n",
              "      <th></th>\n",
              "      <th>531</th>\n",
              "      <th>538</th>\n",
              "    </tr>\n",
              "  </thead>\n",
              "  <tbody>\n",
              "    <tr>\n",
              "      <th>A1_Score</th>\n",
              "      <td>0</td>\n",
              "      <td>0</td>\n",
              "    </tr>\n",
              "    <tr>\n",
              "      <th>A2_Score</th>\n",
              "      <td>0</td>\n",
              "      <td>1</td>\n",
              "    </tr>\n",
              "    <tr>\n",
              "      <th>A3_Score</th>\n",
              "      <td>0</td>\n",
              "      <td>0</td>\n",
              "    </tr>\n",
              "    <tr>\n",
              "      <th>A4_Score</th>\n",
              "      <td>0</td>\n",
              "      <td>0</td>\n",
              "    </tr>\n",
              "    <tr>\n",
              "      <th>A5_Score</th>\n",
              "      <td>0</td>\n",
              "      <td>1</td>\n",
              "    </tr>\n",
              "    <tr>\n",
              "      <th>A6_Score</th>\n",
              "      <td>0</td>\n",
              "      <td>0</td>\n",
              "    </tr>\n",
              "    <tr>\n",
              "      <th>A7_Score</th>\n",
              "      <td>0</td>\n",
              "      <td>1</td>\n",
              "    </tr>\n",
              "    <tr>\n",
              "      <th>A8_Score</th>\n",
              "      <td>0</td>\n",
              "      <td>0</td>\n",
              "    </tr>\n",
              "    <tr>\n",
              "      <th>A9_Score</th>\n",
              "      <td>0</td>\n",
              "      <td>0</td>\n",
              "    </tr>\n",
              "    <tr>\n",
              "      <th>A10_Score</th>\n",
              "      <td>0</td>\n",
              "      <td>1</td>\n",
              "    </tr>\n",
              "    <tr>\n",
              "      <th>age</th>\n",
              "      <td>?</td>\n",
              "      <td>?</td>\n",
              "    </tr>\n",
              "    <tr>\n",
              "      <th>gender</th>\n",
              "      <td>m</td>\n",
              "      <td>f</td>\n",
              "    </tr>\n",
              "    <tr>\n",
              "      <th>ethnicity</th>\n",
              "      <td>?</td>\n",
              "      <td>?</td>\n",
              "    </tr>\n",
              "    <tr>\n",
              "      <th>jaundice</th>\n",
              "      <td>no</td>\n",
              "      <td>no</td>\n",
              "    </tr>\n",
              "    <tr>\n",
              "      <th>autism</th>\n",
              "      <td>no</td>\n",
              "      <td>no</td>\n",
              "    </tr>\n",
              "    <tr>\n",
              "      <th>country_of_res</th>\n",
              "      <td>'Saudi Arabia'</td>\n",
              "      <td>Jordan</td>\n",
              "    </tr>\n",
              "    <tr>\n",
              "      <th>used_app_before</th>\n",
              "      <td>no</td>\n",
              "      <td>no</td>\n",
              "    </tr>\n",
              "    <tr>\n",
              "      <th>result</th>\n",
              "      <td>0</td>\n",
              "      <td>4</td>\n",
              "    </tr>\n",
              "    <tr>\n",
              "      <th>age_desc</th>\n",
              "      <td>'18 and more'</td>\n",
              "      <td>'18 and more'</td>\n",
              "    </tr>\n",
              "    <tr>\n",
              "      <th>relation</th>\n",
              "      <td>?</td>\n",
              "      <td>?</td>\n",
              "    </tr>\n",
              "    <tr>\n",
              "      <th>Class_ASD</th>\n",
              "      <td>NO</td>\n",
              "      <td>NO</td>\n",
              "    </tr>\n",
              "  </tbody>\n",
              "</table>\n",
              "</div>"
            ],
            "text/plain": [
              "                            531            538\n",
              "A1_Score                      0              0\n",
              "A2_Score                      0              1\n",
              "A3_Score                      0              0\n",
              "A4_Score                      0              0\n",
              "A5_Score                      0              1\n",
              "A6_Score                      0              0\n",
              "A7_Score                      0              1\n",
              "A8_Score                      0              0\n",
              "A9_Score                      0              0\n",
              "A10_Score                     0              1\n",
              "age                           ?              ?\n",
              "gender                        m              f\n",
              "ethnicity                     ?              ?\n",
              "jaundice                     no             no\n",
              "autism                       no             no\n",
              "country_of_res   'Saudi Arabia'         Jordan\n",
              "used_app_before              no             no\n",
              "result                        0              4\n",
              "age_desc          '18 and more'  '18 and more'\n",
              "relation                      ?              ?\n",
              "Class_ASD                    NO             NO"
            ]
          },
          "metadata": {
            "tags": []
          },
          "execution_count": 9
        }
      ]
    },
    {
      "cell_type": "code",
      "metadata": {
        "id": "BdNVAr9sxnDF"
      },
      "source": [
        ""
      ],
      "execution_count": 9,
      "outputs": []
    },
    {
      "cell_type": "markdown",
      "metadata": {
        "id": "DXaqW3nTxr2j"
      },
      "source": [
        "### Row 531 indicates that none of the question were answered and classified as NON AUTISTIC..why???"
      ]
    },
    {
      "cell_type": "code",
      "metadata": {
        "id": "ZtQEEyEjxvu4"
      },
      "source": [
        "df1 = df.copy()"
      ],
      "execution_count": 10,
      "outputs": []
    },
    {
      "cell_type": "code",
      "metadata": {
        "id": "ly8rehYExxf_"
      },
      "source": [
        "df1.drop([531,538],0,inplace=True)"
      ],
      "execution_count": 11,
      "outputs": []
    },
    {
      "cell_type": "code",
      "metadata": {
        "colab": {
          "base_uri": "https://localhost:8080/",
          "height": 609
        },
        "id": "1Q9rQYumxyKL",
        "outputId": "d74fd791-9f3c-4d6e-d611-d90b8e825b58"
      },
      "source": [
        "df1.reset_index(drop=True)"
      ],
      "execution_count": 12,
      "outputs": [
        {
          "output_type": "execute_result",
          "data": {
            "text/html": [
              "<div>\n",
              "<style scoped>\n",
              "    .dataframe tbody tr th:only-of-type {\n",
              "        vertical-align: middle;\n",
              "    }\n",
              "\n",
              "    .dataframe tbody tr th {\n",
              "        vertical-align: top;\n",
              "    }\n",
              "\n",
              "    .dataframe thead th {\n",
              "        text-align: right;\n",
              "    }\n",
              "</style>\n",
              "<table border=\"1\" class=\"dataframe\">\n",
              "  <thead>\n",
              "    <tr style=\"text-align: right;\">\n",
              "      <th></th>\n",
              "      <th>A1_Score</th>\n",
              "      <th>A2_Score</th>\n",
              "      <th>A3_Score</th>\n",
              "      <th>A4_Score</th>\n",
              "      <th>A5_Score</th>\n",
              "      <th>A6_Score</th>\n",
              "      <th>A7_Score</th>\n",
              "      <th>A8_Score</th>\n",
              "      <th>A9_Score</th>\n",
              "      <th>A10_Score</th>\n",
              "      <th>age</th>\n",
              "      <th>gender</th>\n",
              "      <th>ethnicity</th>\n",
              "      <th>jaundice</th>\n",
              "      <th>autism</th>\n",
              "      <th>country_of_res</th>\n",
              "      <th>used_app_before</th>\n",
              "      <th>result</th>\n",
              "      <th>age_desc</th>\n",
              "      <th>relation</th>\n",
              "      <th>Class_ASD</th>\n",
              "    </tr>\n",
              "  </thead>\n",
              "  <tbody>\n",
              "    <tr>\n",
              "      <th>0</th>\n",
              "      <td>1</td>\n",
              "      <td>1</td>\n",
              "      <td>1</td>\n",
              "      <td>1</td>\n",
              "      <td>0</td>\n",
              "      <td>0</td>\n",
              "      <td>1</td>\n",
              "      <td>1</td>\n",
              "      <td>0</td>\n",
              "      <td>0</td>\n",
              "      <td>26</td>\n",
              "      <td>f</td>\n",
              "      <td>White-European</td>\n",
              "      <td>no</td>\n",
              "      <td>no</td>\n",
              "      <td>'United States'</td>\n",
              "      <td>no</td>\n",
              "      <td>6</td>\n",
              "      <td>'18 and more'</td>\n",
              "      <td>Self</td>\n",
              "      <td>NO</td>\n",
              "    </tr>\n",
              "    <tr>\n",
              "      <th>1</th>\n",
              "      <td>1</td>\n",
              "      <td>1</td>\n",
              "      <td>0</td>\n",
              "      <td>1</td>\n",
              "      <td>0</td>\n",
              "      <td>0</td>\n",
              "      <td>0</td>\n",
              "      <td>1</td>\n",
              "      <td>0</td>\n",
              "      <td>1</td>\n",
              "      <td>24</td>\n",
              "      <td>m</td>\n",
              "      <td>Latino</td>\n",
              "      <td>no</td>\n",
              "      <td>yes</td>\n",
              "      <td>Brazil</td>\n",
              "      <td>no</td>\n",
              "      <td>5</td>\n",
              "      <td>'18 and more'</td>\n",
              "      <td>Self</td>\n",
              "      <td>NO</td>\n",
              "    </tr>\n",
              "    <tr>\n",
              "      <th>2</th>\n",
              "      <td>1</td>\n",
              "      <td>1</td>\n",
              "      <td>0</td>\n",
              "      <td>1</td>\n",
              "      <td>1</td>\n",
              "      <td>0</td>\n",
              "      <td>1</td>\n",
              "      <td>1</td>\n",
              "      <td>1</td>\n",
              "      <td>1</td>\n",
              "      <td>27</td>\n",
              "      <td>m</td>\n",
              "      <td>Latino</td>\n",
              "      <td>yes</td>\n",
              "      <td>yes</td>\n",
              "      <td>Spain</td>\n",
              "      <td>no</td>\n",
              "      <td>8</td>\n",
              "      <td>'18 and more'</td>\n",
              "      <td>Parent</td>\n",
              "      <td>YES</td>\n",
              "    </tr>\n",
              "    <tr>\n",
              "      <th>3</th>\n",
              "      <td>1</td>\n",
              "      <td>1</td>\n",
              "      <td>0</td>\n",
              "      <td>1</td>\n",
              "      <td>0</td>\n",
              "      <td>0</td>\n",
              "      <td>1</td>\n",
              "      <td>1</td>\n",
              "      <td>0</td>\n",
              "      <td>1</td>\n",
              "      <td>35</td>\n",
              "      <td>f</td>\n",
              "      <td>White-European</td>\n",
              "      <td>no</td>\n",
              "      <td>yes</td>\n",
              "      <td>'United States'</td>\n",
              "      <td>no</td>\n",
              "      <td>6</td>\n",
              "      <td>'18 and more'</td>\n",
              "      <td>Self</td>\n",
              "      <td>NO</td>\n",
              "    </tr>\n",
              "    <tr>\n",
              "      <th>4</th>\n",
              "      <td>1</td>\n",
              "      <td>0</td>\n",
              "      <td>0</td>\n",
              "      <td>0</td>\n",
              "      <td>0</td>\n",
              "      <td>0</td>\n",
              "      <td>0</td>\n",
              "      <td>1</td>\n",
              "      <td>0</td>\n",
              "      <td>0</td>\n",
              "      <td>40</td>\n",
              "      <td>f</td>\n",
              "      <td>?</td>\n",
              "      <td>no</td>\n",
              "      <td>no</td>\n",
              "      <td>Egypt</td>\n",
              "      <td>no</td>\n",
              "      <td>2</td>\n",
              "      <td>'18 and more'</td>\n",
              "      <td>?</td>\n",
              "      <td>NO</td>\n",
              "    </tr>\n",
              "    <tr>\n",
              "      <th>...</th>\n",
              "      <td>...</td>\n",
              "      <td>...</td>\n",
              "      <td>...</td>\n",
              "      <td>...</td>\n",
              "      <td>...</td>\n",
              "      <td>...</td>\n",
              "      <td>...</td>\n",
              "      <td>...</td>\n",
              "      <td>...</td>\n",
              "      <td>...</td>\n",
              "      <td>...</td>\n",
              "      <td>...</td>\n",
              "      <td>...</td>\n",
              "      <td>...</td>\n",
              "      <td>...</td>\n",
              "      <td>...</td>\n",
              "      <td>...</td>\n",
              "      <td>...</td>\n",
              "      <td>...</td>\n",
              "      <td>...</td>\n",
              "      <td>...</td>\n",
              "    </tr>\n",
              "    <tr>\n",
              "      <th>697</th>\n",
              "      <td>0</td>\n",
              "      <td>0</td>\n",
              "      <td>0</td>\n",
              "      <td>0</td>\n",
              "      <td>0</td>\n",
              "      <td>0</td>\n",
              "      <td>1</td>\n",
              "      <td>1</td>\n",
              "      <td>0</td>\n",
              "      <td>1</td>\n",
              "      <td>17</td>\n",
              "      <td>m</td>\n",
              "      <td>White-European</td>\n",
              "      <td>no</td>\n",
              "      <td>no</td>\n",
              "      <td>Canada</td>\n",
              "      <td>no</td>\n",
              "      <td>3</td>\n",
              "      <td>'18 and more'</td>\n",
              "      <td>Self</td>\n",
              "      <td>NO</td>\n",
              "    </tr>\n",
              "    <tr>\n",
              "      <th>698</th>\n",
              "      <td>0</td>\n",
              "      <td>0</td>\n",
              "      <td>0</td>\n",
              "      <td>0</td>\n",
              "      <td>0</td>\n",
              "      <td>0</td>\n",
              "      <td>0</td>\n",
              "      <td>1</td>\n",
              "      <td>0</td>\n",
              "      <td>0</td>\n",
              "      <td>56</td>\n",
              "      <td>m</td>\n",
              "      <td>?</td>\n",
              "      <td>no</td>\n",
              "      <td>no</td>\n",
              "      <td>Iraq</td>\n",
              "      <td>no</td>\n",
              "      <td>1</td>\n",
              "      <td>'18 and more'</td>\n",
              "      <td>?</td>\n",
              "      <td>NO</td>\n",
              "    </tr>\n",
              "    <tr>\n",
              "      <th>699</th>\n",
              "      <td>0</td>\n",
              "      <td>0</td>\n",
              "      <td>1</td>\n",
              "      <td>0</td>\n",
              "      <td>0</td>\n",
              "      <td>0</td>\n",
              "      <td>1</td>\n",
              "      <td>1</td>\n",
              "      <td>0</td>\n",
              "      <td>0</td>\n",
              "      <td>50</td>\n",
              "      <td>f</td>\n",
              "      <td>'Middle Eastern '</td>\n",
              "      <td>no</td>\n",
              "      <td>no</td>\n",
              "      <td>'New Zealand'</td>\n",
              "      <td>no</td>\n",
              "      <td>3</td>\n",
              "      <td>'18 and more'</td>\n",
              "      <td>Parent</td>\n",
              "      <td>NO</td>\n",
              "    </tr>\n",
              "    <tr>\n",
              "      <th>700</th>\n",
              "      <td>0</td>\n",
              "      <td>0</td>\n",
              "      <td>0</td>\n",
              "      <td>0</td>\n",
              "      <td>1</td>\n",
              "      <td>0</td>\n",
              "      <td>0</td>\n",
              "      <td>0</td>\n",
              "      <td>0</td>\n",
              "      <td>0</td>\n",
              "      <td>31</td>\n",
              "      <td>f</td>\n",
              "      <td>Asian</td>\n",
              "      <td>yes</td>\n",
              "      <td>no</td>\n",
              "      <td>India</td>\n",
              "      <td>no</td>\n",
              "      <td>1</td>\n",
              "      <td>'18 and more'</td>\n",
              "      <td>Self</td>\n",
              "      <td>NO</td>\n",
              "    </tr>\n",
              "    <tr>\n",
              "      <th>701</th>\n",
              "      <td>0</td>\n",
              "      <td>1</td>\n",
              "      <td>0</td>\n",
              "      <td>1</td>\n",
              "      <td>1</td>\n",
              "      <td>0</td>\n",
              "      <td>1</td>\n",
              "      <td>1</td>\n",
              "      <td>1</td>\n",
              "      <td>1</td>\n",
              "      <td>25</td>\n",
              "      <td>f</td>\n",
              "      <td>White-European</td>\n",
              "      <td>no</td>\n",
              "      <td>no</td>\n",
              "      <td>Russia</td>\n",
              "      <td>no</td>\n",
              "      <td>7</td>\n",
              "      <td>'18 and more'</td>\n",
              "      <td>Self</td>\n",
              "      <td>YES</td>\n",
              "    </tr>\n",
              "  </tbody>\n",
              "</table>\n",
              "<p>702 rows × 21 columns</p>\n",
              "</div>"
            ],
            "text/plain": [
              "     A1_Score  A2_Score  A3_Score  ...       age_desc  relation  Class_ASD\n",
              "0           1         1         1  ...  '18 and more'      Self         NO\n",
              "1           1         1         0  ...  '18 and more'      Self         NO\n",
              "2           1         1         0  ...  '18 and more'    Parent        YES\n",
              "3           1         1         0  ...  '18 and more'      Self         NO\n",
              "4           1         0         0  ...  '18 and more'         ?         NO\n",
              "..        ...       ...       ...  ...            ...       ...        ...\n",
              "697         0         0         0  ...  '18 and more'      Self         NO\n",
              "698         0         0         0  ...  '18 and more'         ?         NO\n",
              "699         0         0         1  ...  '18 and more'    Parent         NO\n",
              "700         0         0         0  ...  '18 and more'      Self         NO\n",
              "701         0         1         0  ...  '18 and more'      Self        YES\n",
              "\n",
              "[702 rows x 21 columns]"
            ]
          },
          "metadata": {
            "tags": []
          },
          "execution_count": 12
        }
      ]
    },
    {
      "cell_type": "code",
      "metadata": {
        "id": "VmhiQuKnxyMS"
      },
      "source": [
        "df1[\"age\"] = pd.to_numeric(df1[\"age\"])"
      ],
      "execution_count": 13,
      "outputs": []
    },
    {
      "cell_type": "code",
      "metadata": {
        "colab": {
          "base_uri": "https://localhost:8080/",
          "height": 700
        },
        "id": "b8mg9rDuxyPY",
        "outputId": "7cff478b-738d-4432-9303-6faf14767a24"
      },
      "source": [
        "df1[df1[\"age\"]>80].T"
      ],
      "execution_count": 14,
      "outputs": [
        {
          "output_type": "execute_result",
          "data": {
            "text/html": [
              "<div>\n",
              "<style scoped>\n",
              "    .dataframe tbody tr th:only-of-type {\n",
              "        vertical-align: middle;\n",
              "    }\n",
              "\n",
              "    .dataframe tbody tr th {\n",
              "        vertical-align: top;\n",
              "    }\n",
              "\n",
              "    .dataframe thead th {\n",
              "        text-align: right;\n",
              "    }\n",
              "</style>\n",
              "<table border=\"1\" class=\"dataframe\">\n",
              "  <thead>\n",
              "    <tr style=\"text-align: right;\">\n",
              "      <th></th>\n",
              "      <th>29</th>\n",
              "    </tr>\n",
              "  </thead>\n",
              "  <tbody>\n",
              "    <tr>\n",
              "      <th>A1_Score</th>\n",
              "      <td>1</td>\n",
              "    </tr>\n",
              "    <tr>\n",
              "      <th>A2_Score</th>\n",
              "      <td>0</td>\n",
              "    </tr>\n",
              "    <tr>\n",
              "      <th>A3_Score</th>\n",
              "      <td>0</td>\n",
              "    </tr>\n",
              "    <tr>\n",
              "      <th>A4_Score</th>\n",
              "      <td>0</td>\n",
              "    </tr>\n",
              "    <tr>\n",
              "      <th>A5_Score</th>\n",
              "      <td>0</td>\n",
              "    </tr>\n",
              "    <tr>\n",
              "      <th>A6_Score</th>\n",
              "      <td>0</td>\n",
              "    </tr>\n",
              "    <tr>\n",
              "      <th>A7_Score</th>\n",
              "      <td>0</td>\n",
              "    </tr>\n",
              "    <tr>\n",
              "      <th>A8_Score</th>\n",
              "      <td>0</td>\n",
              "    </tr>\n",
              "    <tr>\n",
              "      <th>A9_Score</th>\n",
              "      <td>0</td>\n",
              "    </tr>\n",
              "    <tr>\n",
              "      <th>A10_Score</th>\n",
              "      <td>0</td>\n",
              "    </tr>\n",
              "    <tr>\n",
              "      <th>age</th>\n",
              "      <td>383</td>\n",
              "    </tr>\n",
              "    <tr>\n",
              "      <th>gender</th>\n",
              "      <td>f</td>\n",
              "    </tr>\n",
              "    <tr>\n",
              "      <th>ethnicity</th>\n",
              "      <td>Pasifika</td>\n",
              "    </tr>\n",
              "    <tr>\n",
              "      <th>jaundice</th>\n",
              "      <td>no</td>\n",
              "    </tr>\n",
              "    <tr>\n",
              "      <th>autism</th>\n",
              "      <td>no</td>\n",
              "    </tr>\n",
              "    <tr>\n",
              "      <th>country_of_res</th>\n",
              "      <td>'New Zealand'</td>\n",
              "    </tr>\n",
              "    <tr>\n",
              "      <th>used_app_before</th>\n",
              "      <td>no</td>\n",
              "    </tr>\n",
              "    <tr>\n",
              "      <th>result</th>\n",
              "      <td>1</td>\n",
              "    </tr>\n",
              "    <tr>\n",
              "      <th>age_desc</th>\n",
              "      <td>'18 and more'</td>\n",
              "    </tr>\n",
              "    <tr>\n",
              "      <th>relation</th>\n",
              "      <td>Self</td>\n",
              "    </tr>\n",
              "    <tr>\n",
              "      <th>Class_ASD</th>\n",
              "      <td>NO</td>\n",
              "    </tr>\n",
              "  </tbody>\n",
              "</table>\n",
              "</div>"
            ],
            "text/plain": [
              "                            29\n",
              "A1_Score                     1\n",
              "A2_Score                     0\n",
              "A3_Score                     0\n",
              "A4_Score                     0\n",
              "A5_Score                     0\n",
              "A6_Score                     0\n",
              "A7_Score                     0\n",
              "A8_Score                     0\n",
              "A9_Score                     0\n",
              "A10_Score                    0\n",
              "age                        383\n",
              "gender                       f\n",
              "ethnicity             Pasifika\n",
              "jaundice                    no\n",
              "autism                      no\n",
              "country_of_res   'New Zealand'\n",
              "used_app_before             no\n",
              "result                       1\n",
              "age_desc         '18 and more'\n",
              "relation                  Self\n",
              "Class_ASD                   NO"
            ]
          },
          "metadata": {
            "tags": []
          },
          "execution_count": 14
        }
      ]
    },
    {
      "cell_type": "code",
      "metadata": {
        "id": "5EbgkgnlxyRM"
      },
      "source": [
        "### Row 29 has also been classified as NON AUTISTIC but only 1 question has been answered...why? and age is and outlier(Should be removed or changed???)"
      ],
      "execution_count": 15,
      "outputs": []
    },
    {
      "cell_type": "code",
      "metadata": {
        "colab": {
          "base_uri": "https://localhost:8080/",
          "height": 269
        },
        "id": "z_wbvFL1x8WW",
        "outputId": "45b859cc-497f-4dc0-cda9-73a053a89913"
      },
      "source": [
        "df1.boxplot(column=[\"age\"])\n",
        "plt.show()"
      ],
      "execution_count": 16,
      "outputs": [
        {
          "output_type": "display_data",
          "data": {
            "image/png": "[encoded data removed]",
            "text/plain": [
              "<Figure size 432x288 with 1 Axes>"
            ]
          },
          "metadata": {
            "tags": [],
            "needs_background": "light"
          }
        }
      ]
    },
    {
      "cell_type": "code",
      "metadata": {
        "id": "GOi5m_5NyAsz"
      },
      "source": [
        "df1.drop([29],0,inplace=True)"
      ],
      "execution_count": 17,
      "outputs": []
    },
    {
      "cell_type": "code",
      "metadata": {
        "colab": {
          "base_uri": "https://localhost:8080/"
        },
        "id": "ttK_9HszyB7f",
        "outputId": "fd962c9e-77db-4ee1-a04d-e7ef5aec9d6f"
      },
      "source": [
        "df1.shape"
      ],
      "execution_count": 18,
      "outputs": [
        {
          "output_type": "execute_result",
          "data": {
            "text/plain": [
              "(701, 21)"
            ]
          },
          "metadata": {
            "tags": []
          },
          "execution_count": 18
        }
      ]
    },
    {
      "cell_type": "code",
      "metadata": {
        "colab": {
          "base_uri": "https://localhost:8080/",
          "height": 265
        },
        "id": "854sxJULyDAn",
        "outputId": "7fe16dd8-8519-4f5c-99ab-4fb97d993a74"
      },
      "source": [
        "df1.boxplot(column=[\"age\"])\n",
        "plt.show()"
      ],
      "execution_count": 19,
      "outputs": [
        {
          "output_type": "display_data",
          "data": {
            "image/png": "[encoded data removed]",
            "text/plain": [
              "<Figure size 432x288 with 1 Axes>"
            ]
          },
          "metadata": {
            "tags": [],
            "needs_background": "light"
          }
        }
      ]
    },
    {
      "cell_type": "code",
      "metadata": {
        "colab": {
          "base_uri": "https://localhost:8080/",
          "height": 282
        },
        "id": "-QHSSHqxyELD",
        "outputId": "c5a779ea-2ccb-4062-94e0-2d77c386ccf1"
      },
      "source": [
        "df1.age.hist()"
      ],
      "execution_count": 20,
      "outputs": [
        {
          "output_type": "execute_result",
          "data": {
            "text/plain": [
              "<matplotlib.axes._subplots.AxesSubplot at 0x7f8f75200450>"
            ]
          },
          "metadata": {
            "tags": []
          },
          "execution_count": 20
        },
        {
          "output_type": "display_data",
          "data": {
            "image/png": "[encoded data removed]",
            "text/plain": [
              "<Figure size 432x288 with 1 Axes>"
            ]
          },
          "metadata": {
            "tags": [],
            "needs_background": "light"
          }
        }
      ]
    },
    {
      "cell_type": "markdown",
      "metadata": {
        "id": "DaQwzUJPyHse"
      },
      "source": [
        "## The age colum distribution doest look like a normal distribution"
      ]
    },
    {
      "cell_type": "code",
      "metadata": {
        "colab": {
          "base_uri": "https://localhost:8080/"
        },
        "id": "H6JdUi8AyGT9",
        "outputId": "a9c96c7b-e971-4323-b580-5b571fbf8141"
      },
      "source": [
        "df1[\"Class_ASD\"].value_counts()"
      ],
      "execution_count": 21,
      "outputs": [
        {
          "output_type": "execute_result",
          "data": {
            "text/plain": [
              "NO      512\n",
              "YES     188\n",
              "YES}      1\n",
              "Name: Class_ASD, dtype: int64"
            ]
          },
          "metadata": {
            "tags": []
          },
          "execution_count": 21
        }
      ]
    },
    {
      "cell_type": "code",
      "metadata": {
        "id": "ehqQ6Y_FyO1v"
      },
      "source": [
        "df1.replace(\"}\",\"\",regex=True,inplace=True)"
      ],
      "execution_count": 22,
      "outputs": []
    },
    {
      "cell_type": "code",
      "metadata": {
        "colab": {
          "base_uri": "https://localhost:8080/"
        },
        "id": "BBX8510ZyP-e",
        "outputId": "a1a69162-33ad-4d84-d3c8-2bc90ed6ddc7"
      },
      "source": [
        "df1[\"Class_ASD\"].value_counts()"
      ],
      "execution_count": 23,
      "outputs": [
        {
          "output_type": "execute_result",
          "data": {
            "text/plain": [
              "NO     512\n",
              "YES    189\n",
              "Name: Class_ASD, dtype: int64"
            ]
          },
          "metadata": {
            "tags": []
          },
          "execution_count": 23
        }
      ]
    },
    {
      "cell_type": "code",
      "metadata": {
        "colab": {
          "base_uri": "https://localhost:8080/",
          "height": 439
        },
        "id": "OgL7hQeAyRG1",
        "outputId": "ebb92818-87ae-4462-af97-c0e93095cc7c"
      },
      "source": [
        "ques_df = df1.iloc[:,0:10]\n",
        "ques_df"
      ],
      "execution_count": 24,
      "outputs": [
        {
          "output_type": "execute_result",
          "data": {
            "text/html": [
              "<div>\n",
              "<style scoped>\n",
              "    .dataframe tbody tr th:only-of-type {\n",
              "        vertical-align: middle;\n",
              "    }\n",
              "\n",
              "    .dataframe tbody tr th {\n",
              "        vertical-align: top;\n",
              "    }\n",
              "\n",
              "    .dataframe thead th {\n",
              "        text-align: right;\n",
              "    }\n",
              "</style>\n",
              "<table border=\"1\" class=\"dataframe\">\n",
              "  <thead>\n",
              "    <tr style=\"text-align: right;\">\n",
              "      <th></th>\n",
              "      <th>A1_Score</th>\n",
              "      <th>A2_Score</th>\n",
              "      <th>A3_Score</th>\n",
              "      <th>A4_Score</th>\n",
              "      <th>A5_Score</th>\n",
              "      <th>A6_Score</th>\n",
              "      <th>A7_Score</th>\n",
              "      <th>A8_Score</th>\n",
              "      <th>A9_Score</th>\n",
              "      <th>A10_Score</th>\n",
              "    </tr>\n",
              "  </thead>\n",
              "  <tbody>\n",
              "    <tr>\n",
              "      <th>0</th>\n",
              "      <td>1</td>\n",
              "      <td>1</td>\n",
              "      <td>1</td>\n",
              "      <td>1</td>\n",
              "      <td>0</td>\n",
              "      <td>0</td>\n",
              "      <td>1</td>\n",
              "      <td>1</td>\n",
              "      <td>0</td>\n",
              "      <td>0</td>\n",
              "    </tr>\n",
              "    <tr>\n",
              "      <th>1</th>\n",
              "      <td>1</td>\n",
              "      <td>1</td>\n",
              "      <td>0</td>\n",
              "      <td>1</td>\n",
              "      <td>0</td>\n",
              "      <td>0</td>\n",
              "      <td>0</td>\n",
              "      <td>1</td>\n",
              "      <td>0</td>\n",
              "      <td>1</td>\n",
              "    </tr>\n",
              "    <tr>\n",
              "      <th>2</th>\n",
              "      <td>1</td>\n",
              "      <td>1</td>\n",
              "      <td>0</td>\n",
              "      <td>1</td>\n",
              "      <td>1</td>\n",
              "      <td>0</td>\n",
              "      <td>1</td>\n",
              "      <td>1</td>\n",
              "      <td>1</td>\n",
              "      <td>1</td>\n",
              "    </tr>\n",
              "    <tr>\n",
              "      <th>3</th>\n",
              "      <td>1</td>\n",
              "      <td>1</td>\n",
              "      <td>0</td>\n",
              "      <td>1</td>\n",
              "      <td>0</td>\n",
              "      <td>0</td>\n",
              "      <td>1</td>\n",
              "      <td>1</td>\n",
              "      <td>0</td>\n",
              "      <td>1</td>\n",
              "    </tr>\n",
              "    <tr>\n",
              "      <th>4</th>\n",
              "      <td>1</td>\n",
              "      <td>0</td>\n",
              "      <td>0</td>\n",
              "      <td>0</td>\n",
              "      <td>0</td>\n",
              "      <td>0</td>\n",
              "      <td>0</td>\n",
              "      <td>1</td>\n",
              "      <td>0</td>\n",
              "      <td>0</td>\n",
              "    </tr>\n",
              "    <tr>\n",
              "      <th>...</th>\n",
              "      <td>...</td>\n",
              "      <td>...</td>\n",
              "      <td>...</td>\n",
              "      <td>...</td>\n",
              "      <td>...</td>\n",
              "      <td>...</td>\n",
              "      <td>...</td>\n",
              "      <td>...</td>\n",
              "      <td>...</td>\n",
              "      <td>...</td>\n",
              "    </tr>\n",
              "    <tr>\n",
              "      <th>699</th>\n",
              "      <td>0</td>\n",
              "      <td>0</td>\n",
              "      <td>0</td>\n",
              "      <td>0</td>\n",
              "      <td>0</td>\n",
              "      <td>0</td>\n",
              "      <td>1</td>\n",
              "      <td>1</td>\n",
              "      <td>0</td>\n",
              "      <td>1</td>\n",
              "    </tr>\n",
              "    <tr>\n",
              "      <th>700</th>\n",
              "      <td>0</td>\n",
              "      <td>0</td>\n",
              "      <td>0</td>\n",
              "      <td>0</td>\n",
              "      <td>0</td>\n",
              "      <td>0</td>\n",
              "      <td>0</td>\n",
              "      <td>1</td>\n",
              "      <td>0</td>\n",
              "      <td>0</td>\n",
              "    </tr>\n",
              "    <tr>\n",
              "      <th>701</th>\n",
              "      <td>0</td>\n",
              "      <td>0</td>\n",
              "      <td>1</td>\n",
              "      <td>0</td>\n",
              "      <td>0</td>\n",
              "      <td>0</td>\n",
              "      <td>1</td>\n",
              "      <td>1</td>\n",
              "      <td>0</td>\n",
              "      <td>0</td>\n",
              "    </tr>\n",
              "    <tr>\n",
              "      <th>702</th>\n",
              "      <td>0</td>\n",
              "      <td>0</td>\n",
              "      <td>0</td>\n",
              "      <td>0</td>\n",
              "      <td>1</td>\n",
              "      <td>0</td>\n",
              "      <td>0</td>\n",
              "      <td>0</td>\n",
              "      <td>0</td>\n",
              "      <td>0</td>\n",
              "    </tr>\n",
              "    <tr>\n",
              "      <th>703</th>\n",
              "      <td>0</td>\n",
              "      <td>1</td>\n",
              "      <td>0</td>\n",
              "      <td>1</td>\n",
              "      <td>1</td>\n",
              "      <td>0</td>\n",
              "      <td>1</td>\n",
              "      <td>1</td>\n",
              "      <td>1</td>\n",
              "      <td>1</td>\n",
              "    </tr>\n",
              "  </tbody>\n",
              "</table>\n",
              "<p>701 rows × 10 columns</p>\n",
              "</div>"
            ],
            "text/plain": [
              "     A1_Score  A2_Score  A3_Score  ...  A8_Score  A9_Score  A10_Score\n",
              "0           1         1         1  ...         1         0          0\n",
              "1           1         1         0  ...         1         0          1\n",
              "2           1         1         0  ...         1         1          1\n",
              "3           1         1         0  ...         1         0          1\n",
              "4           1         0         0  ...         1         0          0\n",
              "..        ...       ...       ...  ...       ...       ...        ...\n",
              "699         0         0         0  ...         1         0          1\n",
              "700         0         0         0  ...         1         0          0\n",
              "701         0         0         1  ...         1         0          0\n",
              "702         0         0         0  ...         0         0          0\n",
              "703         0         1         0  ...         1         1          1\n",
              "\n",
              "[701 rows x 10 columns]"
            ]
          },
          "metadata": {
            "tags": []
          },
          "execution_count": 24
        }
      ]
    },
    {
      "cell_type": "code",
      "metadata": {
        "colab": {
          "base_uri": "https://localhost:8080/"
        },
        "id": "AdoqpQSdyTEi",
        "outputId": "d16ca528-7371-4d3b-f60a-c58ece623662"
      },
      "source": [
        "ques_df.sum()"
      ],
      "execution_count": 25,
      "outputs": [
        {
          "output_type": "execute_result",
          "data": {
            "text/plain": [
              "A1_Score     507\n",
              "A2_Score     318\n",
              "A3_Score     322\n",
              "A4_Score     349\n",
              "A5_Score     350\n",
              "A6_Score     200\n",
              "A7_Score     293\n",
              "A8_Score     457\n",
              "A9_Score     228\n",
              "A10_Score    403\n",
              "dtype: int64"
            ]
          },
          "metadata": {
            "tags": []
          },
          "execution_count": 25
        }
      ]
    },
    {
      "cell_type": "markdown",
      "metadata": {
        "id": "E5EhK2k5yWH6"
      },
      "source": [
        "## Handling invalid data in Relation column"
      ]
    },
    {
      "cell_type": "code",
      "metadata": {
        "colab": {
          "base_uri": "https://localhost:8080/"
        },
        "id": "2be3uq3pyUgP",
        "outputId": "b28fb231-ac68-42b6-ab78-e63aac67ea2b"
      },
      "source": [
        "df1.relation.value_counts()"
      ],
      "execution_count": 26,
      "outputs": [
        {
          "output_type": "execute_result",
          "data": {
            "text/plain": [
              "Self                          521\n",
              "?                              93\n",
              "Parent                         50\n",
              "Relative                       28\n",
              "Others                          5\n",
              "'Health care professional'      4\n",
              "Name: relation, dtype: int64"
            ]
          },
          "metadata": {
            "tags": []
          },
          "execution_count": 26
        }
      ]
    },
    {
      "cell_type": "code",
      "metadata": {
        "id": "wvvqrAzByary"
      },
      "source": [
        "df1.loc[(df1[\"relation\"]==\"?\"),\"relation\"]=\"Self\""
      ],
      "execution_count": 27,
      "outputs": []
    },
    {
      "cell_type": "code",
      "metadata": {
        "colab": {
          "base_uri": "https://localhost:8080/",
          "height": 317
        },
        "id": "8YW2yd5-yb9y",
        "outputId": "1eb1c6d5-acda-47aa-cba8-7567361b4a3a"
      },
      "source": [
        "sns.catplot(x=\"gender\",y=\"result\",col=\"relation\",data=df1,kind=\"box\",hue=\"Class_ASD\",aspect=.5)\n",
        "sns.set_style(\"darkgrid\")"
      ],
      "execution_count": 28,
      "outputs": [
        {
          "output_type": "display_data",
          "data": {
            "image/png": "[encoded data removed]",
            "text/plain": [
              "<Figure size 960.25x360 with 5 Axes>"
            ]
          },
          "metadata": {
            "tags": [],
            "needs_background": "light"
          }
        }
      ]
    },
    {
      "cell_type": "code",
      "metadata": {
        "id": "paFXPMJiydJF"
      },
      "source": [
        "le = LabelEncoder()"
      ],
      "execution_count": 29,
      "outputs": []
    },
    {
      "cell_type": "code",
      "metadata": {
        "colab": {
          "base_uri": "https://localhost:8080/",
          "height": 609
        },
        "id": "T55xtjkryq-N",
        "outputId": "eff267b2-54f9-4561-88a6-50a3e89e6d33"
      },
      "source": [
        "df1.reset_index(drop=True)"
      ],
      "execution_count": 30,
      "outputs": [
        {
          "output_type": "execute_result",
          "data": {
            "text/html": [
              "<div>\n",
              "<style scoped>\n",
              "    .dataframe tbody tr th:only-of-type {\n",
              "        vertical-align: middle;\n",
              "    }\n",
              "\n",
              "    .dataframe tbody tr th {\n",
              "        vertical-align: top;\n",
              "    }\n",
              "\n",
              "    .dataframe thead th {\n",
              "        text-align: right;\n",
              "    }\n",
              "</style>\n",
              "<table border=\"1\" class=\"dataframe\">\n",
              "  <thead>\n",
              "    <tr style=\"text-align: right;\">\n",
              "      <th></th>\n",
              "      <th>A1_Score</th>\n",
              "      <th>A2_Score</th>\n",
              "      <th>A3_Score</th>\n",
              "      <th>A4_Score</th>\n",
              "      <th>A5_Score</th>\n",
              "      <th>A6_Score</th>\n",
              "      <th>A7_Score</th>\n",
              "      <th>A8_Score</th>\n",
              "      <th>A9_Score</th>\n",
              "      <th>A10_Score</th>\n",
              "      <th>age</th>\n",
              "      <th>gender</th>\n",
              "      <th>ethnicity</th>\n",
              "      <th>jaundice</th>\n",
              "      <th>autism</th>\n",
              "      <th>country_of_res</th>\n",
              "      <th>used_app_before</th>\n",
              "      <th>result</th>\n",
              "      <th>age_desc</th>\n",
              "      <th>relation</th>\n",
              "      <th>Class_ASD</th>\n",
              "    </tr>\n",
              "  </thead>\n",
              "  <tbody>\n",
              "    <tr>\n",
              "      <th>0</th>\n",
              "      <td>1</td>\n",
              "      <td>1</td>\n",
              "      <td>1</td>\n",
              "      <td>1</td>\n",
              "      <td>0</td>\n",
              "      <td>0</td>\n",
              "      <td>1</td>\n",
              "      <td>1</td>\n",
              "      <td>0</td>\n",
              "      <td>0</td>\n",
              "      <td>26</td>\n",
              "      <td>f</td>\n",
              "      <td>White-European</td>\n",
              "      <td>no</td>\n",
              "      <td>no</td>\n",
              "      <td>'United States'</td>\n",
              "      <td>no</td>\n",
              "      <td>6</td>\n",
              "      <td>'18 and more'</td>\n",
              "      <td>Self</td>\n",
              "      <td>NO</td>\n",
              "    </tr>\n",
              "    <tr>\n",
              "      <th>1</th>\n",
              "      <td>1</td>\n",
              "      <td>1</td>\n",
              "      <td>0</td>\n",
              "      <td>1</td>\n",
              "      <td>0</td>\n",
              "      <td>0</td>\n",
              "      <td>0</td>\n",
              "      <td>1</td>\n",
              "      <td>0</td>\n",
              "      <td>1</td>\n",
              "      <td>24</td>\n",
              "      <td>m</td>\n",
              "      <td>Latino</td>\n",
              "      <td>no</td>\n",
              "      <td>yes</td>\n",
              "      <td>Brazil</td>\n",
              "      <td>no</td>\n",
              "      <td>5</td>\n",
              "      <td>'18 and more'</td>\n",
              "      <td>Self</td>\n",
              "      <td>NO</td>\n",
              "    </tr>\n",
              "    <tr>\n",
              "      <th>2</th>\n",
              "      <td>1</td>\n",
              "      <td>1</td>\n",
              "      <td>0</td>\n",
              "      <td>1</td>\n",
              "      <td>1</td>\n",
              "      <td>0</td>\n",
              "      <td>1</td>\n",
              "      <td>1</td>\n",
              "      <td>1</td>\n",
              "      <td>1</td>\n",
              "      <td>27</td>\n",
              "      <td>m</td>\n",
              "      <td>Latino</td>\n",
              "      <td>yes</td>\n",
              "      <td>yes</td>\n",
              "      <td>Spain</td>\n",
              "      <td>no</td>\n",
              "      <td>8</td>\n",
              "      <td>'18 and more'</td>\n",
              "      <td>Parent</td>\n",
              "      <td>YES</td>\n",
              "    </tr>\n",
              "    <tr>\n",
              "      <th>3</th>\n",
              "      <td>1</td>\n",
              "      <td>1</td>\n",
              "      <td>0</td>\n",
              "      <td>1</td>\n",
              "      <td>0</td>\n",
              "      <td>0</td>\n",
              "      <td>1</td>\n",
              "      <td>1</td>\n",
              "      <td>0</td>\n",
              "      <td>1</td>\n",
              "      <td>35</td>\n",
              "      <td>f</td>\n",
              "      <td>White-European</td>\n",
              "      <td>no</td>\n",
              "      <td>yes</td>\n",
              "      <td>'United States'</td>\n",
              "      <td>no</td>\n",
              "      <td>6</td>\n",
              "      <td>'18 and more'</td>\n",
              "      <td>Self</td>\n",
              "      <td>NO</td>\n",
              "    </tr>\n",
              "    <tr>\n",
              "      <th>4</th>\n",
              "      <td>1</td>\n",
              "      <td>0</td>\n",
              "      <td>0</td>\n",
              "      <td>0</td>\n",
              "      <td>0</td>\n",
              "      <td>0</td>\n",
              "      <td>0</td>\n",
              "      <td>1</td>\n",
              "      <td>0</td>\n",
              "      <td>0</td>\n",
              "      <td>40</td>\n",
              "      <td>f</td>\n",
              "      <td>?</td>\n",
              "      <td>no</td>\n",
              "      <td>no</td>\n",
              "      <td>Egypt</td>\n",
              "      <td>no</td>\n",
              "      <td>2</td>\n",
              "      <td>'18 and more'</td>\n",
              "      <td>Self</td>\n",
              "      <td>NO</td>\n",
              "    </tr>\n",
              "    <tr>\n",
              "      <th>...</th>\n",
              "      <td>...</td>\n",
              "      <td>...</td>\n",
              "      <td>...</td>\n",
              "      <td>...</td>\n",
              "      <td>...</td>\n",
              "      <td>...</td>\n",
              "      <td>...</td>\n",
              "      <td>...</td>\n",
              "      <td>...</td>\n",
              "      <td>...</td>\n",
              "      <td>...</td>\n",
              "      <td>...</td>\n",
              "      <td>...</td>\n",
              "      <td>...</td>\n",
              "      <td>...</td>\n",
              "      <td>...</td>\n",
              "      <td>...</td>\n",
              "      <td>...</td>\n",
              "      <td>...</td>\n",
              "      <td>...</td>\n",
              "      <td>...</td>\n",
              "    </tr>\n",
              "    <tr>\n",
              "      <th>696</th>\n",
              "      <td>0</td>\n",
              "      <td>0</td>\n",
              "      <td>0</td>\n",
              "      <td>0</td>\n",
              "      <td>0</td>\n",
              "      <td>0</td>\n",
              "      <td>1</td>\n",
              "      <td>1</td>\n",
              "      <td>0</td>\n",
              "      <td>1</td>\n",
              "      <td>17</td>\n",
              "      <td>m</td>\n",
              "      <td>White-European</td>\n",
              "      <td>no</td>\n",
              "      <td>no</td>\n",
              "      <td>Canada</td>\n",
              "      <td>no</td>\n",
              "      <td>3</td>\n",
              "      <td>'18 and more'</td>\n",
              "      <td>Self</td>\n",
              "      <td>NO</td>\n",
              "    </tr>\n",
              "    <tr>\n",
              "      <th>697</th>\n",
              "      <td>0</td>\n",
              "      <td>0</td>\n",
              "      <td>0</td>\n",
              "      <td>0</td>\n",
              "      <td>0</td>\n",
              "      <td>0</td>\n",
              "      <td>0</td>\n",
              "      <td>1</td>\n",
              "      <td>0</td>\n",
              "      <td>0</td>\n",
              "      <td>56</td>\n",
              "      <td>m</td>\n",
              "      <td>?</td>\n",
              "      <td>no</td>\n",
              "      <td>no</td>\n",
              "      <td>Iraq</td>\n",
              "      <td>no</td>\n",
              "      <td>1</td>\n",
              "      <td>'18 and more'</td>\n",
              "      <td>Self</td>\n",
              "      <td>NO</td>\n",
              "    </tr>\n",
              "    <tr>\n",
              "      <th>698</th>\n",
              "      <td>0</td>\n",
              "      <td>0</td>\n",
              "      <td>1</td>\n",
              "      <td>0</td>\n",
              "      <td>0</td>\n",
              "      <td>0</td>\n",
              "      <td>1</td>\n",
              "      <td>1</td>\n",
              "      <td>0</td>\n",
              "      <td>0</td>\n",
              "      <td>50</td>\n",
              "      <td>f</td>\n",
              "      <td>'Middle Eastern '</td>\n",
              "      <td>no</td>\n",
              "      <td>no</td>\n",
              "      <td>'New Zealand'</td>\n",
              "      <td>no</td>\n",
              "      <td>3</td>\n",
              "      <td>'18 and more'</td>\n",
              "      <td>Parent</td>\n",
              "      <td>NO</td>\n",
              "    </tr>\n",
              "    <tr>\n",
              "      <th>699</th>\n",
              "      <td>0</td>\n",
              "      <td>0</td>\n",
              "      <td>0</td>\n",
              "      <td>0</td>\n",
              "      <td>1</td>\n",
              "      <td>0</td>\n",
              "      <td>0</td>\n",
              "      <td>0</td>\n",
              "      <td>0</td>\n",
              "      <td>0</td>\n",
              "      <td>31</td>\n",
              "      <td>f</td>\n",
              "      <td>Asian</td>\n",
              "      <td>yes</td>\n",
              "      <td>no</td>\n",
              "      <td>India</td>\n",
              "      <td>no</td>\n",
              "      <td>1</td>\n",
              "      <td>'18 and more'</td>\n",
              "      <td>Self</td>\n",
              "      <td>NO</td>\n",
              "    </tr>\n",
              "    <tr>\n",
              "      <th>700</th>\n",
              "      <td>0</td>\n",
              "      <td>1</td>\n",
              "      <td>0</td>\n",
              "      <td>1</td>\n",
              "      <td>1</td>\n",
              "      <td>0</td>\n",
              "      <td>1</td>\n",
              "      <td>1</td>\n",
              "      <td>1</td>\n",
              "      <td>1</td>\n",
              "      <td>25</td>\n",
              "      <td>f</td>\n",
              "      <td>White-European</td>\n",
              "      <td>no</td>\n",
              "      <td>no</td>\n",
              "      <td>Russia</td>\n",
              "      <td>no</td>\n",
              "      <td>7</td>\n",
              "      <td>'18 and more'</td>\n",
              "      <td>Self</td>\n",
              "      <td>YES</td>\n",
              "    </tr>\n",
              "  </tbody>\n",
              "</table>\n",
              "<p>701 rows × 21 columns</p>\n",
              "</div>"
            ],
            "text/plain": [
              "     A1_Score  A2_Score  A3_Score  ...       age_desc  relation  Class_ASD\n",
              "0           1         1         1  ...  '18 and more'      Self         NO\n",
              "1           1         1         0  ...  '18 and more'      Self         NO\n",
              "2           1         1         0  ...  '18 and more'    Parent        YES\n",
              "3           1         1         0  ...  '18 and more'      Self         NO\n",
              "4           1         0         0  ...  '18 and more'      Self         NO\n",
              "..        ...       ...       ...  ...            ...       ...        ...\n",
              "696         0         0         0  ...  '18 and more'      Self         NO\n",
              "697         0         0         0  ...  '18 and more'      Self         NO\n",
              "698         0         0         1  ...  '18 and more'    Parent         NO\n",
              "699         0         0         0  ...  '18 and more'      Self         NO\n",
              "700         0         1         0  ...  '18 and more'      Self        YES\n",
              "\n",
              "[701 rows x 21 columns]"
            ]
          },
          "metadata": {
            "tags": []
          },
          "execution_count": 30
        }
      ]
    },
    {
      "cell_type": "code",
      "metadata": {
        "id": "mB_FHFsnyr78"
      },
      "source": [
        "df1[\"Class_ASD\"] = le.fit_transform(df1[\"Class_ASD\"])"
      ],
      "execution_count": 31,
      "outputs": []
    },
    {
      "cell_type": "code",
      "metadata": {
        "colab": {
          "base_uri": "https://localhost:8080/"
        },
        "id": "UV_r0KMqyth8",
        "outputId": "48c1b6ae-08fa-49d4-b6d0-7577652ea604"
      },
      "source": [
        "df1[\"Class_ASD\"].value_counts()"
      ],
      "execution_count": 32,
      "outputs": [
        {
          "output_type": "execute_result",
          "data": {
            "text/plain": [
              "0    512\n",
              "1    189\n",
              "Name: Class_ASD, dtype: int64"
            ]
          },
          "metadata": {
            "tags": []
          },
          "execution_count": 32
        }
      ]
    },
    {
      "cell_type": "code",
      "metadata": {
        "colab": {
          "base_uri": "https://localhost:8080/",
          "height": 204
        },
        "id": "8k-3hIC9yuxA",
        "outputId": "f49db936-8129-48e9-f8df-5f8a5a09dc75"
      },
      "source": [
        "df1[[\"age\",\"gender\",\"result\",\"Class_ASD\"]].head()"
      ],
      "execution_count": 33,
      "outputs": [
        {
          "output_type": "execute_result",
          "data": {
            "text/html": [
              "<div>\n",
              "<style scoped>\n",
              "    .dataframe tbody tr th:only-of-type {\n",
              "        vertical-align: middle;\n",
              "    }\n",
              "\n",
              "    .dataframe tbody tr th {\n",
              "        vertical-align: top;\n",
              "    }\n",
              "\n",
              "    .dataframe thead th {\n",
              "        text-align: right;\n",
              "    }\n",
              "</style>\n",
              "<table border=\"1\" class=\"dataframe\">\n",
              "  <thead>\n",
              "    <tr style=\"text-align: right;\">\n",
              "      <th></th>\n",
              "      <th>age</th>\n",
              "      <th>gender</th>\n",
              "      <th>result</th>\n",
              "      <th>Class_ASD</th>\n",
              "    </tr>\n",
              "  </thead>\n",
              "  <tbody>\n",
              "    <tr>\n",
              "      <th>0</th>\n",
              "      <td>26</td>\n",
              "      <td>f</td>\n",
              "      <td>6</td>\n",
              "      <td>0</td>\n",
              "    </tr>\n",
              "    <tr>\n",
              "      <th>1</th>\n",
              "      <td>24</td>\n",
              "      <td>m</td>\n",
              "      <td>5</td>\n",
              "      <td>0</td>\n",
              "    </tr>\n",
              "    <tr>\n",
              "      <th>2</th>\n",
              "      <td>27</td>\n",
              "      <td>m</td>\n",
              "      <td>8</td>\n",
              "      <td>1</td>\n",
              "    </tr>\n",
              "    <tr>\n",
              "      <th>3</th>\n",
              "      <td>35</td>\n",
              "      <td>f</td>\n",
              "      <td>6</td>\n",
              "      <td>0</td>\n",
              "    </tr>\n",
              "    <tr>\n",
              "      <th>4</th>\n",
              "      <td>40</td>\n",
              "      <td>f</td>\n",
              "      <td>2</td>\n",
              "      <td>0</td>\n",
              "    </tr>\n",
              "  </tbody>\n",
              "</table>\n",
              "</div>"
            ],
            "text/plain": [
              "   age gender  result  Class_ASD\n",
              "0   26      f       6          0\n",
              "1   24      m       5          0\n",
              "2   27      m       8          1\n",
              "3   35      f       6          0\n",
              "4   40      f       2          0"
            ]
          },
          "metadata": {
            "tags": []
          },
          "execution_count": 33
        }
      ]
    },
    {
      "cell_type": "code",
      "metadata": {
        "colab": {
          "base_uri": "https://localhost:8080/"
        },
        "id": "XuRL94SLyycO",
        "outputId": "c0c1a9a0-6b2f-4c1c-8723-976349c9c011"
      },
      "source": [
        "df1[\"gender\"] = le.fit_transform(df1[\"gender\"])\n",
        "df1.gender"
      ],
      "execution_count": 34,
      "outputs": [
        {
          "output_type": "execute_result",
          "data": {
            "text/plain": [
              "0      0\n",
              "1      1\n",
              "2      1\n",
              "3      0\n",
              "4      0\n",
              "      ..\n",
              "699    1\n",
              "700    1\n",
              "701    0\n",
              "702    0\n",
              "703    0\n",
              "Name: gender, Length: 701, dtype: int64"
            ]
          },
          "metadata": {
            "tags": []
          },
          "execution_count": 34
        }
      ]
    },
    {
      "cell_type": "code",
      "metadata": {
        "colab": {
          "base_uri": "https://localhost:8080/",
          "height": 204
        },
        "id": "QpCgTPM3y0rG",
        "outputId": "904c11df-699d-4742-fc3a-86f2a218d215"
      },
      "source": [
        "age_result_class = df1[[\"age\",\"result\",\"Class_ASD\",\"gender\"]]\n",
        "age_result_class.head()"
      ],
      "execution_count": 35,
      "outputs": [
        {
          "output_type": "execute_result",
          "data": {
            "text/html": [
              "<div>\n",
              "<style scoped>\n",
              "    .dataframe tbody tr th:only-of-type {\n",
              "        vertical-align: middle;\n",
              "    }\n",
              "\n",
              "    .dataframe tbody tr th {\n",
              "        vertical-align: top;\n",
              "    }\n",
              "\n",
              "    .dataframe thead th {\n",
              "        text-align: right;\n",
              "    }\n",
              "</style>\n",
              "<table border=\"1\" class=\"dataframe\">\n",
              "  <thead>\n",
              "    <tr style=\"text-align: right;\">\n",
              "      <th></th>\n",
              "      <th>age</th>\n",
              "      <th>result</th>\n",
              "      <th>Class_ASD</th>\n",
              "      <th>gender</th>\n",
              "    </tr>\n",
              "  </thead>\n",
              "  <tbody>\n",
              "    <tr>\n",
              "      <th>0</th>\n",
              "      <td>26</td>\n",
              "      <td>6</td>\n",
              "      <td>0</td>\n",
              "      <td>0</td>\n",
              "    </tr>\n",
              "    <tr>\n",
              "      <th>1</th>\n",
              "      <td>24</td>\n",
              "      <td>5</td>\n",
              "      <td>0</td>\n",
              "      <td>1</td>\n",
              "    </tr>\n",
              "    <tr>\n",
              "      <th>2</th>\n",
              "      <td>27</td>\n",
              "      <td>8</td>\n",
              "      <td>1</td>\n",
              "      <td>1</td>\n",
              "    </tr>\n",
              "    <tr>\n",
              "      <th>3</th>\n",
              "      <td>35</td>\n",
              "      <td>6</td>\n",
              "      <td>0</td>\n",
              "      <td>0</td>\n",
              "    </tr>\n",
              "    <tr>\n",
              "      <th>4</th>\n",
              "      <td>40</td>\n",
              "      <td>2</td>\n",
              "      <td>0</td>\n",
              "      <td>0</td>\n",
              "    </tr>\n",
              "  </tbody>\n",
              "</table>\n",
              "</div>"
            ],
            "text/plain": [
              "   age  result  Class_ASD  gender\n",
              "0   26       6          0       0\n",
              "1   24       5          0       1\n",
              "2   27       8          1       1\n",
              "3   35       6          0       0\n",
              "4   40       2          0       0"
            ]
          },
          "metadata": {
            "tags": []
          },
          "execution_count": 35
        }
      ]
    },
    {
      "cell_type": "code",
      "metadata": {
        "colab": {
          "base_uri": "https://localhost:8080/",
          "height": 282
        },
        "id": "p9OMM3Eey3bl",
        "outputId": "f8df8ffd-6a93-4d59-8a86-4fe9f6dc3c84"
      },
      "source": [
        "df1[\"age\"].hist()"
      ],
      "execution_count": 36,
      "outputs": [
        {
          "output_type": "execute_result",
          "data": {
            "text/plain": [
              "<matplotlib.axes._subplots.AxesSubplot at 0x7f8f6c618550>"
            ]
          },
          "metadata": {
            "tags": []
          },
          "execution_count": 36
        },
        {
          "output_type": "display_data",
          "data": {
            "image/png": "[encoded data removed]",
            "text/plain": [
              "<Figure size 432x288 with 1 Axes>"
            ]
          },
          "metadata": {
            "tags": []
          }
        }
      ]
    },
    {
      "cell_type": "code",
      "metadata": {
        "id": "p_TIdM1P8LY3"
      },
      "source": [
        "age_temp = df1[\"age\"]"
      ],
      "execution_count": 37,
      "outputs": []
    },
    {
      "cell_type": "code",
      "metadata": {
        "colab": {
          "base_uri": "https://localhost:8080/",
          "height": 350
        },
        "id": "YRlGqnPK8Lhk",
        "outputId": "b49d6275-65d4-4a83-aba2-5bb49020b480"
      },
      "source": [
        "sns.distplot(np.log(age_temp))"
      ],
      "execution_count": 38,
      "outputs": [
        {
          "output_type": "stream",
          "text": [
            "/usr/local/lib/python3.7/dist-packages/seaborn/distributions.py:2557: FutureWarning: `distplot` is a deprecated function and will be removed in a future version. Please adapt your code to use either `displot` (a figure-level function with similar flexibility) or `histplot` (an axes-level function for histograms).\n",
            "  warnings.warn(msg, FutureWarning)\n"
          ],
          "name": "stderr"
        },
        {
          "output_type": "execute_result",
          "data": {
            "text/plain": [
              "<matplotlib.axes._subplots.AxesSubplot at 0x7f8f6c537510>"
            ]
          },
          "metadata": {
            "tags": []
          },
          "execution_count": 38
        },
        {
          "output_type": "display_data",
          "data": {
            "image/png": "[encoded data removed]",
            "text/plain": [
              "<Figure size 432x288 with 1 Axes>"
            ]
          },
          "metadata": {
            "tags": []
          }
        }
      ]
    },
    {
      "cell_type": "code",
      "metadata": {
        "colab": {
          "base_uri": "https://localhost:8080/",
          "height": 350
        },
        "id": "Apq4oGt88j2a",
        "outputId": "69c700a7-8965-47de-a5f6-42de058be009"
      },
      "source": [
        "sns.distplot(1/age_temp)"
      ],
      "execution_count": 39,
      "outputs": [
        {
          "output_type": "stream",
          "text": [
            "/usr/local/lib/python3.7/dist-packages/seaborn/distributions.py:2557: FutureWarning: `distplot` is a deprecated function and will be removed in a future version. Please adapt your code to use either `displot` (a figure-level function with similar flexibility) or `histplot` (an axes-level function for histograms).\n",
            "  warnings.warn(msg, FutureWarning)\n"
          ],
          "name": "stderr"
        },
        {
          "output_type": "execute_result",
          "data": {
            "text/plain": [
              "<matplotlib.axes._subplots.AxesSubplot at 0x7f8f6c4d5e90>"
            ]
          },
          "metadata": {
            "tags": []
          },
          "execution_count": 39
        },
        {
          "output_type": "display_data",
          "data": {
            "image/png": "[encoded data removed]",
            "text/plain": [
              "<Figure size 432x288 with 1 Axes>"
            ]
          },
          "metadata": {
            "tags": []
          }
        }
      ]
    },
    {
      "cell_type": "code",
      "metadata": {
        "colab": {
          "base_uri": "https://localhost:8080/",
          "height": 350
        },
        "id": "DbbLhzy38sHx",
        "outputId": "1418c8a3-0153-45a1-e1ba-b8366c357145"
      },
      "source": [
        "sns.distplot(df1[\"gender\"])"
      ],
      "execution_count": 40,
      "outputs": [
        {
          "output_type": "stream",
          "text": [
            "/usr/local/lib/python3.7/dist-packages/seaborn/distributions.py:2557: FutureWarning: `distplot` is a deprecated function and will be removed in a future version. Please adapt your code to use either `displot` (a figure-level function with similar flexibility) or `histplot` (an axes-level function for histograms).\n",
            "  warnings.warn(msg, FutureWarning)\n"
          ],
          "name": "stderr"
        },
        {
          "output_type": "execute_result",
          "data": {
            "text/plain": [
              "<matplotlib.axes._subplots.AxesSubplot at 0x7f8f6c4ee7d0>"
            ]
          },
          "metadata": {
            "tags": []
          },
          "execution_count": 40
        },
        {
          "output_type": "display_data",
          "data": {
            "image/png": "[encoded data removed]",
            "text/plain": [
              "<Figure size 432x288 with 1 Axes>"
            ]
          },
          "metadata": {
            "tags": []
          }
        }
      ]
    },
    {
      "cell_type": "code",
      "metadata": {
        "colab": {
          "base_uri": "https://localhost:8080/",
          "height": 452
        },
        "id": "YKWr3Zoy8xD5",
        "outputId": "984f5417-cd53-4b0c-a2c3-a1f469e4ee8a"
      },
      "source": [
        "age_result_class[age_result_class[\"result\"]==0]"
      ],
      "execution_count": 41,
      "outputs": [
        {
          "output_type": "execute_result",
          "data": {
            "text/html": [
              "<div>\n",
              "<style scoped>\n",
              "    .dataframe tbody tr th:only-of-type {\n",
              "        vertical-align: middle;\n",
              "    }\n",
              "\n",
              "    .dataframe tbody tr th {\n",
              "        vertical-align: top;\n",
              "    }\n",
              "\n",
              "    .dataframe thead th {\n",
              "        text-align: right;\n",
              "    }\n",
              "</style>\n",
              "<table border=\"1\" class=\"dataframe\">\n",
              "  <thead>\n",
              "    <tr style=\"text-align: right;\">\n",
              "      <th></th>\n",
              "      <th>age</th>\n",
              "      <th>result</th>\n",
              "      <th>Class_ASD</th>\n",
              "      <th>gender</th>\n",
              "    </tr>\n",
              "  </thead>\n",
              "  <tbody>\n",
              "    <tr>\n",
              "      <th>515</th>\n",
              "      <td>27</td>\n",
              "      <td>0</td>\n",
              "      <td>0</td>\n",
              "      <td>0</td>\n",
              "    </tr>\n",
              "    <tr>\n",
              "      <th>523</th>\n",
              "      <td>18</td>\n",
              "      <td>0</td>\n",
              "      <td>0</td>\n",
              "      <td>1</td>\n",
              "    </tr>\n",
              "    <tr>\n",
              "      <th>543</th>\n",
              "      <td>25</td>\n",
              "      <td>0</td>\n",
              "      <td>0</td>\n",
              "      <td>1</td>\n",
              "    </tr>\n",
              "    <tr>\n",
              "      <th>547</th>\n",
              "      <td>26</td>\n",
              "      <td>0</td>\n",
              "      <td>0</td>\n",
              "      <td>0</td>\n",
              "    </tr>\n",
              "    <tr>\n",
              "      <th>559</th>\n",
              "      <td>36</td>\n",
              "      <td>0</td>\n",
              "      <td>0</td>\n",
              "      <td>1</td>\n",
              "    </tr>\n",
              "    <tr>\n",
              "      <th>585</th>\n",
              "      <td>26</td>\n",
              "      <td>0</td>\n",
              "      <td>0</td>\n",
              "      <td>1</td>\n",
              "    </tr>\n",
              "    <tr>\n",
              "      <th>591</th>\n",
              "      <td>40</td>\n",
              "      <td>0</td>\n",
              "      <td>0</td>\n",
              "      <td>1</td>\n",
              "    </tr>\n",
              "    <tr>\n",
              "      <th>592</th>\n",
              "      <td>44</td>\n",
              "      <td>0</td>\n",
              "      <td>0</td>\n",
              "      <td>0</td>\n",
              "    </tr>\n",
              "    <tr>\n",
              "      <th>594</th>\n",
              "      <td>40</td>\n",
              "      <td>0</td>\n",
              "      <td>0</td>\n",
              "      <td>0</td>\n",
              "    </tr>\n",
              "    <tr>\n",
              "      <th>600</th>\n",
              "      <td>20</td>\n",
              "      <td>0</td>\n",
              "      <td>0</td>\n",
              "      <td>1</td>\n",
              "    </tr>\n",
              "    <tr>\n",
              "      <th>647</th>\n",
              "      <td>43</td>\n",
              "      <td>0</td>\n",
              "      <td>0</td>\n",
              "      <td>0</td>\n",
              "    </tr>\n",
              "    <tr>\n",
              "      <th>653</th>\n",
              "      <td>31</td>\n",
              "      <td>0</td>\n",
              "      <td>0</td>\n",
              "      <td>0</td>\n",
              "    </tr>\n",
              "    <tr>\n",
              "      <th>694</th>\n",
              "      <td>27</td>\n",
              "      <td>0</td>\n",
              "      <td>0</td>\n",
              "      <td>0</td>\n",
              "    </tr>\n",
              "  </tbody>\n",
              "</table>\n",
              "</div>"
            ],
            "text/plain": [
              "     age  result  Class_ASD  gender\n",
              "515   27       0          0       0\n",
              "523   18       0          0       1\n",
              "543   25       0          0       1\n",
              "547   26       0          0       0\n",
              "559   36       0          0       1\n",
              "585   26       0          0       1\n",
              "591   40       0          0       1\n",
              "592   44       0          0       0\n",
              "594   40       0          0       0\n",
              "600   20       0          0       1\n",
              "647   43       0          0       0\n",
              "653   31       0          0       0\n",
              "694   27       0          0       0"
            ]
          },
          "metadata": {
            "tags": []
          },
          "execution_count": 41
        }
      ]
    },
    {
      "cell_type": "code",
      "metadata": {
        "id": "t4ddA8LLy7RY"
      },
      "source": [
        "scale = MinMaxScaler()"
      ],
      "execution_count": 42,
      "outputs": []
    },
    {
      "cell_type": "code",
      "metadata": {
        "id": "BLikJdza6Lgh"
      },
      "source": [
        "ohe = OneHotEncoder()"
      ],
      "execution_count": 43,
      "outputs": []
    },
    {
      "cell_type": "code",
      "metadata": {
        "id": "h8iFearD7kf4"
      },
      "source": [
        "joint_df = pd.concat([ques_df,age_result_class],axis=1)"
      ],
      "execution_count": 44,
      "outputs": []
    },
    {
      "cell_type": "code",
      "metadata": {
        "colab": {
          "base_uri": "https://localhost:8080/",
          "height": 439
        },
        "id": "bNf_SirQF6fi",
        "outputId": "93b9f79b-d1b9-41c0-8b24-e2882d8413f2"
      },
      "source": [
        "joint_df"
      ],
      "execution_count": 45,
      "outputs": [
        {
          "output_type": "execute_result",
          "data": {
            "text/html": [
              "<div>\n",
              "<style scoped>\n",
              "    .dataframe tbody tr th:only-of-type {\n",
              "        vertical-align: middle;\n",
              "    }\n",
              "\n",
              "    .dataframe tbody tr th {\n",
              "        vertical-align: top;\n",
              "    }\n",
              "\n",
              "    .dataframe thead th {\n",
              "        text-align: right;\n",
              "    }\n",
              "</style>\n",
              "<table border=\"1\" class=\"dataframe\">\n",
              "  <thead>\n",
              "    <tr style=\"text-align: right;\">\n",
              "      <th></th>\n",
              "      <th>A1_Score</th>\n",
              "      <th>A2_Score</th>\n",
              "      <th>A3_Score</th>\n",
              "      <th>A4_Score</th>\n",
              "      <th>A5_Score</th>\n",
              "      <th>A6_Score</th>\n",
              "      <th>A7_Score</th>\n",
              "      <th>A8_Score</th>\n",
              "      <th>A9_Score</th>\n",
              "      <th>A10_Score</th>\n",
              "      <th>age</th>\n",
              "      <th>result</th>\n",
              "      <th>Class_ASD</th>\n",
              "      <th>gender</th>\n",
              "    </tr>\n",
              "  </thead>\n",
              "  <tbody>\n",
              "    <tr>\n",
              "      <th>0</th>\n",
              "      <td>1</td>\n",
              "      <td>1</td>\n",
              "      <td>1</td>\n",
              "      <td>1</td>\n",
              "      <td>0</td>\n",
              "      <td>0</td>\n",
              "      <td>1</td>\n",
              "      <td>1</td>\n",
              "      <td>0</td>\n",
              "      <td>0</td>\n",
              "      <td>26</td>\n",
              "      <td>6</td>\n",
              "      <td>0</td>\n",
              "      <td>0</td>\n",
              "    </tr>\n",
              "    <tr>\n",
              "      <th>1</th>\n",
              "      <td>1</td>\n",
              "      <td>1</td>\n",
              "      <td>0</td>\n",
              "      <td>1</td>\n",
              "      <td>0</td>\n",
              "      <td>0</td>\n",
              "      <td>0</td>\n",
              "      <td>1</td>\n",
              "      <td>0</td>\n",
              "      <td>1</td>\n",
              "      <td>24</td>\n",
              "      <td>5</td>\n",
              "      <td>0</td>\n",
              "      <td>1</td>\n",
              "    </tr>\n",
              "    <tr>\n",
              "      <th>2</th>\n",
              "      <td>1</td>\n",
              "      <td>1</td>\n",
              "      <td>0</td>\n",
              "      <td>1</td>\n",
              "      <td>1</td>\n",
              "      <td>0</td>\n",
              "      <td>1</td>\n",
              "      <td>1</td>\n",
              "      <td>1</td>\n",
              "      <td>1</td>\n",
              "      <td>27</td>\n",
              "      <td>8</td>\n",
              "      <td>1</td>\n",
              "      <td>1</td>\n",
              "    </tr>\n",
              "    <tr>\n",
              "      <th>3</th>\n",
              "      <td>1</td>\n",
              "      <td>1</td>\n",
              "      <td>0</td>\n",
              "      <td>1</td>\n",
              "      <td>0</td>\n",
              "      <td>0</td>\n",
              "      <td>1</td>\n",
              "      <td>1</td>\n",
              "      <td>0</td>\n",
              "      <td>1</td>\n",
              "      <td>35</td>\n",
              "      <td>6</td>\n",
              "      <td>0</td>\n",
              "      <td>0</td>\n",
              "    </tr>\n",
              "    <tr>\n",
              "      <th>4</th>\n",
              "      <td>1</td>\n",
              "      <td>0</td>\n",
              "      <td>0</td>\n",
              "      <td>0</td>\n",
              "      <td>0</td>\n",
              "      <td>0</td>\n",
              "      <td>0</td>\n",
              "      <td>1</td>\n",
              "      <td>0</td>\n",
              "      <td>0</td>\n",
              "      <td>40</td>\n",
              "      <td>2</td>\n",
              "      <td>0</td>\n",
              "      <td>0</td>\n",
              "    </tr>\n",
              "    <tr>\n",
              "      <th>...</th>\n",
              "      <td>...</td>\n",
              "      <td>...</td>\n",
              "      <td>...</td>\n",
              "      <td>...</td>\n",
              "      <td>...</td>\n",
              "      <td>...</td>\n",
              "      <td>...</td>\n",
              "      <td>...</td>\n",
              "      <td>...</td>\n",
              "      <td>...</td>\n",
              "      <td>...</td>\n",
              "      <td>...</td>\n",
              "      <td>...</td>\n",
              "      <td>...</td>\n",
              "    </tr>\n",
              "    <tr>\n",
              "      <th>699</th>\n",
              "      <td>0</td>\n",
              "      <td>0</td>\n",
              "      <td>0</td>\n",
              "      <td>0</td>\n",
              "      <td>0</td>\n",
              "      <td>0</td>\n",
              "      <td>1</td>\n",
              "      <td>1</td>\n",
              "      <td>0</td>\n",
              "      <td>1</td>\n",
              "      <td>17</td>\n",
              "      <td>3</td>\n",
              "      <td>0</td>\n",
              "      <td>1</td>\n",
              "    </tr>\n",
              "    <tr>\n",
              "      <th>700</th>\n",
              "      <td>0</td>\n",
              "      <td>0</td>\n",
              "      <td>0</td>\n",
              "      <td>0</td>\n",
              "      <td>0</td>\n",
              "      <td>0</td>\n",
              "      <td>0</td>\n",
              "      <td>1</td>\n",
              "      <td>0</td>\n",
              "      <td>0</td>\n",
              "      <td>56</td>\n",
              "      <td>1</td>\n",
              "      <td>0</td>\n",
              "      <td>1</td>\n",
              "    </tr>\n",
              "    <tr>\n",
              "      <th>701</th>\n",
              "      <td>0</td>\n",
              "      <td>0</td>\n",
              "      <td>1</td>\n",
              "      <td>0</td>\n",
              "      <td>0</td>\n",
              "      <td>0</td>\n",
              "      <td>1</td>\n",
              "      <td>1</td>\n",
              "      <td>0</td>\n",
              "      <td>0</td>\n",
              "      <td>50</td>\n",
              "      <td>3</td>\n",
              "      <td>0</td>\n",
              "      <td>0</td>\n",
              "    </tr>\n",
              "    <tr>\n",
              "      <th>702</th>\n",
              "      <td>0</td>\n",
              "      <td>0</td>\n",
              "      <td>0</td>\n",
              "      <td>0</td>\n",
              "      <td>1</td>\n",
              "      <td>0</td>\n",
              "      <td>0</td>\n",
              "      <td>0</td>\n",
              "      <td>0</td>\n",
              "      <td>0</td>\n",
              "      <td>31</td>\n",
              "      <td>1</td>\n",
              "      <td>0</td>\n",
              "      <td>0</td>\n",
              "    </tr>\n",
              "    <tr>\n",
              "      <th>703</th>\n",
              "      <td>0</td>\n",
              "      <td>1</td>\n",
              "      <td>0</td>\n",
              "      <td>1</td>\n",
              "      <td>1</td>\n",
              "      <td>0</td>\n",
              "      <td>1</td>\n",
              "      <td>1</td>\n",
              "      <td>1</td>\n",
              "      <td>1</td>\n",
              "      <td>25</td>\n",
              "      <td>7</td>\n",
              "      <td>1</td>\n",
              "      <td>0</td>\n",
              "    </tr>\n",
              "  </tbody>\n",
              "</table>\n",
              "<p>701 rows × 14 columns</p>\n",
              "</div>"
            ],
            "text/plain": [
              "     A1_Score  A2_Score  A3_Score  A4_Score  ...  age  result  Class_ASD  gender\n",
              "0           1         1         1         1  ...   26       6          0       0\n",
              "1           1         1         0         1  ...   24       5          0       1\n",
              "2           1         1         0         1  ...   27       8          1       1\n",
              "3           1         1         0         1  ...   35       6          0       0\n",
              "4           1         0         0         0  ...   40       2          0       0\n",
              "..        ...       ...       ...       ...  ...  ...     ...        ...     ...\n",
              "699         0         0         0         0  ...   17       3          0       1\n",
              "700         0         0         0         0  ...   56       1          0       1\n",
              "701         0         0         1         0  ...   50       3          0       0\n",
              "702         0         0         0         0  ...   31       1          0       0\n",
              "703         0         1         0         1  ...   25       7          1       0\n",
              "\n",
              "[701 rows x 14 columns]"
            ]
          },
          "metadata": {
            "tags": []
          },
          "execution_count": 45
        }
      ]
    },
    {
      "cell_type": "code",
      "metadata": {
        "id": "Wq0-8HWgQCSV"
      },
      "source": [
        "#scaling data\n",
        "scaled_data = joint_df.copy()"
      ],
      "execution_count": 46,
      "outputs": []
    },
    {
      "cell_type": "code",
      "metadata": {
        "id": "Qckio4HjQCVK"
      },
      "source": [
        "scaled_data = scale.fit_transform(scaled_data)"
      ],
      "execution_count": 47,
      "outputs": []
    },
    {
      "cell_type": "code",
      "metadata": {
        "colab": {
          "base_uri": "https://localhost:8080/",
          "height": 336
        },
        "id": "we9qwy05QCXk",
        "outputId": "32d46018-48bc-4bd4-eecf-4f0c0a424e71"
      },
      "source": [
        "sns.distplot(scaled_data[:,10])"
      ],
      "execution_count": 48,
      "outputs": [
        {
          "output_type": "stream",
          "text": [
            "/usr/local/lib/python3.7/dist-packages/seaborn/distributions.py:2557: FutureWarning: `distplot` is a deprecated function and will be removed in a future version. Please adapt your code to use either `displot` (a figure-level function with similar flexibility) or `histplot` (an axes-level function for histograms).\n",
            "  warnings.warn(msg, FutureWarning)\n"
          ],
          "name": "stderr"
        },
        {
          "output_type": "execute_result",
          "data": {
            "text/plain": [
              "<matplotlib.axes._subplots.AxesSubplot at 0x7f8f7520ff50>"
            ]
          },
          "metadata": {
            "tags": []
          },
          "execution_count": 48
        },
        {
          "output_type": "display_data",
          "data": {
            "image/png": "[encoded data removed]",
            "text/plain": [
              "<Figure size 432x288 with 1 Axes>"
            ]
          },
          "metadata": {
            "tags": []
          }
        }
      ]
    },
    {
      "cell_type": "code",
      "metadata": {
        "id": "ft480xA1RWtB"
      },
      "source": [
        "transform_scale = joint_df.copy()"
      ],
      "execution_count": 49,
      "outputs": []
    },
    {
      "cell_type": "code",
      "metadata": {
        "colab": {
          "base_uri": "https://localhost:8080/",
          "height": 224
        },
        "id": "9xvj_9VBS671",
        "outputId": "d7ea9ac3-7a9b-4ad5-a468-6fad07a7d9d1"
      },
      "source": [
        "transform_scale.head()"
      ],
      "execution_count": 50,
      "outputs": [
        {
          "output_type": "execute_result",
          "data": {
            "text/html": [
              "<div>\n",
              "<style scoped>\n",
              "    .dataframe tbody tr th:only-of-type {\n",
              "        vertical-align: middle;\n",
              "    }\n",
              "\n",
              "    .dataframe tbody tr th {\n",
              "        vertical-align: top;\n",
              "    }\n",
              "\n",
              "    .dataframe thead th {\n",
              "        text-align: right;\n",
              "    }\n",
              "</style>\n",
              "<table border=\"1\" class=\"dataframe\">\n",
              "  <thead>\n",
              "    <tr style=\"text-align: right;\">\n",
              "      <th></th>\n",
              "      <th>A1_Score</th>\n",
              "      <th>A2_Score</th>\n",
              "      <th>A3_Score</th>\n",
              "      <th>A4_Score</th>\n",
              "      <th>A5_Score</th>\n",
              "      <th>A6_Score</th>\n",
              "      <th>A7_Score</th>\n",
              "      <th>A8_Score</th>\n",
              "      <th>A9_Score</th>\n",
              "      <th>A10_Score</th>\n",
              "      <th>age</th>\n",
              "      <th>result</th>\n",
              "      <th>Class_ASD</th>\n",
              "      <th>gender</th>\n",
              "    </tr>\n",
              "  </thead>\n",
              "  <tbody>\n",
              "    <tr>\n",
              "      <th>0</th>\n",
              "      <td>1</td>\n",
              "      <td>1</td>\n",
              "      <td>1</td>\n",
              "      <td>1</td>\n",
              "      <td>0</td>\n",
              "      <td>0</td>\n",
              "      <td>1</td>\n",
              "      <td>1</td>\n",
              "      <td>0</td>\n",
              "      <td>0</td>\n",
              "      <td>26</td>\n",
              "      <td>6</td>\n",
              "      <td>0</td>\n",
              "      <td>0</td>\n",
              "    </tr>\n",
              "    <tr>\n",
              "      <th>1</th>\n",
              "      <td>1</td>\n",
              "      <td>1</td>\n",
              "      <td>0</td>\n",
              "      <td>1</td>\n",
              "      <td>0</td>\n",
              "      <td>0</td>\n",
              "      <td>0</td>\n",
              "      <td>1</td>\n",
              "      <td>0</td>\n",
              "      <td>1</td>\n",
              "      <td>24</td>\n",
              "      <td>5</td>\n",
              "      <td>0</td>\n",
              "      <td>1</td>\n",
              "    </tr>\n",
              "    <tr>\n",
              "      <th>2</th>\n",
              "      <td>1</td>\n",
              "      <td>1</td>\n",
              "      <td>0</td>\n",
              "      <td>1</td>\n",
              "      <td>1</td>\n",
              "      <td>0</td>\n",
              "      <td>1</td>\n",
              "      <td>1</td>\n",
              "      <td>1</td>\n",
              "      <td>1</td>\n",
              "      <td>27</td>\n",
              "      <td>8</td>\n",
              "      <td>1</td>\n",
              "      <td>1</td>\n",
              "    </tr>\n",
              "    <tr>\n",
              "      <th>3</th>\n",
              "      <td>1</td>\n",
              "      <td>1</td>\n",
              "      <td>0</td>\n",
              "      <td>1</td>\n",
              "      <td>0</td>\n",
              "      <td>0</td>\n",
              "      <td>1</td>\n",
              "      <td>1</td>\n",
              "      <td>0</td>\n",
              "      <td>1</td>\n",
              "      <td>35</td>\n",
              "      <td>6</td>\n",
              "      <td>0</td>\n",
              "      <td>0</td>\n",
              "    </tr>\n",
              "    <tr>\n",
              "      <th>4</th>\n",
              "      <td>1</td>\n",
              "      <td>0</td>\n",
              "      <td>0</td>\n",
              "      <td>0</td>\n",
              "      <td>0</td>\n",
              "      <td>0</td>\n",
              "      <td>0</td>\n",
              "      <td>1</td>\n",
              "      <td>0</td>\n",
              "      <td>0</td>\n",
              "      <td>40</td>\n",
              "      <td>2</td>\n",
              "      <td>0</td>\n",
              "      <td>0</td>\n",
              "    </tr>\n",
              "  </tbody>\n",
              "</table>\n",
              "</div>"
            ],
            "text/plain": [
              "   A1_Score  A2_Score  A3_Score  A4_Score  ...  age  result  Class_ASD  gender\n",
              "0         1         1         1         1  ...   26       6          0       0\n",
              "1         1         1         0         1  ...   24       5          0       1\n",
              "2         1         1         0         1  ...   27       8          1       1\n",
              "3         1         1         0         1  ...   35       6          0       0\n",
              "4         1         0         0         0  ...   40       2          0       0\n",
              "\n",
              "[5 rows x 14 columns]"
            ]
          },
          "metadata": {
            "tags": []
          },
          "execution_count": 50
        }
      ]
    },
    {
      "cell_type": "code",
      "metadata": {
        "id": "CnMAJuVRS6_l"
      },
      "source": [
        "transform_scale[\"age\"] = 1/transform_scale[\"age\"]"
      ],
      "execution_count": 51,
      "outputs": []
    },
    {
      "cell_type": "code",
      "metadata": {
        "colab": {
          "base_uri": "https://localhost:8080/",
          "height": 224
        },
        "id": "584q8mt1S7Cv",
        "outputId": "bd8fc207-88fe-4d1c-f2f4-7ef7517d27d7"
      },
      "source": [
        "transform_scale.head()"
      ],
      "execution_count": 52,
      "outputs": [
        {
          "output_type": "execute_result",
          "data": {
            "text/html": [
              "<div>\n",
              "<style scoped>\n",
              "    .dataframe tbody tr th:only-of-type {\n",
              "        vertical-align: middle;\n",
              "    }\n",
              "\n",
              "    .dataframe tbody tr th {\n",
              "        vertical-align: top;\n",
              "    }\n",
              "\n",
              "    .dataframe thead th {\n",
              "        text-align: right;\n",
              "    }\n",
              "</style>\n",
              "<table border=\"1\" class=\"dataframe\">\n",
              "  <thead>\n",
              "    <tr style=\"text-align: right;\">\n",
              "      <th></th>\n",
              "      <th>A1_Score</th>\n",
              "      <th>A2_Score</th>\n",
              "      <th>A3_Score</th>\n",
              "      <th>A4_Score</th>\n",
              "      <th>A5_Score</th>\n",
              "      <th>A6_Score</th>\n",
              "      <th>A7_Score</th>\n",
              "      <th>A8_Score</th>\n",
              "      <th>A9_Score</th>\n",
              "      <th>A10_Score</th>\n",
              "      <th>age</th>\n",
              "      <th>result</th>\n",
              "      <th>Class_ASD</th>\n",
              "      <th>gender</th>\n",
              "    </tr>\n",
              "  </thead>\n",
              "  <tbody>\n",
              "    <tr>\n",
              "      <th>0</th>\n",
              "      <td>1</td>\n",
              "      <td>1</td>\n",
              "      <td>1</td>\n",
              "      <td>1</td>\n",
              "      <td>0</td>\n",
              "      <td>0</td>\n",
              "      <td>1</td>\n",
              "      <td>1</td>\n",
              "      <td>0</td>\n",
              "      <td>0</td>\n",
              "      <td>0.038462</td>\n",
              "      <td>6</td>\n",
              "      <td>0</td>\n",
              "      <td>0</td>\n",
              "    </tr>\n",
              "    <tr>\n",
              "      <th>1</th>\n",
              "      <td>1</td>\n",
              "      <td>1</td>\n",
              "      <td>0</td>\n",
              "      <td>1</td>\n",
              "      <td>0</td>\n",
              "      <td>0</td>\n",
              "      <td>0</td>\n",
              "      <td>1</td>\n",
              "      <td>0</td>\n",
              "      <td>1</td>\n",
              "      <td>0.041667</td>\n",
              "      <td>5</td>\n",
              "      <td>0</td>\n",
              "      <td>1</td>\n",
              "    </tr>\n",
              "    <tr>\n",
              "      <th>2</th>\n",
              "      <td>1</td>\n",
              "      <td>1</td>\n",
              "      <td>0</td>\n",
              "      <td>1</td>\n",
              "      <td>1</td>\n",
              "      <td>0</td>\n",
              "      <td>1</td>\n",
              "      <td>1</td>\n",
              "      <td>1</td>\n",
              "      <td>1</td>\n",
              "      <td>0.037037</td>\n",
              "      <td>8</td>\n",
              "      <td>1</td>\n",
              "      <td>1</td>\n",
              "    </tr>\n",
              "    <tr>\n",
              "      <th>3</th>\n",
              "      <td>1</td>\n",
              "      <td>1</td>\n",
              "      <td>0</td>\n",
              "      <td>1</td>\n",
              "      <td>0</td>\n",
              "      <td>0</td>\n",
              "      <td>1</td>\n",
              "      <td>1</td>\n",
              "      <td>0</td>\n",
              "      <td>1</td>\n",
              "      <td>0.028571</td>\n",
              "      <td>6</td>\n",
              "      <td>0</td>\n",
              "      <td>0</td>\n",
              "    </tr>\n",
              "    <tr>\n",
              "      <th>4</th>\n",
              "      <td>1</td>\n",
              "      <td>0</td>\n",
              "      <td>0</td>\n",
              "      <td>0</td>\n",
              "      <td>0</td>\n",
              "      <td>0</td>\n",
              "      <td>0</td>\n",
              "      <td>1</td>\n",
              "      <td>0</td>\n",
              "      <td>0</td>\n",
              "      <td>0.025000</td>\n",
              "      <td>2</td>\n",
              "      <td>0</td>\n",
              "      <td>0</td>\n",
              "    </tr>\n",
              "  </tbody>\n",
              "</table>\n",
              "</div>"
            ],
            "text/plain": [
              "   A1_Score  A2_Score  A3_Score  A4_Score  ...       age  result  Class_ASD  gender\n",
              "0         1         1         1         1  ...  0.038462       6          0       0\n",
              "1         1         1         0         1  ...  0.041667       5          0       1\n",
              "2         1         1         0         1  ...  0.037037       8          1       1\n",
              "3         1         1         0         1  ...  0.028571       6          0       0\n",
              "4         1         0         0         0  ...  0.025000       2          0       0\n",
              "\n",
              "[5 rows x 14 columns]"
            ]
          },
          "metadata": {
            "tags": []
          },
          "execution_count": 52
        }
      ]
    },
    {
      "cell_type": "code",
      "metadata": {
        "colab": {
          "base_uri": "https://localhost:8080/"
        },
        "id": "wVFchD96XaF0",
        "outputId": "8f5763b6-be43-44b3-a158-2ae5f12b9ae4"
      },
      "source": [
        "transform_scale.info()"
      ],
      "execution_count": 53,
      "outputs": [
        {
          "output_type": "stream",
          "text": [
            "<class 'pandas.core.frame.DataFrame'>\n",
            "Int64Index: 701 entries, 0 to 703\n",
            "Data columns (total 14 columns):\n",
            " #   Column     Non-Null Count  Dtype  \n",
            "---  ------     --------------  -----  \n",
            " 0   A1_Score   701 non-null    int64  \n",
            " 1   A2_Score   701 non-null    int64  \n",
            " 2   A3_Score   701 non-null    int64  \n",
            " 3   A4_Score   701 non-null    int64  \n",
            " 4   A5_Score   701 non-null    int64  \n",
            " 5   A6_Score   701 non-null    int64  \n",
            " 6   A7_Score   701 non-null    int64  \n",
            " 7   A8_Score   701 non-null    int64  \n",
            " 8   A9_Score   701 non-null    int64  \n",
            " 9   A10_Score  701 non-null    int64  \n",
            " 10  age        701 non-null    float64\n",
            " 11  result     701 non-null    int64  \n",
            " 12  Class_ASD  701 non-null    int64  \n",
            " 13  gender     701 non-null    int64  \n",
            "dtypes: float64(1), int64(13)\n",
            "memory usage: 102.1 KB\n"
          ],
          "name": "stdout"
        }
      ]
    },
    {
      "cell_type": "code",
      "metadata": {
        "colab": {
          "base_uri": "https://localhost:8080/",
          "height": 439
        },
        "id": "_KGJqNASS7FG",
        "outputId": "d176f94a-f7c5-4a16-f31b-87a8751b6849"
      },
      "source": [
        "transform_scale"
      ],
      "execution_count": 54,
      "outputs": [
        {
          "output_type": "execute_result",
          "data": {
            "text/html": [
              "<div>\n",
              "<style scoped>\n",
              "    .dataframe tbody tr th:only-of-type {\n",
              "        vertical-align: middle;\n",
              "    }\n",
              "\n",
              "    .dataframe tbody tr th {\n",
              "        vertical-align: top;\n",
              "    }\n",
              "\n",
              "    .dataframe thead th {\n",
              "        text-align: right;\n",
              "    }\n",
              "</style>\n",
              "<table border=\"1\" class=\"dataframe\">\n",
              "  <thead>\n",
              "    <tr style=\"text-align: right;\">\n",
              "      <th></th>\n",
              "      <th>A1_Score</th>\n",
              "      <th>A2_Score</th>\n",
              "      <th>A3_Score</th>\n",
              "      <th>A4_Score</th>\n",
              "      <th>A5_Score</th>\n",
              "      <th>A6_Score</th>\n",
              "      <th>A7_Score</th>\n",
              "      <th>A8_Score</th>\n",
              "      <th>A9_Score</th>\n",
              "      <th>A10_Score</th>\n",
              "      <th>age</th>\n",
              "      <th>result</th>\n",
              "      <th>Class_ASD</th>\n",
              "      <th>gender</th>\n",
              "    </tr>\n",
              "  </thead>\n",
              "  <tbody>\n",
              "    <tr>\n",
              "      <th>0</th>\n",
              "      <td>1</td>\n",
              "      <td>1</td>\n",
              "      <td>1</td>\n",
              "      <td>1</td>\n",
              "      <td>0</td>\n",
              "      <td>0</td>\n",
              "      <td>1</td>\n",
              "      <td>1</td>\n",
              "      <td>0</td>\n",
              "      <td>0</td>\n",
              "      <td>0.038462</td>\n",
              "      <td>6</td>\n",
              "      <td>0</td>\n",
              "      <td>0</td>\n",
              "    </tr>\n",
              "    <tr>\n",
              "      <th>1</th>\n",
              "      <td>1</td>\n",
              "      <td>1</td>\n",
              "      <td>0</td>\n",
              "      <td>1</td>\n",
              "      <td>0</td>\n",
              "      <td>0</td>\n",
              "      <td>0</td>\n",
              "      <td>1</td>\n",
              "      <td>0</td>\n",
              "      <td>1</td>\n",
              "      <td>0.041667</td>\n",
              "      <td>5</td>\n",
              "      <td>0</td>\n",
              "      <td>1</td>\n",
              "    </tr>\n",
              "    <tr>\n",
              "      <th>2</th>\n",
              "      <td>1</td>\n",
              "      <td>1</td>\n",
              "      <td>0</td>\n",
              "      <td>1</td>\n",
              "      <td>1</td>\n",
              "      <td>0</td>\n",
              "      <td>1</td>\n",
              "      <td>1</td>\n",
              "      <td>1</td>\n",
              "      <td>1</td>\n",
              "      <td>0.037037</td>\n",
              "      <td>8</td>\n",
              "      <td>1</td>\n",
              "      <td>1</td>\n",
              "    </tr>\n",
              "    <tr>\n",
              "      <th>3</th>\n",
              "      <td>1</td>\n",
              "      <td>1</td>\n",
              "      <td>0</td>\n",
              "      <td>1</td>\n",
              "      <td>0</td>\n",
              "      <td>0</td>\n",
              "      <td>1</td>\n",
              "      <td>1</td>\n",
              "      <td>0</td>\n",
              "      <td>1</td>\n",
              "      <td>0.028571</td>\n",
              "      <td>6</td>\n",
              "      <td>0</td>\n",
              "      <td>0</td>\n",
              "    </tr>\n",
              "    <tr>\n",
              "      <th>4</th>\n",
              "      <td>1</td>\n",
              "      <td>0</td>\n",
              "      <td>0</td>\n",
              "      <td>0</td>\n",
              "      <td>0</td>\n",
              "      <td>0</td>\n",
              "      <td>0</td>\n",
              "      <td>1</td>\n",
              "      <td>0</td>\n",
              "      <td>0</td>\n",
              "      <td>0.025000</td>\n",
              "      <td>2</td>\n",
              "      <td>0</td>\n",
              "      <td>0</td>\n",
              "    </tr>\n",
              "    <tr>\n",
              "      <th>...</th>\n",
              "      <td>...</td>\n",
              "      <td>...</td>\n",
              "      <td>...</td>\n",
              "      <td>...</td>\n",
              "      <td>...</td>\n",
              "      <td>...</td>\n",
              "      <td>...</td>\n",
              "      <td>...</td>\n",
              "      <td>...</td>\n",
              "      <td>...</td>\n",
              "      <td>...</td>\n",
              "      <td>...</td>\n",
              "      <td>...</td>\n",
              "      <td>...</td>\n",
              "    </tr>\n",
              "    <tr>\n",
              "      <th>699</th>\n",
              "      <td>0</td>\n",
              "      <td>0</td>\n",
              "      <td>0</td>\n",
              "      <td>0</td>\n",
              "      <td>0</td>\n",
              "      <td>0</td>\n",
              "      <td>1</td>\n",
              "      <td>1</td>\n",
              "      <td>0</td>\n",
              "      <td>1</td>\n",
              "      <td>0.058824</td>\n",
              "      <td>3</td>\n",
              "      <td>0</td>\n",
              "      <td>1</td>\n",
              "    </tr>\n",
              "    <tr>\n",
              "      <th>700</th>\n",
              "      <td>0</td>\n",
              "      <td>0</td>\n",
              "      <td>0</td>\n",
              "      <td>0</td>\n",
              "      <td>0</td>\n",
              "      <td>0</td>\n",
              "      <td>0</td>\n",
              "      <td>1</td>\n",
              "      <td>0</td>\n",
              "      <td>0</td>\n",
              "      <td>0.017857</td>\n",
              "      <td>1</td>\n",
              "      <td>0</td>\n",
              "      <td>1</td>\n",
              "    </tr>\n",
              "    <tr>\n",
              "      <th>701</th>\n",
              "      <td>0</td>\n",
              "      <td>0</td>\n",
              "      <td>1</td>\n",
              "      <td>0</td>\n",
              "      <td>0</td>\n",
              "      <td>0</td>\n",
              "      <td>1</td>\n",
              "      <td>1</td>\n",
              "      <td>0</td>\n",
              "      <td>0</td>\n",
              "      <td>0.020000</td>\n",
              "      <td>3</td>\n",
              "      <td>0</td>\n",
              "      <td>0</td>\n",
              "    </tr>\n",
              "    <tr>\n",
              "      <th>702</th>\n",
              "      <td>0</td>\n",
              "      <td>0</td>\n",
              "      <td>0</td>\n",
              "      <td>0</td>\n",
              "      <td>1</td>\n",
              "      <td>0</td>\n",
              "      <td>0</td>\n",
              "      <td>0</td>\n",
              "      <td>0</td>\n",
              "      <td>0</td>\n",
              "      <td>0.032258</td>\n",
              "      <td>1</td>\n",
              "      <td>0</td>\n",
              "      <td>0</td>\n",
              "    </tr>\n",
              "    <tr>\n",
              "      <th>703</th>\n",
              "      <td>0</td>\n",
              "      <td>1</td>\n",
              "      <td>0</td>\n",
              "      <td>1</td>\n",
              "      <td>1</td>\n",
              "      <td>0</td>\n",
              "      <td>1</td>\n",
              "      <td>1</td>\n",
              "      <td>1</td>\n",
              "      <td>1</td>\n",
              "      <td>0.040000</td>\n",
              "      <td>7</td>\n",
              "      <td>1</td>\n",
              "      <td>0</td>\n",
              "    </tr>\n",
              "  </tbody>\n",
              "</table>\n",
              "<p>701 rows × 14 columns</p>\n",
              "</div>"
            ],
            "text/plain": [
              "     A1_Score  A2_Score  A3_Score  ...  result  Class_ASD  gender\n",
              "0           1         1         1  ...       6          0       0\n",
              "1           1         1         0  ...       5          0       1\n",
              "2           1         1         0  ...       8          1       1\n",
              "3           1         1         0  ...       6          0       0\n",
              "4           1         0         0  ...       2          0       0\n",
              "..        ...       ...       ...  ...     ...        ...     ...\n",
              "699         0         0         0  ...       3          0       1\n",
              "700         0         0         0  ...       1          0       1\n",
              "701         0         0         1  ...       3          0       0\n",
              "702         0         0         0  ...       1          0       0\n",
              "703         0         1         0  ...       7          1       0\n",
              "\n",
              "[701 rows x 14 columns]"
            ]
          },
          "metadata": {
            "tags": []
          },
          "execution_count": 54
        }
      ]
    },
    {
      "cell_type": "code",
      "metadata": {
        "id": "EGLbn_x0qLQq"
      },
      "source": [
        "transform_scale1 = transform_scale.copy()"
      ],
      "execution_count": 55,
      "outputs": []
    },
    {
      "cell_type": "code",
      "metadata": {
        "id": "GFctcAqsqLYA"
      },
      "source": [
        ""
      ],
      "execution_count": 56,
      "outputs": []
    },
    {
      "cell_type": "code",
      "metadata": {
        "id": "X5CEWPvQF7sx"
      },
      "source": [
        "tf.random.set_seed(13)"
      ],
      "execution_count": 57,
      "outputs": []
    },
    {
      "cell_type": "markdown",
      "metadata": {
        "id": "-R4-mhNDGNqk"
      },
      "source": [
        "##Splitting the dataset"
      ]
    },
    {
      "cell_type": "code",
      "metadata": {
        "id": "pH8dZ3l1GLgk"
      },
      "source": [
        "transform_scale = transform_scale.sample(frac=1)"
      ],
      "execution_count": 58,
      "outputs": []
    },
    {
      "cell_type": "code",
      "metadata": {
        "colab": {
          "base_uri": "https://localhost:8080/"
        },
        "id": "k7uPD1UWlMbL",
        "outputId": "7e3bed66-c2cf-4719-890f-77d23be10107"
      },
      "source": [
        "train_df,test_df = train_test_split(transform_scale,test_size=0.4)\n",
        "\n",
        "print(train_df.shape)\n",
        "print(test_df.shape)"
      ],
      "execution_count": 59,
      "outputs": [
        {
          "output_type": "stream",
          "text": [
            "(420, 14)\n",
            "(281, 14)\n"
          ],
          "name": "stdout"
        }
      ]
    },
    {
      "cell_type": "code",
      "metadata": {
        "colab": {
          "base_uri": "https://localhost:8080/"
        },
        "id": "JWnGc4lylrb9",
        "outputId": "af0098b8-2731-49b3-a7ae-feb164b2bea9"
      },
      "source": [
        "#splitting into testing and validation dataset from test_df\n",
        "y_test,valid_test = train_test_split(test_df,test_size=0.5)\n",
        "\n",
        "print(y_test.shape)\n",
        "print(valid_test.shape)"
      ],
      "execution_count": 60,
      "outputs": [
        {
          "output_type": "stream",
          "text": [
            "(140, 14)\n",
            "(141, 14)\n"
          ],
          "name": "stdout"
        }
      ]
    },
    {
      "cell_type": "code",
      "metadata": {
        "colab": {
          "base_uri": "https://localhost:8080/"
        },
        "id": "h1bxgpWXmM-M",
        "outputId": "2f763985-c9ba-4a3b-ec1a-48522b96ab9b"
      },
      "source": [
        "X_train = train_df.drop(\"Class_ASD\",axis=1)\n",
        "y_train = train_df[\"Class_ASD\"]\n",
        "\n",
        "print(X_train.shape)\n",
        "print(y_train.shape)"
      ],
      "execution_count": 61,
      "outputs": [
        {
          "output_type": "stream",
          "text": [
            "(420, 13)\n",
            "(420,)\n"
          ],
          "name": "stdout"
        }
      ]
    },
    {
      "cell_type": "code",
      "metadata": {
        "colab": {
          "base_uri": "https://localhost:8080/"
        },
        "id": "29lIQMbKoJXM",
        "outputId": "729f83be-08eb-461d-e554-e9b92b8f4af4"
      },
      "source": [
        "X_test1 = y_test.drop(\"Class_ASD\",axis=1)\n",
        "y_test1 =  y_test[\"Class_ASD\"]\n",
        "\n",
        "print(X_test1.shape)\n",
        "print(y_test1.shape)"
      ],
      "execution_count": 62,
      "outputs": [
        {
          "output_type": "stream",
          "text": [
            "(140, 13)\n",
            "(140,)\n"
          ],
          "name": "stdout"
        }
      ]
    },
    {
      "cell_type": "code",
      "metadata": {
        "colab": {
          "base_uri": "https://localhost:8080/"
        },
        "id": "-Xqd8I8cpxP8",
        "outputId": "dd961065-ca76-4e7e-9426-cacac682c734"
      },
      "source": [
        "train_valid = valid_test.drop(\"Class_ASD\",axis=1)\n",
        "test_valid = valid_test[\"Class_ASD\"]\n",
        "\n",
        "print(train_valid.shape)\n",
        "print(test_valid.shape)"
      ],
      "execution_count": 63,
      "outputs": [
        {
          "output_type": "stream",
          "text": [
            "(141, 13)\n",
            "(141,)\n"
          ],
          "name": "stdout"
        }
      ]
    },
    {
      "cell_type": "code",
      "metadata": {
        "id": "2-tZmjSeqAtE"
      },
      "source": [
        "X_train = scale.fit_transform(X_train)\n",
        "X_test1 = scale.fit_transform(X_test1)\n",
        "train_valid = scale.fit_transform(train_valid)"
      ],
      "execution_count": 64,
      "outputs": []
    },
    {
      "cell_type": "code",
      "metadata": {
        "id": "xBGGknA9qweE"
      },
      "source": [
        "def build_model():\n",
        "\n",
        "  model = Sequential()\n",
        "\n",
        "  model.add(Dense(32, input_shape = (X_train.shape[1],)))\n",
        "\n",
        "  model.add(Dense(32,Activation('relu')))\n",
        "  model.add(Dropout(0.5))\n",
        "  model.add(Dense(64,Activation('relu')))\n",
        "  model.add(Dropout(0.5))\n",
        "  model.add(Dense(128,Activation('relu')))\n",
        "  model.add(Dense(1,Activation('sigmoid')))\n",
        "  learning_rate = 0.00001\n",
        "  #optimizer = optimizers.SGD(learning_rate)\n",
        "  optimizer = optimizers.Adam(learning_rate)\n",
        "  model.compile(optimizer=optimizer,loss=tf.keras.losses.BinaryCrossentropy(from_logits=True),metrics=['accuracy'])\n",
        "  return model"
      ],
      "execution_count": 65,
      "outputs": []
    },
    {
      "cell_type": "code",
      "metadata": {
        "id": "2yxhMisOq4iJ"
      },
      "source": [
        "model2 = build_model()"
      ],
      "execution_count": 66,
      "outputs": []
    },
    {
      "cell_type": "code",
      "metadata": {
        "colab": {
          "base_uri": "https://localhost:8080/"
        },
        "id": "pvQHF1VfrBvH",
        "outputId": "33a3314b-91e9-43e5-f3e4-eacb7a03516a"
      },
      "source": [
        "model2.summary()"
      ],
      "execution_count": 67,
      "outputs": [
        {
          "output_type": "stream",
          "text": [
            "Model: \"sequential\"\n",
            "_________________________________________________________________\n",
            "Layer (type)                 Output Shape              Param #   \n",
            "=================================================================\n",
            "dense (Dense)                (None, 32)                448       \n",
            "_________________________________________________________________\n",
            "dense_1 (Dense)              (None, 32)                1056      \n",
            "_________________________________________________________________\n",
            "dropout (Dropout)            (None, 32)                0         \n",
            "_________________________________________________________________\n",
            "dense_2 (Dense)              (None, 64)                2112      \n",
            "_________________________________________________________________\n",
            "dropout_1 (Dropout)          (None, 64)                0         \n",
            "_________________________________________________________________\n",
            "dense_3 (Dense)              (None, 128)               8320      \n",
            "_________________________________________________________________\n",
            "dense_4 (Dense)              (None, 1)                 129       \n",
            "=================================================================\n",
            "Total params: 12,065\n",
            "Trainable params: 12,065\n",
            "Non-trainable params: 0\n",
            "_________________________________________________________________\n"
          ],
          "name": "stdout"
        }
      ]
    },
    {
      "cell_type": "code",
      "metadata": {
        "colab": {
          "base_uri": "https://localhost:8080/"
        },
        "id": "b8U7EOoRrC6U",
        "outputId": "6b414cc8-f34c-43d6-a023-04d163c23bb7"
      },
      "source": [
        "history = model2.fit(X_train,y_train,batch_size=16,epochs=500,validation_data=(train_valid,test_valid))"
      ],
      "execution_count": 68,
      "outputs": [
        {
          "output_type": "stream",
          "text": [
            "Epoch 1/500\n"
          ],
          "name": "stdout"
        },
        {
          "output_type": "stream",
          "text": [
            "/usr/local/lib/python3.7/dist-packages/tensorflow/python/keras/backend.py:5017: UserWarning: \"`binary_crossentropy` received `from_logits=True`, but the `output` argument was produced by a sigmoid or softmax activation and thus does not represent logits. Was this intended?\"\n",
            "  '\"`binary_crossentropy` received `from_logits=True`, but the `output`'\n"
          ],
          "name": "stderr"
        },
        {
          "output_type": "stream",
          "text": [
            "27/27 [==============================] - 1s 10ms/step - loss: 0.6844 - accuracy: 0.5690 - val_loss: 0.6779 - val_accuracy: 0.6028\n",
            "Epoch 2/500\n",
            "27/27 [==============================] - 0s 3ms/step - loss: 0.6833 - accuracy: 0.5929 - val_loss: 0.6761 - val_accuracy: 0.6170\n",
            "Epoch 3/500\n",
            "27/27 [==============================] - 0s 3ms/step - loss: 0.6936 - accuracy: 0.5667 - val_loss: 0.6746 - val_accuracy: 0.6454\n",
            "Epoch 4/500\n",
            "27/27 [==============================] - 0s 3ms/step - loss: 0.6881 - accuracy: 0.5952 - val_loss: 0.6731 - val_accuracy: 0.6667\n",
            "Epoch 5/500\n",
            "27/27 [==============================] - 0s 4ms/step - loss: 0.6896 - accuracy: 0.6167 - val_loss: 0.6715 - val_accuracy: 0.6809\n",
            "Epoch 6/500\n",
            "27/27 [==============================] - 0s 4ms/step - loss: 0.6984 - accuracy: 0.5833 - val_loss: 0.6705 - val_accuracy: 0.6879\n",
            "Epoch 7/500\n",
            "27/27 [==============================] - 0s 3ms/step - loss: 0.6791 - accuracy: 0.6333 - val_loss: 0.6693 - val_accuracy: 0.7021\n",
            "Epoch 8/500\n",
            "27/27 [==============================] - 0s 3ms/step - loss: 0.6819 - accuracy: 0.6095 - val_loss: 0.6680 - val_accuracy: 0.7163\n",
            "Epoch 9/500\n",
            "27/27 [==============================] - 0s 3ms/step - loss: 0.6773 - accuracy: 0.6167 - val_loss: 0.6668 - val_accuracy: 0.7163\n",
            "Epoch 10/500\n",
            "27/27 [==============================] - 0s 3ms/step - loss: 0.6864 - accuracy: 0.6071 - val_loss: 0.6654 - val_accuracy: 0.7234\n",
            "Epoch 11/500\n",
            "27/27 [==============================] - 0s 4ms/step - loss: 0.6850 - accuracy: 0.6286 - val_loss: 0.6640 - val_accuracy: 0.7376\n",
            "Epoch 12/500\n",
            "27/27 [==============================] - 0s 4ms/step - loss: 0.6796 - accuracy: 0.6524 - val_loss: 0.6628 - val_accuracy: 0.7447\n",
            "Epoch 13/500\n",
            "27/27 [==============================] - 0s 4ms/step - loss: 0.6747 - accuracy: 0.6357 - val_loss: 0.6614 - val_accuracy: 0.7447\n",
            "Epoch 14/500\n",
            "27/27 [==============================] - 0s 4ms/step - loss: 0.6720 - accuracy: 0.6405 - val_loss: 0.6604 - val_accuracy: 0.7447\n",
            "Epoch 15/500\n",
            "27/27 [==============================] - 0s 3ms/step - loss: 0.6708 - accuracy: 0.6476 - val_loss: 0.6590 - val_accuracy: 0.7518\n",
            "Epoch 16/500\n",
            "27/27 [==============================] - 0s 3ms/step - loss: 0.6767 - accuracy: 0.6310 - val_loss: 0.6579 - val_accuracy: 0.7518\n",
            "Epoch 17/500\n",
            "27/27 [==============================] - 0s 3ms/step - loss: 0.6689 - accuracy: 0.6548 - val_loss: 0.6568 - val_accuracy: 0.7518\n",
            "Epoch 18/500\n",
            "27/27 [==============================] - 0s 3ms/step - loss: 0.6651 - accuracy: 0.6405 - val_loss: 0.6556 - val_accuracy: 0.7518\n",
            "Epoch 19/500\n",
            "27/27 [==============================] - 0s 4ms/step - loss: 0.6728 - accuracy: 0.6429 - val_loss: 0.6543 - val_accuracy: 0.7589\n",
            "Epoch 20/500\n",
            "27/27 [==============================] - 0s 3ms/step - loss: 0.6774 - accuracy: 0.6500 - val_loss: 0.6531 - val_accuracy: 0.7589\n",
            "Epoch 21/500\n",
            "27/27 [==============================] - 0s 3ms/step - loss: 0.6661 - accuracy: 0.6571 - val_loss: 0.6520 - val_accuracy: 0.7589\n",
            "Epoch 22/500\n",
            "27/27 [==============================] - 0s 3ms/step - loss: 0.6757 - accuracy: 0.6405 - val_loss: 0.6509 - val_accuracy: 0.7589\n",
            "Epoch 23/500\n",
            "27/27 [==============================] - 0s 4ms/step - loss: 0.6728 - accuracy: 0.6476 - val_loss: 0.6496 - val_accuracy: 0.7589\n",
            "Epoch 24/500\n",
            "27/27 [==============================] - 0s 4ms/step - loss: 0.6577 - accuracy: 0.6786 - val_loss: 0.6485 - val_accuracy: 0.7589\n",
            "Epoch 25/500\n",
            "27/27 [==============================] - 0s 4ms/step - loss: 0.6635 - accuracy: 0.6429 - val_loss: 0.6475 - val_accuracy: 0.7589\n",
            "Epoch 26/500\n",
            "27/27 [==============================] - 0s 4ms/step - loss: 0.6535 - accuracy: 0.6667 - val_loss: 0.6463 - val_accuracy: 0.7589\n",
            "Epoch 27/500\n",
            "27/27 [==============================] - 0s 3ms/step - loss: 0.6706 - accuracy: 0.6381 - val_loss: 0.6451 - val_accuracy: 0.7589\n",
            "Epoch 28/500\n",
            "27/27 [==============================] - 0s 4ms/step - loss: 0.6622 - accuracy: 0.6976 - val_loss: 0.6441 - val_accuracy: 0.7589\n",
            "Epoch 29/500\n",
            "27/27 [==============================] - 0s 3ms/step - loss: 0.6589 - accuracy: 0.6738 - val_loss: 0.6428 - val_accuracy: 0.7589\n",
            "Epoch 30/500\n",
            "27/27 [==============================] - 0s 4ms/step - loss: 0.6593 - accuracy: 0.6595 - val_loss: 0.6415 - val_accuracy: 0.7589\n",
            "Epoch 31/500\n",
            "27/27 [==============================] - 0s 3ms/step - loss: 0.6653 - accuracy: 0.6690 - val_loss: 0.6402 - val_accuracy: 0.7589\n",
            "Epoch 32/500\n",
            "27/27 [==============================] - 0s 3ms/step - loss: 0.6621 - accuracy: 0.6810 - val_loss: 0.6390 - val_accuracy: 0.7589\n",
            "Epoch 33/500\n",
            "27/27 [==============================] - 0s 3ms/step - loss: 0.6498 - accuracy: 0.6929 - val_loss: 0.6378 - val_accuracy: 0.7589\n",
            "Epoch 34/500\n",
            "27/27 [==============================] - 0s 3ms/step - loss: 0.6618 - accuracy: 0.6619 - val_loss: 0.6368 - val_accuracy: 0.7589\n",
            "Epoch 35/500\n",
            "27/27 [==============================] - 0s 4ms/step - loss: 0.6582 - accuracy: 0.7024 - val_loss: 0.6358 - val_accuracy: 0.7589\n",
            "Epoch 36/500\n",
            "27/27 [==============================] - 0s 4ms/step - loss: 0.6529 - accuracy: 0.6905 - val_loss: 0.6345 - val_accuracy: 0.7660\n",
            "Epoch 37/500\n",
            "27/27 [==============================] - 0s 4ms/step - loss: 0.6558 - accuracy: 0.6738 - val_loss: 0.6334 - val_accuracy: 0.7660\n",
            "Epoch 38/500\n",
            "27/27 [==============================] - 0s 4ms/step - loss: 0.6542 - accuracy: 0.6833 - val_loss: 0.6324 - val_accuracy: 0.7730\n",
            "Epoch 39/500\n",
            "27/27 [==============================] - 0s 4ms/step - loss: 0.6399 - accuracy: 0.7000 - val_loss: 0.6311 - val_accuracy: 0.7730\n",
            "Epoch 40/500\n",
            "27/27 [==============================] - 0s 3ms/step - loss: 0.6426 - accuracy: 0.7071 - val_loss: 0.6297 - val_accuracy: 0.7730\n",
            "Epoch 41/500\n",
            "27/27 [==============================] - 0s 4ms/step - loss: 0.6550 - accuracy: 0.6690 - val_loss: 0.6286 - val_accuracy: 0.7730\n",
            "Epoch 42/500\n",
            "27/27 [==============================] - 0s 4ms/step - loss: 0.6522 - accuracy: 0.7000 - val_loss: 0.6275 - val_accuracy: 0.7730\n",
            "Epoch 43/500\n",
            "27/27 [==============================] - 0s 3ms/step - loss: 0.6482 - accuracy: 0.7095 - val_loss: 0.6264 - val_accuracy: 0.7730\n",
            "Epoch 44/500\n",
            "27/27 [==============================] - 0s 3ms/step - loss: 0.6515 - accuracy: 0.6857 - val_loss: 0.6255 - val_accuracy: 0.7730\n",
            "Epoch 45/500\n",
            "27/27 [==============================] - 0s 4ms/step - loss: 0.6769 - accuracy: 0.6881 - val_loss: 0.6243 - val_accuracy: 0.7730\n",
            "Epoch 46/500\n",
            "27/27 [==============================] - 0s 4ms/step - loss: 0.6462 - accuracy: 0.6833 - val_loss: 0.6235 - val_accuracy: 0.7730\n",
            "Epoch 47/500\n",
            "27/27 [==============================] - 0s 3ms/step - loss: 0.6590 - accuracy: 0.6976 - val_loss: 0.6225 - val_accuracy: 0.7730\n",
            "Epoch 48/500\n",
            "27/27 [==============================] - 0s 3ms/step - loss: 0.6433 - accuracy: 0.6905 - val_loss: 0.6214 - val_accuracy: 0.7730\n",
            "Epoch 49/500\n",
            "27/27 [==============================] - 0s 5ms/step - loss: 0.6494 - accuracy: 0.6857 - val_loss: 0.6205 - val_accuracy: 0.7730\n",
            "Epoch 50/500\n",
            "27/27 [==============================] - 0s 3ms/step - loss: 0.6543 - accuracy: 0.6952 - val_loss: 0.6191 - val_accuracy: 0.7730\n",
            "Epoch 51/500\n",
            "27/27 [==============================] - 0s 4ms/step - loss: 0.6478 - accuracy: 0.6976 - val_loss: 0.6182 - val_accuracy: 0.7730\n",
            "Epoch 52/500\n",
            "27/27 [==============================] - 0s 3ms/step - loss: 0.6454 - accuracy: 0.6976 - val_loss: 0.6175 - val_accuracy: 0.7730\n",
            "Epoch 53/500\n",
            "27/27 [==============================] - 0s 4ms/step - loss: 0.6338 - accuracy: 0.7000 - val_loss: 0.6163 - val_accuracy: 0.7730\n",
            "Epoch 54/500\n",
            "27/27 [==============================] - 0s 4ms/step - loss: 0.6385 - accuracy: 0.7024 - val_loss: 0.6153 - val_accuracy: 0.7730\n",
            "Epoch 55/500\n",
            "27/27 [==============================] - 0s 4ms/step - loss: 0.6351 - accuracy: 0.7071 - val_loss: 0.6141 - val_accuracy: 0.7730\n",
            "Epoch 56/500\n",
            "27/27 [==============================] - 0s 4ms/step - loss: 0.6375 - accuracy: 0.6976 - val_loss: 0.6131 - val_accuracy: 0.7730\n",
            "Epoch 57/500\n",
            "27/27 [==============================] - 0s 3ms/step - loss: 0.6476 - accuracy: 0.7048 - val_loss: 0.6122 - val_accuracy: 0.7730\n",
            "Epoch 58/500\n",
            "27/27 [==============================] - 0s 4ms/step - loss: 0.6446 - accuracy: 0.6929 - val_loss: 0.6112 - val_accuracy: 0.7730\n",
            "Epoch 59/500\n",
            "27/27 [==============================] - 0s 4ms/step - loss: 0.6383 - accuracy: 0.7095 - val_loss: 0.6101 - val_accuracy: 0.7730\n",
            "Epoch 60/500\n",
            "27/27 [==============================] - 0s 4ms/step - loss: 0.6322 - accuracy: 0.6929 - val_loss: 0.6090 - val_accuracy: 0.7730\n",
            "Epoch 61/500\n",
            "27/27 [==============================] - 0s 4ms/step - loss: 0.6382 - accuracy: 0.7143 - val_loss: 0.6079 - val_accuracy: 0.7730\n",
            "Epoch 62/500\n",
            "27/27 [==============================] - 0s 5ms/step - loss: 0.6426 - accuracy: 0.7071 - val_loss: 0.6068 - val_accuracy: 0.7730\n",
            "Epoch 63/500\n",
            "27/27 [==============================] - 0s 4ms/step - loss: 0.6309 - accuracy: 0.7071 - val_loss: 0.6059 - val_accuracy: 0.7730\n",
            "Epoch 64/500\n",
            "27/27 [==============================] - 0s 4ms/step - loss: 0.6332 - accuracy: 0.7095 - val_loss: 0.6045 - val_accuracy: 0.7730\n",
            "Epoch 65/500\n",
            "27/27 [==============================] - 0s 4ms/step - loss: 0.6186 - accuracy: 0.7119 - val_loss: 0.6032 - val_accuracy: 0.7730\n",
            "Epoch 66/500\n",
            "27/27 [==============================] - 0s 3ms/step - loss: 0.6216 - accuracy: 0.7095 - val_loss: 0.6020 - val_accuracy: 0.7730\n",
            "Epoch 67/500\n",
            "27/27 [==============================] - 0s 4ms/step - loss: 0.6200 - accuracy: 0.6976 - val_loss: 0.6010 - val_accuracy: 0.7730\n",
            "Epoch 68/500\n",
            "27/27 [==============================] - 0s 3ms/step - loss: 0.6356 - accuracy: 0.7048 - val_loss: 0.5999 - val_accuracy: 0.7730\n",
            "Epoch 69/500\n",
            "27/27 [==============================] - 0s 4ms/step - loss: 0.6170 - accuracy: 0.7000 - val_loss: 0.5987 - val_accuracy: 0.7730\n",
            "Epoch 70/500\n",
            "27/27 [==============================] - 0s 4ms/step - loss: 0.6270 - accuracy: 0.7048 - val_loss: 0.5975 - val_accuracy: 0.7730\n",
            "Epoch 71/500\n",
            "27/27 [==============================] - 0s 4ms/step - loss: 0.6174 - accuracy: 0.6929 - val_loss: 0.5963 - val_accuracy: 0.7730\n",
            "Epoch 72/500\n",
            "27/27 [==============================] - 0s 4ms/step - loss: 0.6379 - accuracy: 0.6929 - val_loss: 0.5952 - val_accuracy: 0.7730\n",
            "Epoch 73/500\n",
            "27/27 [==============================] - 0s 3ms/step - loss: 0.6307 - accuracy: 0.6952 - val_loss: 0.5940 - val_accuracy: 0.7730\n",
            "Epoch 74/500\n",
            "27/27 [==============================] - 0s 3ms/step - loss: 0.6212 - accuracy: 0.7024 - val_loss: 0.5930 - val_accuracy: 0.7730\n",
            "Epoch 75/500\n",
            "27/27 [==============================] - 0s 3ms/step - loss: 0.6242 - accuracy: 0.7143 - val_loss: 0.5922 - val_accuracy: 0.7730\n",
            "Epoch 76/500\n",
            "27/27 [==============================] - 0s 3ms/step - loss: 0.6210 - accuracy: 0.7167 - val_loss: 0.5910 - val_accuracy: 0.7730\n",
            "Epoch 77/500\n",
            "27/27 [==============================] - 0s 3ms/step - loss: 0.6205 - accuracy: 0.7238 - val_loss: 0.5900 - val_accuracy: 0.7730\n",
            "Epoch 78/500\n",
            "27/27 [==============================] - 0s 4ms/step - loss: 0.6211 - accuracy: 0.7119 - val_loss: 0.5889 - val_accuracy: 0.7801\n",
            "Epoch 79/500\n",
            "27/27 [==============================] - 0s 4ms/step - loss: 0.6249 - accuracy: 0.7000 - val_loss: 0.5878 - val_accuracy: 0.7801\n",
            "Epoch 80/500\n",
            "27/27 [==============================] - 0s 4ms/step - loss: 0.6238 - accuracy: 0.7167 - val_loss: 0.5870 - val_accuracy: 0.7801\n",
            "Epoch 81/500\n",
            "27/27 [==============================] - 0s 4ms/step - loss: 0.6043 - accuracy: 0.7048 - val_loss: 0.5855 - val_accuracy: 0.7801\n",
            "Epoch 82/500\n",
            "27/27 [==============================] - 0s 4ms/step - loss: 0.6159 - accuracy: 0.7119 - val_loss: 0.5842 - val_accuracy: 0.7801\n",
            "Epoch 83/500\n",
            "27/27 [==============================] - 0s 5ms/step - loss: 0.6106 - accuracy: 0.7190 - val_loss: 0.5830 - val_accuracy: 0.7801\n",
            "Epoch 84/500\n",
            "27/27 [==============================] - 0s 4ms/step - loss: 0.6069 - accuracy: 0.7262 - val_loss: 0.5817 - val_accuracy: 0.7801\n",
            "Epoch 85/500\n",
            "27/27 [==============================] - 0s 3ms/step - loss: 0.6051 - accuracy: 0.7143 - val_loss: 0.5805 - val_accuracy: 0.7801\n",
            "Epoch 86/500\n",
            "27/27 [==============================] - 0s 3ms/step - loss: 0.6088 - accuracy: 0.7167 - val_loss: 0.5791 - val_accuracy: 0.7801\n",
            "Epoch 87/500\n",
            "27/27 [==============================] - 0s 3ms/step - loss: 0.6119 - accuracy: 0.7119 - val_loss: 0.5778 - val_accuracy: 0.7801\n",
            "Epoch 88/500\n",
            "27/27 [==============================] - 0s 3ms/step - loss: 0.6035 - accuracy: 0.7119 - val_loss: 0.5768 - val_accuracy: 0.7801\n",
            "Epoch 89/500\n",
            "27/27 [==============================] - 0s 4ms/step - loss: 0.5976 - accuracy: 0.7214 - val_loss: 0.5754 - val_accuracy: 0.7801\n",
            "Epoch 90/500\n",
            "27/27 [==============================] - 0s 4ms/step - loss: 0.6024 - accuracy: 0.7238 - val_loss: 0.5742 - val_accuracy: 0.7801\n",
            "Epoch 91/500\n",
            "27/27 [==============================] - 0s 3ms/step - loss: 0.6034 - accuracy: 0.7071 - val_loss: 0.5727 - val_accuracy: 0.7943\n",
            "Epoch 92/500\n",
            "27/27 [==============================] - 0s 4ms/step - loss: 0.5982 - accuracy: 0.7143 - val_loss: 0.5715 - val_accuracy: 0.7943\n",
            "Epoch 93/500\n",
            "27/27 [==============================] - 0s 3ms/step - loss: 0.6071 - accuracy: 0.7214 - val_loss: 0.5705 - val_accuracy: 0.8014\n",
            "Epoch 94/500\n",
            "27/27 [==============================] - 0s 4ms/step - loss: 0.6044 - accuracy: 0.7190 - val_loss: 0.5693 - val_accuracy: 0.8085\n",
            "Epoch 95/500\n",
            "27/27 [==============================] - 0s 4ms/step - loss: 0.6044 - accuracy: 0.7286 - val_loss: 0.5682 - val_accuracy: 0.8085\n",
            "Epoch 96/500\n",
            "27/27 [==============================] - 0s 4ms/step - loss: 0.6024 - accuracy: 0.7214 - val_loss: 0.5673 - val_accuracy: 0.8085\n",
            "Epoch 97/500\n",
            "27/27 [==============================] - 0s 4ms/step - loss: 0.5988 - accuracy: 0.7190 - val_loss: 0.5660 - val_accuracy: 0.8085\n",
            "Epoch 98/500\n",
            "27/27 [==============================] - 0s 4ms/step - loss: 0.6040 - accuracy: 0.7190 - val_loss: 0.5648 - val_accuracy: 0.8085\n",
            "Epoch 99/500\n",
            "27/27 [==============================] - 0s 3ms/step - loss: 0.5927 - accuracy: 0.7119 - val_loss: 0.5636 - val_accuracy: 0.8085\n",
            "Epoch 100/500\n",
            "27/27 [==============================] - 0s 4ms/step - loss: 0.5880 - accuracy: 0.7381 - val_loss: 0.5619 - val_accuracy: 0.8085\n",
            "Epoch 101/500\n",
            "27/27 [==============================] - 0s 4ms/step - loss: 0.6029 - accuracy: 0.7071 - val_loss: 0.5608 - val_accuracy: 0.8085\n",
            "Epoch 102/500\n",
            "27/27 [==============================] - 0s 5ms/step - loss: 0.5922 - accuracy: 0.7167 - val_loss: 0.5598 - val_accuracy: 0.8085\n",
            "Epoch 103/500\n",
            "27/27 [==============================] - 0s 4ms/step - loss: 0.5905 - accuracy: 0.7381 - val_loss: 0.5583 - val_accuracy: 0.8085\n",
            "Epoch 104/500\n",
            "27/27 [==============================] - 0s 4ms/step - loss: 0.5982 - accuracy: 0.7190 - val_loss: 0.5571 - val_accuracy: 0.8156\n",
            "Epoch 105/500\n",
            "27/27 [==============================] - 0s 3ms/step - loss: 0.6005 - accuracy: 0.7024 - val_loss: 0.5564 - val_accuracy: 0.8227\n",
            "Epoch 106/500\n",
            "27/27 [==============================] - 0s 4ms/step - loss: 0.5873 - accuracy: 0.7167 - val_loss: 0.5553 - val_accuracy: 0.8227\n",
            "Epoch 107/500\n",
            "27/27 [==============================] - 0s 4ms/step - loss: 0.5999 - accuracy: 0.7167 - val_loss: 0.5541 - val_accuracy: 0.8227\n",
            "Epoch 108/500\n",
            "27/27 [==============================] - 0s 4ms/step - loss: 0.5848 - accuracy: 0.7286 - val_loss: 0.5530 - val_accuracy: 0.8227\n",
            "Epoch 109/500\n",
            "27/27 [==============================] - 0s 4ms/step - loss: 0.5906 - accuracy: 0.7262 - val_loss: 0.5521 - val_accuracy: 0.8227\n",
            "Epoch 110/500\n",
            "27/27 [==============================] - 0s 4ms/step - loss: 0.5914 - accuracy: 0.7143 - val_loss: 0.5512 - val_accuracy: 0.8369\n",
            "Epoch 111/500\n",
            "27/27 [==============================] - 0s 5ms/step - loss: 0.5887 - accuracy: 0.7238 - val_loss: 0.5500 - val_accuracy: 0.8369\n",
            "Epoch 112/500\n",
            "27/27 [==============================] - 0s 3ms/step - loss: 0.5613 - accuracy: 0.7381 - val_loss: 0.5482 - val_accuracy: 0.8369\n",
            "Epoch 113/500\n",
            "27/27 [==============================] - 0s 3ms/step - loss: 0.5783 - accuracy: 0.7286 - val_loss: 0.5467 - val_accuracy: 0.8369\n",
            "Epoch 114/500\n",
            "27/27 [==============================] - 0s 3ms/step - loss: 0.5932 - accuracy: 0.7095 - val_loss: 0.5459 - val_accuracy: 0.8369\n",
            "Epoch 115/500\n",
            "27/27 [==============================] - 0s 3ms/step - loss: 0.5865 - accuracy: 0.7214 - val_loss: 0.5447 - val_accuracy: 0.8369\n",
            "Epoch 116/500\n",
            "27/27 [==============================] - 0s 3ms/step - loss: 0.5781 - accuracy: 0.7333 - val_loss: 0.5436 - val_accuracy: 0.8369\n",
            "Epoch 117/500\n",
            "27/27 [==============================] - 0s 4ms/step - loss: 0.5903 - accuracy: 0.7286 - val_loss: 0.5423 - val_accuracy: 0.8440\n",
            "Epoch 118/500\n",
            "27/27 [==============================] - 0s 3ms/step - loss: 0.5746 - accuracy: 0.7381 - val_loss: 0.5410 - val_accuracy: 0.8440\n",
            "Epoch 119/500\n",
            "27/27 [==============================] - 0s 3ms/step - loss: 0.5822 - accuracy: 0.7429 - val_loss: 0.5396 - val_accuracy: 0.8440\n",
            "Epoch 120/500\n",
            "27/27 [==============================] - 0s 4ms/step - loss: 0.5684 - accuracy: 0.7429 - val_loss: 0.5384 - val_accuracy: 0.8440\n",
            "Epoch 121/500\n",
            "27/27 [==============================] - 0s 4ms/step - loss: 0.5784 - accuracy: 0.7214 - val_loss: 0.5371 - val_accuracy: 0.8440\n",
            "Epoch 122/500\n",
            "27/27 [==============================] - 0s 3ms/step - loss: 0.5910 - accuracy: 0.7262 - val_loss: 0.5360 - val_accuracy: 0.8440\n",
            "Epoch 123/500\n",
            "27/27 [==============================] - 0s 4ms/step - loss: 0.5960 - accuracy: 0.7190 - val_loss: 0.5351 - val_accuracy: 0.8440\n",
            "Epoch 124/500\n",
            "27/27 [==============================] - 0s 3ms/step - loss: 0.5835 - accuracy: 0.7119 - val_loss: 0.5343 - val_accuracy: 0.8511\n",
            "Epoch 125/500\n",
            "27/27 [==============================] - 0s 3ms/step - loss: 0.5874 - accuracy: 0.7143 - val_loss: 0.5328 - val_accuracy: 0.8440\n",
            "Epoch 126/500\n",
            "27/27 [==============================] - 0s 3ms/step - loss: 0.5815 - accuracy: 0.7167 - val_loss: 0.5324 - val_accuracy: 0.8511\n",
            "Epoch 127/500\n",
            "27/27 [==============================] - 0s 3ms/step - loss: 0.5544 - accuracy: 0.7405 - val_loss: 0.5306 - val_accuracy: 0.8511\n",
            "Epoch 128/500\n",
            "27/27 [==============================] - 0s 3ms/step - loss: 0.5799 - accuracy: 0.7262 - val_loss: 0.5291 - val_accuracy: 0.8511\n",
            "Epoch 129/500\n",
            "27/27 [==============================] - 0s 3ms/step - loss: 0.5678 - accuracy: 0.7333 - val_loss: 0.5280 - val_accuracy: 0.8511\n",
            "Epoch 130/500\n",
            "27/27 [==============================] - 0s 4ms/step - loss: 0.5610 - accuracy: 0.7429 - val_loss: 0.5268 - val_accuracy: 0.8511\n",
            "Epoch 131/500\n",
            "27/27 [==============================] - 0s 3ms/step - loss: 0.5636 - accuracy: 0.7262 - val_loss: 0.5252 - val_accuracy: 0.8511\n",
            "Epoch 132/500\n",
            "27/27 [==============================] - 0s 3ms/step - loss: 0.5852 - accuracy: 0.7214 - val_loss: 0.5245 - val_accuracy: 0.8511\n",
            "Epoch 133/500\n",
            "27/27 [==============================] - 0s 4ms/step - loss: 0.5721 - accuracy: 0.7143 - val_loss: 0.5232 - val_accuracy: 0.8511\n",
            "Epoch 134/500\n",
            "27/27 [==============================] - 0s 4ms/step - loss: 0.5679 - accuracy: 0.7095 - val_loss: 0.5220 - val_accuracy: 0.8582\n",
            "Epoch 135/500\n",
            "27/27 [==============================] - 0s 4ms/step - loss: 0.5574 - accuracy: 0.7452 - val_loss: 0.5209 - val_accuracy: 0.8582\n",
            "Epoch 136/500\n",
            "27/27 [==============================] - 0s 3ms/step - loss: 0.5569 - accuracy: 0.7262 - val_loss: 0.5196 - val_accuracy: 0.8582\n",
            "Epoch 137/500\n",
            "27/27 [==============================] - 0s 3ms/step - loss: 0.5502 - accuracy: 0.7333 - val_loss: 0.5180 - val_accuracy: 0.8582\n",
            "Epoch 138/500\n",
            "27/27 [==============================] - 0s 4ms/step - loss: 0.5557 - accuracy: 0.7310 - val_loss: 0.5167 - val_accuracy: 0.8582\n",
            "Epoch 139/500\n",
            "27/27 [==============================] - 0s 3ms/step - loss: 0.5563 - accuracy: 0.7310 - val_loss: 0.5152 - val_accuracy: 0.8582\n",
            "Epoch 140/500\n",
            "27/27 [==============================] - 0s 4ms/step - loss: 0.5702 - accuracy: 0.7310 - val_loss: 0.5142 - val_accuracy: 0.8582\n",
            "Epoch 141/500\n",
            "27/27 [==============================] - 0s 4ms/step - loss: 0.5573 - accuracy: 0.7286 - val_loss: 0.5126 - val_accuracy: 0.8582\n",
            "Epoch 142/500\n",
            "27/27 [==============================] - 0s 4ms/step - loss: 0.5661 - accuracy: 0.7429 - val_loss: 0.5117 - val_accuracy: 0.8582\n",
            "Epoch 143/500\n",
            "27/27 [==============================] - 0s 4ms/step - loss: 0.5546 - accuracy: 0.7476 - val_loss: 0.5103 - val_accuracy: 0.8582\n",
            "Epoch 144/500\n",
            "27/27 [==============================] - 0s 4ms/step - loss: 0.5767 - accuracy: 0.7310 - val_loss: 0.5094 - val_accuracy: 0.8582\n",
            "Epoch 145/500\n",
            "27/27 [==============================] - 0s 4ms/step - loss: 0.5661 - accuracy: 0.7214 - val_loss: 0.5081 - val_accuracy: 0.8582\n",
            "Epoch 146/500\n",
            "27/27 [==============================] - 0s 4ms/step - loss: 0.5536 - accuracy: 0.7452 - val_loss: 0.5070 - val_accuracy: 0.8582\n",
            "Epoch 147/500\n",
            "27/27 [==============================] - 0s 3ms/step - loss: 0.5532 - accuracy: 0.7429 - val_loss: 0.5057 - val_accuracy: 0.8582\n",
            "Epoch 148/500\n",
            "27/27 [==============================] - 0s 4ms/step - loss: 0.5539 - accuracy: 0.7405 - val_loss: 0.5043 - val_accuracy: 0.8582\n",
            "Epoch 149/500\n",
            "27/27 [==============================] - 0s 3ms/step - loss: 0.5631 - accuracy: 0.7333 - val_loss: 0.5027 - val_accuracy: 0.8582\n",
            "Epoch 150/500\n",
            "27/27 [==============================] - 0s 4ms/step - loss: 0.5497 - accuracy: 0.7476 - val_loss: 0.5014 - val_accuracy: 0.8582\n",
            "Epoch 151/500\n",
            "27/27 [==============================] - 0s 4ms/step - loss: 0.5299 - accuracy: 0.7595 - val_loss: 0.4996 - val_accuracy: 0.8582\n",
            "Epoch 152/500\n",
            "27/27 [==============================] - 0s 3ms/step - loss: 0.5589 - accuracy: 0.7524 - val_loss: 0.4985 - val_accuracy: 0.8582\n",
            "Epoch 153/500\n",
            "27/27 [==============================] - 0s 4ms/step - loss: 0.5415 - accuracy: 0.7405 - val_loss: 0.4971 - val_accuracy: 0.8582\n",
            "Epoch 154/500\n",
            "27/27 [==============================] - 0s 5ms/step - loss: 0.5484 - accuracy: 0.7381 - val_loss: 0.4961 - val_accuracy: 0.8652\n",
            "Epoch 155/500\n",
            "27/27 [==============================] - 0s 4ms/step - loss: 0.5444 - accuracy: 0.7548 - val_loss: 0.4946 - val_accuracy: 0.8652\n",
            "Epoch 156/500\n",
            "27/27 [==============================] - 0s 5ms/step - loss: 0.5392 - accuracy: 0.7429 - val_loss: 0.4932 - val_accuracy: 0.8652\n",
            "Epoch 157/500\n",
            "27/27 [==============================] - 0s 5ms/step - loss: 0.5433 - accuracy: 0.7524 - val_loss: 0.4918 - val_accuracy: 0.8652\n",
            "Epoch 158/500\n",
            "27/27 [==============================] - 0s 4ms/step - loss: 0.5517 - accuracy: 0.7500 - val_loss: 0.4907 - val_accuracy: 0.8723\n",
            "Epoch 159/500\n",
            "27/27 [==============================] - 0s 4ms/step - loss: 0.5293 - accuracy: 0.7333 - val_loss: 0.4895 - val_accuracy: 0.8723\n",
            "Epoch 160/500\n",
            "27/27 [==============================] - 0s 4ms/step - loss: 0.5389 - accuracy: 0.7357 - val_loss: 0.4876 - val_accuracy: 0.8723\n",
            "Epoch 161/500\n",
            "27/27 [==============================] - 0s 4ms/step - loss: 0.5524 - accuracy: 0.7500 - val_loss: 0.4865 - val_accuracy: 0.8723\n",
            "Epoch 162/500\n",
            "27/27 [==============================] - 0s 4ms/step - loss: 0.5311 - accuracy: 0.7429 - val_loss: 0.4852 - val_accuracy: 0.8865\n",
            "Epoch 163/500\n",
            "27/27 [==============================] - 0s 5ms/step - loss: 0.5434 - accuracy: 0.7262 - val_loss: 0.4839 - val_accuracy: 0.8865\n",
            "Epoch 164/500\n",
            "27/27 [==============================] - 0s 5ms/step - loss: 0.5415 - accuracy: 0.7286 - val_loss: 0.4826 - val_accuracy: 0.8865\n",
            "Epoch 165/500\n",
            "27/27 [==============================] - 0s 5ms/step - loss: 0.5378 - accuracy: 0.7500 - val_loss: 0.4807 - val_accuracy: 0.8865\n",
            "Epoch 166/500\n",
            "27/27 [==============================] - 0s 4ms/step - loss: 0.5410 - accuracy: 0.7571 - val_loss: 0.4794 - val_accuracy: 0.8865\n",
            "Epoch 167/500\n",
            "27/27 [==============================] - 0s 4ms/step - loss: 0.5269 - accuracy: 0.7405 - val_loss: 0.4782 - val_accuracy: 0.8936\n",
            "Epoch 168/500\n",
            "27/27 [==============================] - 0s 4ms/step - loss: 0.5473 - accuracy: 0.7429 - val_loss: 0.4772 - val_accuracy: 0.8936\n",
            "Epoch 169/500\n",
            "27/27 [==============================] - 0s 4ms/step - loss: 0.5239 - accuracy: 0.7524 - val_loss: 0.4756 - val_accuracy: 0.8936\n",
            "Epoch 170/500\n",
            "27/27 [==============================] - 0s 4ms/step - loss: 0.5421 - accuracy: 0.7548 - val_loss: 0.4742 - val_accuracy: 0.8936\n",
            "Epoch 171/500\n",
            "27/27 [==============================] - 0s 4ms/step - loss: 0.5179 - accuracy: 0.7714 - val_loss: 0.4731 - val_accuracy: 0.8936\n",
            "Epoch 172/500\n",
            "27/27 [==============================] - 0s 4ms/step - loss: 0.5107 - accuracy: 0.7643 - val_loss: 0.4712 - val_accuracy: 0.8936\n",
            "Epoch 173/500\n",
            "27/27 [==============================] - 0s 4ms/step - loss: 0.5279 - accuracy: 0.7548 - val_loss: 0.4698 - val_accuracy: 0.8936\n",
            "Epoch 174/500\n",
            "27/27 [==============================] - 0s 5ms/step - loss: 0.5162 - accuracy: 0.7524 - val_loss: 0.4680 - val_accuracy: 0.8936\n",
            "Epoch 175/500\n",
            "27/27 [==============================] - 0s 5ms/step - loss: 0.5428 - accuracy: 0.7238 - val_loss: 0.4666 - val_accuracy: 0.8936\n",
            "Epoch 176/500\n",
            "27/27 [==============================] - 0s 4ms/step - loss: 0.5117 - accuracy: 0.7667 - val_loss: 0.4652 - val_accuracy: 0.8936\n",
            "Epoch 177/500\n",
            "27/27 [==============================] - 0s 6ms/step - loss: 0.5218 - accuracy: 0.7667 - val_loss: 0.4637 - val_accuracy: 0.8936\n",
            "Epoch 178/500\n",
            "27/27 [==============================] - 0s 4ms/step - loss: 0.5118 - accuracy: 0.7571 - val_loss: 0.4618 - val_accuracy: 0.8936\n",
            "Epoch 179/500\n",
            "27/27 [==============================] - 0s 4ms/step - loss: 0.5219 - accuracy: 0.7548 - val_loss: 0.4603 - val_accuracy: 0.9007\n",
            "Epoch 180/500\n",
            "27/27 [==============================] - 0s 3ms/step - loss: 0.5352 - accuracy: 0.7476 - val_loss: 0.4593 - val_accuracy: 0.9007\n",
            "Epoch 181/500\n",
            "27/27 [==============================] - 0s 3ms/step - loss: 0.5258 - accuracy: 0.7500 - val_loss: 0.4577 - val_accuracy: 0.9007\n",
            "Epoch 182/500\n",
            "27/27 [==============================] - 0s 3ms/step - loss: 0.5212 - accuracy: 0.7476 - val_loss: 0.4561 - val_accuracy: 0.9007\n",
            "Epoch 183/500\n",
            "27/27 [==============================] - 0s 5ms/step - loss: 0.5091 - accuracy: 0.7667 - val_loss: 0.4543 - val_accuracy: 0.9007\n",
            "Epoch 184/500\n",
            "27/27 [==============================] - 0s 4ms/step - loss: 0.5337 - accuracy: 0.7405 - val_loss: 0.4533 - val_accuracy: 0.9007\n",
            "Epoch 185/500\n",
            "27/27 [==============================] - 0s 5ms/step - loss: 0.5126 - accuracy: 0.7500 - val_loss: 0.4517 - val_accuracy: 0.9007\n",
            "Epoch 186/500\n",
            "27/27 [==============================] - 0s 4ms/step - loss: 0.5188 - accuracy: 0.7619 - val_loss: 0.4505 - val_accuracy: 0.9007\n",
            "Epoch 187/500\n",
            "27/27 [==============================] - 0s 4ms/step - loss: 0.5250 - accuracy: 0.7595 - val_loss: 0.4495 - val_accuracy: 0.9007\n",
            "Epoch 188/500\n",
            "27/27 [==============================] - 0s 5ms/step - loss: 0.5148 - accuracy: 0.7524 - val_loss: 0.4484 - val_accuracy: 0.9007\n",
            "Epoch 189/500\n",
            "27/27 [==============================] - 0s 4ms/step - loss: 0.5128 - accuracy: 0.7595 - val_loss: 0.4471 - val_accuracy: 0.9149\n",
            "Epoch 190/500\n",
            "27/27 [==============================] - 0s 4ms/step - loss: 0.4964 - accuracy: 0.7786 - val_loss: 0.4455 - val_accuracy: 0.9149\n",
            "Epoch 191/500\n",
            "27/27 [==============================] - 0s 5ms/step - loss: 0.4944 - accuracy: 0.7595 - val_loss: 0.4436 - val_accuracy: 0.9149\n",
            "Epoch 192/500\n",
            "27/27 [==============================] - 0s 4ms/step - loss: 0.5019 - accuracy: 0.7714 - val_loss: 0.4418 - val_accuracy: 0.9149\n",
            "Epoch 193/500\n",
            "27/27 [==============================] - 0s 5ms/step - loss: 0.5005 - accuracy: 0.7738 - val_loss: 0.4405 - val_accuracy: 0.9149\n",
            "Epoch 194/500\n",
            "27/27 [==============================] - 0s 4ms/step - loss: 0.5193 - accuracy: 0.7738 - val_loss: 0.4390 - val_accuracy: 0.9149\n",
            "Epoch 195/500\n",
            "27/27 [==============================] - 0s 4ms/step - loss: 0.5161 - accuracy: 0.7738 - val_loss: 0.4376 - val_accuracy: 0.9149\n",
            "Epoch 196/500\n",
            "27/27 [==============================] - 0s 5ms/step - loss: 0.4933 - accuracy: 0.7786 - val_loss: 0.4362 - val_accuracy: 0.9149\n",
            "Epoch 197/500\n",
            "27/27 [==============================] - 0s 4ms/step - loss: 0.5165 - accuracy: 0.7524 - val_loss: 0.4349 - val_accuracy: 0.9149\n",
            "Epoch 198/500\n",
            "27/27 [==============================] - 0s 4ms/step - loss: 0.4939 - accuracy: 0.7690 - val_loss: 0.4337 - val_accuracy: 0.9149\n",
            "Epoch 199/500\n",
            "27/27 [==============================] - 0s 4ms/step - loss: 0.5197 - accuracy: 0.7643 - val_loss: 0.4322 - val_accuracy: 0.9149\n",
            "Epoch 200/500\n",
            "27/27 [==============================] - 0s 4ms/step - loss: 0.5085 - accuracy: 0.7690 - val_loss: 0.4312 - val_accuracy: 0.9149\n",
            "Epoch 201/500\n",
            "27/27 [==============================] - 0s 4ms/step - loss: 0.5008 - accuracy: 0.7643 - val_loss: 0.4298 - val_accuracy: 0.9149\n",
            "Epoch 202/500\n",
            "27/27 [==============================] - 0s 4ms/step - loss: 0.5053 - accuracy: 0.7762 - val_loss: 0.4281 - val_accuracy: 0.9149\n",
            "Epoch 203/500\n",
            "27/27 [==============================] - 0s 3ms/step - loss: 0.4963 - accuracy: 0.7786 - val_loss: 0.4267 - val_accuracy: 0.9149\n",
            "Epoch 204/500\n",
            "27/27 [==============================] - 0s 3ms/step - loss: 0.5043 - accuracy: 0.7786 - val_loss: 0.4253 - val_accuracy: 0.9149\n",
            "Epoch 205/500\n",
            "27/27 [==============================] - 0s 4ms/step - loss: 0.4657 - accuracy: 0.8000 - val_loss: 0.4236 - val_accuracy: 0.9149\n",
            "Epoch 206/500\n",
            "27/27 [==============================] - 0s 3ms/step - loss: 0.4929 - accuracy: 0.7786 - val_loss: 0.4220 - val_accuracy: 0.9149\n",
            "Epoch 207/500\n",
            "27/27 [==============================] - 0s 4ms/step - loss: 0.5070 - accuracy: 0.7405 - val_loss: 0.4206 - val_accuracy: 0.9149\n",
            "Epoch 208/500\n",
            "27/27 [==============================] - 0s 4ms/step - loss: 0.4869 - accuracy: 0.7810 - val_loss: 0.4193 - val_accuracy: 0.9149\n",
            "Epoch 209/500\n",
            "27/27 [==============================] - 0s 5ms/step - loss: 0.4826 - accuracy: 0.7833 - val_loss: 0.4178 - val_accuracy: 0.9149\n",
            "Epoch 210/500\n",
            "27/27 [==============================] - 0s 4ms/step - loss: 0.4818 - accuracy: 0.7905 - val_loss: 0.4164 - val_accuracy: 0.9149\n",
            "Epoch 211/500\n",
            "27/27 [==============================] - 0s 4ms/step - loss: 0.4826 - accuracy: 0.7905 - val_loss: 0.4149 - val_accuracy: 0.9149\n",
            "Epoch 212/500\n",
            "27/27 [==============================] - 0s 4ms/step - loss: 0.4799 - accuracy: 0.7833 - val_loss: 0.4135 - val_accuracy: 0.9149\n",
            "Epoch 213/500\n",
            "27/27 [==============================] - 0s 4ms/step - loss: 0.4867 - accuracy: 0.7571 - val_loss: 0.4119 - val_accuracy: 0.9220\n",
            "Epoch 214/500\n",
            "27/27 [==============================] - 0s 5ms/step - loss: 0.4638 - accuracy: 0.7952 - val_loss: 0.4107 - val_accuracy: 0.9220\n",
            "Epoch 215/500\n",
            "27/27 [==============================] - 0s 4ms/step - loss: 0.4817 - accuracy: 0.7929 - val_loss: 0.4090 - val_accuracy: 0.9291\n",
            "Epoch 216/500\n",
            "27/27 [==============================] - 0s 4ms/step - loss: 0.4712 - accuracy: 0.8071 - val_loss: 0.4073 - val_accuracy: 0.9291\n",
            "Epoch 217/500\n",
            "27/27 [==============================] - 0s 4ms/step - loss: 0.4822 - accuracy: 0.7786 - val_loss: 0.4060 - val_accuracy: 0.9291\n",
            "Epoch 218/500\n",
            "27/27 [==============================] - 0s 4ms/step - loss: 0.4869 - accuracy: 0.7857 - val_loss: 0.4051 - val_accuracy: 0.9291\n",
            "Epoch 219/500\n",
            "27/27 [==============================] - 0s 4ms/step - loss: 0.4648 - accuracy: 0.7976 - val_loss: 0.4035 - val_accuracy: 0.9220\n",
            "Epoch 220/500\n",
            "27/27 [==============================] - 0s 5ms/step - loss: 0.4813 - accuracy: 0.8048 - val_loss: 0.4022 - val_accuracy: 0.9220\n",
            "Epoch 221/500\n",
            "27/27 [==============================] - 0s 4ms/step - loss: 0.4885 - accuracy: 0.7833 - val_loss: 0.4006 - val_accuracy: 0.9220\n",
            "Epoch 222/500\n",
            "27/27 [==============================] - 0s 3ms/step - loss: 0.4653 - accuracy: 0.7881 - val_loss: 0.3991 - val_accuracy: 0.9220\n",
            "Epoch 223/500\n",
            "27/27 [==============================] - 0s 4ms/step - loss: 0.4770 - accuracy: 0.7929 - val_loss: 0.3975 - val_accuracy: 0.9220\n",
            "Epoch 224/500\n",
            "27/27 [==============================] - 0s 4ms/step - loss: 0.4614 - accuracy: 0.8024 - val_loss: 0.3961 - val_accuracy: 0.9220\n",
            "Epoch 225/500\n",
            "27/27 [==============================] - 0s 4ms/step - loss: 0.4667 - accuracy: 0.8024 - val_loss: 0.3944 - val_accuracy: 0.9220\n",
            "Epoch 226/500\n",
            "27/27 [==============================] - 0s 4ms/step - loss: 0.4799 - accuracy: 0.7810 - val_loss: 0.3933 - val_accuracy: 0.9220\n",
            "Epoch 227/500\n",
            "27/27 [==============================] - 0s 4ms/step - loss: 0.4691 - accuracy: 0.7857 - val_loss: 0.3919 - val_accuracy: 0.9220\n",
            "Epoch 228/500\n",
            "27/27 [==============================] - 0s 5ms/step - loss: 0.4536 - accuracy: 0.8190 - val_loss: 0.3908 - val_accuracy: 0.9220\n",
            "Epoch 229/500\n",
            "27/27 [==============================] - 0s 4ms/step - loss: 0.4795 - accuracy: 0.7905 - val_loss: 0.3894 - val_accuracy: 0.9220\n",
            "Epoch 230/500\n",
            "27/27 [==============================] - 0s 4ms/step - loss: 0.4904 - accuracy: 0.7738 - val_loss: 0.3880 - val_accuracy: 0.9220\n",
            "Epoch 231/500\n",
            "27/27 [==============================] - 0s 5ms/step - loss: 0.4683 - accuracy: 0.7881 - val_loss: 0.3869 - val_accuracy: 0.9220\n",
            "Epoch 232/500\n",
            "27/27 [==============================] - 0s 4ms/step - loss: 0.4547 - accuracy: 0.8167 - val_loss: 0.3858 - val_accuracy: 0.9220\n",
            "Epoch 233/500\n",
            "27/27 [==============================] - 0s 4ms/step - loss: 0.4568 - accuracy: 0.8071 - val_loss: 0.3845 - val_accuracy: 0.9220\n",
            "Epoch 234/500\n",
            "27/27 [==============================] - 0s 5ms/step - loss: 0.4505 - accuracy: 0.8024 - val_loss: 0.3828 - val_accuracy: 0.9220\n",
            "Epoch 235/500\n",
            "27/27 [==============================] - 0s 4ms/step - loss: 0.4818 - accuracy: 0.7857 - val_loss: 0.3813 - val_accuracy: 0.9220\n",
            "Epoch 236/500\n",
            "27/27 [==============================] - 0s 4ms/step - loss: 0.4669 - accuracy: 0.7881 - val_loss: 0.3801 - val_accuracy: 0.9220\n",
            "Epoch 237/500\n",
            "27/27 [==============================] - 0s 4ms/step - loss: 0.4734 - accuracy: 0.7929 - val_loss: 0.3784 - val_accuracy: 0.9220\n",
            "Epoch 238/500\n",
            "27/27 [==============================] - 0s 4ms/step - loss: 0.4620 - accuracy: 0.7881 - val_loss: 0.3773 - val_accuracy: 0.9220\n",
            "Epoch 239/500\n",
            "27/27 [==============================] - 0s 4ms/step - loss: 0.4482 - accuracy: 0.8167 - val_loss: 0.3757 - val_accuracy: 0.9220\n",
            "Epoch 240/500\n",
            "27/27 [==============================] - 0s 4ms/step - loss: 0.4581 - accuracy: 0.8119 - val_loss: 0.3745 - val_accuracy: 0.9220\n",
            "Epoch 241/500\n",
            "27/27 [==============================] - 0s 4ms/step - loss: 0.4582 - accuracy: 0.8238 - val_loss: 0.3733 - val_accuracy: 0.9291\n",
            "Epoch 242/500\n",
            "27/27 [==============================] - 0s 4ms/step - loss: 0.4588 - accuracy: 0.7905 - val_loss: 0.3720 - val_accuracy: 0.9291\n",
            "Epoch 243/500\n",
            "27/27 [==============================] - 0s 4ms/step - loss: 0.4645 - accuracy: 0.8119 - val_loss: 0.3708 - val_accuracy: 0.9291\n",
            "Epoch 244/500\n",
            "27/27 [==============================] - 0s 4ms/step - loss: 0.4549 - accuracy: 0.8048 - val_loss: 0.3698 - val_accuracy: 0.9362\n",
            "Epoch 245/500\n",
            "27/27 [==============================] - 0s 4ms/step - loss: 0.4445 - accuracy: 0.8190 - val_loss: 0.3681 - val_accuracy: 0.9362\n",
            "Epoch 246/500\n",
            "27/27 [==============================] - 0s 4ms/step - loss: 0.4543 - accuracy: 0.8167 - val_loss: 0.3667 - val_accuracy: 0.9362\n",
            "Epoch 247/500\n",
            "27/27 [==============================] - 0s 4ms/step - loss: 0.4526 - accuracy: 0.8095 - val_loss: 0.3654 - val_accuracy: 0.9362\n",
            "Epoch 248/500\n",
            "27/27 [==============================] - 0s 5ms/step - loss: 0.4435 - accuracy: 0.8095 - val_loss: 0.3639 - val_accuracy: 0.9433\n",
            "Epoch 249/500\n",
            "27/27 [==============================] - 0s 5ms/step - loss: 0.4320 - accuracy: 0.8071 - val_loss: 0.3626 - val_accuracy: 0.9433\n",
            "Epoch 250/500\n",
            "27/27 [==============================] - 0s 5ms/step - loss: 0.4539 - accuracy: 0.7976 - val_loss: 0.3612 - val_accuracy: 0.9433\n",
            "Epoch 251/500\n",
            "27/27 [==============================] - 0s 4ms/step - loss: 0.4258 - accuracy: 0.8143 - val_loss: 0.3598 - val_accuracy: 0.9433\n",
            "Epoch 252/500\n",
            "27/27 [==============================] - 0s 4ms/step - loss: 0.4429 - accuracy: 0.8214 - val_loss: 0.3579 - val_accuracy: 0.9433\n",
            "Epoch 253/500\n",
            "27/27 [==============================] - 0s 4ms/step - loss: 0.4458 - accuracy: 0.7952 - val_loss: 0.3566 - val_accuracy: 0.9433\n",
            "Epoch 254/500\n",
            "27/27 [==============================] - 0s 5ms/step - loss: 0.4434 - accuracy: 0.8024 - val_loss: 0.3551 - val_accuracy: 0.9433\n",
            "Epoch 255/500\n",
            "27/27 [==============================] - 0s 5ms/step - loss: 0.4411 - accuracy: 0.8048 - val_loss: 0.3536 - val_accuracy: 0.9433\n",
            "Epoch 256/500\n",
            "27/27 [==============================] - 0s 4ms/step - loss: 0.4338 - accuracy: 0.8095 - val_loss: 0.3523 - val_accuracy: 0.9433\n",
            "Epoch 257/500\n",
            "27/27 [==============================] - 0s 4ms/step - loss: 0.4363 - accuracy: 0.8214 - val_loss: 0.3514 - val_accuracy: 0.9433\n",
            "Epoch 258/500\n",
            "27/27 [==============================] - 0s 4ms/step - loss: 0.4497 - accuracy: 0.7929 - val_loss: 0.3501 - val_accuracy: 0.9433\n",
            "Epoch 259/500\n",
            "27/27 [==============================] - 0s 4ms/step - loss: 0.4621 - accuracy: 0.8071 - val_loss: 0.3486 - val_accuracy: 0.9433\n",
            "Epoch 260/500\n",
            "27/27 [==============================] - 0s 4ms/step - loss: 0.4249 - accuracy: 0.8381 - val_loss: 0.3472 - val_accuracy: 0.9433\n",
            "Epoch 261/500\n",
            "27/27 [==============================] - 0s 5ms/step - loss: 0.4341 - accuracy: 0.8167 - val_loss: 0.3463 - val_accuracy: 0.9433\n",
            "Epoch 262/500\n",
            "27/27 [==============================] - 0s 4ms/step - loss: 0.4368 - accuracy: 0.8286 - val_loss: 0.3449 - val_accuracy: 0.9433\n",
            "Epoch 263/500\n",
            "27/27 [==============================] - 0s 5ms/step - loss: 0.4347 - accuracy: 0.7905 - val_loss: 0.3434 - val_accuracy: 0.9433\n",
            "Epoch 264/500\n",
            "27/27 [==============================] - 0s 5ms/step - loss: 0.4380 - accuracy: 0.8333 - val_loss: 0.3423 - val_accuracy: 0.9433\n",
            "Epoch 265/500\n",
            "27/27 [==============================] - 0s 5ms/step - loss: 0.4195 - accuracy: 0.8310 - val_loss: 0.3409 - val_accuracy: 0.9433\n",
            "Epoch 266/500\n",
            "27/27 [==============================] - 0s 5ms/step - loss: 0.4451 - accuracy: 0.8071 - val_loss: 0.3396 - val_accuracy: 0.9433\n",
            "Epoch 267/500\n",
            "27/27 [==============================] - 0s 5ms/step - loss: 0.4053 - accuracy: 0.8310 - val_loss: 0.3382 - val_accuracy: 0.9433\n",
            "Epoch 268/500\n",
            "27/27 [==============================] - 0s 4ms/step - loss: 0.4440 - accuracy: 0.8095 - val_loss: 0.3373 - val_accuracy: 0.9433\n",
            "Epoch 269/500\n",
            "27/27 [==============================] - 0s 4ms/step - loss: 0.4294 - accuracy: 0.8190 - val_loss: 0.3361 - val_accuracy: 0.9433\n",
            "Epoch 270/500\n",
            "27/27 [==============================] - 0s 4ms/step - loss: 0.4349 - accuracy: 0.8238 - val_loss: 0.3352 - val_accuracy: 0.9433\n",
            "Epoch 271/500\n",
            "27/27 [==============================] - 0s 4ms/step - loss: 0.4028 - accuracy: 0.8595 - val_loss: 0.3339 - val_accuracy: 0.9433\n",
            "Epoch 272/500\n",
            "27/27 [==============================] - 0s 4ms/step - loss: 0.4463 - accuracy: 0.7976 - val_loss: 0.3327 - val_accuracy: 0.9433\n",
            "Epoch 273/500\n",
            "27/27 [==============================] - 0s 4ms/step - loss: 0.4287 - accuracy: 0.8119 - val_loss: 0.3318 - val_accuracy: 0.9433\n",
            "Epoch 274/500\n",
            "27/27 [==============================] - 0s 4ms/step - loss: 0.4252 - accuracy: 0.8214 - val_loss: 0.3309 - val_accuracy: 0.9433\n",
            "Epoch 275/500\n",
            "27/27 [==============================] - 0s 4ms/step - loss: 0.4240 - accuracy: 0.8048 - val_loss: 0.3295 - val_accuracy: 0.9433\n",
            "Epoch 276/500\n",
            "27/27 [==============================] - 0s 3ms/step - loss: 0.4374 - accuracy: 0.8071 - val_loss: 0.3283 - val_accuracy: 0.9433\n",
            "Epoch 277/500\n",
            "27/27 [==============================] - 0s 4ms/step - loss: 0.4378 - accuracy: 0.8000 - val_loss: 0.3275 - val_accuracy: 0.9433\n",
            "Epoch 278/500\n",
            "27/27 [==============================] - 0s 4ms/step - loss: 0.4246 - accuracy: 0.8238 - val_loss: 0.3263 - val_accuracy: 0.9433\n",
            "Epoch 279/500\n",
            "27/27 [==============================] - 0s 4ms/step - loss: 0.4132 - accuracy: 0.8190 - val_loss: 0.3249 - val_accuracy: 0.9433\n",
            "Epoch 280/500\n",
            "27/27 [==============================] - 0s 4ms/step - loss: 0.4212 - accuracy: 0.8381 - val_loss: 0.3235 - val_accuracy: 0.9433\n",
            "Epoch 281/500\n",
            "27/27 [==============================] - 0s 4ms/step - loss: 0.4037 - accuracy: 0.8286 - val_loss: 0.3221 - val_accuracy: 0.9433\n",
            "Epoch 282/500\n",
            "27/27 [==============================] - 0s 4ms/step - loss: 0.4295 - accuracy: 0.8119 - val_loss: 0.3211 - val_accuracy: 0.9433\n",
            "Epoch 283/500\n",
            "27/27 [==============================] - 0s 4ms/step - loss: 0.4267 - accuracy: 0.8238 - val_loss: 0.3203 - val_accuracy: 0.9433\n",
            "Epoch 284/500\n",
            "27/27 [==============================] - 0s 5ms/step - loss: 0.4213 - accuracy: 0.8143 - val_loss: 0.3194 - val_accuracy: 0.9433\n",
            "Epoch 285/500\n",
            "27/27 [==============================] - 0s 4ms/step - loss: 0.4273 - accuracy: 0.8024 - val_loss: 0.3184 - val_accuracy: 0.9433\n",
            "Epoch 286/500\n",
            "27/27 [==============================] - 0s 5ms/step - loss: 0.4343 - accuracy: 0.8262 - val_loss: 0.3170 - val_accuracy: 0.9433\n",
            "Epoch 287/500\n",
            "27/27 [==============================] - 0s 5ms/step - loss: 0.4057 - accuracy: 0.8262 - val_loss: 0.3160 - val_accuracy: 0.9433\n",
            "Epoch 288/500\n",
            "27/27 [==============================] - 0s 4ms/step - loss: 0.4192 - accuracy: 0.8476 - val_loss: 0.3152 - val_accuracy: 0.9433\n",
            "Epoch 289/500\n",
            "27/27 [==============================] - 0s 4ms/step - loss: 0.3969 - accuracy: 0.8429 - val_loss: 0.3139 - val_accuracy: 0.9433\n",
            "Epoch 290/500\n",
            "27/27 [==============================] - 0s 4ms/step - loss: 0.4206 - accuracy: 0.8429 - val_loss: 0.3124 - val_accuracy: 0.9433\n",
            "Epoch 291/500\n",
            "27/27 [==============================] - 0s 5ms/step - loss: 0.4227 - accuracy: 0.8476 - val_loss: 0.3113 - val_accuracy: 0.9433\n",
            "Epoch 292/500\n",
            "27/27 [==============================] - 0s 5ms/step - loss: 0.3970 - accuracy: 0.8429 - val_loss: 0.3101 - val_accuracy: 0.9433\n",
            "Epoch 293/500\n",
            "27/27 [==============================] - 0s 4ms/step - loss: 0.4204 - accuracy: 0.8167 - val_loss: 0.3091 - val_accuracy: 0.9433\n",
            "Epoch 294/500\n",
            "27/27 [==============================] - 0s 4ms/step - loss: 0.4221 - accuracy: 0.8167 - val_loss: 0.3082 - val_accuracy: 0.9433\n",
            "Epoch 295/500\n",
            "27/27 [==============================] - 0s 4ms/step - loss: 0.4103 - accuracy: 0.8238 - val_loss: 0.3071 - val_accuracy: 0.9433\n",
            "Epoch 296/500\n",
            "27/27 [==============================] - 0s 4ms/step - loss: 0.3991 - accuracy: 0.8119 - val_loss: 0.3066 - val_accuracy: 0.9433\n",
            "Epoch 297/500\n",
            "27/27 [==============================] - 0s 4ms/step - loss: 0.4217 - accuracy: 0.8071 - val_loss: 0.3055 - val_accuracy: 0.9433\n",
            "Epoch 298/500\n",
            "27/27 [==============================] - 0s 5ms/step - loss: 0.3956 - accuracy: 0.8405 - val_loss: 0.3042 - val_accuracy: 0.9433\n",
            "Epoch 299/500\n",
            "27/27 [==============================] - 0s 4ms/step - loss: 0.3819 - accuracy: 0.8476 - val_loss: 0.3029 - val_accuracy: 0.9433\n",
            "Epoch 300/500\n",
            "27/27 [==============================] - 0s 4ms/step - loss: 0.3908 - accuracy: 0.8524 - val_loss: 0.3013 - val_accuracy: 0.9433\n",
            "Epoch 301/500\n",
            "27/27 [==============================] - 0s 4ms/step - loss: 0.3841 - accuracy: 0.8238 - val_loss: 0.3002 - val_accuracy: 0.9433\n",
            "Epoch 302/500\n",
            "27/27 [==============================] - 0s 4ms/step - loss: 0.4195 - accuracy: 0.8238 - val_loss: 0.2994 - val_accuracy: 0.9433\n",
            "Epoch 303/500\n",
            "27/27 [==============================] - 0s 4ms/step - loss: 0.4078 - accuracy: 0.8286 - val_loss: 0.2987 - val_accuracy: 0.9433\n",
            "Epoch 304/500\n",
            "27/27 [==============================] - 0s 4ms/step - loss: 0.4021 - accuracy: 0.8262 - val_loss: 0.2974 - val_accuracy: 0.9433\n",
            "Epoch 305/500\n",
            "27/27 [==============================] - 0s 4ms/step - loss: 0.3949 - accuracy: 0.8310 - val_loss: 0.2963 - val_accuracy: 0.9433\n",
            "Epoch 306/500\n",
            "27/27 [==============================] - 0s 4ms/step - loss: 0.3987 - accuracy: 0.8310 - val_loss: 0.2949 - val_accuracy: 0.9433\n",
            "Epoch 307/500\n",
            "27/27 [==============================] - 0s 4ms/step - loss: 0.3858 - accuracy: 0.8262 - val_loss: 0.2935 - val_accuracy: 0.9433\n",
            "Epoch 308/500\n",
            "27/27 [==============================] - 0s 4ms/step - loss: 0.3787 - accuracy: 0.8548 - val_loss: 0.2926 - val_accuracy: 0.9433\n",
            "Epoch 309/500\n",
            "27/27 [==============================] - 0s 5ms/step - loss: 0.3930 - accuracy: 0.8262 - val_loss: 0.2916 - val_accuracy: 0.9433\n",
            "Epoch 310/500\n",
            "27/27 [==============================] - 0s 4ms/step - loss: 0.3998 - accuracy: 0.8214 - val_loss: 0.2907 - val_accuracy: 0.9504\n",
            "Epoch 311/500\n",
            "27/27 [==============================] - 0s 4ms/step - loss: 0.4007 - accuracy: 0.8143 - val_loss: 0.2898 - val_accuracy: 0.9504\n",
            "Epoch 312/500\n",
            "27/27 [==============================] - 0s 4ms/step - loss: 0.4085 - accuracy: 0.8190 - val_loss: 0.2888 - val_accuracy: 0.9504\n",
            "Epoch 313/500\n",
            "27/27 [==============================] - 0s 4ms/step - loss: 0.4065 - accuracy: 0.8381 - val_loss: 0.2877 - val_accuracy: 0.9504\n",
            "Epoch 314/500\n",
            "27/27 [==============================] - 0s 4ms/step - loss: 0.3714 - accuracy: 0.8429 - val_loss: 0.2867 - val_accuracy: 0.9504\n",
            "Epoch 315/500\n",
            "27/27 [==============================] - 0s 4ms/step - loss: 0.4217 - accuracy: 0.8190 - val_loss: 0.2855 - val_accuracy: 0.9504\n",
            "Epoch 316/500\n",
            "27/27 [==============================] - 0s 4ms/step - loss: 0.3846 - accuracy: 0.8238 - val_loss: 0.2847 - val_accuracy: 0.9574\n",
            "Epoch 317/500\n",
            "27/27 [==============================] - 0s 5ms/step - loss: 0.3989 - accuracy: 0.8286 - val_loss: 0.2838 - val_accuracy: 0.9574\n",
            "Epoch 318/500\n",
            "27/27 [==============================] - 0s 4ms/step - loss: 0.3847 - accuracy: 0.8571 - val_loss: 0.2823 - val_accuracy: 0.9574\n",
            "Epoch 319/500\n",
            "27/27 [==============================] - 0s 4ms/step - loss: 0.3757 - accuracy: 0.8429 - val_loss: 0.2812 - val_accuracy: 0.9574\n",
            "Epoch 320/500\n",
            "27/27 [==============================] - 0s 4ms/step - loss: 0.3949 - accuracy: 0.8119 - val_loss: 0.2801 - val_accuracy: 0.9574\n",
            "Epoch 321/500\n",
            "27/27 [==============================] - 0s 4ms/step - loss: 0.3944 - accuracy: 0.8238 - val_loss: 0.2790 - val_accuracy: 0.9504\n",
            "Epoch 322/500\n",
            "27/27 [==============================] - 0s 4ms/step - loss: 0.3829 - accuracy: 0.8595 - val_loss: 0.2780 - val_accuracy: 0.9504\n",
            "Epoch 323/500\n",
            "27/27 [==============================] - 0s 4ms/step - loss: 0.3719 - accuracy: 0.8571 - val_loss: 0.2767 - val_accuracy: 0.9504\n",
            "Epoch 324/500\n",
            "27/27 [==============================] - 0s 5ms/step - loss: 0.3603 - accuracy: 0.8381 - val_loss: 0.2755 - val_accuracy: 0.9504\n",
            "Epoch 325/500\n",
            "27/27 [==============================] - 0s 4ms/step - loss: 0.3729 - accuracy: 0.8405 - val_loss: 0.2742 - val_accuracy: 0.9504\n",
            "Epoch 326/500\n",
            "27/27 [==============================] - 0s 5ms/step - loss: 0.3743 - accuracy: 0.8429 - val_loss: 0.2729 - val_accuracy: 0.9504\n",
            "Epoch 327/500\n",
            "27/27 [==============================] - 0s 4ms/step - loss: 0.3769 - accuracy: 0.8381 - val_loss: 0.2721 - val_accuracy: 0.9504\n",
            "Epoch 328/500\n",
            "27/27 [==============================] - 0s 4ms/step - loss: 0.3521 - accuracy: 0.8500 - val_loss: 0.2706 - val_accuracy: 0.9504\n",
            "Epoch 329/500\n",
            "27/27 [==============================] - 0s 4ms/step - loss: 0.4002 - accuracy: 0.8381 - val_loss: 0.2696 - val_accuracy: 0.9504\n",
            "Epoch 330/500\n",
            "27/27 [==============================] - 0s 5ms/step - loss: 0.3728 - accuracy: 0.8429 - val_loss: 0.2685 - val_accuracy: 0.9504\n",
            "Epoch 331/500\n",
            "27/27 [==============================] - 0s 4ms/step - loss: 0.3929 - accuracy: 0.8429 - val_loss: 0.2681 - val_accuracy: 0.9645\n",
            "Epoch 332/500\n",
            "27/27 [==============================] - 0s 4ms/step - loss: 0.3748 - accuracy: 0.8524 - val_loss: 0.2673 - val_accuracy: 0.9645\n",
            "Epoch 333/500\n",
            "27/27 [==============================] - 0s 5ms/step - loss: 0.3609 - accuracy: 0.8619 - val_loss: 0.2663 - val_accuracy: 0.9645\n",
            "Epoch 334/500\n",
            "27/27 [==============================] - 0s 4ms/step - loss: 0.3833 - accuracy: 0.8310 - val_loss: 0.2653 - val_accuracy: 0.9645\n",
            "Epoch 335/500\n",
            "27/27 [==============================] - 0s 4ms/step - loss: 0.4022 - accuracy: 0.8119 - val_loss: 0.2644 - val_accuracy: 0.9645\n",
            "Epoch 336/500\n",
            "27/27 [==============================] - 0s 4ms/step - loss: 0.3792 - accuracy: 0.8357 - val_loss: 0.2637 - val_accuracy: 0.9645\n",
            "Epoch 337/500\n",
            "27/27 [==============================] - 0s 4ms/step - loss: 0.3869 - accuracy: 0.8381 - val_loss: 0.2627 - val_accuracy: 0.9645\n",
            "Epoch 338/500\n",
            "27/27 [==============================] - 0s 4ms/step - loss: 0.3624 - accuracy: 0.8571 - val_loss: 0.2615 - val_accuracy: 0.9645\n",
            "Epoch 339/500\n",
            "27/27 [==============================] - 0s 4ms/step - loss: 0.3602 - accuracy: 0.8524 - val_loss: 0.2607 - val_accuracy: 0.9645\n",
            "Epoch 340/500\n",
            "27/27 [==============================] - 0s 3ms/step - loss: 0.3920 - accuracy: 0.8262 - val_loss: 0.2598 - val_accuracy: 0.9645\n",
            "Epoch 341/500\n",
            "27/27 [==============================] - 0s 4ms/step - loss: 0.3441 - accuracy: 0.8619 - val_loss: 0.2589 - val_accuracy: 0.9645\n",
            "Epoch 342/500\n",
            "27/27 [==============================] - 0s 4ms/step - loss: 0.3938 - accuracy: 0.8381 - val_loss: 0.2578 - val_accuracy: 0.9645\n",
            "Epoch 343/500\n",
            "27/27 [==============================] - 0s 4ms/step - loss: 0.3766 - accuracy: 0.8357 - val_loss: 0.2569 - val_accuracy: 0.9645\n",
            "Epoch 344/500\n",
            "27/27 [==============================] - 0s 4ms/step - loss: 0.3517 - accuracy: 0.8381 - val_loss: 0.2560 - val_accuracy: 0.9645\n",
            "Epoch 345/500\n",
            "27/27 [==============================] - 0s 3ms/step - loss: 0.3611 - accuracy: 0.8357 - val_loss: 0.2551 - val_accuracy: 0.9645\n",
            "Epoch 346/500\n",
            "27/27 [==============================] - 0s 3ms/step - loss: 0.3541 - accuracy: 0.8476 - val_loss: 0.2542 - val_accuracy: 0.9645\n",
            "Epoch 347/500\n",
            "27/27 [==============================] - 0s 4ms/step - loss: 0.3609 - accuracy: 0.8429 - val_loss: 0.2535 - val_accuracy: 0.9645\n",
            "Epoch 348/500\n",
            "27/27 [==============================] - 0s 5ms/step - loss: 0.3871 - accuracy: 0.8429 - val_loss: 0.2524 - val_accuracy: 0.9645\n",
            "Epoch 349/500\n",
            "27/27 [==============================] - 0s 4ms/step - loss: 0.3609 - accuracy: 0.8381 - val_loss: 0.2517 - val_accuracy: 0.9645\n",
            "Epoch 350/500\n",
            "27/27 [==============================] - 0s 4ms/step - loss: 0.3673 - accuracy: 0.8476 - val_loss: 0.2509 - val_accuracy: 0.9645\n",
            "Epoch 351/500\n",
            "27/27 [==============================] - 0s 4ms/step - loss: 0.3706 - accuracy: 0.8286 - val_loss: 0.2506 - val_accuracy: 0.9645\n",
            "Epoch 352/500\n",
            "27/27 [==============================] - 0s 4ms/step - loss: 0.3665 - accuracy: 0.8476 - val_loss: 0.2499 - val_accuracy: 0.9645\n",
            "Epoch 353/500\n",
            "27/27 [==============================] - 0s 5ms/step - loss: 0.3731 - accuracy: 0.8357 - val_loss: 0.2485 - val_accuracy: 0.9645\n",
            "Epoch 354/500\n",
            "27/27 [==============================] - 0s 5ms/step - loss: 0.3590 - accuracy: 0.8286 - val_loss: 0.2475 - val_accuracy: 0.9645\n",
            "Epoch 355/500\n",
            "27/27 [==============================] - 0s 4ms/step - loss: 0.3508 - accuracy: 0.8714 - val_loss: 0.2462 - val_accuracy: 0.9645\n",
            "Epoch 356/500\n",
            "27/27 [==============================] - 0s 4ms/step - loss: 0.3624 - accuracy: 0.8524 - val_loss: 0.2455 - val_accuracy: 0.9645\n",
            "Epoch 357/500\n",
            "27/27 [==============================] - 0s 4ms/step - loss: 0.3562 - accuracy: 0.8571 - val_loss: 0.2443 - val_accuracy: 0.9645\n",
            "Epoch 358/500\n",
            "27/27 [==============================] - 0s 4ms/step - loss: 0.3784 - accuracy: 0.8310 - val_loss: 0.2436 - val_accuracy: 0.9645\n",
            "Epoch 359/500\n",
            "27/27 [==============================] - 0s 4ms/step - loss: 0.3713 - accuracy: 0.8262 - val_loss: 0.2432 - val_accuracy: 0.9645\n",
            "Epoch 360/500\n",
            "27/27 [==============================] - 0s 4ms/step - loss: 0.3410 - accuracy: 0.8524 - val_loss: 0.2425 - val_accuracy: 0.9645\n",
            "Epoch 361/500\n",
            "27/27 [==============================] - 0s 4ms/step - loss: 0.3454 - accuracy: 0.8452 - val_loss: 0.2416 - val_accuracy: 0.9645\n",
            "Epoch 362/500\n",
            "27/27 [==============================] - 0s 4ms/step - loss: 0.3443 - accuracy: 0.8381 - val_loss: 0.2408 - val_accuracy: 0.9645\n",
            "Epoch 363/500\n",
            "27/27 [==============================] - 0s 3ms/step - loss: 0.3553 - accuracy: 0.8524 - val_loss: 0.2400 - val_accuracy: 0.9645\n",
            "Epoch 364/500\n",
            "27/27 [==============================] - 0s 3ms/step - loss: 0.3390 - accuracy: 0.8452 - val_loss: 0.2389 - val_accuracy: 0.9645\n",
            "Epoch 365/500\n",
            "27/27 [==============================] - 0s 3ms/step - loss: 0.3533 - accuracy: 0.8381 - val_loss: 0.2384 - val_accuracy: 0.9645\n",
            "Epoch 366/500\n",
            "27/27 [==============================] - 0s 3ms/step - loss: 0.3527 - accuracy: 0.8524 - val_loss: 0.2373 - val_accuracy: 0.9645\n",
            "Epoch 367/500\n",
            "27/27 [==============================] - 0s 4ms/step - loss: 0.3523 - accuracy: 0.8619 - val_loss: 0.2368 - val_accuracy: 0.9645\n",
            "Epoch 368/500\n",
            "27/27 [==============================] - 0s 4ms/step - loss: 0.3656 - accuracy: 0.8310 - val_loss: 0.2362 - val_accuracy: 0.9645\n",
            "Epoch 369/500\n",
            "27/27 [==============================] - 0s 4ms/step - loss: 0.3954 - accuracy: 0.8024 - val_loss: 0.2353 - val_accuracy: 0.9645\n",
            "Epoch 370/500\n",
            "27/27 [==============================] - 0s 4ms/step - loss: 0.3559 - accuracy: 0.8381 - val_loss: 0.2346 - val_accuracy: 0.9645\n",
            "Epoch 371/500\n",
            "27/27 [==============================] - 0s 4ms/step - loss: 0.3534 - accuracy: 0.8405 - val_loss: 0.2337 - val_accuracy: 0.9645\n",
            "Epoch 372/500\n",
            "27/27 [==============================] - 0s 4ms/step - loss: 0.3448 - accuracy: 0.8429 - val_loss: 0.2331 - val_accuracy: 0.9645\n",
            "Epoch 373/500\n",
            "27/27 [==============================] - 0s 4ms/step - loss: 0.3698 - accuracy: 0.8286 - val_loss: 0.2326 - val_accuracy: 0.9645\n",
            "Epoch 374/500\n",
            "27/27 [==============================] - 0s 4ms/step - loss: 0.3597 - accuracy: 0.8524 - val_loss: 0.2321 - val_accuracy: 0.9645\n",
            "Epoch 375/500\n",
            "27/27 [==============================] - 0s 3ms/step - loss: 0.3675 - accuracy: 0.8405 - val_loss: 0.2320 - val_accuracy: 0.9645\n",
            "Epoch 376/500\n",
            "27/27 [==============================] - 0s 4ms/step - loss: 0.3189 - accuracy: 0.8595 - val_loss: 0.2313 - val_accuracy: 0.9645\n",
            "Epoch 377/500\n",
            "27/27 [==============================] - 0s 4ms/step - loss: 0.3276 - accuracy: 0.8714 - val_loss: 0.2304 - val_accuracy: 0.9645\n",
            "Epoch 378/500\n",
            "27/27 [==============================] - 0s 4ms/step - loss: 0.3651 - accuracy: 0.8429 - val_loss: 0.2297 - val_accuracy: 0.9645\n",
            "Epoch 379/500\n",
            "27/27 [==============================] - 0s 4ms/step - loss: 0.3451 - accuracy: 0.8429 - val_loss: 0.2288 - val_accuracy: 0.9645\n",
            "Epoch 380/500\n",
            "27/27 [==============================] - 0s 4ms/step - loss: 0.3470 - accuracy: 0.8714 - val_loss: 0.2278 - val_accuracy: 0.9645\n",
            "Epoch 381/500\n",
            "27/27 [==============================] - 0s 4ms/step - loss: 0.3575 - accuracy: 0.8405 - val_loss: 0.2278 - val_accuracy: 0.9645\n",
            "Epoch 382/500\n",
            "27/27 [==============================] - 0s 4ms/step - loss: 0.3322 - accuracy: 0.8571 - val_loss: 0.2269 - val_accuracy: 0.9645\n",
            "Epoch 383/500\n",
            "27/27 [==============================] - 0s 4ms/step - loss: 0.3481 - accuracy: 0.8571 - val_loss: 0.2262 - val_accuracy: 0.9645\n",
            "Epoch 384/500\n",
            "27/27 [==============================] - 0s 4ms/step - loss: 0.3299 - accuracy: 0.8476 - val_loss: 0.2256 - val_accuracy: 0.9645\n",
            "Epoch 385/500\n",
            "27/27 [==============================] - 0s 4ms/step - loss: 0.3388 - accuracy: 0.8762 - val_loss: 0.2250 - val_accuracy: 0.9645\n",
            "Epoch 386/500\n",
            "27/27 [==============================] - 0s 4ms/step - loss: 0.3460 - accuracy: 0.8595 - val_loss: 0.2244 - val_accuracy: 0.9645\n",
            "Epoch 387/500\n",
            "27/27 [==============================] - 0s 4ms/step - loss: 0.3448 - accuracy: 0.8524 - val_loss: 0.2241 - val_accuracy: 0.9645\n",
            "Epoch 388/500\n",
            "27/27 [==============================] - 0s 4ms/step - loss: 0.3424 - accuracy: 0.8548 - val_loss: 0.2235 - val_accuracy: 0.9645\n",
            "Epoch 389/500\n",
            "27/27 [==============================] - 0s 4ms/step - loss: 0.3311 - accuracy: 0.8643 - val_loss: 0.2225 - val_accuracy: 0.9645\n",
            "Epoch 390/500\n",
            "27/27 [==============================] - 0s 4ms/step - loss: 0.3281 - accuracy: 0.8429 - val_loss: 0.2220 - val_accuracy: 0.9645\n",
            "Epoch 391/500\n",
            "27/27 [==============================] - 0s 5ms/step - loss: 0.3517 - accuracy: 0.8500 - val_loss: 0.2213 - val_accuracy: 0.9645\n",
            "Epoch 392/500\n",
            "27/27 [==============================] - 0s 4ms/step - loss: 0.3504 - accuracy: 0.8476 - val_loss: 0.2206 - val_accuracy: 0.9645\n",
            "Epoch 393/500\n",
            "27/27 [==============================] - 0s 4ms/step - loss: 0.3188 - accuracy: 0.8738 - val_loss: 0.2199 - val_accuracy: 0.9645\n",
            "Epoch 394/500\n",
            "27/27 [==============================] - 0s 4ms/step - loss: 0.3233 - accuracy: 0.8738 - val_loss: 0.2190 - val_accuracy: 0.9645\n",
            "Epoch 395/500\n",
            "27/27 [==============================] - 0s 5ms/step - loss: 0.3426 - accuracy: 0.8405 - val_loss: 0.2180 - val_accuracy: 0.9645\n",
            "Epoch 396/500\n",
            "27/27 [==============================] - 0s 4ms/step - loss: 0.3271 - accuracy: 0.8595 - val_loss: 0.2173 - val_accuracy: 0.9645\n",
            "Epoch 397/500\n",
            "27/27 [==============================] - 0s 4ms/step - loss: 0.3447 - accuracy: 0.8571 - val_loss: 0.2165 - val_accuracy: 0.9645\n",
            "Epoch 398/500\n",
            "27/27 [==============================] - 0s 4ms/step - loss: 0.3297 - accuracy: 0.8810 - val_loss: 0.2161 - val_accuracy: 0.9645\n",
            "Epoch 399/500\n",
            "27/27 [==============================] - 0s 4ms/step - loss: 0.3127 - accuracy: 0.8524 - val_loss: 0.2152 - val_accuracy: 0.9645\n",
            "Epoch 400/500\n",
            "27/27 [==============================] - 0s 4ms/step - loss: 0.3259 - accuracy: 0.8452 - val_loss: 0.2145 - val_accuracy: 0.9645\n",
            "Epoch 401/500\n",
            "27/27 [==============================] - 0s 4ms/step - loss: 0.3302 - accuracy: 0.8548 - val_loss: 0.2139 - val_accuracy: 0.9645\n",
            "Epoch 402/500\n",
            "27/27 [==============================] - 0s 4ms/step - loss: 0.3276 - accuracy: 0.8571 - val_loss: 0.2131 - val_accuracy: 0.9645\n",
            "Epoch 403/500\n",
            "27/27 [==============================] - 0s 5ms/step - loss: 0.3159 - accuracy: 0.8881 - val_loss: 0.2122 - val_accuracy: 0.9645\n",
            "Epoch 404/500\n",
            "27/27 [==============================] - 0s 4ms/step - loss: 0.3372 - accuracy: 0.8571 - val_loss: 0.2115 - val_accuracy: 0.9645\n",
            "Epoch 405/500\n",
            "27/27 [==============================] - 0s 4ms/step - loss: 0.3401 - accuracy: 0.8548 - val_loss: 0.2109 - val_accuracy: 0.9645\n",
            "Epoch 406/500\n",
            "27/27 [==============================] - 0s 4ms/step - loss: 0.3240 - accuracy: 0.8833 - val_loss: 0.2105 - val_accuracy: 0.9645\n",
            "Epoch 407/500\n",
            "27/27 [==============================] - 0s 4ms/step - loss: 0.3670 - accuracy: 0.8310 - val_loss: 0.2104 - val_accuracy: 0.9645\n",
            "Epoch 408/500\n",
            "27/27 [==============================] - 0s 4ms/step - loss: 0.3087 - accuracy: 0.8786 - val_loss: 0.2099 - val_accuracy: 0.9645\n",
            "Epoch 409/500\n",
            "27/27 [==============================] - 0s 4ms/step - loss: 0.3180 - accuracy: 0.8690 - val_loss: 0.2094 - val_accuracy: 0.9645\n",
            "Epoch 410/500\n",
            "27/27 [==============================] - 0s 4ms/step - loss: 0.3322 - accuracy: 0.8595 - val_loss: 0.2088 - val_accuracy: 0.9645\n",
            "Epoch 411/500\n",
            "27/27 [==============================] - 0s 4ms/step - loss: 0.3273 - accuracy: 0.8333 - val_loss: 0.2082 - val_accuracy: 0.9645\n",
            "Epoch 412/500\n",
            "27/27 [==============================] - 0s 4ms/step - loss: 0.3443 - accuracy: 0.8524 - val_loss: 0.2079 - val_accuracy: 0.9645\n",
            "Epoch 413/500\n",
            "27/27 [==============================] - 0s 5ms/step - loss: 0.3241 - accuracy: 0.8714 - val_loss: 0.2074 - val_accuracy: 0.9645\n",
            "Epoch 414/500\n",
            "27/27 [==============================] - 0s 4ms/step - loss: 0.3315 - accuracy: 0.8429 - val_loss: 0.2068 - val_accuracy: 0.9645\n",
            "Epoch 415/500\n",
            "27/27 [==============================] - 0s 4ms/step - loss: 0.3297 - accuracy: 0.8429 - val_loss: 0.2066 - val_accuracy: 0.9645\n",
            "Epoch 416/500\n",
            "27/27 [==============================] - 0s 4ms/step - loss: 0.3216 - accuracy: 0.8500 - val_loss: 0.2060 - val_accuracy: 0.9645\n",
            "Epoch 417/500\n",
            "27/27 [==============================] - 0s 4ms/step - loss: 0.3288 - accuracy: 0.8548 - val_loss: 0.2055 - val_accuracy: 0.9645\n",
            "Epoch 418/500\n",
            "27/27 [==============================] - 0s 5ms/step - loss: 0.3300 - accuracy: 0.8452 - val_loss: 0.2051 - val_accuracy: 0.9645\n",
            "Epoch 419/500\n",
            "27/27 [==============================] - 0s 5ms/step - loss: 0.3213 - accuracy: 0.8786 - val_loss: 0.2046 - val_accuracy: 0.9645\n",
            "Epoch 420/500\n",
            "27/27 [==============================] - 0s 4ms/step - loss: 0.3172 - accuracy: 0.8595 - val_loss: 0.2039 - val_accuracy: 0.9645\n",
            "Epoch 421/500\n",
            "27/27 [==============================] - 0s 4ms/step - loss: 0.3099 - accuracy: 0.8595 - val_loss: 0.2030 - val_accuracy: 0.9645\n",
            "Epoch 422/500\n",
            "27/27 [==============================] - 0s 5ms/step - loss: 0.3417 - accuracy: 0.8452 - val_loss: 0.2022 - val_accuracy: 0.9645\n",
            "Epoch 423/500\n",
            "27/27 [==============================] - 0s 4ms/step - loss: 0.3188 - accuracy: 0.8810 - val_loss: 0.2018 - val_accuracy: 0.9645\n",
            "Epoch 424/500\n",
            "27/27 [==============================] - 0s 4ms/step - loss: 0.3441 - accuracy: 0.8167 - val_loss: 0.2017 - val_accuracy: 0.9645\n",
            "Epoch 425/500\n",
            "27/27 [==============================] - 0s 6ms/step - loss: 0.3113 - accuracy: 0.8667 - val_loss: 0.2011 - val_accuracy: 0.9645\n",
            "Epoch 426/500\n",
            "27/27 [==============================] - 0s 5ms/step - loss: 0.3239 - accuracy: 0.8738 - val_loss: 0.2005 - val_accuracy: 0.9645\n",
            "Epoch 427/500\n",
            "27/27 [==============================] - 0s 4ms/step - loss: 0.3041 - accuracy: 0.8643 - val_loss: 0.1996 - val_accuracy: 0.9645\n",
            "Epoch 428/500\n",
            "27/27 [==============================] - 0s 4ms/step - loss: 0.3052 - accuracy: 0.8524 - val_loss: 0.1990 - val_accuracy: 0.9645\n",
            "Epoch 429/500\n",
            "27/27 [==============================] - 0s 5ms/step - loss: 0.3196 - accuracy: 0.8595 - val_loss: 0.1985 - val_accuracy: 0.9645\n",
            "Epoch 430/500\n",
            "27/27 [==============================] - 0s 4ms/step - loss: 0.3166 - accuracy: 0.8690 - val_loss: 0.1980 - val_accuracy: 0.9645\n",
            "Epoch 431/500\n",
            "27/27 [==============================] - 0s 4ms/step - loss: 0.3227 - accuracy: 0.8738 - val_loss: 0.1975 - val_accuracy: 0.9645\n",
            "Epoch 432/500\n",
            "27/27 [==============================] - 0s 4ms/step - loss: 0.3172 - accuracy: 0.8595 - val_loss: 0.1974 - val_accuracy: 0.9645\n",
            "Epoch 433/500\n",
            "27/27 [==============================] - 0s 5ms/step - loss: 0.2977 - accuracy: 0.8738 - val_loss: 0.1970 - val_accuracy: 0.9645\n",
            "Epoch 434/500\n",
            "27/27 [==============================] - 0s 4ms/step - loss: 0.3228 - accuracy: 0.8667 - val_loss: 0.1965 - val_accuracy: 0.9645\n",
            "Epoch 435/500\n",
            "27/27 [==============================] - 0s 4ms/step - loss: 0.3202 - accuracy: 0.8690 - val_loss: 0.1962 - val_accuracy: 0.9645\n",
            "Epoch 436/500\n",
            "27/27 [==============================] - 0s 4ms/step - loss: 0.3048 - accuracy: 0.8857 - val_loss: 0.1955 - val_accuracy: 0.9645\n",
            "Epoch 437/500\n",
            "27/27 [==============================] - 0s 4ms/step - loss: 0.3143 - accuracy: 0.8714 - val_loss: 0.1951 - val_accuracy: 0.9645\n",
            "Epoch 438/500\n",
            "27/27 [==============================] - 0s 4ms/step - loss: 0.2882 - accuracy: 0.8857 - val_loss: 0.1944 - val_accuracy: 0.9645\n",
            "Epoch 439/500\n",
            "27/27 [==============================] - 0s 5ms/step - loss: 0.3083 - accuracy: 0.8738 - val_loss: 0.1940 - val_accuracy: 0.9645\n",
            "Epoch 440/500\n",
            "27/27 [==============================] - 0s 5ms/step - loss: 0.3060 - accuracy: 0.8548 - val_loss: 0.1934 - val_accuracy: 0.9645\n",
            "Epoch 441/500\n",
            "27/27 [==============================] - 0s 4ms/step - loss: 0.3188 - accuracy: 0.8524 - val_loss: 0.1931 - val_accuracy: 0.9645\n",
            "Epoch 442/500\n",
            "27/27 [==============================] - 0s 4ms/step - loss: 0.3282 - accuracy: 0.8643 - val_loss: 0.1926 - val_accuracy: 0.9645\n",
            "Epoch 443/500\n",
            "27/27 [==============================] - 0s 4ms/step - loss: 0.2783 - accuracy: 0.8929 - val_loss: 0.1920 - val_accuracy: 0.9645\n",
            "Epoch 444/500\n",
            "27/27 [==============================] - 0s 5ms/step - loss: 0.3132 - accuracy: 0.8667 - val_loss: 0.1914 - val_accuracy: 0.9645\n",
            "Epoch 445/500\n",
            "27/27 [==============================] - 0s 4ms/step - loss: 0.3130 - accuracy: 0.8714 - val_loss: 0.1914 - val_accuracy: 0.9645\n",
            "Epoch 446/500\n",
            "27/27 [==============================] - 0s 4ms/step - loss: 0.2961 - accuracy: 0.8833 - val_loss: 0.1910 - val_accuracy: 0.9645\n",
            "Epoch 447/500\n",
            "27/27 [==============================] - 0s 4ms/step - loss: 0.2932 - accuracy: 0.8762 - val_loss: 0.1904 - val_accuracy: 0.9645\n",
            "Epoch 448/500\n",
            "27/27 [==============================] - 0s 5ms/step - loss: 0.3373 - accuracy: 0.8524 - val_loss: 0.1897 - val_accuracy: 0.9645\n",
            "Epoch 449/500\n",
            "27/27 [==============================] - 0s 4ms/step - loss: 0.3291 - accuracy: 0.8405 - val_loss: 0.1893 - val_accuracy: 0.9645\n",
            "Epoch 450/500\n",
            "27/27 [==============================] - 0s 4ms/step - loss: 0.2939 - accuracy: 0.8714 - val_loss: 0.1889 - val_accuracy: 0.9645\n",
            "Epoch 451/500\n",
            "27/27 [==============================] - 0s 4ms/step - loss: 0.3023 - accuracy: 0.8738 - val_loss: 0.1883 - val_accuracy: 0.9645\n",
            "Epoch 452/500\n",
            "27/27 [==============================] - 0s 4ms/step - loss: 0.2893 - accuracy: 0.8833 - val_loss: 0.1876 - val_accuracy: 0.9645\n",
            "Epoch 453/500\n",
            "27/27 [==============================] - 0s 4ms/step - loss: 0.3128 - accuracy: 0.8619 - val_loss: 0.1870 - val_accuracy: 0.9645\n",
            "Epoch 454/500\n",
            "27/27 [==============================] - 0s 4ms/step - loss: 0.3080 - accuracy: 0.8643 - val_loss: 0.1864 - val_accuracy: 0.9645\n",
            "Epoch 455/500\n",
            "27/27 [==============================] - 0s 4ms/step - loss: 0.2951 - accuracy: 0.8857 - val_loss: 0.1862 - val_accuracy: 0.9645\n",
            "Epoch 456/500\n",
            "27/27 [==============================] - 0s 5ms/step - loss: 0.3198 - accuracy: 0.8595 - val_loss: 0.1862 - val_accuracy: 0.9645\n",
            "Epoch 457/500\n",
            "27/27 [==============================] - 0s 4ms/step - loss: 0.3389 - accuracy: 0.8476 - val_loss: 0.1860 - val_accuracy: 0.9645\n",
            "Epoch 458/500\n",
            "27/27 [==============================] - 0s 4ms/step - loss: 0.3208 - accuracy: 0.8524 - val_loss: 0.1855 - val_accuracy: 0.9645\n",
            "Epoch 459/500\n",
            "27/27 [==============================] - 0s 4ms/step - loss: 0.3221 - accuracy: 0.8738 - val_loss: 0.1849 - val_accuracy: 0.9645\n",
            "Epoch 460/500\n",
            "27/27 [==============================] - 0s 4ms/step - loss: 0.3244 - accuracy: 0.8738 - val_loss: 0.1845 - val_accuracy: 0.9645\n",
            "Epoch 461/500\n",
            "27/27 [==============================] - 0s 4ms/step - loss: 0.3019 - accuracy: 0.8595 - val_loss: 0.1842 - val_accuracy: 0.9645\n",
            "Epoch 462/500\n",
            "27/27 [==============================] - 0s 4ms/step - loss: 0.2926 - accuracy: 0.8833 - val_loss: 0.1837 - val_accuracy: 0.9645\n",
            "Epoch 463/500\n",
            "27/27 [==============================] - 0s 5ms/step - loss: 0.3291 - accuracy: 0.8524 - val_loss: 0.1833 - val_accuracy: 0.9645\n",
            "Epoch 464/500\n",
            "27/27 [==============================] - 0s 4ms/step - loss: 0.3024 - accuracy: 0.8786 - val_loss: 0.1830 - val_accuracy: 0.9645\n",
            "Epoch 465/500\n",
            "27/27 [==============================] - 0s 4ms/step - loss: 0.3115 - accuracy: 0.8595 - val_loss: 0.1826 - val_accuracy: 0.9645\n",
            "Epoch 466/500\n",
            "27/27 [==============================] - 0s 4ms/step - loss: 0.3228 - accuracy: 0.8571 - val_loss: 0.1822 - val_accuracy: 0.9645\n",
            "Epoch 467/500\n",
            "27/27 [==============================] - 0s 5ms/step - loss: 0.3135 - accuracy: 0.8976 - val_loss: 0.1820 - val_accuracy: 0.9645\n",
            "Epoch 468/500\n",
            "27/27 [==============================] - 0s 4ms/step - loss: 0.3186 - accuracy: 0.8643 - val_loss: 0.1814 - val_accuracy: 0.9645\n",
            "Epoch 469/500\n",
            "27/27 [==============================] - 0s 3ms/step - loss: 0.2924 - accuracy: 0.8738 - val_loss: 0.1809 - val_accuracy: 0.9645\n",
            "Epoch 470/500\n",
            "27/27 [==============================] - 0s 4ms/step - loss: 0.2951 - accuracy: 0.8738 - val_loss: 0.1804 - val_accuracy: 0.9645\n",
            "Epoch 471/500\n",
            "27/27 [==============================] - 0s 5ms/step - loss: 0.2872 - accuracy: 0.9000 - val_loss: 0.1799 - val_accuracy: 0.9645\n",
            "Epoch 472/500\n",
            "27/27 [==============================] - 0s 4ms/step - loss: 0.2890 - accuracy: 0.9024 - val_loss: 0.1795 - val_accuracy: 0.9645\n",
            "Epoch 473/500\n",
            "27/27 [==============================] - 0s 5ms/step - loss: 0.3053 - accuracy: 0.8643 - val_loss: 0.1793 - val_accuracy: 0.9645\n",
            "Epoch 474/500\n",
            "27/27 [==============================] - 0s 5ms/step - loss: 0.3088 - accuracy: 0.8738 - val_loss: 0.1788 - val_accuracy: 0.9645\n",
            "Epoch 475/500\n",
            "27/27 [==============================] - 0s 5ms/step - loss: 0.2963 - accuracy: 0.8714 - val_loss: 0.1784 - val_accuracy: 0.9645\n",
            "Epoch 476/500\n",
            "27/27 [==============================] - 0s 4ms/step - loss: 0.2973 - accuracy: 0.8738 - val_loss: 0.1781 - val_accuracy: 0.9645\n",
            "Epoch 477/500\n",
            "27/27 [==============================] - 0s 5ms/step - loss: 0.2798 - accuracy: 0.8905 - val_loss: 0.1776 - val_accuracy: 0.9645\n",
            "Epoch 478/500\n",
            "27/27 [==============================] - 0s 4ms/step - loss: 0.3086 - accuracy: 0.8595 - val_loss: 0.1775 - val_accuracy: 0.9645\n",
            "Epoch 479/500\n",
            "27/27 [==============================] - 0s 4ms/step - loss: 0.3259 - accuracy: 0.8595 - val_loss: 0.1773 - val_accuracy: 0.9645\n",
            "Epoch 480/500\n",
            "27/27 [==============================] - 0s 4ms/step - loss: 0.2849 - accuracy: 0.8738 - val_loss: 0.1767 - val_accuracy: 0.9645\n",
            "Epoch 481/500\n",
            "27/27 [==============================] - 0s 4ms/step - loss: 0.2827 - accuracy: 0.8786 - val_loss: 0.1763 - val_accuracy: 0.9645\n",
            "Epoch 482/500\n",
            "27/27 [==============================] - 0s 4ms/step - loss: 0.3079 - accuracy: 0.8595 - val_loss: 0.1759 - val_accuracy: 0.9645\n",
            "Epoch 483/500\n",
            "27/27 [==============================] - 0s 5ms/step - loss: 0.3180 - accuracy: 0.8738 - val_loss: 0.1756 - val_accuracy: 0.9645\n",
            "Epoch 484/500\n",
            "27/27 [==============================] - 0s 4ms/step - loss: 0.2823 - accuracy: 0.8905 - val_loss: 0.1754 - val_accuracy: 0.9645\n",
            "Epoch 485/500\n",
            "27/27 [==============================] - 0s 5ms/step - loss: 0.3200 - accuracy: 0.8595 - val_loss: 0.1751 - val_accuracy: 0.9645\n",
            "Epoch 486/500\n",
            "27/27 [==============================] - 0s 4ms/step - loss: 0.2623 - accuracy: 0.8976 - val_loss: 0.1746 - val_accuracy: 0.9645\n",
            "Epoch 487/500\n",
            "27/27 [==============================] - 0s 4ms/step - loss: 0.3143 - accuracy: 0.8667 - val_loss: 0.1741 - val_accuracy: 0.9645\n",
            "Epoch 488/500\n",
            "27/27 [==============================] - 0s 4ms/step - loss: 0.2882 - accuracy: 0.8738 - val_loss: 0.1738 - val_accuracy: 0.9645\n",
            "Epoch 489/500\n",
            "27/27 [==============================] - 0s 4ms/step - loss: 0.2825 - accuracy: 0.8714 - val_loss: 0.1736 - val_accuracy: 0.9645\n",
            "Epoch 490/500\n",
            "27/27 [==============================] - 0s 4ms/step - loss: 0.2902 - accuracy: 0.8738 - val_loss: 0.1733 - val_accuracy: 0.9645\n",
            "Epoch 491/500\n",
            "27/27 [==============================] - 0s 5ms/step - loss: 0.2854 - accuracy: 0.8762 - val_loss: 0.1730 - val_accuracy: 0.9645\n",
            "Epoch 492/500\n",
            "27/27 [==============================] - 0s 5ms/step - loss: 0.2907 - accuracy: 0.8833 - val_loss: 0.1728 - val_accuracy: 0.9574\n",
            "Epoch 493/500\n",
            "27/27 [==============================] - 0s 4ms/step - loss: 0.3085 - accuracy: 0.8714 - val_loss: 0.1729 - val_accuracy: 0.9574\n",
            "Epoch 494/500\n",
            "27/27 [==============================] - 0s 5ms/step - loss: 0.2800 - accuracy: 0.8857 - val_loss: 0.1726 - val_accuracy: 0.9574\n",
            "Epoch 495/500\n",
            "27/27 [==============================] - 0s 4ms/step - loss: 0.3033 - accuracy: 0.8690 - val_loss: 0.1723 - val_accuracy: 0.9574\n",
            "Epoch 496/500\n",
            "27/27 [==============================] - 0s 4ms/step - loss: 0.3034 - accuracy: 0.8643 - val_loss: 0.1720 - val_accuracy: 0.9574\n",
            "Epoch 497/500\n",
            "27/27 [==============================] - 0s 4ms/step - loss: 0.3148 - accuracy: 0.8810 - val_loss: 0.1716 - val_accuracy: 0.9645\n",
            "Epoch 498/500\n",
            "27/27 [==============================] - 0s 4ms/step - loss: 0.3023 - accuracy: 0.8786 - val_loss: 0.1715 - val_accuracy: 0.9574\n",
            "Epoch 499/500\n",
            "27/27 [==============================] - 0s 4ms/step - loss: 0.2936 - accuracy: 0.8762 - val_loss: 0.1711 - val_accuracy: 0.9574\n",
            "Epoch 500/500\n",
            "27/27 [==============================] - 0s 4ms/step - loss: 0.2744 - accuracy: 0.8786 - val_loss: 0.1705 - val_accuracy: 0.9574\n"
          ],
          "name": "stdout"
        }
      ]
    },
    {
      "cell_type": "code",
      "metadata": {
        "colab": {
          "base_uri": "https://localhost:8080/"
        },
        "id": "7CZei-yZreSD",
        "outputId": "372cacb9-3fad-43c0-9c8c-74315c5ef350"
      },
      "source": [
        "history.history[\"accuracy\"][-1]"
      ],
      "execution_count": 69,
      "outputs": [
        {
          "output_type": "execute_result",
          "data": {
            "text/plain": [
              "0.8785714507102966"
            ]
          },
          "metadata": {
            "tags": []
          },
          "execution_count": 69
        }
      ]
    },
    {
      "cell_type": "code",
      "metadata": {
        "colab": {
          "base_uri": "https://localhost:8080/"
        },
        "id": "75F4AVOxsszY",
        "outputId": "936baa08-2fa2-48cb-bce9-e6953b07a993"
      },
      "source": [
        "history.history[\"val_accuracy\"][-1]"
      ],
      "execution_count": 70,
      "outputs": [
        {
          "output_type": "execute_result",
          "data": {
            "text/plain": [
              "0.957446813583374"
            ]
          },
          "metadata": {
            "tags": []
          },
          "execution_count": 70
        }
      ]
    },
    {
      "cell_type": "code",
      "metadata": {
        "colab": {
          "base_uri": "https://localhost:8080/",
          "height": 295
        },
        "id": "eEgAIiWQswxV",
        "outputId": "be483f1a-46b4-4ddf-8c29-2b600dc99182"
      },
      "source": [
        "plt.plot(history.history[\"accuracy\"])\n",
        "plt.plot(history.history[\"val_accuracy\"])\n",
        "plt.title('model_Accuracy')\n",
        "plt.ylabel('accuracy')\n",
        "plt.xlabel('epoch')\n",
        "plt.legend(['Train',\"cross_validation\"],loc='upper left')\n",
        "plt.show()"
      ],
      "execution_count": 71,
      "outputs": [
        {
          "output_type": "display_data",
          "data": {
            "image/png": "[encoded data removed]",
            "text/plain": [
              "<Figure size 432x288 with 1 Axes>"
            ]
          },
          "metadata": {
            "tags": []
          }
        }
      ]
    },
    {
      "cell_type": "code",
      "metadata": {
        "colab": {
          "base_uri": "https://localhost:8080/",
          "height": 295
        },
        "id": "wUtMzHhis2RN",
        "outputId": "8b1f6f29-d990-45be-b2d8-fe6e2b357ed0"
      },
      "source": [
        "plt.plot(history.history[\"loss\"])\n",
        "plt.plot(history.history[\"val_loss\"])\n",
        "plt.title('model_loss')\n",
        "plt.ylabel('loss')\n",
        "plt.xlabel('epoch')\n",
        "plt.legend(['Train',\"cross_validation\"],loc='upper left')\n",
        "plt.show()"
      ],
      "execution_count": 72,
      "outputs": [
        {
          "output_type": "display_data",
          "data": {
            "image/png": "[encoded data removed]",
            "text/plain": [
              "<Figure size 432x288 with 1 Axes>"
            ]
          },
          "metadata": {
            "tags": []
          }
        }
      ]
    },
    {
      "cell_type": "code",
      "metadata": {
        "colab": {
          "base_uri": "https://localhost:8080/"
        },
        "id": "4Df6cVnSs5_1",
        "outputId": "e5cb91b8-e83d-4ea2-b573-e3cf274ada31"
      },
      "source": [
        "loss, accuracy = model2.evaluate(train_valid,test_valid,verbose=2)\n",
        "print(\"Accuracy : {:5.2f}\".format(accuracy))"
      ],
      "execution_count": 73,
      "outputs": [
        {
          "output_type": "stream",
          "text": [
            "5/5 - 0s - loss: 0.1705 - accuracy: 0.9574\n",
            "Accuracy :  0.96\n"
          ],
          "name": "stdout"
        }
      ]
    },
    {
      "cell_type": "code",
      "metadata": {
        "colab": {
          "base_uri": "https://localhost:8080/"
        },
        "id": "3MeL6VW_tGbf",
        "outputId": "64300a80-d773-43eb-c5a4-14da11d887e1"
      },
      "source": [
        "loss, accuracy1 = model2.evaluate(X_test1,y_test1,verbose=2)\n",
        "print(\"Accuracy : {:5.2f}\".format(accuracy1))"
      ],
      "execution_count": 74,
      "outputs": [
        {
          "output_type": "stream",
          "text": [
            "5/5 - 0s - loss: 0.1756 - accuracy: 0.9286\n",
            "Accuracy :  0.93\n"
          ],
          "name": "stdout"
        }
      ]
    },
    {
      "cell_type": "code",
      "metadata": {
        "id": "qAfAJY1jtOhD"
      },
      "source": [
        "from sklearn.metrics import confusion_matrix"
      ],
      "execution_count": 75,
      "outputs": []
    },
    {
      "cell_type": "code",
      "metadata": {
        "id": "e3eAdwjJtT2I"
      },
      "source": [
        "y_pred = model2.predict(X_test1)"
      ],
      "execution_count": 76,
      "outputs": []
    },
    {
      "cell_type": "code",
      "metadata": {
        "colab": {
          "base_uri": "https://localhost:8080/"
        },
        "id": "k7ihJHO8tXgQ",
        "outputId": "43fd0d6a-5cbc-491b-ec44-83c6c2bf352f"
      },
      "source": [
        "y_pred > 0.5"
      ],
      "execution_count": 77,
      "outputs": [
        {
          "output_type": "execute_result",
          "data": {
            "text/plain": [
              "array([[ True],\n",
              "       [False],\n",
              "       [ True],\n",
              "       [False],\n",
              "       [False],\n",
              "       [False],\n",
              "       [False],\n",
              "       [False],\n",
              "       [False],\n",
              "       [ True],\n",
              "       [ True],\n",
              "       [False],\n",
              "       [False],\n",
              "       [False],\n",
              "       [ True],\n",
              "       [False],\n",
              "       [False],\n",
              "       [ True],\n",
              "       [ True],\n",
              "       [False],\n",
              "       [ True],\n",
              "       [False],\n",
              "       [ True],\n",
              "       [ True],\n",
              "       [False],\n",
              "       [ True],\n",
              "       [False],\n",
              "       [False],\n",
              "       [ True],\n",
              "       [False],\n",
              "       [False],\n",
              "       [ True],\n",
              "       [False],\n",
              "       [False],\n",
              "       [False],\n",
              "       [ True],\n",
              "       [False],\n",
              "       [ True],\n",
              "       [False],\n",
              "       [ True],\n",
              "       [False],\n",
              "       [False],\n",
              "       [False],\n",
              "       [False],\n",
              "       [False],\n",
              "       [False],\n",
              "       [False],\n",
              "       [False],\n",
              "       [False],\n",
              "       [False],\n",
              "       [False],\n",
              "       [False],\n",
              "       [False],\n",
              "       [False],\n",
              "       [False],\n",
              "       [ True],\n",
              "       [False],\n",
              "       [False],\n",
              "       [False],\n",
              "       [False],\n",
              "       [ True],\n",
              "       [False],\n",
              "       [False],\n",
              "       [False],\n",
              "       [ True],\n",
              "       [False],\n",
              "       [False],\n",
              "       [False],\n",
              "       [False],\n",
              "       [ True],\n",
              "       [ True],\n",
              "       [ True],\n",
              "       [False],\n",
              "       [False],\n",
              "       [False],\n",
              "       [False],\n",
              "       [False],\n",
              "       [False],\n",
              "       [False],\n",
              "       [ True],\n",
              "       [False],\n",
              "       [False],\n",
              "       [False],\n",
              "       [False],\n",
              "       [False],\n",
              "       [ True],\n",
              "       [False],\n",
              "       [False],\n",
              "       [False],\n",
              "       [False],\n",
              "       [False],\n",
              "       [False],\n",
              "       [False],\n",
              "       [ True],\n",
              "       [False],\n",
              "       [False],\n",
              "       [False],\n",
              "       [False],\n",
              "       [ True],\n",
              "       [False],\n",
              "       [False],\n",
              "       [False],\n",
              "       [ True],\n",
              "       [ True],\n",
              "       [False],\n",
              "       [False],\n",
              "       [False],\n",
              "       [False],\n",
              "       [False],\n",
              "       [False],\n",
              "       [False],\n",
              "       [False],\n",
              "       [False],\n",
              "       [False],\n",
              "       [False],\n",
              "       [False],\n",
              "       [False],\n",
              "       [False],\n",
              "       [ True],\n",
              "       [False],\n",
              "       [False],\n",
              "       [ True],\n",
              "       [False],\n",
              "       [False],\n",
              "       [False],\n",
              "       [False],\n",
              "       [False],\n",
              "       [ True],\n",
              "       [False],\n",
              "       [ True],\n",
              "       [False],\n",
              "       [False],\n",
              "       [False],\n",
              "       [False],\n",
              "       [False],\n",
              "       [False],\n",
              "       [False],\n",
              "       [False],\n",
              "       [False],\n",
              "       [ True]])"
            ]
          },
          "metadata": {
            "tags": []
          },
          "execution_count": 77
        }
      ]
    },
    {
      "cell_type": "code",
      "metadata": {
        "colab": {
          "base_uri": "https://localhost:8080/"
        },
        "id": "H3R9M2Z2tbpd",
        "outputId": "25f825a4-50f2-4fa8-f878-11e771820546"
      },
      "source": [
        "print(confusion_matrix(y_test1,y_pred>0.5))"
      ],
      "execution_count": 78,
      "outputs": [
        {
          "output_type": "stream",
          "text": [
            "[[102   5]\n",
            " [  5  28]]\n"
          ],
          "name": "stdout"
        }
      ]
    },
    {
      "cell_type": "code",
      "metadata": {
        "id": "1tMzKSc9tiOE"
      },
      "source": [
        "from sklearn.metrics import roc_curve,roc_auc_score,classification_report,auc"
      ],
      "execution_count": 79,
      "outputs": []
    },
    {
      "cell_type": "code",
      "metadata": {
        "id": "vTnGK0bu9dhR"
      },
      "source": [
        "roc = roc_auc_score(y_test1,y_pred>0.5)"
      ],
      "execution_count": 80,
      "outputs": []
    },
    {
      "cell_type": "code",
      "metadata": {
        "id": "AbDoCb7o_TV8"
      },
      "source": [
        "roc_auc = auc(fpr,tpr)"
      ],
      "execution_count": 83,
      "outputs": []
    },
    {
      "cell_type": "code",
      "metadata": {
        "colab": {
          "base_uri": "https://localhost:8080/"
        },
        "id": "ZPvY9vfd97HO",
        "outputId": "891e0453-beb8-4593-e4a0-478416f10bbc"
      },
      "source": [
        "roc"
      ],
      "execution_count": 85,
      "outputs": [
        {
          "output_type": "execute_result",
          "data": {
            "text/plain": [
              "0.900877938261116"
            ]
          },
          "metadata": {
            "tags": []
          },
          "execution_count": 85
        }
      ]
    },
    {
      "cell_type": "code",
      "metadata": {
        "id": "oOhFkzeK970D"
      },
      "source": [
        "fpr, tpr, threshold = roc_curve(y_test1,y_pred)"
      ],
      "execution_count": 82,
      "outputs": []
    },
    {
      "cell_type": "code",
      "metadata": {
        "colab": {
          "base_uri": "https://localhost:8080/"
        },
        "id": "-AHQDoBz-SkL",
        "outputId": "47ab0e13-c332-4ee5-99eb-653b216f8a48"
      },
      "source": [
        "fpr"
      ],
      "execution_count": 86,
      "outputs": [
        {
          "output_type": "execute_result",
          "data": {
            "text/plain": [
              "array([0.        , 0.        , 0.        , 0.00934579, 0.00934579,\n",
              "       0.01869159, 0.01869159, 0.03738318, 0.03738318, 0.04672897,\n",
              "       0.04672897, 0.05607477, 0.05607477, 0.07476636, 0.07476636,\n",
              "       0.08411215, 0.08411215, 0.10280374, 0.10280374, 1.        ])"
            ]
          },
          "metadata": {
            "tags": []
          },
          "execution_count": 86
        }
      ]
    },
    {
      "cell_type": "code",
      "metadata": {
        "colab": {
          "base_uri": "https://localhost:8080/"
        },
        "id": "tDFlWNgA-TuJ",
        "outputId": "e82fb9bd-1f68-4b29-dd62-8d29f833b933"
      },
      "source": [
        "tpr"
      ],
      "execution_count": 87,
      "outputs": [
        {
          "output_type": "execute_result",
          "data": {
            "text/plain": [
              "array([0.        , 0.03030303, 0.6969697 , 0.6969697 , 0.72727273,\n",
              "       0.72727273, 0.78787879, 0.78787879, 0.81818182, 0.81818182,\n",
              "       0.84848485, 0.84848485, 0.90909091, 0.90909091, 0.93939394,\n",
              "       0.93939394, 0.96969697, 0.96969697, 1.        , 1.        ])"
            ]
          },
          "metadata": {
            "tags": []
          },
          "execution_count": 87
        }
      ]
    },
    {
      "cell_type": "code",
      "metadata": {
        "colab": {
          "base_uri": "https://localhost:8080/"
        },
        "id": "3Cs8obaC-Usj",
        "outputId": "8620c94d-99da-483d-cd04-0b7c3929ef13"
      },
      "source": [
        "threshold"
      ],
      "execution_count": 88,
      "outputs": [
        {
          "output_type": "execute_result",
          "data": {
            "text/plain": [
              "array([1.9313979e+00, 9.3139797e-01, 7.5656426e-01, 7.5548249e-01,\n",
              "       7.3294091e-01, 6.9675434e-01, 6.7775655e-01, 6.3447332e-01,\n",
              "       5.5427063e-01, 5.4361624e-01, 5.2728552e-01, 4.8345307e-01,\n",
              "       4.5863208e-01, 3.7381372e-01, 3.7116718e-01, 3.4822485e-01,\n",
              "       3.3830261e-01, 2.9828772e-01, 2.2946712e-01, 1.7829537e-03],\n",
              "      dtype=float32)"
            ]
          },
          "metadata": {
            "tags": []
          },
          "execution_count": 88
        }
      ]
    },
    {
      "cell_type": "code",
      "metadata": {
        "colab": {
          "base_uri": "https://localhost:8080/",
          "height": 295
        },
        "id": "1xJ4wwRv-WAf",
        "outputId": "b09d7afa-c417-46fc-a016-e32c6a1d39d4"
      },
      "source": [
        "plt.title('Receiver Operating Characteristic')\n",
        "plt.plot(fpr, tpr, 'b', label = 'AUC = %0.2f' % roc_auc)\n",
        "plt.legend(loc = 'lower right')\n",
        "plt.plot([0, 1], [0, 1],'r--')\n",
        "plt.xlim([0, 1])\n",
        "plt.ylim([0, 1])\n",
        "plt.ylabel('True Positive Rate')\n",
        "plt.xlabel('False Positive Rate')\n",
        "plt.show()"
      ],
      "execution_count": 89,
      "outputs": [
        {
          "output_type": "display_data",
          "data": {
            "image/png": "[encoded data removed]",
            "text/plain": [
              "<Figure size 432x288 with 1 Axes>"
            ]
          },
          "metadata": {
            "tags": []
          }
        }
      ]
    },
    {
      "cell_type": "code",
      "metadata": {
        "id": "ebVFOKu0-tcm"
      },
      "source": [
        "from sklearn.metrics import plot_roc_curve"
      ],
      "execution_count": null,
      "outputs": []
    },
    {
      "cell_type": "code",
      "metadata": {
        "id": "tD0cyuMF-yWt"
      },
      "source": [
        ""
      ],
      "execution_count": null,
      "outputs": []
    },
    {
      "cell_type": "code",
      "metadata": {
        "id": "QFIqsP4d-2tc"
      },
      "source": [
        ""
      ],
      "execution_count": null,
      "outputs": []
    }
  ]
}