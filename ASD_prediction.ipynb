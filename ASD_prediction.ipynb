{
  "nbformat": 4,
  "nbformat_minor": 0,
  "metadata": {
    "colab": {
      "name": "ASD_prediction.ipynb",
      "provenance": []
    },
    "kernelspec": {
      "name": "python3",
      "display_name": "Python 3"
    },
    "language_info": {
      "name": "python"
    }
  },
  "cells": [
    {
      "cell_type": "code",
      "metadata": {
        "id": "bWNi2syDw_Dn"
      },
      "source": [
        "import tensorflow as tf \n",
        "import pandas as pd\n",
        "import numpy as np\n",
        "import matplotlib.pyplot as plt\n",
        "%matplotlib inline\n",
        "import seaborn as sns\n",
        "from sklearn.preprocessing import LabelEncoder,OneHotEncoder\n",
        "from sklearn.preprocessing import StandardScaler,Normalizer,MinMaxScaler\n",
        "from sklearn.model_selection import train_test_split\n",
        "from tensorflow.keras.models import Sequential\n",
        "from tensorflow.keras.layers import Activation,Dense,BatchNormalization,Dropout\n",
        "from tensorflow.keras import optimizers"
      ],
      "execution_count": null,
      "outputs": []
    },
    {
      "cell_type": "code",
      "metadata": {
        "id": "IYd6pm3yxbq8"
      },
      "source": [
        "df = pd.read_csv(\"/content/dataset (1).csv\")"
      ],
      "execution_count": null,
      "outputs": []
    },
    {
      "cell_type": "code",
      "metadata": {
        "colab": {
          "base_uri": "https://localhost:8080/",
          "height": 309
        },
        "id": "D-Wm4tqCxdVz",
        "outputId": "7b033f72-a1b3-48ea-ac97-d8e917849af8"
      },
      "source": [
        "df.head()"
      ],
      "execution_count": null,
      "outputs": [
        {
          "output_type": "execute_result",
          "data": {
            "text/html": [
              "<div>\n",
              "<style scoped>\n",
              "    .dataframe tbody tr th:only-of-type {\n",
              "        vertical-align: middle;\n",
              "    }\n",
              "\n",
              "    .dataframe tbody tr th {\n",
              "        vertical-align: top;\n",
              "    }\n",
              "\n",
              "    .dataframe thead th {\n",
              "        text-align: right;\n",
              "    }\n",
              "</style>\n",
              "<table border=\"1\" class=\"dataframe\">\n",
              "  <thead>\n",
              "    <tr style=\"text-align: right;\">\n",
              "      <th></th>\n",
              "      <th>A1_Score</th>\n",
              "      <th>A2_Score</th>\n",
              "      <th>A3_Score</th>\n",
              "      <th>A4_Score</th>\n",
              "      <th>A5_Score</th>\n",
              "      <th>A6_Score</th>\n",
              "      <th>A7_Score</th>\n",
              "      <th>A8_Score</th>\n",
              "      <th>A9_Score</th>\n",
              "      <th>A10_Score</th>\n",
              "      <th>age</th>\n",
              "      <th>gender</th>\n",
              "      <th>ethnicity</th>\n",
              "      <th>jaundice</th>\n",
              "      <th>autism</th>\n",
              "      <th>country_of_res</th>\n",
              "      <th>used_app_before</th>\n",
              "      <th>result</th>\n",
              "      <th>age_desc</th>\n",
              "      <th>relation</th>\n",
              "      <th>Class_ASD</th>\n",
              "    </tr>\n",
              "  </thead>\n",
              "  <tbody>\n",
              "    <tr>\n",
              "      <th>0</th>\n",
              "      <td>1</td>\n",
              "      <td>1</td>\n",
              "      <td>1</td>\n",
              "      <td>1</td>\n",
              "      <td>0</td>\n",
              "      <td>0</td>\n",
              "      <td>1</td>\n",
              "      <td>1</td>\n",
              "      <td>0</td>\n",
              "      <td>0</td>\n",
              "      <td>26</td>\n",
              "      <td>f</td>\n",
              "      <td>White-European</td>\n",
              "      <td>no</td>\n",
              "      <td>no</td>\n",
              "      <td>'United States'</td>\n",
              "      <td>no</td>\n",
              "      <td>6</td>\n",
              "      <td>'18 and more'</td>\n",
              "      <td>Self</td>\n",
              "      <td>NO</td>\n",
              "    </tr>\n",
              "    <tr>\n",
              "      <th>1</th>\n",
              "      <td>1</td>\n",
              "      <td>1</td>\n",
              "      <td>0</td>\n",
              "      <td>1</td>\n",
              "      <td>0</td>\n",
              "      <td>0</td>\n",
              "      <td>0</td>\n",
              "      <td>1</td>\n",
              "      <td>0</td>\n",
              "      <td>1</td>\n",
              "      <td>24</td>\n",
              "      <td>m</td>\n",
              "      <td>Latino</td>\n",
              "      <td>no</td>\n",
              "      <td>yes</td>\n",
              "      <td>Brazil</td>\n",
              "      <td>no</td>\n",
              "      <td>5</td>\n",
              "      <td>'18 and more'</td>\n",
              "      <td>Self</td>\n",
              "      <td>NO</td>\n",
              "    </tr>\n",
              "    <tr>\n",
              "      <th>2</th>\n",
              "      <td>1</td>\n",
              "      <td>1</td>\n",
              "      <td>0</td>\n",
              "      <td>1</td>\n",
              "      <td>1</td>\n",
              "      <td>0</td>\n",
              "      <td>1</td>\n",
              "      <td>1</td>\n",
              "      <td>1</td>\n",
              "      <td>1</td>\n",
              "      <td>27</td>\n",
              "      <td>m</td>\n",
              "      <td>Latino</td>\n",
              "      <td>yes</td>\n",
              "      <td>yes</td>\n",
              "      <td>Spain</td>\n",
              "      <td>no</td>\n",
              "      <td>8</td>\n",
              "      <td>'18 and more'</td>\n",
              "      <td>Parent</td>\n",
              "      <td>YES</td>\n",
              "    </tr>\n",
              "    <tr>\n",
              "      <th>3</th>\n",
              "      <td>1</td>\n",
              "      <td>1</td>\n",
              "      <td>0</td>\n",
              "      <td>1</td>\n",
              "      <td>0</td>\n",
              "      <td>0</td>\n",
              "      <td>1</td>\n",
              "      <td>1</td>\n",
              "      <td>0</td>\n",
              "      <td>1</td>\n",
              "      <td>35</td>\n",
              "      <td>f</td>\n",
              "      <td>White-European</td>\n",
              "      <td>no</td>\n",
              "      <td>yes</td>\n",
              "      <td>'United States'</td>\n",
              "      <td>no</td>\n",
              "      <td>6</td>\n",
              "      <td>'18 and more'</td>\n",
              "      <td>Self</td>\n",
              "      <td>NO</td>\n",
              "    </tr>\n",
              "    <tr>\n",
              "      <th>4</th>\n",
              "      <td>1</td>\n",
              "      <td>0</td>\n",
              "      <td>0</td>\n",
              "      <td>0</td>\n",
              "      <td>0</td>\n",
              "      <td>0</td>\n",
              "      <td>0</td>\n",
              "      <td>1</td>\n",
              "      <td>0</td>\n",
              "      <td>0</td>\n",
              "      <td>40</td>\n",
              "      <td>f</td>\n",
              "      <td>?</td>\n",
              "      <td>no</td>\n",
              "      <td>no</td>\n",
              "      <td>Egypt</td>\n",
              "      <td>no</td>\n",
              "      <td>2</td>\n",
              "      <td>'18 and more'</td>\n",
              "      <td>?</td>\n",
              "      <td>NO</td>\n",
              "    </tr>\n",
              "  </tbody>\n",
              "</table>\n",
              "</div>"
            ],
            "text/plain": [
              "   A1_Score  A2_Score  A3_Score  ...       age_desc  relation  Class_ASD\n",
              "0         1         1         1  ...  '18 and more'      Self         NO\n",
              "1         1         1         0  ...  '18 and more'      Self         NO\n",
              "2         1         1         0  ...  '18 and more'    Parent        YES\n",
              "3         1         1         0  ...  '18 and more'      Self         NO\n",
              "4         1         0         0  ...  '18 and more'         ?         NO\n",
              "\n",
              "[5 rows x 21 columns]"
            ]
          },
          "metadata": {
            "tags": []
          },
          "execution_count": 3
        }
      ]
    },
    {
      "cell_type": "code",
      "metadata": {
        "colab": {
          "base_uri": "https://localhost:8080/"
        },
        "id": "gr4c94Rsxefn",
        "outputId": "06205ee9-4c79-4e73-d794-fa98d62ddb01"
      },
      "source": [
        "df.columns"
      ],
      "execution_count": null,
      "outputs": [
        {
          "output_type": "execute_result",
          "data": {
            "text/plain": [
              "Index(['A1_Score', 'A2_Score', 'A3_Score', 'A4_Score', 'A5_Score', 'A6_Score',\n",
              "       'A7_Score', 'A8_Score', 'A9_Score', 'A10_Score', 'age', 'gender',\n",
              "       'ethnicity', 'jaundice', 'autism', 'country_of_res', 'used_app_before',\n",
              "       'result', 'age_desc', 'relation', 'Class_ASD'],\n",
              "      dtype='object')"
            ]
          },
          "metadata": {
            "tags": []
          },
          "execution_count": 4
        }
      ]
    },
    {
      "cell_type": "code",
      "metadata": {
        "colab": {
          "base_uri": "https://localhost:8080/"
        },
        "id": "0YeTD7HAxfxx",
        "outputId": "64ffa993-f796-4037-a86e-b17b564f0a16"
      },
      "source": [
        "df.info()"
      ],
      "execution_count": null,
      "outputs": [
        {
          "output_type": "stream",
          "text": [
            "<class 'pandas.core.frame.DataFrame'>\n",
            "RangeIndex: 704 entries, 0 to 703\n",
            "Data columns (total 21 columns):\n",
            " #   Column           Non-Null Count  Dtype \n",
            "---  ------           --------------  ----- \n",
            " 0   A1_Score         704 non-null    int64 \n",
            " 1   A2_Score         704 non-null    int64 \n",
            " 2   A3_Score         704 non-null    int64 \n",
            " 3   A4_Score         704 non-null    int64 \n",
            " 4   A5_Score         704 non-null    int64 \n",
            " 5   A6_Score         704 non-null    int64 \n",
            " 6   A7_Score         704 non-null    int64 \n",
            " 7   A8_Score         704 non-null    int64 \n",
            " 8   A9_Score         704 non-null    int64 \n",
            " 9   A10_Score        704 non-null    int64 \n",
            " 10  age              704 non-null    object\n",
            " 11  gender           704 non-null    object\n",
            " 12  ethnicity        704 non-null    object\n",
            " 13  jaundice         704 non-null    object\n",
            " 14  autism           704 non-null    object\n",
            " 15  country_of_res   704 non-null    object\n",
            " 16  used_app_before  704 non-null    object\n",
            " 17  result           704 non-null    int64 \n",
            " 18  age_desc         704 non-null    object\n",
            " 19  relation         704 non-null    object\n",
            " 20  Class_ASD        704 non-null    object\n",
            "dtypes: int64(11), object(10)\n",
            "memory usage: 115.6+ KB\n"
          ],
          "name": "stdout"
        }
      ]
    },
    {
      "cell_type": "code",
      "metadata": {
        "id": "Bhiew0pnxhB1"
      },
      "source": [
        "categorical_columns = df.select_dtypes(include='O').columns.tolist()"
      ],
      "execution_count": null,
      "outputs": []
    },
    {
      "cell_type": "code",
      "metadata": {
        "colab": {
          "base_uri": "https://localhost:8080/"
        },
        "id": "vOLpNblqxi-n",
        "outputId": "fc7b954b-ff64-4f06-938f-705dbb78c1ba"
      },
      "source": [
        "categorical_columns"
      ],
      "execution_count": null,
      "outputs": [
        {
          "output_type": "execute_result",
          "data": {
            "text/plain": [
              "['age',\n",
              " 'gender',\n",
              " 'ethnicity',\n",
              " 'jaundice',\n",
              " 'autism',\n",
              " 'country_of_res',\n",
              " 'used_app_before',\n",
              " 'age_desc',\n",
              " 'relation',\n",
              " 'Class_ASD']"
            ]
          },
          "metadata": {
            "tags": []
          },
          "execution_count": 7
        }
      ]
    },
    {
      "cell_type": "code",
      "metadata": {
        "colab": {
          "base_uri": "https://localhost:8080/"
        },
        "id": "YfSevKl2xkPa",
        "outputId": "9d6bf4f6-fd50-46f1-8b52-347a9669579e"
      },
      "source": [
        "for i in categorical_columns:\n",
        "    print(\"unique values in-\"+ i,df[i].unique())"
      ],
      "execution_count": null,
      "outputs": [
        {
          "output_type": "stream",
          "text": [
            "unique values in-age ['26' '24' '27' '35' '40' '36' '64' '29' '17' '33' '18' '31' '43' '37'\n",
            " '55' '34' '53' '20' '30' '21' '383' '47' '28' '32' '44' '19' '45' '42'\n",
            " '22' '39' '25' '38' '23' '54' '60' '50' '41' '46' '56' '58' '61' '59'\n",
            " '52' '48' '51' '49' '?']\n",
            "unique values in-gender ['f' 'm']\n",
            "unique values in-ethnicity ['White-European' 'Latino' '?' 'Others' 'Asian' \"'Middle Eastern '\"\n",
            " 'Pasifika' 'Black' \"'South Asian'\" 'Hispanic' 'Turkish' 'others']\n",
            "unique values in-jaundice ['no' 'yes']\n",
            "unique values in-autism ['no' 'yes']\n",
            "unique values in-country_of_res [\"'United States'\" 'Brazil' 'Spain' 'Egypt' \"'New Zealand'\" 'Bahamas'\n",
            " 'Austria' 'Argentina' 'Jordan' 'Lebanon' \"'South Africa'\" 'Italy'\n",
            " 'Bangladesh' 'Chile' 'France' 'China' 'Australia' 'Canada'\n",
            " \"'Saudi Arabia'\" 'Netherlands' 'Afghanistan' \"'United Kingdom'\" 'Romania'\n",
            " 'Sweden' 'Tonga' 'Philippines' 'India' \"'Sri Lanka'\"\n",
            " \"'United Arab Emirates'\" \"'Sierra Leone'\" 'Ireland' 'Ethiopia' 'Iran'\n",
            " \"'Viet Nam'\" \"'Costa Rica'\" 'Germany' 'Armenia' 'Iceland' 'Russia'\n",
            " 'AmericanSamoa' 'Kazakhstan' 'Uruguay' 'Ukraine' 'Serbia' 'Portugal'\n",
            " 'Malaysia' 'Ecuador' 'Mexico' 'Bolivia' 'Finland' 'Nepal' 'Indonesia'\n",
            " 'Angola' 'Pakistan' \"'Czech Republic'\" 'Belgium' 'Cyprus' 'Burundi'\n",
            " 'Oman' 'Nicaragua' \"'Hong Kong'\" 'Japan' 'Niger' 'Aruba' 'Turkey'\n",
            " 'Azerbaijan' 'Iraq']\n",
            "unique values in-used_app_before ['no' 'yes']\n",
            "unique values in-age_desc [\"'18 and more'\"]\n",
            "unique values in-relation ['Self' 'Parent' '?' \"'Health care professional'\" 'Relative' 'Others']\n",
            "unique values in-Class_ASD ['NO' 'YES' 'YES}']\n"
          ],
          "name": "stdout"
        }
      ]
    },
    {
      "cell_type": "code",
      "metadata": {
        "colab": {
          "base_uri": "https://localhost:8080/",
          "height": 700
        },
        "id": "DgHjmZULxlle",
        "outputId": "3841795f-2056-4de8-838d-35ccb53d7122"
      },
      "source": [
        "df[df[\"age\"]==\"?\"].T"
      ],
      "execution_count": null,
      "outputs": [
        {
          "output_type": "execute_result",
          "data": {
            "text/html": [
              "<div>\n",
              "<style scoped>\n",
              "    .dataframe tbody tr th:only-of-type {\n",
              "        vertical-align: middle;\n",
              "    }\n",
              "\n",
              "    .dataframe tbody tr th {\n",
              "        vertical-align: top;\n",
              "    }\n",
              "\n",
              "    .dataframe thead th {\n",
              "        text-align: right;\n",
              "    }\n",
              "</style>\n",
              "<table border=\"1\" class=\"dataframe\">\n",
              "  <thead>\n",
              "    <tr style=\"text-align: right;\">\n",
              "      <th></th>\n",
              "      <th>531</th>\n",
              "      <th>538</th>\n",
              "    </tr>\n",
              "  </thead>\n",
              "  <tbody>\n",
              "    <tr>\n",
              "      <th>A1_Score</th>\n",
              "      <td>0</td>\n",
              "      <td>0</td>\n",
              "    </tr>\n",
              "    <tr>\n",
              "      <th>A2_Score</th>\n",
              "      <td>0</td>\n",
              "      <td>1</td>\n",
              "    </tr>\n",
              "    <tr>\n",
              "      <th>A3_Score</th>\n",
              "      <td>0</td>\n",
              "      <td>0</td>\n",
              "    </tr>\n",
              "    <tr>\n",
              "      <th>A4_Score</th>\n",
              "      <td>0</td>\n",
              "      <td>0</td>\n",
              "    </tr>\n",
              "    <tr>\n",
              "      <th>A5_Score</th>\n",
              "      <td>0</td>\n",
              "      <td>1</td>\n",
              "    </tr>\n",
              "    <tr>\n",
              "      <th>A6_Score</th>\n",
              "      <td>0</td>\n",
              "      <td>0</td>\n",
              "    </tr>\n",
              "    <tr>\n",
              "      <th>A7_Score</th>\n",
              "      <td>0</td>\n",
              "      <td>1</td>\n",
              "    </tr>\n",
              "    <tr>\n",
              "      <th>A8_Score</th>\n",
              "      <td>0</td>\n",
              "      <td>0</td>\n",
              "    </tr>\n",
              "    <tr>\n",
              "      <th>A9_Score</th>\n",
              "      <td>0</td>\n",
              "      <td>0</td>\n",
              "    </tr>\n",
              "    <tr>\n",
              "      <th>A10_Score</th>\n",
              "      <td>0</td>\n",
              "      <td>1</td>\n",
              "    </tr>\n",
              "    <tr>\n",
              "      <th>age</th>\n",
              "      <td>?</td>\n",
              "      <td>?</td>\n",
              "    </tr>\n",
              "    <tr>\n",
              "      <th>gender</th>\n",
              "      <td>m</td>\n",
              "      <td>f</td>\n",
              "    </tr>\n",
              "    <tr>\n",
              "      <th>ethnicity</th>\n",
              "      <td>?</td>\n",
              "      <td>?</td>\n",
              "    </tr>\n",
              "    <tr>\n",
              "      <th>jaundice</th>\n",
              "      <td>no</td>\n",
              "      <td>no</td>\n",
              "    </tr>\n",
              "    <tr>\n",
              "      <th>autism</th>\n",
              "      <td>no</td>\n",
              "      <td>no</td>\n",
              "    </tr>\n",
              "    <tr>\n",
              "      <th>country_of_res</th>\n",
              "      <td>'Saudi Arabia'</td>\n",
              "      <td>Jordan</td>\n",
              "    </tr>\n",
              "    <tr>\n",
              "      <th>used_app_before</th>\n",
              "      <td>no</td>\n",
              "      <td>no</td>\n",
              "    </tr>\n",
              "    <tr>\n",
              "      <th>result</th>\n",
              "      <td>0</td>\n",
              "      <td>4</td>\n",
              "    </tr>\n",
              "    <tr>\n",
              "      <th>age_desc</th>\n",
              "      <td>'18 and more'</td>\n",
              "      <td>'18 and more'</td>\n",
              "    </tr>\n",
              "    <tr>\n",
              "      <th>relation</th>\n",
              "      <td>?</td>\n",
              "      <td>?</td>\n",
              "    </tr>\n",
              "    <tr>\n",
              "      <th>Class_ASD</th>\n",
              "      <td>NO</td>\n",
              "      <td>NO</td>\n",
              "    </tr>\n",
              "  </tbody>\n",
              "</table>\n",
              "</div>"
            ],
            "text/plain": [
              "                            531            538\n",
              "A1_Score                      0              0\n",
              "A2_Score                      0              1\n",
              "A3_Score                      0              0\n",
              "A4_Score                      0              0\n",
              "A5_Score                      0              1\n",
              "A6_Score                      0              0\n",
              "A7_Score                      0              1\n",
              "A8_Score                      0              0\n",
              "A9_Score                      0              0\n",
              "A10_Score                     0              1\n",
              "age                           ?              ?\n",
              "gender                        m              f\n",
              "ethnicity                     ?              ?\n",
              "jaundice                     no             no\n",
              "autism                       no             no\n",
              "country_of_res   'Saudi Arabia'         Jordan\n",
              "used_app_before              no             no\n",
              "result                        0              4\n",
              "age_desc          '18 and more'  '18 and more'\n",
              "relation                      ?              ?\n",
              "Class_ASD                    NO             NO"
            ]
          },
          "metadata": {
            "tags": []
          },
          "execution_count": 9
        }
      ]
    },
    {
      "cell_type": "code",
      "metadata": {
        "id": "BdNVAr9sxnDF"
      },
      "source": [
        ""
      ],
      "execution_count": null,
      "outputs": []
    },
    {
      "cell_type": "markdown",
      "metadata": {
        "id": "DXaqW3nTxr2j"
      },
      "source": [
        "### Row 531 indicates that none of the question were answered and classified as NON AUTISTIC..why???"
      ]
    },
    {
      "cell_type": "code",
      "metadata": {
        "id": "ZtQEEyEjxvu4"
      },
      "source": [
        "df1 = df.copy()"
      ],
      "execution_count": null,
      "outputs": []
    },
    {
      "cell_type": "code",
      "metadata": {
        "id": "ly8rehYExxf_"
      },
      "source": [
        "df1.drop([531,538],0,inplace=True)"
      ],
      "execution_count": null,
      "outputs": []
    },
    {
      "cell_type": "code",
      "metadata": {
        "colab": {
          "base_uri": "https://localhost:8080/",
          "height": 609
        },
        "id": "1Q9rQYumxyKL",
        "outputId": "06386cf0-376c-4287-9c97-6205f5786002"
      },
      "source": [
        "df1.reset_index(drop=True)"
      ],
      "execution_count": null,
      "outputs": [
        {
          "output_type": "execute_result",
          "data": {
            "text/html": [
              "<div>\n",
              "<style scoped>\n",
              "    .dataframe tbody tr th:only-of-type {\n",
              "        vertical-align: middle;\n",
              "    }\n",
              "\n",
              "    .dataframe tbody tr th {\n",
              "        vertical-align: top;\n",
              "    }\n",
              "\n",
              "    .dataframe thead th {\n",
              "        text-align: right;\n",
              "    }\n",
              "</style>\n",
              "<table border=\"1\" class=\"dataframe\">\n",
              "  <thead>\n",
              "    <tr style=\"text-align: right;\">\n",
              "      <th></th>\n",
              "      <th>A1_Score</th>\n",
              "      <th>A2_Score</th>\n",
              "      <th>A3_Score</th>\n",
              "      <th>A4_Score</th>\n",
              "      <th>A5_Score</th>\n",
              "      <th>A6_Score</th>\n",
              "      <th>A7_Score</th>\n",
              "      <th>A8_Score</th>\n",
              "      <th>A9_Score</th>\n",
              "      <th>A10_Score</th>\n",
              "      <th>age</th>\n",
              "      <th>gender</th>\n",
              "      <th>ethnicity</th>\n",
              "      <th>jaundice</th>\n",
              "      <th>autism</th>\n",
              "      <th>country_of_res</th>\n",
              "      <th>used_app_before</th>\n",
              "      <th>result</th>\n",
              "      <th>age_desc</th>\n",
              "      <th>relation</th>\n",
              "      <th>Class_ASD</th>\n",
              "    </tr>\n",
              "  </thead>\n",
              "  <tbody>\n",
              "    <tr>\n",
              "      <th>0</th>\n",
              "      <td>1</td>\n",
              "      <td>1</td>\n",
              "      <td>1</td>\n",
              "      <td>1</td>\n",
              "      <td>0</td>\n",
              "      <td>0</td>\n",
              "      <td>1</td>\n",
              "      <td>1</td>\n",
              "      <td>0</td>\n",
              "      <td>0</td>\n",
              "      <td>26</td>\n",
              "      <td>f</td>\n",
              "      <td>White-European</td>\n",
              "      <td>no</td>\n",
              "      <td>no</td>\n",
              "      <td>'United States'</td>\n",
              "      <td>no</td>\n",
              "      <td>6</td>\n",
              "      <td>'18 and more'</td>\n",
              "      <td>Self</td>\n",
              "      <td>NO</td>\n",
              "    </tr>\n",
              "    <tr>\n",
              "      <th>1</th>\n",
              "      <td>1</td>\n",
              "      <td>1</td>\n",
              "      <td>0</td>\n",
              "      <td>1</td>\n",
              "      <td>0</td>\n",
              "      <td>0</td>\n",
              "      <td>0</td>\n",
              "      <td>1</td>\n",
              "      <td>0</td>\n",
              "      <td>1</td>\n",
              "      <td>24</td>\n",
              "      <td>m</td>\n",
              "      <td>Latino</td>\n",
              "      <td>no</td>\n",
              "      <td>yes</td>\n",
              "      <td>Brazil</td>\n",
              "      <td>no</td>\n",
              "      <td>5</td>\n",
              "      <td>'18 and more'</td>\n",
              "      <td>Self</td>\n",
              "      <td>NO</td>\n",
              "    </tr>\n",
              "    <tr>\n",
              "      <th>2</th>\n",
              "      <td>1</td>\n",
              "      <td>1</td>\n",
              "      <td>0</td>\n",
              "      <td>1</td>\n",
              "      <td>1</td>\n",
              "      <td>0</td>\n",
              "      <td>1</td>\n",
              "      <td>1</td>\n",
              "      <td>1</td>\n",
              "      <td>1</td>\n",
              "      <td>27</td>\n",
              "      <td>m</td>\n",
              "      <td>Latino</td>\n",
              "      <td>yes</td>\n",
              "      <td>yes</td>\n",
              "      <td>Spain</td>\n",
              "      <td>no</td>\n",
              "      <td>8</td>\n",
              "      <td>'18 and more'</td>\n",
              "      <td>Parent</td>\n",
              "      <td>YES</td>\n",
              "    </tr>\n",
              "    <tr>\n",
              "      <th>3</th>\n",
              "      <td>1</td>\n",
              "      <td>1</td>\n",
              "      <td>0</td>\n",
              "      <td>1</td>\n",
              "      <td>0</td>\n",
              "      <td>0</td>\n",
              "      <td>1</td>\n",
              "      <td>1</td>\n",
              "      <td>0</td>\n",
              "      <td>1</td>\n",
              "      <td>35</td>\n",
              "      <td>f</td>\n",
              "      <td>White-European</td>\n",
              "      <td>no</td>\n",
              "      <td>yes</td>\n",
              "      <td>'United States'</td>\n",
              "      <td>no</td>\n",
              "      <td>6</td>\n",
              "      <td>'18 and more'</td>\n",
              "      <td>Self</td>\n",
              "      <td>NO</td>\n",
              "    </tr>\n",
              "    <tr>\n",
              "      <th>4</th>\n",
              "      <td>1</td>\n",
              "      <td>0</td>\n",
              "      <td>0</td>\n",
              "      <td>0</td>\n",
              "      <td>0</td>\n",
              "      <td>0</td>\n",
              "      <td>0</td>\n",
              "      <td>1</td>\n",
              "      <td>0</td>\n",
              "      <td>0</td>\n",
              "      <td>40</td>\n",
              "      <td>f</td>\n",
              "      <td>?</td>\n",
              "      <td>no</td>\n",
              "      <td>no</td>\n",
              "      <td>Egypt</td>\n",
              "      <td>no</td>\n",
              "      <td>2</td>\n",
              "      <td>'18 and more'</td>\n",
              "      <td>?</td>\n",
              "      <td>NO</td>\n",
              "    </tr>\n",
              "    <tr>\n",
              "      <th>...</th>\n",
              "      <td>...</td>\n",
              "      <td>...</td>\n",
              "      <td>...</td>\n",
              "      <td>...</td>\n",
              "      <td>...</td>\n",
              "      <td>...</td>\n",
              "      <td>...</td>\n",
              "      <td>...</td>\n",
              "      <td>...</td>\n",
              "      <td>...</td>\n",
              "      <td>...</td>\n",
              "      <td>...</td>\n",
              "      <td>...</td>\n",
              "      <td>...</td>\n",
              "      <td>...</td>\n",
              "      <td>...</td>\n",
              "      <td>...</td>\n",
              "      <td>...</td>\n",
              "      <td>...</td>\n",
              "      <td>...</td>\n",
              "      <td>...</td>\n",
              "    </tr>\n",
              "    <tr>\n",
              "      <th>697</th>\n",
              "      <td>0</td>\n",
              "      <td>0</td>\n",
              "      <td>0</td>\n",
              "      <td>0</td>\n",
              "      <td>0</td>\n",
              "      <td>0</td>\n",
              "      <td>1</td>\n",
              "      <td>1</td>\n",
              "      <td>0</td>\n",
              "      <td>1</td>\n",
              "      <td>17</td>\n",
              "      <td>m</td>\n",
              "      <td>White-European</td>\n",
              "      <td>no</td>\n",
              "      <td>no</td>\n",
              "      <td>Canada</td>\n",
              "      <td>no</td>\n",
              "      <td>3</td>\n",
              "      <td>'18 and more'</td>\n",
              "      <td>Self</td>\n",
              "      <td>NO</td>\n",
              "    </tr>\n",
              "    <tr>\n",
              "      <th>698</th>\n",
              "      <td>0</td>\n",
              "      <td>0</td>\n",
              "      <td>0</td>\n",
              "      <td>0</td>\n",
              "      <td>0</td>\n",
              "      <td>0</td>\n",
              "      <td>0</td>\n",
              "      <td>1</td>\n",
              "      <td>0</td>\n",
              "      <td>0</td>\n",
              "      <td>56</td>\n",
              "      <td>m</td>\n",
              "      <td>?</td>\n",
              "      <td>no</td>\n",
              "      <td>no</td>\n",
              "      <td>Iraq</td>\n",
              "      <td>no</td>\n",
              "      <td>1</td>\n",
              "      <td>'18 and more'</td>\n",
              "      <td>?</td>\n",
              "      <td>NO</td>\n",
              "    </tr>\n",
              "    <tr>\n",
              "      <th>699</th>\n",
              "      <td>0</td>\n",
              "      <td>0</td>\n",
              "      <td>1</td>\n",
              "      <td>0</td>\n",
              "      <td>0</td>\n",
              "      <td>0</td>\n",
              "      <td>1</td>\n",
              "      <td>1</td>\n",
              "      <td>0</td>\n",
              "      <td>0</td>\n",
              "      <td>50</td>\n",
              "      <td>f</td>\n",
              "      <td>'Middle Eastern '</td>\n",
              "      <td>no</td>\n",
              "      <td>no</td>\n",
              "      <td>'New Zealand'</td>\n",
              "      <td>no</td>\n",
              "      <td>3</td>\n",
              "      <td>'18 and more'</td>\n",
              "      <td>Parent</td>\n",
              "      <td>NO</td>\n",
              "    </tr>\n",
              "    <tr>\n",
              "      <th>700</th>\n",
              "      <td>0</td>\n",
              "      <td>0</td>\n",
              "      <td>0</td>\n",
              "      <td>0</td>\n",
              "      <td>1</td>\n",
              "      <td>0</td>\n",
              "      <td>0</td>\n",
              "      <td>0</td>\n",
              "      <td>0</td>\n",
              "      <td>0</td>\n",
              "      <td>31</td>\n",
              "      <td>f</td>\n",
              "      <td>Asian</td>\n",
              "      <td>yes</td>\n",
              "      <td>no</td>\n",
              "      <td>India</td>\n",
              "      <td>no</td>\n",
              "      <td>1</td>\n",
              "      <td>'18 and more'</td>\n",
              "      <td>Self</td>\n",
              "      <td>NO</td>\n",
              "    </tr>\n",
              "    <tr>\n",
              "      <th>701</th>\n",
              "      <td>0</td>\n",
              "      <td>1</td>\n",
              "      <td>0</td>\n",
              "      <td>1</td>\n",
              "      <td>1</td>\n",
              "      <td>0</td>\n",
              "      <td>1</td>\n",
              "      <td>1</td>\n",
              "      <td>1</td>\n",
              "      <td>1</td>\n",
              "      <td>25</td>\n",
              "      <td>f</td>\n",
              "      <td>White-European</td>\n",
              "      <td>no</td>\n",
              "      <td>no</td>\n",
              "      <td>Russia</td>\n",
              "      <td>no</td>\n",
              "      <td>7</td>\n",
              "      <td>'18 and more'</td>\n",
              "      <td>Self</td>\n",
              "      <td>YES</td>\n",
              "    </tr>\n",
              "  </tbody>\n",
              "</table>\n",
              "<p>702 rows × 21 columns</p>\n",
              "</div>"
            ],
            "text/plain": [
              "     A1_Score  A2_Score  A3_Score  ...       age_desc  relation  Class_ASD\n",
              "0           1         1         1  ...  '18 and more'      Self         NO\n",
              "1           1         1         0  ...  '18 and more'      Self         NO\n",
              "2           1         1         0  ...  '18 and more'    Parent        YES\n",
              "3           1         1         0  ...  '18 and more'      Self         NO\n",
              "4           1         0         0  ...  '18 and more'         ?         NO\n",
              "..        ...       ...       ...  ...            ...       ...        ...\n",
              "697         0         0         0  ...  '18 and more'      Self         NO\n",
              "698         0         0         0  ...  '18 and more'         ?         NO\n",
              "699         0         0         1  ...  '18 and more'    Parent         NO\n",
              "700         0         0         0  ...  '18 and more'      Self         NO\n",
              "701         0         1         0  ...  '18 and more'      Self        YES\n",
              "\n",
              "[702 rows x 21 columns]"
            ]
          },
          "metadata": {
            "tags": []
          },
          "execution_count": 12
        }
      ]
    },
    {
      "cell_type": "code",
      "metadata": {
        "id": "VmhiQuKnxyMS"
      },
      "source": [
        "df1[\"age\"] = pd.to_numeric(df1[\"age\"])"
      ],
      "execution_count": null,
      "outputs": []
    },
    {
      "cell_type": "code",
      "metadata": {
        "colab": {
          "base_uri": "https://localhost:8080/",
          "height": 700
        },
        "id": "b8mg9rDuxyPY",
        "outputId": "517960ff-f16b-49eb-fc8d-6e807dd09e2b"
      },
      "source": [
        "df1[df1[\"age\"]>80].T"
      ],
      "execution_count": null,
      "outputs": [
        {
          "output_type": "execute_result",
          "data": {
            "text/html": [
              "<div>\n",
              "<style scoped>\n",
              "    .dataframe tbody tr th:only-of-type {\n",
              "        vertical-align: middle;\n",
              "    }\n",
              "\n",
              "    .dataframe tbody tr th {\n",
              "        vertical-align: top;\n",
              "    }\n",
              "\n",
              "    .dataframe thead th {\n",
              "        text-align: right;\n",
              "    }\n",
              "</style>\n",
              "<table border=\"1\" class=\"dataframe\">\n",
              "  <thead>\n",
              "    <tr style=\"text-align: right;\">\n",
              "      <th></th>\n",
              "      <th>29</th>\n",
              "    </tr>\n",
              "  </thead>\n",
              "  <tbody>\n",
              "    <tr>\n",
              "      <th>A1_Score</th>\n",
              "      <td>1</td>\n",
              "    </tr>\n",
              "    <tr>\n",
              "      <th>A2_Score</th>\n",
              "      <td>0</td>\n",
              "    </tr>\n",
              "    <tr>\n",
              "      <th>A3_Score</th>\n",
              "      <td>0</td>\n",
              "    </tr>\n",
              "    <tr>\n",
              "      <th>A4_Score</th>\n",
              "      <td>0</td>\n",
              "    </tr>\n",
              "    <tr>\n",
              "      <th>A5_Score</th>\n",
              "      <td>0</td>\n",
              "    </tr>\n",
              "    <tr>\n",
              "      <th>A6_Score</th>\n",
              "      <td>0</td>\n",
              "    </tr>\n",
              "    <tr>\n",
              "      <th>A7_Score</th>\n",
              "      <td>0</td>\n",
              "    </tr>\n",
              "    <tr>\n",
              "      <th>A8_Score</th>\n",
              "      <td>0</td>\n",
              "    </tr>\n",
              "    <tr>\n",
              "      <th>A9_Score</th>\n",
              "      <td>0</td>\n",
              "    </tr>\n",
              "    <tr>\n",
              "      <th>A10_Score</th>\n",
              "      <td>0</td>\n",
              "    </tr>\n",
              "    <tr>\n",
              "      <th>age</th>\n",
              "      <td>383</td>\n",
              "    </tr>\n",
              "    <tr>\n",
              "      <th>gender</th>\n",
              "      <td>f</td>\n",
              "    </tr>\n",
              "    <tr>\n",
              "      <th>ethnicity</th>\n",
              "      <td>Pasifika</td>\n",
              "    </tr>\n",
              "    <tr>\n",
              "      <th>jaundice</th>\n",
              "      <td>no</td>\n",
              "    </tr>\n",
              "    <tr>\n",
              "      <th>autism</th>\n",
              "      <td>no</td>\n",
              "    </tr>\n",
              "    <tr>\n",
              "      <th>country_of_res</th>\n",
              "      <td>'New Zealand'</td>\n",
              "    </tr>\n",
              "    <tr>\n",
              "      <th>used_app_before</th>\n",
              "      <td>no</td>\n",
              "    </tr>\n",
              "    <tr>\n",
              "      <th>result</th>\n",
              "      <td>1</td>\n",
              "    </tr>\n",
              "    <tr>\n",
              "      <th>age_desc</th>\n",
              "      <td>'18 and more'</td>\n",
              "    </tr>\n",
              "    <tr>\n",
              "      <th>relation</th>\n",
              "      <td>Self</td>\n",
              "    </tr>\n",
              "    <tr>\n",
              "      <th>Class_ASD</th>\n",
              "      <td>NO</td>\n",
              "    </tr>\n",
              "  </tbody>\n",
              "</table>\n",
              "</div>"
            ],
            "text/plain": [
              "                            29\n",
              "A1_Score                     1\n",
              "A2_Score                     0\n",
              "A3_Score                     0\n",
              "A4_Score                     0\n",
              "A5_Score                     0\n",
              "A6_Score                     0\n",
              "A7_Score                     0\n",
              "A8_Score                     0\n",
              "A9_Score                     0\n",
              "A10_Score                    0\n",
              "age                        383\n",
              "gender                       f\n",
              "ethnicity             Pasifika\n",
              "jaundice                    no\n",
              "autism                      no\n",
              "country_of_res   'New Zealand'\n",
              "used_app_before             no\n",
              "result                       1\n",
              "age_desc         '18 and more'\n",
              "relation                  Self\n",
              "Class_ASD                   NO"
            ]
          },
          "metadata": {
            "tags": []
          },
          "execution_count": 14
        }
      ]
    },
    {
      "cell_type": "code",
      "metadata": {
        "id": "5EbgkgnlxyRM"
      },
      "source": [
        "### Row 29 has also been classified as NON AUTISTIC but only 1 question has been answered...why? and age is and outlier(Should be removed or changed???)"
      ],
      "execution_count": null,
      "outputs": []
    },
    {
      "cell_type": "code",
      "metadata": {
        "colab": {
          "base_uri": "https://localhost:8080/",
          "height": 269
        },
        "id": "z_wbvFL1x8WW",
        "outputId": "65587012-be8f-4e0d-ad15-1d7f2c998e82"
      },
      "source": [
        "df1.boxplot(column=[\"age\"])\n",
        "plt.show()"
      ],
      "execution_count": null,
      "outputs": [
        {
          "output_type": "display_data",
          "data": {
            "image/png": "[encoded data removed]",
            "text/plain": [
              "<Figure size 432x288 with 1 Axes>"
            ]
          },
          "metadata": {
            "tags": [],
            "needs_background": "light"
          }
        }
      ]
    },
    {
      "cell_type": "code",
      "metadata": {
        "id": "GOi5m_5NyAsz"
      },
      "source": [
        "df1.drop([29],0,inplace=True)"
      ],
      "execution_count": null,
      "outputs": []
    },
    {
      "cell_type": "code",
      "metadata": {
        "colab": {
          "base_uri": "https://localhost:8080/"
        },
        "id": "ttK_9HszyB7f",
        "outputId": "0c4621e0-4955-4790-e854-54445cae8960"
      },
      "source": [
        "df1.shape"
      ],
      "execution_count": null,
      "outputs": [
        {
          "output_type": "execute_result",
          "data": {
            "text/plain": [
              "(701, 21)"
            ]
          },
          "metadata": {
            "tags": []
          },
          "execution_count": 18
        }
      ]
    },
    {
      "cell_type": "code",
      "metadata": {
        "colab": {
          "base_uri": "https://localhost:8080/",
          "height": 265
        },
        "id": "854sxJULyDAn",
        "outputId": "bac93da2-0817-4b31-df3d-0606ea422494"
      },
      "source": [
        "df1.boxplot(column=[\"age\"])\n",
        "plt.show()"
      ],
      "execution_count": null,
      "outputs": [
        {
          "output_type": "display_data",
          "data": {
            "image/png": "[encoded data removed]",
            "text/plain": [
              "<Figure size 432x288 with 1 Axes>"
            ]
          },
          "metadata": {
            "tags": [],
            "needs_background": "light"
          }
        }
      ]
    },
    {
      "cell_type": "code",
      "metadata": {
        "colab": {
          "base_uri": "https://localhost:8080/",
          "height": 282
        },
        "id": "-QHSSHqxyELD",
        "outputId": "efb5ffc2-086c-4e24-de00-709a7df6fbe6"
      },
      "source": [
        "df1.age.hist()"
      ],
      "execution_count": null,
      "outputs": [
        {
          "output_type": "execute_result",
          "data": {
            "text/plain": [
              "<matplotlib.axes._subplots.AxesSubplot at 0x7fd279099b10>"
            ]
          },
          "metadata": {
            "tags": []
          },
          "execution_count": 20
        },
        {
          "output_type": "display_data",
          "data": {
            "image/png": "[encoded data removed]",
            "text/plain": [
              "<Figure size 432x288 with 1 Axes>"
            ]
          },
          "metadata": {
            "tags": [],
            "needs_background": "light"
          }
        }
      ]
    },
    {
      "cell_type": "markdown",
      "metadata": {
        "id": "DaQwzUJPyHse"
      },
      "source": [
        "## The age colum distribution doest look like a normal distribution"
      ]
    },
    {
      "cell_type": "code",
      "metadata": {
        "colab": {
          "base_uri": "https://localhost:8080/"
        },
        "id": "H6JdUi8AyGT9",
        "outputId": "cbe355f7-0ef2-40da-8b7c-3afbce28fa58"
      },
      "source": [
        "df1[\"Class_ASD\"].value_counts()"
      ],
      "execution_count": null,
      "outputs": [
        {
          "output_type": "execute_result",
          "data": {
            "text/plain": [
              "NO      512\n",
              "YES     188\n",
              "YES}      1\n",
              "Name: Class_ASD, dtype: int64"
            ]
          },
          "metadata": {
            "tags": []
          },
          "execution_count": 21
        }
      ]
    },
    {
      "cell_type": "code",
      "metadata": {
        "id": "ehqQ6Y_FyO1v"
      },
      "source": [
        "df1.replace(\"}\",\"\",regex=True,inplace=True)"
      ],
      "execution_count": null,
      "outputs": []
    },
    {
      "cell_type": "code",
      "metadata": {
        "colab": {
          "base_uri": "https://localhost:8080/"
        },
        "id": "BBX8510ZyP-e",
        "outputId": "b5da4584-42d6-44af-af46-d278df06a07c"
      },
      "source": [
        "df1[\"Class_ASD\"].value_counts()"
      ],
      "execution_count": null,
      "outputs": [
        {
          "output_type": "execute_result",
          "data": {
            "text/plain": [
              "NO     512\n",
              "YES    189\n",
              "Name: Class_ASD, dtype: int64"
            ]
          },
          "metadata": {
            "tags": []
          },
          "execution_count": 23
        }
      ]
    },
    {
      "cell_type": "code",
      "metadata": {
        "colab": {
          "base_uri": "https://localhost:8080/"
        },
        "id": "OgL7hQeAyRG1",
        "outputId": "2bd8470f-b452-4389-c139-1ac4113d585b"
      },
      "source": [
        "ques_df = df1.iloc[:,0:10]\n",
        "ques_df"
      ],
      "execution_count": null,
      "outputs": [
        {
          "output_type": "execute_result",
          "data": {
            "text/html": [
              "<div>\n",
              "<style scoped>\n",
              "    .dataframe tbody tr th:only-of-type {\n",
              "        vertical-align: middle;\n",
              "    }\n",
              "\n",
              "    .dataframe tbody tr th {\n",
              "        vertical-align: top;\n",
              "    }\n",
              "\n",
              "    .dataframe thead th {\n",
              "        text-align: right;\n",
              "    }\n",
              "</style>\n",
              "<table border=\"1\" class=\"dataframe\">\n",
              "  <thead>\n",
              "    <tr style=\"text-align: right;\">\n",
              "      <th></th>\n",
              "      <th>A1_Score</th>\n",
              "      <th>A2_Score</th>\n",
              "      <th>A3_Score</th>\n",
              "      <th>A4_Score</th>\n",
              "      <th>A5_Score</th>\n",
              "      <th>A6_Score</th>\n",
              "      <th>A7_Score</th>\n",
              "      <th>A8_Score</th>\n",
              "      <th>A9_Score</th>\n",
              "      <th>A10_Score</th>\n",
              "    </tr>\n",
              "  </thead>\n",
              "  <tbody>\n",
              "    <tr>\n",
              "      <th>0</th>\n",
              "      <td>1</td>\n",
              "      <td>1</td>\n",
              "      <td>1</td>\n",
              "      <td>1</td>\n",
              "      <td>0</td>\n",
              "      <td>0</td>\n",
              "      <td>1</td>\n",
              "      <td>1</td>\n",
              "      <td>0</td>\n",
              "      <td>0</td>\n",
              "    </tr>\n",
              "    <tr>\n",
              "      <th>1</th>\n",
              "      <td>1</td>\n",
              "      <td>1</td>\n",
              "      <td>0</td>\n",
              "      <td>1</td>\n",
              "      <td>0</td>\n",
              "      <td>0</td>\n",
              "      <td>0</td>\n",
              "      <td>1</td>\n",
              "      <td>0</td>\n",
              "      <td>1</td>\n",
              "    </tr>\n",
              "    <tr>\n",
              "      <th>2</th>\n",
              "      <td>1</td>\n",
              "      <td>1</td>\n",
              "      <td>0</td>\n",
              "      <td>1</td>\n",
              "      <td>1</td>\n",
              "      <td>0</td>\n",
              "      <td>1</td>\n",
              "      <td>1</td>\n",
              "      <td>1</td>\n",
              "      <td>1</td>\n",
              "    </tr>\n",
              "    <tr>\n",
              "      <th>3</th>\n",
              "      <td>1</td>\n",
              "      <td>1</td>\n",
              "      <td>0</td>\n",
              "      <td>1</td>\n",
              "      <td>0</td>\n",
              "      <td>0</td>\n",
              "      <td>1</td>\n",
              "      <td>1</td>\n",
              "      <td>0</td>\n",
              "      <td>1</td>\n",
              "    </tr>\n",
              "    <tr>\n",
              "      <th>4</th>\n",
              "      <td>1</td>\n",
              "      <td>0</td>\n",
              "      <td>0</td>\n",
              "      <td>0</td>\n",
              "      <td>0</td>\n",
              "      <td>0</td>\n",
              "      <td>0</td>\n",
              "      <td>1</td>\n",
              "      <td>0</td>\n",
              "      <td>0</td>\n",
              "    </tr>\n",
              "    <tr>\n",
              "      <th>...</th>\n",
              "      <td>...</td>\n",
              "      <td>...</td>\n",
              "      <td>...</td>\n",
              "      <td>...</td>\n",
              "      <td>...</td>\n",
              "      <td>...</td>\n",
              "      <td>...</td>\n",
              "      <td>...</td>\n",
              "      <td>...</td>\n",
              "      <td>...</td>\n",
              "    </tr>\n",
              "    <tr>\n",
              "      <th>699</th>\n",
              "      <td>0</td>\n",
              "      <td>0</td>\n",
              "      <td>0</td>\n",
              "      <td>0</td>\n",
              "      <td>0</td>\n",
              "      <td>0</td>\n",
              "      <td>1</td>\n",
              "      <td>1</td>\n",
              "      <td>0</td>\n",
              "      <td>1</td>\n",
              "    </tr>\n",
              "    <tr>\n",
              "      <th>700</th>\n",
              "      <td>0</td>\n",
              "      <td>0</td>\n",
              "      <td>0</td>\n",
              "      <td>0</td>\n",
              "      <td>0</td>\n",
              "      <td>0</td>\n",
              "      <td>0</td>\n",
              "      <td>1</td>\n",
              "      <td>0</td>\n",
              "      <td>0</td>\n",
              "    </tr>\n",
              "    <tr>\n",
              "      <th>701</th>\n",
              "      <td>0</td>\n",
              "      <td>0</td>\n",
              "      <td>1</td>\n",
              "      <td>0</td>\n",
              "      <td>0</td>\n",
              "      <td>0</td>\n",
              "      <td>1</td>\n",
              "      <td>1</td>\n",
              "      <td>0</td>\n",
              "      <td>0</td>\n",
              "    </tr>\n",
              "    <tr>\n",
              "      <th>702</th>\n",
              "      <td>0</td>\n",
              "      <td>0</td>\n",
              "      <td>0</td>\n",
              "      <td>0</td>\n",
              "      <td>1</td>\n",
              "      <td>0</td>\n",
              "      <td>0</td>\n",
              "      <td>0</td>\n",
              "      <td>0</td>\n",
              "      <td>0</td>\n",
              "    </tr>\n",
              "    <tr>\n",
              "      <th>703</th>\n",
              "      <td>0</td>\n",
              "      <td>1</td>\n",
              "      <td>0</td>\n",
              "      <td>1</td>\n",
              "      <td>1</td>\n",
              "      <td>0</td>\n",
              "      <td>1</td>\n",
              "      <td>1</td>\n",
              "      <td>1</td>\n",
              "      <td>1</td>\n",
              "    </tr>\n",
              "  </tbody>\n",
              "</table>\n",
              "<p>701 rows × 10 columns</p>\n",
              "</div>"
            ],
            "text/plain": [
              "     A1_Score  A2_Score  A3_Score  ...  A8_Score  A9_Score  A10_Score\n",
              "0           1         1         1  ...         1         0          0\n",
              "1           1         1         0  ...         1         0          1\n",
              "2           1         1         0  ...         1         1          1\n",
              "3           1         1         0  ...         1         0          1\n",
              "4           1         0         0  ...         1         0          0\n",
              "..        ...       ...       ...  ...       ...       ...        ...\n",
              "699         0         0         0  ...         1         0          1\n",
              "700         0         0         0  ...         1         0          0\n",
              "701         0         0         1  ...         1         0          0\n",
              "702         0         0         0  ...         0         0          0\n",
              "703         0         1         0  ...         1         1          1\n",
              "\n",
              "[701 rows x 10 columns]"
            ]
          },
          "metadata": {
            "tags": []
          },
          "execution_count": 24
        }
      ]
    },
    {
      "cell_type": "code",
      "metadata": {
        "colab": {
          "base_uri": "https://localhost:8080/"
        },
        "id": "AdoqpQSdyTEi",
        "outputId": "aed6d564-457f-437b-bb02-75609f197e91"
      },
      "source": [
        "ques_df.sum()"
      ],
      "execution_count": null,
      "outputs": [
        {
          "output_type": "execute_result",
          "data": {
            "text/plain": [
              "A1_Score     507\n",
              "A2_Score     318\n",
              "A3_Score     322\n",
              "A4_Score     349\n",
              "A5_Score     350\n",
              "A6_Score     200\n",
              "A7_Score     293\n",
              "A8_Score     457\n",
              "A9_Score     228\n",
              "A10_Score    403\n",
              "dtype: int64"
            ]
          },
          "metadata": {
            "tags": []
          },
          "execution_count": 25
        }
      ]
    },
    {
      "cell_type": "markdown",
      "metadata": {
        "id": "E5EhK2k5yWH6"
      },
      "source": [
        "## Handling invalid data in Relation column"
      ]
    },
    {
      "cell_type": "code",
      "metadata": {
        "colab": {
          "base_uri": "https://localhost:8080/"
        },
        "id": "2be3uq3pyUgP",
        "outputId": "d0e5cf80-16c3-4a08-ac61-058f67640917"
      },
      "source": [
        "df1.relation.value_counts()"
      ],
      "execution_count": null,
      "outputs": [
        {
          "output_type": "execute_result",
          "data": {
            "text/plain": [
              "Self                          521\n",
              "?                              93\n",
              "Parent                         50\n",
              "Relative                       28\n",
              "Others                          5\n",
              "'Health care professional'      4\n",
              "Name: relation, dtype: int64"
            ]
          },
          "metadata": {
            "tags": []
          },
          "execution_count": 26
        }
      ]
    },
    {
      "cell_type": "code",
      "metadata": {
        "id": "wvvqrAzByary"
      },
      "source": [
        "df1.loc[(df1[\"relation\"]==\"?\"),\"relation\"]=\"Self\""
      ],
      "execution_count": null,
      "outputs": []
    },
    {
      "cell_type": "code",
      "metadata": {
        "colab": {
          "base_uri": "https://localhost:8080/",
          "height": 317
        },
        "id": "8YW2yd5-yb9y",
        "outputId": "dbcc1cd6-5373-47d6-cc41-79824b98a66b"
      },
      "source": [
        "sns.catplot(x=\"gender\",y=\"result\",col=\"relation\",data=df1,kind=\"box\",hue=\"Class_ASD\",aspect=.5)\n",
        "sns.set_style(\"darkgrid\")"
      ],
      "execution_count": null,
      "outputs": [
        {
          "output_type": "display_data",
          "data": {
            "image/png": "[encoded data removed]",
            "text/plain": [
              "<Figure size 960.25x360 with 5 Axes>"
            ]
          },
          "metadata": {
            "tags": [],
            "needs_background": "light"
          }
        }
      ]
    },
    {
      "cell_type": "code",
      "metadata": {
        "id": "paFXPMJiydJF"
      },
      "source": [
        "le = LabelEncoder()"
      ],
      "execution_count": null,
      "outputs": []
    },
    {
      "cell_type": "code",
      "metadata": {
        "colab": {
          "base_uri": "https://localhost:8080/",
          "height": 609
        },
        "id": "T55xtjkryq-N",
        "outputId": "ac383a1c-6639-4ddf-a8cc-7e06f0737b1c"
      },
      "source": [
        "df1.reset_index(drop=True)"
      ],
      "execution_count": null,
      "outputs": [
        {
          "output_type": "execute_result",
          "data": {
            "text/html": [
              "<div>\n",
              "<style scoped>\n",
              "    .dataframe tbody tr th:only-of-type {\n",
              "        vertical-align: middle;\n",
              "    }\n",
              "\n",
              "    .dataframe tbody tr th {\n",
              "        vertical-align: top;\n",
              "    }\n",
              "\n",
              "    .dataframe thead th {\n",
              "        text-align: right;\n",
              "    }\n",
              "</style>\n",
              "<table border=\"1\" class=\"dataframe\">\n",
              "  <thead>\n",
              "    <tr style=\"text-align: right;\">\n",
              "      <th></th>\n",
              "      <th>A1_Score</th>\n",
              "      <th>A2_Score</th>\n",
              "      <th>A3_Score</th>\n",
              "      <th>A4_Score</th>\n",
              "      <th>A5_Score</th>\n",
              "      <th>A6_Score</th>\n",
              "      <th>A7_Score</th>\n",
              "      <th>A8_Score</th>\n",
              "      <th>A9_Score</th>\n",
              "      <th>A10_Score</th>\n",
              "      <th>age</th>\n",
              "      <th>gender</th>\n",
              "      <th>ethnicity</th>\n",
              "      <th>jaundice</th>\n",
              "      <th>autism</th>\n",
              "      <th>country_of_res</th>\n",
              "      <th>used_app_before</th>\n",
              "      <th>result</th>\n",
              "      <th>age_desc</th>\n",
              "      <th>relation</th>\n",
              "      <th>Class_ASD</th>\n",
              "    </tr>\n",
              "  </thead>\n",
              "  <tbody>\n",
              "    <tr>\n",
              "      <th>0</th>\n",
              "      <td>1</td>\n",
              "      <td>1</td>\n",
              "      <td>1</td>\n",
              "      <td>1</td>\n",
              "      <td>0</td>\n",
              "      <td>0</td>\n",
              "      <td>1</td>\n",
              "      <td>1</td>\n",
              "      <td>0</td>\n",
              "      <td>0</td>\n",
              "      <td>26</td>\n",
              "      <td>f</td>\n",
              "      <td>White-European</td>\n",
              "      <td>no</td>\n",
              "      <td>no</td>\n",
              "      <td>'United States'</td>\n",
              "      <td>no</td>\n",
              "      <td>6</td>\n",
              "      <td>'18 and more'</td>\n",
              "      <td>Self</td>\n",
              "      <td>NO</td>\n",
              "    </tr>\n",
              "    <tr>\n",
              "      <th>1</th>\n",
              "      <td>1</td>\n",
              "      <td>1</td>\n",
              "      <td>0</td>\n",
              "      <td>1</td>\n",
              "      <td>0</td>\n",
              "      <td>0</td>\n",
              "      <td>0</td>\n",
              "      <td>1</td>\n",
              "      <td>0</td>\n",
              "      <td>1</td>\n",
              "      <td>24</td>\n",
              "      <td>m</td>\n",
              "      <td>Latino</td>\n",
              "      <td>no</td>\n",
              "      <td>yes</td>\n",
              "      <td>Brazil</td>\n",
              "      <td>no</td>\n",
              "      <td>5</td>\n",
              "      <td>'18 and more'</td>\n",
              "      <td>Self</td>\n",
              "      <td>NO</td>\n",
              "    </tr>\n",
              "    <tr>\n",
              "      <th>2</th>\n",
              "      <td>1</td>\n",
              "      <td>1</td>\n",
              "      <td>0</td>\n",
              "      <td>1</td>\n",
              "      <td>1</td>\n",
              "      <td>0</td>\n",
              "      <td>1</td>\n",
              "      <td>1</td>\n",
              "      <td>1</td>\n",
              "      <td>1</td>\n",
              "      <td>27</td>\n",
              "      <td>m</td>\n",
              "      <td>Latino</td>\n",
              "      <td>yes</td>\n",
              "      <td>yes</td>\n",
              "      <td>Spain</td>\n",
              "      <td>no</td>\n",
              "      <td>8</td>\n",
              "      <td>'18 and more'</td>\n",
              "      <td>Parent</td>\n",
              "      <td>YES</td>\n",
              "    </tr>\n",
              "    <tr>\n",
              "      <th>3</th>\n",
              "      <td>1</td>\n",
              "      <td>1</td>\n",
              "      <td>0</td>\n",
              "      <td>1</td>\n",
              "      <td>0</td>\n",
              "      <td>0</td>\n",
              "      <td>1</td>\n",
              "      <td>1</td>\n",
              "      <td>0</td>\n",
              "      <td>1</td>\n",
              "      <td>35</td>\n",
              "      <td>f</td>\n",
              "      <td>White-European</td>\n",
              "      <td>no</td>\n",
              "      <td>yes</td>\n",
              "      <td>'United States'</td>\n",
              "      <td>no</td>\n",
              "      <td>6</td>\n",
              "      <td>'18 and more'</td>\n",
              "      <td>Self</td>\n",
              "      <td>NO</td>\n",
              "    </tr>\n",
              "    <tr>\n",
              "      <th>4</th>\n",
              "      <td>1</td>\n",
              "      <td>0</td>\n",
              "      <td>0</td>\n",
              "      <td>0</td>\n",
              "      <td>0</td>\n",
              "      <td>0</td>\n",
              "      <td>0</td>\n",
              "      <td>1</td>\n",
              "      <td>0</td>\n",
              "      <td>0</td>\n",
              "      <td>40</td>\n",
              "      <td>f</td>\n",
              "      <td>?</td>\n",
              "      <td>no</td>\n",
              "      <td>no</td>\n",
              "      <td>Egypt</td>\n",
              "      <td>no</td>\n",
              "      <td>2</td>\n",
              "      <td>'18 and more'</td>\n",
              "      <td>Self</td>\n",
              "      <td>NO</td>\n",
              "    </tr>\n",
              "    <tr>\n",
              "      <th>...</th>\n",
              "      <td>...</td>\n",
              "      <td>...</td>\n",
              "      <td>...</td>\n",
              "      <td>...</td>\n",
              "      <td>...</td>\n",
              "      <td>...</td>\n",
              "      <td>...</td>\n",
              "      <td>...</td>\n",
              "      <td>...</td>\n",
              "      <td>...</td>\n",
              "      <td>...</td>\n",
              "      <td>...</td>\n",
              "      <td>...</td>\n",
              "      <td>...</td>\n",
              "      <td>...</td>\n",
              "      <td>...</td>\n",
              "      <td>...</td>\n",
              "      <td>...</td>\n",
              "      <td>...</td>\n",
              "      <td>...</td>\n",
              "      <td>...</td>\n",
              "    </tr>\n",
              "    <tr>\n",
              "      <th>696</th>\n",
              "      <td>0</td>\n",
              "      <td>0</td>\n",
              "      <td>0</td>\n",
              "      <td>0</td>\n",
              "      <td>0</td>\n",
              "      <td>0</td>\n",
              "      <td>1</td>\n",
              "      <td>1</td>\n",
              "      <td>0</td>\n",
              "      <td>1</td>\n",
              "      <td>17</td>\n",
              "      <td>m</td>\n",
              "      <td>White-European</td>\n",
              "      <td>no</td>\n",
              "      <td>no</td>\n",
              "      <td>Canada</td>\n",
              "      <td>no</td>\n",
              "      <td>3</td>\n",
              "      <td>'18 and more'</td>\n",
              "      <td>Self</td>\n",
              "      <td>NO</td>\n",
              "    </tr>\n",
              "    <tr>\n",
              "      <th>697</th>\n",
              "      <td>0</td>\n",
              "      <td>0</td>\n",
              "      <td>0</td>\n",
              "      <td>0</td>\n",
              "      <td>0</td>\n",
              "      <td>0</td>\n",
              "      <td>0</td>\n",
              "      <td>1</td>\n",
              "      <td>0</td>\n",
              "      <td>0</td>\n",
              "      <td>56</td>\n",
              "      <td>m</td>\n",
              "      <td>?</td>\n",
              "      <td>no</td>\n",
              "      <td>no</td>\n",
              "      <td>Iraq</td>\n",
              "      <td>no</td>\n",
              "      <td>1</td>\n",
              "      <td>'18 and more'</td>\n",
              "      <td>Self</td>\n",
              "      <td>NO</td>\n",
              "    </tr>\n",
              "    <tr>\n",
              "      <th>698</th>\n",
              "      <td>0</td>\n",
              "      <td>0</td>\n",
              "      <td>1</td>\n",
              "      <td>0</td>\n",
              "      <td>0</td>\n",
              "      <td>0</td>\n",
              "      <td>1</td>\n",
              "      <td>1</td>\n",
              "      <td>0</td>\n",
              "      <td>0</td>\n",
              "      <td>50</td>\n",
              "      <td>f</td>\n",
              "      <td>'Middle Eastern '</td>\n",
              "      <td>no</td>\n",
              "      <td>no</td>\n",
              "      <td>'New Zealand'</td>\n",
              "      <td>no</td>\n",
              "      <td>3</td>\n",
              "      <td>'18 and more'</td>\n",
              "      <td>Parent</td>\n",
              "      <td>NO</td>\n",
              "    </tr>\n",
              "    <tr>\n",
              "      <th>699</th>\n",
              "      <td>0</td>\n",
              "      <td>0</td>\n",
              "      <td>0</td>\n",
              "      <td>0</td>\n",
              "      <td>1</td>\n",
              "      <td>0</td>\n",
              "      <td>0</td>\n",
              "      <td>0</td>\n",
              "      <td>0</td>\n",
              "      <td>0</td>\n",
              "      <td>31</td>\n",
              "      <td>f</td>\n",
              "      <td>Asian</td>\n",
              "      <td>yes</td>\n",
              "      <td>no</td>\n",
              "      <td>India</td>\n",
              "      <td>no</td>\n",
              "      <td>1</td>\n",
              "      <td>'18 and more'</td>\n",
              "      <td>Self</td>\n",
              "      <td>NO</td>\n",
              "    </tr>\n",
              "    <tr>\n",
              "      <th>700</th>\n",
              "      <td>0</td>\n",
              "      <td>1</td>\n",
              "      <td>0</td>\n",
              "      <td>1</td>\n",
              "      <td>1</td>\n",
              "      <td>0</td>\n",
              "      <td>1</td>\n",
              "      <td>1</td>\n",
              "      <td>1</td>\n",
              "      <td>1</td>\n",
              "      <td>25</td>\n",
              "      <td>f</td>\n",
              "      <td>White-European</td>\n",
              "      <td>no</td>\n",
              "      <td>no</td>\n",
              "      <td>Russia</td>\n",
              "      <td>no</td>\n",
              "      <td>7</td>\n",
              "      <td>'18 and more'</td>\n",
              "      <td>Self</td>\n",
              "      <td>YES</td>\n",
              "    </tr>\n",
              "  </tbody>\n",
              "</table>\n",
              "<p>701 rows × 21 columns</p>\n",
              "</div>"
            ],
            "text/plain": [
              "     A1_Score  A2_Score  A3_Score  ...       age_desc  relation  Class_ASD\n",
              "0           1         1         1  ...  '18 and more'      Self         NO\n",
              "1           1         1         0  ...  '18 and more'      Self         NO\n",
              "2           1         1         0  ...  '18 and more'    Parent        YES\n",
              "3           1         1         0  ...  '18 and more'      Self         NO\n",
              "4           1         0         0  ...  '18 and more'      Self         NO\n",
              "..        ...       ...       ...  ...            ...       ...        ...\n",
              "696         0         0         0  ...  '18 and more'      Self         NO\n",
              "697         0         0         0  ...  '18 and more'      Self         NO\n",
              "698         0         0         1  ...  '18 and more'    Parent         NO\n",
              "699         0         0         0  ...  '18 and more'      Self         NO\n",
              "700         0         1         0  ...  '18 and more'      Self        YES\n",
              "\n",
              "[701 rows x 21 columns]"
            ]
          },
          "metadata": {
            "tags": []
          },
          "execution_count": 30
        }
      ]
    },
    {
      "cell_type": "code",
      "metadata": {
        "id": "mB_FHFsnyr78"
      },
      "source": [
        "df1[\"Class_ASD\"] = le.fit_transform(df1[\"Class_ASD\"])"
      ],
      "execution_count": null,
      "outputs": []
    },
    {
      "cell_type": "code",
      "metadata": {
        "colab": {
          "base_uri": "https://localhost:8080/"
        },
        "id": "UV_r0KMqyth8",
        "outputId": "17a8f289-8911-4085-a2f4-83efc9c38b5b"
      },
      "source": [
        "df1[\"Class_ASD\"].value_counts()"
      ],
      "execution_count": null,
      "outputs": [
        {
          "output_type": "execute_result",
          "data": {
            "text/plain": [
              "0    512\n",
              "1    189\n",
              "Name: Class_ASD, dtype: int64"
            ]
          },
          "metadata": {
            "tags": []
          },
          "execution_count": 32
        }
      ]
    },
    {
      "cell_type": "code",
      "metadata": {
        "colab": {
          "base_uri": "https://localhost:8080/",
          "height": 204
        },
        "id": "8k-3hIC9yuxA",
        "outputId": "33dbeefb-5b96-4394-f344-ab029d670f4f"
      },
      "source": [
        "df1[[\"age\",\"gender\",\"result\",\"Class_ASD\"]].head()"
      ],
      "execution_count": null,
      "outputs": [
        {
          "output_type": "execute_result",
          "data": {
            "text/html": [
              "<div>\n",
              "<style scoped>\n",
              "    .dataframe tbody tr th:only-of-type {\n",
              "        vertical-align: middle;\n",
              "    }\n",
              "\n",
              "    .dataframe tbody tr th {\n",
              "        vertical-align: top;\n",
              "    }\n",
              "\n",
              "    .dataframe thead th {\n",
              "        text-align: right;\n",
              "    }\n",
              "</style>\n",
              "<table border=\"1\" class=\"dataframe\">\n",
              "  <thead>\n",
              "    <tr style=\"text-align: right;\">\n",
              "      <th></th>\n",
              "      <th>age</th>\n",
              "      <th>gender</th>\n",
              "      <th>result</th>\n",
              "      <th>Class_ASD</th>\n",
              "    </tr>\n",
              "  </thead>\n",
              "  <tbody>\n",
              "    <tr>\n",
              "      <th>0</th>\n",
              "      <td>26</td>\n",
              "      <td>f</td>\n",
              "      <td>6</td>\n",
              "      <td>0</td>\n",
              "    </tr>\n",
              "    <tr>\n",
              "      <th>1</th>\n",
              "      <td>24</td>\n",
              "      <td>m</td>\n",
              "      <td>5</td>\n",
              "      <td>0</td>\n",
              "    </tr>\n",
              "    <tr>\n",
              "      <th>2</th>\n",
              "      <td>27</td>\n",
              "      <td>m</td>\n",
              "      <td>8</td>\n",
              "      <td>1</td>\n",
              "    </tr>\n",
              "    <tr>\n",
              "      <th>3</th>\n",
              "      <td>35</td>\n",
              "      <td>f</td>\n",
              "      <td>6</td>\n",
              "      <td>0</td>\n",
              "    </tr>\n",
              "    <tr>\n",
              "      <th>4</th>\n",
              "      <td>40</td>\n",
              "      <td>f</td>\n",
              "      <td>2</td>\n",
              "      <td>0</td>\n",
              "    </tr>\n",
              "  </tbody>\n",
              "</table>\n",
              "</div>"
            ],
            "text/plain": [
              "   age gender  result  Class_ASD\n",
              "0   26      f       6          0\n",
              "1   24      m       5          0\n",
              "2   27      m       8          1\n",
              "3   35      f       6          0\n",
              "4   40      f       2          0"
            ]
          },
          "metadata": {
            "tags": []
          },
          "execution_count": 33
        }
      ]
    },
    {
      "cell_type": "code",
      "metadata": {
        "colab": {
          "base_uri": "https://localhost:8080/"
        },
        "id": "XuRL94SLyycO",
        "outputId": "5b002dea-2d88-4c1c-bd7c-4320aedf0584"
      },
      "source": [
        "df1[\"gender\"] = le.fit_transform(df1[\"gender\"])\n",
        "df1.gender"
      ],
      "execution_count": null,
      "outputs": [
        {
          "output_type": "execute_result",
          "data": {
            "text/plain": [
              "0      0\n",
              "1      1\n",
              "2      1\n",
              "3      0\n",
              "4      0\n",
              "      ..\n",
              "699    1\n",
              "700    1\n",
              "701    0\n",
              "702    0\n",
              "703    0\n",
              "Name: gender, Length: 701, dtype: int64"
            ]
          },
          "metadata": {
            "tags": []
          },
          "execution_count": 34
        }
      ]
    },
    {
      "cell_type": "code",
      "metadata": {
        "colab": {
          "base_uri": "https://localhost:8080/",
          "height": 204
        },
        "id": "QpCgTPM3y0rG",
        "outputId": "df9611cf-0bbf-471b-9967-612c6e1d76bf"
      },
      "source": [
        "age_result_class = df1[[\"age\",\"result\",\"Class_ASD\",\"gender\"]]\n",
        "age_result_class.head()"
      ],
      "execution_count": null,
      "outputs": [
        {
          "output_type": "execute_result",
          "data": {
            "text/html": [
              "<div>\n",
              "<style scoped>\n",
              "    .dataframe tbody tr th:only-of-type {\n",
              "        vertical-align: middle;\n",
              "    }\n",
              "\n",
              "    .dataframe tbody tr th {\n",
              "        vertical-align: top;\n",
              "    }\n",
              "\n",
              "    .dataframe thead th {\n",
              "        text-align: right;\n",
              "    }\n",
              "</style>\n",
              "<table border=\"1\" class=\"dataframe\">\n",
              "  <thead>\n",
              "    <tr style=\"text-align: right;\">\n",
              "      <th></th>\n",
              "      <th>age</th>\n",
              "      <th>result</th>\n",
              "      <th>Class_ASD</th>\n",
              "      <th>gender</th>\n",
              "    </tr>\n",
              "  </thead>\n",
              "  <tbody>\n",
              "    <tr>\n",
              "      <th>0</th>\n",
              "      <td>26</td>\n",
              "      <td>6</td>\n",
              "      <td>0</td>\n",
              "      <td>0</td>\n",
              "    </tr>\n",
              "    <tr>\n",
              "      <th>1</th>\n",
              "      <td>24</td>\n",
              "      <td>5</td>\n",
              "      <td>0</td>\n",
              "      <td>1</td>\n",
              "    </tr>\n",
              "    <tr>\n",
              "      <th>2</th>\n",
              "      <td>27</td>\n",
              "      <td>8</td>\n",
              "      <td>1</td>\n",
              "      <td>1</td>\n",
              "    </tr>\n",
              "    <tr>\n",
              "      <th>3</th>\n",
              "      <td>35</td>\n",
              "      <td>6</td>\n",
              "      <td>0</td>\n",
              "      <td>0</td>\n",
              "    </tr>\n",
              "    <tr>\n",
              "      <th>4</th>\n",
              "      <td>40</td>\n",
              "      <td>2</td>\n",
              "      <td>0</td>\n",
              "      <td>0</td>\n",
              "    </tr>\n",
              "  </tbody>\n",
              "</table>\n",
              "</div>"
            ],
            "text/plain": [
              "   age  result  Class_ASD  gender\n",
              "0   26       6          0       0\n",
              "1   24       5          0       1\n",
              "2   27       8          1       1\n",
              "3   35       6          0       0\n",
              "4   40       2          0       0"
            ]
          },
          "metadata": {
            "tags": []
          },
          "execution_count": 35
        }
      ]
    },
    {
      "cell_type": "code",
      "metadata": {
        "colab": {
          "base_uri": "https://localhost:8080/",
          "height": 282
        },
        "id": "p9OMM3Eey3bl",
        "outputId": "9959838f-191d-48f0-c5d5-dafb29f49ac6"
      },
      "source": [
        "df1[\"age\"].hist()"
      ],
      "execution_count": null,
      "outputs": [
        {
          "output_type": "execute_result",
          "data": {
            "text/plain": [
              "<matplotlib.axes._subplots.AxesSubplot at 0x7fd27a096450>"
            ]
          },
          "metadata": {
            "tags": []
          },
          "execution_count": 36
        },
        {
          "output_type": "display_data",
          "data": {
            "image/png": "[encoded data removed]",
            "text/plain": [
              "<Figure size 432x288 with 1 Axes>"
            ]
          },
          "metadata": {
            "tags": []
          }
        }
      ]
    },
    {
      "cell_type": "code",
      "metadata": {
        "id": "p_TIdM1P8LY3"
      },
      "source": [
        "age_temp = df1[\"age\"]"
      ],
      "execution_count": null,
      "outputs": []
    },
    {
      "cell_type": "code",
      "metadata": {
        "colab": {
          "base_uri": "https://localhost:8080/",
          "height": 350
        },
        "id": "YRlGqnPK8Lhk",
        "outputId": "17605978-f417-4f99-e4f4-dfa451bf7467"
      },
      "source": [
        "sns.distplot(np.log(age_temp))"
      ],
      "execution_count": null,
      "outputs": [
        {
          "output_type": "stream",
          "text": [
            "/usr/local/lib/python3.7/dist-packages/seaborn/distributions.py:2557: FutureWarning: `distplot` is a deprecated function and will be removed in a future version. Please adapt your code to use either `displot` (a figure-level function with similar flexibility) or `histplot` (an axes-level function for histograms).\n",
            "  warnings.warn(msg, FutureWarning)\n"
          ],
          "name": "stderr"
        },
        {
          "output_type": "execute_result",
          "data": {
            "text/plain": [
              "<matplotlib.axes._subplots.AxesSubplot at 0x7fd270372750>"
            ]
          },
          "metadata": {
            "tags": []
          },
          "execution_count": 38
        },
        {
          "output_type": "display_data",
          "data": {
            "image/png": "[encoded data removed]",
            "text/plain": [
              "<Figure size 432x288 with 1 Axes>"
            ]
          },
          "metadata": {
            "tags": []
          }
        }
      ]
    },
    {
      "cell_type": "code",
      "metadata": {
        "colab": {
          "base_uri": "https://localhost:8080/",
          "height": 350
        },
        "id": "Apq4oGt88j2a",
        "outputId": "d1f5dc84-ce16-40fe-ccfa-34c2ab7e4898"
      },
      "source": [
        "sns.distplot(1/age_temp)"
      ],
      "execution_count": null,
      "outputs": [
        {
          "output_type": "stream",
          "text": [
            "/usr/local/lib/python3.7/dist-packages/seaborn/distributions.py:2557: FutureWarning: `distplot` is a deprecated function and will be removed in a future version. Please adapt your code to use either `displot` (a figure-level function with similar flexibility) or `histplot` (an axes-level function for histograms).\n",
            "  warnings.warn(msg, FutureWarning)\n"
          ],
          "name": "stderr"
        },
        {
          "output_type": "execute_result",
          "data": {
            "text/plain": [
              "<matplotlib.axes._subplots.AxesSubplot at 0x7fd27033a9d0>"
            ]
          },
          "metadata": {
            "tags": []
          },
          "execution_count": 39
        },
        {
          "output_type": "display_data",
          "data": {
            "image/png": "[encoded data removed]",
            "text/plain": [
              "<Figure size 432x288 with 1 Axes>"
            ]
          },
          "metadata": {
            "tags": []
          }
        }
      ]
    },
    {
      "cell_type": "code",
      "metadata": {
        "colab": {
          "base_uri": "https://localhost:8080/",
          "height": 350
        },
        "id": "DbbLhzy38sHx",
        "outputId": "28801136-59c4-495c-a451-12e00cd8865a"
      },
      "source": [
        "sns.distplot(df1[\"gender\"])"
      ],
      "execution_count": null,
      "outputs": [
        {
          "output_type": "stream",
          "text": [
            "/usr/local/lib/python3.7/dist-packages/seaborn/distributions.py:2557: FutureWarning: `distplot` is a deprecated function and will be removed in a future version. Please adapt your code to use either `displot` (a figure-level function with similar flexibility) or `histplot` (an axes-level function for histograms).\n",
            "  warnings.warn(msg, FutureWarning)\n"
          ],
          "name": "stderr"
        },
        {
          "output_type": "execute_result",
          "data": {
            "text/plain": [
              "<matplotlib.axes._subplots.AxesSubplot at 0x7fd26e2502d0>"
            ]
          },
          "metadata": {
            "tags": []
          },
          "execution_count": 40
        },
        {
          "output_type": "display_data",
          "data": {
            "image/png": "[encoded data removed]",
            "text/plain": [
              "<Figure size 432x288 with 1 Axes>"
            ]
          },
          "metadata": {
            "tags": []
          }
        }
      ]
    },
    {
      "cell_type": "code",
      "metadata": {
        "colab": {
          "base_uri": "https://localhost:8080/",
          "height": 452
        },
        "id": "YKWr3Zoy8xD5",
        "outputId": "48f389c7-db35-4933-a2dd-987bef0a18ea"
      },
      "source": [
        "age_result_class[age_result_class[\"result\"]==0]"
      ],
      "execution_count": null,
      "outputs": [
        {
          "output_type": "execute_result",
          "data": {
            "text/html": [
              "<div>\n",
              "<style scoped>\n",
              "    .dataframe tbody tr th:only-of-type {\n",
              "        vertical-align: middle;\n",
              "    }\n",
              "\n",
              "    .dataframe tbody tr th {\n",
              "        vertical-align: top;\n",
              "    }\n",
              "\n",
              "    .dataframe thead th {\n",
              "        text-align: right;\n",
              "    }\n",
              "</style>\n",
              "<table border=\"1\" class=\"dataframe\">\n",
              "  <thead>\n",
              "    <tr style=\"text-align: right;\">\n",
              "      <th></th>\n",
              "      <th>age</th>\n",
              "      <th>result</th>\n",
              "      <th>Class_ASD</th>\n",
              "      <th>gender</th>\n",
              "    </tr>\n",
              "  </thead>\n",
              "  <tbody>\n",
              "    <tr>\n",
              "      <th>515</th>\n",
              "      <td>27</td>\n",
              "      <td>0</td>\n",
              "      <td>0</td>\n",
              "      <td>0</td>\n",
              "    </tr>\n",
              "    <tr>\n",
              "      <th>523</th>\n",
              "      <td>18</td>\n",
              "      <td>0</td>\n",
              "      <td>0</td>\n",
              "      <td>1</td>\n",
              "    </tr>\n",
              "    <tr>\n",
              "      <th>543</th>\n",
              "      <td>25</td>\n",
              "      <td>0</td>\n",
              "      <td>0</td>\n",
              "      <td>1</td>\n",
              "    </tr>\n",
              "    <tr>\n",
              "      <th>547</th>\n",
              "      <td>26</td>\n",
              "      <td>0</td>\n",
              "      <td>0</td>\n",
              "      <td>0</td>\n",
              "    </tr>\n",
              "    <tr>\n",
              "      <th>559</th>\n",
              "      <td>36</td>\n",
              "      <td>0</td>\n",
              "      <td>0</td>\n",
              "      <td>1</td>\n",
              "    </tr>\n",
              "    <tr>\n",
              "      <th>585</th>\n",
              "      <td>26</td>\n",
              "      <td>0</td>\n",
              "      <td>0</td>\n",
              "      <td>1</td>\n",
              "    </tr>\n",
              "    <tr>\n",
              "      <th>591</th>\n",
              "      <td>40</td>\n",
              "      <td>0</td>\n",
              "      <td>0</td>\n",
              "      <td>1</td>\n",
              "    </tr>\n",
              "    <tr>\n",
              "      <th>592</th>\n",
              "      <td>44</td>\n",
              "      <td>0</td>\n",
              "      <td>0</td>\n",
              "      <td>0</td>\n",
              "    </tr>\n",
              "    <tr>\n",
              "      <th>594</th>\n",
              "      <td>40</td>\n",
              "      <td>0</td>\n",
              "      <td>0</td>\n",
              "      <td>0</td>\n",
              "    </tr>\n",
              "    <tr>\n",
              "      <th>600</th>\n",
              "      <td>20</td>\n",
              "      <td>0</td>\n",
              "      <td>0</td>\n",
              "      <td>1</td>\n",
              "    </tr>\n",
              "    <tr>\n",
              "      <th>647</th>\n",
              "      <td>43</td>\n",
              "      <td>0</td>\n",
              "      <td>0</td>\n",
              "      <td>0</td>\n",
              "    </tr>\n",
              "    <tr>\n",
              "      <th>653</th>\n",
              "      <td>31</td>\n",
              "      <td>0</td>\n",
              "      <td>0</td>\n",
              "      <td>0</td>\n",
              "    </tr>\n",
              "    <tr>\n",
              "      <th>694</th>\n",
              "      <td>27</td>\n",
              "      <td>0</td>\n",
              "      <td>0</td>\n",
              "      <td>0</td>\n",
              "    </tr>\n",
              "  </tbody>\n",
              "</table>\n",
              "</div>"
            ],
            "text/plain": [
              "     age  result  Class_ASD  gender\n",
              "515   27       0          0       0\n",
              "523   18       0          0       1\n",
              "543   25       0          0       1\n",
              "547   26       0          0       0\n",
              "559   36       0          0       1\n",
              "585   26       0          0       1\n",
              "591   40       0          0       1\n",
              "592   44       0          0       0\n",
              "594   40       0          0       0\n",
              "600   20       0          0       1\n",
              "647   43       0          0       0\n",
              "653   31       0          0       0\n",
              "694   27       0          0       0"
            ]
          },
          "metadata": {
            "tags": []
          },
          "execution_count": 41
        }
      ]
    },
    {
      "cell_type": "code",
      "metadata": {
        "id": "t4ddA8LLy7RY"
      },
      "source": [
        "scale = MinMaxScaler()"
      ],
      "execution_count": null,
      "outputs": []
    },
    {
      "cell_type": "code",
      "metadata": {
        "id": "BLikJdza6Lgh"
      },
      "source": [
        "ohe = OneHotEncoder()"
      ],
      "execution_count": null,
      "outputs": []
    },
    {
      "cell_type": "code",
      "metadata": {
        "id": "h8iFearD7kf4"
      },
      "source": [
        "joint_df = pd.concat([ques_df,age_result_class],axis=1)"
      ],
      "execution_count": null,
      "outputs": []
    },
    {
      "cell_type": "code",
      "metadata": {
        "colab": {
          "base_uri": "https://localhost:8080/",
          "height": 439
        },
        "id": "bNf_SirQF6fi",
        "outputId": "4a8c5ab8-a2e1-44c8-babc-86829247dc72"
      },
      "source": [
        "joint_df"
      ],
      "execution_count": null,
      "outputs": [
        {
          "output_type": "execute_result",
          "data": {
            "text/html": [
              "<div>\n",
              "<style scoped>\n",
              "    .dataframe tbody tr th:only-of-type {\n",
              "        vertical-align: middle;\n",
              "    }\n",
              "\n",
              "    .dataframe tbody tr th {\n",
              "        vertical-align: top;\n",
              "    }\n",
              "\n",
              "    .dataframe thead th {\n",
              "        text-align: right;\n",
              "    }\n",
              "</style>\n",
              "<table border=\"1\" class=\"dataframe\">\n",
              "  <thead>\n",
              "    <tr style=\"text-align: right;\">\n",
              "      <th></th>\n",
              "      <th>A1_Score</th>\n",
              "      <th>A2_Score</th>\n",
              "      <th>A3_Score</th>\n",
              "      <th>A4_Score</th>\n",
              "      <th>A5_Score</th>\n",
              "      <th>A6_Score</th>\n",
              "      <th>A7_Score</th>\n",
              "      <th>A8_Score</th>\n",
              "      <th>A9_Score</th>\n",
              "      <th>A10_Score</th>\n",
              "      <th>age</th>\n",
              "      <th>result</th>\n",
              "      <th>Class_ASD</th>\n",
              "      <th>gender</th>\n",
              "    </tr>\n",
              "  </thead>\n",
              "  <tbody>\n",
              "    <tr>\n",
              "      <th>0</th>\n",
              "      <td>1</td>\n",
              "      <td>1</td>\n",
              "      <td>1</td>\n",
              "      <td>1</td>\n",
              "      <td>0</td>\n",
              "      <td>0</td>\n",
              "      <td>1</td>\n",
              "      <td>1</td>\n",
              "      <td>0</td>\n",
              "      <td>0</td>\n",
              "      <td>26</td>\n",
              "      <td>6</td>\n",
              "      <td>0</td>\n",
              "      <td>0</td>\n",
              "    </tr>\n",
              "    <tr>\n",
              "      <th>1</th>\n",
              "      <td>1</td>\n",
              "      <td>1</td>\n",
              "      <td>0</td>\n",
              "      <td>1</td>\n",
              "      <td>0</td>\n",
              "      <td>0</td>\n",
              "      <td>0</td>\n",
              "      <td>1</td>\n",
              "      <td>0</td>\n",
              "      <td>1</td>\n",
              "      <td>24</td>\n",
              "      <td>5</td>\n",
              "      <td>0</td>\n",
              "      <td>1</td>\n",
              "    </tr>\n",
              "    <tr>\n",
              "      <th>2</th>\n",
              "      <td>1</td>\n",
              "      <td>1</td>\n",
              "      <td>0</td>\n",
              "      <td>1</td>\n",
              "      <td>1</td>\n",
              "      <td>0</td>\n",
              "      <td>1</td>\n",
              "      <td>1</td>\n",
              "      <td>1</td>\n",
              "      <td>1</td>\n",
              "      <td>27</td>\n",
              "      <td>8</td>\n",
              "      <td>1</td>\n",
              "      <td>1</td>\n",
              "    </tr>\n",
              "    <tr>\n",
              "      <th>3</th>\n",
              "      <td>1</td>\n",
              "      <td>1</td>\n",
              "      <td>0</td>\n",
              "      <td>1</td>\n",
              "      <td>0</td>\n",
              "      <td>0</td>\n",
              "      <td>1</td>\n",
              "      <td>1</td>\n",
              "      <td>0</td>\n",
              "      <td>1</td>\n",
              "      <td>35</td>\n",
              "      <td>6</td>\n",
              "      <td>0</td>\n",
              "      <td>0</td>\n",
              "    </tr>\n",
              "    <tr>\n",
              "      <th>4</th>\n",
              "      <td>1</td>\n",
              "      <td>0</td>\n",
              "      <td>0</td>\n",
              "      <td>0</td>\n",
              "      <td>0</td>\n",
              "      <td>0</td>\n",
              "      <td>0</td>\n",
              "      <td>1</td>\n",
              "      <td>0</td>\n",
              "      <td>0</td>\n",
              "      <td>40</td>\n",
              "      <td>2</td>\n",
              "      <td>0</td>\n",
              "      <td>0</td>\n",
              "    </tr>\n",
              "    <tr>\n",
              "      <th>...</th>\n",
              "      <td>...</td>\n",
              "      <td>...</td>\n",
              "      <td>...</td>\n",
              "      <td>...</td>\n",
              "      <td>...</td>\n",
              "      <td>...</td>\n",
              "      <td>...</td>\n",
              "      <td>...</td>\n",
              "      <td>...</td>\n",
              "      <td>...</td>\n",
              "      <td>...</td>\n",
              "      <td>...</td>\n",
              "      <td>...</td>\n",
              "      <td>...</td>\n",
              "    </tr>\n",
              "    <tr>\n",
              "      <th>699</th>\n",
              "      <td>0</td>\n",
              "      <td>0</td>\n",
              "      <td>0</td>\n",
              "      <td>0</td>\n",
              "      <td>0</td>\n",
              "      <td>0</td>\n",
              "      <td>1</td>\n",
              "      <td>1</td>\n",
              "      <td>0</td>\n",
              "      <td>1</td>\n",
              "      <td>17</td>\n",
              "      <td>3</td>\n",
              "      <td>0</td>\n",
              "      <td>1</td>\n",
              "    </tr>\n",
              "    <tr>\n",
              "      <th>700</th>\n",
              "      <td>0</td>\n",
              "      <td>0</td>\n",
              "      <td>0</td>\n",
              "      <td>0</td>\n",
              "      <td>0</td>\n",
              "      <td>0</td>\n",
              "      <td>0</td>\n",
              "      <td>1</td>\n",
              "      <td>0</td>\n",
              "      <td>0</td>\n",
              "      <td>56</td>\n",
              "      <td>1</td>\n",
              "      <td>0</td>\n",
              "      <td>1</td>\n",
              "    </tr>\n",
              "    <tr>\n",
              "      <th>701</th>\n",
              "      <td>0</td>\n",
              "      <td>0</td>\n",
              "      <td>1</td>\n",
              "      <td>0</td>\n",
              "      <td>0</td>\n",
              "      <td>0</td>\n",
              "      <td>1</td>\n",
              "      <td>1</td>\n",
              "      <td>0</td>\n",
              "      <td>0</td>\n",
              "      <td>50</td>\n",
              "      <td>3</td>\n",
              "      <td>0</td>\n",
              "      <td>0</td>\n",
              "    </tr>\n",
              "    <tr>\n",
              "      <th>702</th>\n",
              "      <td>0</td>\n",
              "      <td>0</td>\n",
              "      <td>0</td>\n",
              "      <td>0</td>\n",
              "      <td>1</td>\n",
              "      <td>0</td>\n",
              "      <td>0</td>\n",
              "      <td>0</td>\n",
              "      <td>0</td>\n",
              "      <td>0</td>\n",
              "      <td>31</td>\n",
              "      <td>1</td>\n",
              "      <td>0</td>\n",
              "      <td>0</td>\n",
              "    </tr>\n",
              "    <tr>\n",
              "      <th>703</th>\n",
              "      <td>0</td>\n",
              "      <td>1</td>\n",
              "      <td>0</td>\n",
              "      <td>1</td>\n",
              "      <td>1</td>\n",
              "      <td>0</td>\n",
              "      <td>1</td>\n",
              "      <td>1</td>\n",
              "      <td>1</td>\n",
              "      <td>1</td>\n",
              "      <td>25</td>\n",
              "      <td>7</td>\n",
              "      <td>1</td>\n",
              "      <td>0</td>\n",
              "    </tr>\n",
              "  </tbody>\n",
              "</table>\n",
              "<p>701 rows × 14 columns</p>\n",
              "</div>"
            ],
            "text/plain": [
              "     A1_Score  A2_Score  A3_Score  A4_Score  ...  age  result  Class_ASD  gender\n",
              "0           1         1         1         1  ...   26       6          0       0\n",
              "1           1         1         0         1  ...   24       5          0       1\n",
              "2           1         1         0         1  ...   27       8          1       1\n",
              "3           1         1         0         1  ...   35       6          0       0\n",
              "4           1         0         0         0  ...   40       2          0       0\n",
              "..        ...       ...       ...       ...  ...  ...     ...        ...     ...\n",
              "699         0         0         0         0  ...   17       3          0       1\n",
              "700         0         0         0         0  ...   56       1          0       1\n",
              "701         0         0         1         0  ...   50       3          0       0\n",
              "702         0         0         0         0  ...   31       1          0       0\n",
              "703         0         1         0         1  ...   25       7          1       0\n",
              "\n",
              "[701 rows x 14 columns]"
            ]
          },
          "metadata": {
            "tags": []
          },
          "execution_count": 45
        }
      ]
    },
    {
      "cell_type": "code",
      "metadata": {
        "id": "Wq0-8HWgQCSV"
      },
      "source": [
        "#scaling data\n",
        "scaled_data = joint_df.copy()"
      ],
      "execution_count": null,
      "outputs": []
    },
    {
      "cell_type": "code",
      "metadata": {
        "id": "Qckio4HjQCVK"
      },
      "source": [
        "scaled_data = scale.fit_transform(scaled_data)"
      ],
      "execution_count": null,
      "outputs": []
    },
    {
      "cell_type": "code",
      "metadata": {
        "colab": {
          "base_uri": "https://localhost:8080/",
          "height": 336
        },
        "id": "we9qwy05QCXk",
        "outputId": "fadbee41-10e6-43d2-b527-45da5ab0d0ba"
      },
      "source": [
        "sns.distplot(scaled_data[:,10])"
      ],
      "execution_count": null,
      "outputs": [
        {
          "output_type": "stream",
          "text": [
            "/usr/local/lib/python3.7/dist-packages/seaborn/distributions.py:2557: FutureWarning: `distplot` is a deprecated function and will be removed in a future version. Please adapt your code to use either `displot` (a figure-level function with similar flexibility) or `histplot` (an axes-level function for histograms).\n",
            "  warnings.warn(msg, FutureWarning)\n"
          ],
          "name": "stderr"
        },
        {
          "output_type": "execute_result",
          "data": {
            "text/plain": [
              "<matplotlib.axes._subplots.AxesSubplot at 0x7fd278e6b650>"
            ]
          },
          "metadata": {
            "tags": []
          },
          "execution_count": 48
        },
        {
          "output_type": "display_data",
          "data": {
            "image/png": "[encoded data removed]",
            "text/plain": [
              "<Figure size 432x288 with 1 Axes>"
            ]
          },
          "metadata": {
            "tags": []
          }
        }
      ]
    },
    {
      "cell_type": "code",
      "metadata": {
        "id": "ft480xA1RWtB"
      },
      "source": [
        "transform_scale = joint_df.copy()"
      ],
      "execution_count": null,
      "outputs": []
    },
    {
      "cell_type": "code",
      "metadata": {
        "colab": {
          "base_uri": "https://localhost:8080/",
          "height": 224
        },
        "id": "9xvj_9VBS671",
        "outputId": "2a87275a-d125-4533-d4b6-6f4959e1190d"
      },
      "source": [
        "transform_scale.head()"
      ],
      "execution_count": null,
      "outputs": [
        {
          "output_type": "execute_result",
          "data": {
            "text/html": [
              "<div>\n",
              "<style scoped>\n",
              "    .dataframe tbody tr th:only-of-type {\n",
              "        vertical-align: middle;\n",
              "    }\n",
              "\n",
              "    .dataframe tbody tr th {\n",
              "        vertical-align: top;\n",
              "    }\n",
              "\n",
              "    .dataframe thead th {\n",
              "        text-align: right;\n",
              "    }\n",
              "</style>\n",
              "<table border=\"1\" class=\"dataframe\">\n",
              "  <thead>\n",
              "    <tr style=\"text-align: right;\">\n",
              "      <th></th>\n",
              "      <th>A1_Score</th>\n",
              "      <th>A2_Score</th>\n",
              "      <th>A3_Score</th>\n",
              "      <th>A4_Score</th>\n",
              "      <th>A5_Score</th>\n",
              "      <th>A6_Score</th>\n",
              "      <th>A7_Score</th>\n",
              "      <th>A8_Score</th>\n",
              "      <th>A9_Score</th>\n",
              "      <th>A10_Score</th>\n",
              "      <th>age</th>\n",
              "      <th>result</th>\n",
              "      <th>Class_ASD</th>\n",
              "      <th>gender</th>\n",
              "    </tr>\n",
              "  </thead>\n",
              "  <tbody>\n",
              "    <tr>\n",
              "      <th>0</th>\n",
              "      <td>1</td>\n",
              "      <td>1</td>\n",
              "      <td>1</td>\n",
              "      <td>1</td>\n",
              "      <td>0</td>\n",
              "      <td>0</td>\n",
              "      <td>1</td>\n",
              "      <td>1</td>\n",
              "      <td>0</td>\n",
              "      <td>0</td>\n",
              "      <td>26</td>\n",
              "      <td>6</td>\n",
              "      <td>0</td>\n",
              "      <td>0</td>\n",
              "    </tr>\n",
              "    <tr>\n",
              "      <th>1</th>\n",
              "      <td>1</td>\n",
              "      <td>1</td>\n",
              "      <td>0</td>\n",
              "      <td>1</td>\n",
              "      <td>0</td>\n",
              "      <td>0</td>\n",
              "      <td>0</td>\n",
              "      <td>1</td>\n",
              "      <td>0</td>\n",
              "      <td>1</td>\n",
              "      <td>24</td>\n",
              "      <td>5</td>\n",
              "      <td>0</td>\n",
              "      <td>1</td>\n",
              "    </tr>\n",
              "    <tr>\n",
              "      <th>2</th>\n",
              "      <td>1</td>\n",
              "      <td>1</td>\n",
              "      <td>0</td>\n",
              "      <td>1</td>\n",
              "      <td>1</td>\n",
              "      <td>0</td>\n",
              "      <td>1</td>\n",
              "      <td>1</td>\n",
              "      <td>1</td>\n",
              "      <td>1</td>\n",
              "      <td>27</td>\n",
              "      <td>8</td>\n",
              "      <td>1</td>\n",
              "      <td>1</td>\n",
              "    </tr>\n",
              "    <tr>\n",
              "      <th>3</th>\n",
              "      <td>1</td>\n",
              "      <td>1</td>\n",
              "      <td>0</td>\n",
              "      <td>1</td>\n",
              "      <td>0</td>\n",
              "      <td>0</td>\n",
              "      <td>1</td>\n",
              "      <td>1</td>\n",
              "      <td>0</td>\n",
              "      <td>1</td>\n",
              "      <td>35</td>\n",
              "      <td>6</td>\n",
              "      <td>0</td>\n",
              "      <td>0</td>\n",
              "    </tr>\n",
              "    <tr>\n",
              "      <th>4</th>\n",
              "      <td>1</td>\n",
              "      <td>0</td>\n",
              "      <td>0</td>\n",
              "      <td>0</td>\n",
              "      <td>0</td>\n",
              "      <td>0</td>\n",
              "      <td>0</td>\n",
              "      <td>1</td>\n",
              "      <td>0</td>\n",
              "      <td>0</td>\n",
              "      <td>40</td>\n",
              "      <td>2</td>\n",
              "      <td>0</td>\n",
              "      <td>0</td>\n",
              "    </tr>\n",
              "  </tbody>\n",
              "</table>\n",
              "</div>"
            ],
            "text/plain": [
              "   A1_Score  A2_Score  A3_Score  A4_Score  ...  age  result  Class_ASD  gender\n",
              "0         1         1         1         1  ...   26       6          0       0\n",
              "1         1         1         0         1  ...   24       5          0       1\n",
              "2         1         1         0         1  ...   27       8          1       1\n",
              "3         1         1         0         1  ...   35       6          0       0\n",
              "4         1         0         0         0  ...   40       2          0       0\n",
              "\n",
              "[5 rows x 14 columns]"
            ]
          },
          "metadata": {
            "tags": []
          },
          "execution_count": 50
        }
      ]
    },
    {
      "cell_type": "code",
      "metadata": {
        "id": "CnMAJuVRS6_l"
      },
      "source": [
        "transform_scale[\"age\"] = 1/transform_scale[\"age\"]"
      ],
      "execution_count": null,
      "outputs": []
    },
    {
      "cell_type": "code",
      "metadata": {
        "colab": {
          "base_uri": "https://localhost:8080/",
          "height": 224
        },
        "id": "584q8mt1S7Cv",
        "outputId": "8fb20fea-38fb-457b-eb68-7a0e4ba2147b"
      },
      "source": [
        "transform_scale.head()"
      ],
      "execution_count": null,
      "outputs": [
        {
          "output_type": "execute_result",
          "data": {
            "text/html": [
              "<div>\n",
              "<style scoped>\n",
              "    .dataframe tbody tr th:only-of-type {\n",
              "        vertical-align: middle;\n",
              "    }\n",
              "\n",
              "    .dataframe tbody tr th {\n",
              "        vertical-align: top;\n",
              "    }\n",
              "\n",
              "    .dataframe thead th {\n",
              "        text-align: right;\n",
              "    }\n",
              "</style>\n",
              "<table border=\"1\" class=\"dataframe\">\n",
              "  <thead>\n",
              "    <tr style=\"text-align: right;\">\n",
              "      <th></th>\n",
              "      <th>A1_Score</th>\n",
              "      <th>A2_Score</th>\n",
              "      <th>A3_Score</th>\n",
              "      <th>A4_Score</th>\n",
              "      <th>A5_Score</th>\n",
              "      <th>A6_Score</th>\n",
              "      <th>A7_Score</th>\n",
              "      <th>A8_Score</th>\n",
              "      <th>A9_Score</th>\n",
              "      <th>A10_Score</th>\n",
              "      <th>age</th>\n",
              "      <th>result</th>\n",
              "      <th>Class_ASD</th>\n",
              "      <th>gender</th>\n",
              "    </tr>\n",
              "  </thead>\n",
              "  <tbody>\n",
              "    <tr>\n",
              "      <th>0</th>\n",
              "      <td>1</td>\n",
              "      <td>1</td>\n",
              "      <td>1</td>\n",
              "      <td>1</td>\n",
              "      <td>0</td>\n",
              "      <td>0</td>\n",
              "      <td>1</td>\n",
              "      <td>1</td>\n",
              "      <td>0</td>\n",
              "      <td>0</td>\n",
              "      <td>0.038462</td>\n",
              "      <td>6</td>\n",
              "      <td>0</td>\n",
              "      <td>0</td>\n",
              "    </tr>\n",
              "    <tr>\n",
              "      <th>1</th>\n",
              "      <td>1</td>\n",
              "      <td>1</td>\n",
              "      <td>0</td>\n",
              "      <td>1</td>\n",
              "      <td>0</td>\n",
              "      <td>0</td>\n",
              "      <td>0</td>\n",
              "      <td>1</td>\n",
              "      <td>0</td>\n",
              "      <td>1</td>\n",
              "      <td>0.041667</td>\n",
              "      <td>5</td>\n",
              "      <td>0</td>\n",
              "      <td>1</td>\n",
              "    </tr>\n",
              "    <tr>\n",
              "      <th>2</th>\n",
              "      <td>1</td>\n",
              "      <td>1</td>\n",
              "      <td>0</td>\n",
              "      <td>1</td>\n",
              "      <td>1</td>\n",
              "      <td>0</td>\n",
              "      <td>1</td>\n",
              "      <td>1</td>\n",
              "      <td>1</td>\n",
              "      <td>1</td>\n",
              "      <td>0.037037</td>\n",
              "      <td>8</td>\n",
              "      <td>1</td>\n",
              "      <td>1</td>\n",
              "    </tr>\n",
              "    <tr>\n",
              "      <th>3</th>\n",
              "      <td>1</td>\n",
              "      <td>1</td>\n",
              "      <td>0</td>\n",
              "      <td>1</td>\n",
              "      <td>0</td>\n",
              "      <td>0</td>\n",
              "      <td>1</td>\n",
              "      <td>1</td>\n",
              "      <td>0</td>\n",
              "      <td>1</td>\n",
              "      <td>0.028571</td>\n",
              "      <td>6</td>\n",
              "      <td>0</td>\n",
              "      <td>0</td>\n",
              "    </tr>\n",
              "    <tr>\n",
              "      <th>4</th>\n",
              "      <td>1</td>\n",
              "      <td>0</td>\n",
              "      <td>0</td>\n",
              "      <td>0</td>\n",
              "      <td>0</td>\n",
              "      <td>0</td>\n",
              "      <td>0</td>\n",
              "      <td>1</td>\n",
              "      <td>0</td>\n",
              "      <td>0</td>\n",
              "      <td>0.025000</td>\n",
              "      <td>2</td>\n",
              "      <td>0</td>\n",
              "      <td>0</td>\n",
              "    </tr>\n",
              "  </tbody>\n",
              "</table>\n",
              "</div>"
            ],
            "text/plain": [
              "   A1_Score  A2_Score  A3_Score  A4_Score  ...       age  result  Class_ASD  gender\n",
              "0         1         1         1         1  ...  0.038462       6          0       0\n",
              "1         1         1         0         1  ...  0.041667       5          0       1\n",
              "2         1         1         0         1  ...  0.037037       8          1       1\n",
              "3         1         1         0         1  ...  0.028571       6          0       0\n",
              "4         1         0         0         0  ...  0.025000       2          0       0\n",
              "\n",
              "[5 rows x 14 columns]"
            ]
          },
          "metadata": {
            "tags": []
          },
          "execution_count": 52
        }
      ]
    },
    {
      "cell_type": "code",
      "metadata": {
        "colab": {
          "base_uri": "https://localhost:8080/"
        },
        "id": "wVFchD96XaF0",
        "outputId": "f9d309cd-afb2-4d25-fa53-a63be4d66d32"
      },
      "source": [
        "transform_scale.info()"
      ],
      "execution_count": null,
      "outputs": [
        {
          "output_type": "stream",
          "text": [
            "<class 'pandas.core.frame.DataFrame'>\n",
            "Int64Index: 701 entries, 0 to 703\n",
            "Data columns (total 14 columns):\n",
            " #   Column     Non-Null Count  Dtype  \n",
            "---  ------     --------------  -----  \n",
            " 0   A1_Score   701 non-null    int64  \n",
            " 1   A2_Score   701 non-null    int64  \n",
            " 2   A3_Score   701 non-null    int64  \n",
            " 3   A4_Score   701 non-null    int64  \n",
            " 4   A5_Score   701 non-null    int64  \n",
            " 5   A6_Score   701 non-null    int64  \n",
            " 6   A7_Score   701 non-null    int64  \n",
            " 7   A8_Score   701 non-null    int64  \n",
            " 8   A9_Score   701 non-null    int64  \n",
            " 9   A10_Score  701 non-null    int64  \n",
            " 10  age        701 non-null    float64\n",
            " 11  result     701 non-null    int64  \n",
            " 12  Class_ASD  701 non-null    int64  \n",
            " 13  gender     701 non-null    int64  \n",
            "dtypes: float64(1), int64(13)\n",
            "memory usage: 102.1 KB\n"
          ],
          "name": "stdout"
        }
      ]
    },
    {
      "cell_type": "code",
      "metadata": {
        "colab": {
          "base_uri": "https://localhost:8080/",
          "height": 439
        },
        "id": "_KGJqNASS7FG",
        "outputId": "aadacc70-9e31-4b62-db8d-60c5773f9520"
      },
      "source": [
        "transform_scale"
      ],
      "execution_count": null,
      "outputs": [
        {
          "output_type": "execute_result",
          "data": {
            "text/html": [
              "<div>\n",
              "<style scoped>\n",
              "    .dataframe tbody tr th:only-of-type {\n",
              "        vertical-align: middle;\n",
              "    }\n",
              "\n",
              "    .dataframe tbody tr th {\n",
              "        vertical-align: top;\n",
              "    }\n",
              "\n",
              "    .dataframe thead th {\n",
              "        text-align: right;\n",
              "    }\n",
              "</style>\n",
              "<table border=\"1\" class=\"dataframe\">\n",
              "  <thead>\n",
              "    <tr style=\"text-align: right;\">\n",
              "      <th></th>\n",
              "      <th>A1_Score</th>\n",
              "      <th>A2_Score</th>\n",
              "      <th>A3_Score</th>\n",
              "      <th>A4_Score</th>\n",
              "      <th>A5_Score</th>\n",
              "      <th>A6_Score</th>\n",
              "      <th>A7_Score</th>\n",
              "      <th>A8_Score</th>\n",
              "      <th>A9_Score</th>\n",
              "      <th>A10_Score</th>\n",
              "      <th>age</th>\n",
              "      <th>result</th>\n",
              "      <th>Class_ASD</th>\n",
              "      <th>gender</th>\n",
              "    </tr>\n",
              "  </thead>\n",
              "  <tbody>\n",
              "    <tr>\n",
              "      <th>0</th>\n",
              "      <td>1</td>\n",
              "      <td>1</td>\n",
              "      <td>1</td>\n",
              "      <td>1</td>\n",
              "      <td>0</td>\n",
              "      <td>0</td>\n",
              "      <td>1</td>\n",
              "      <td>1</td>\n",
              "      <td>0</td>\n",
              "      <td>0</td>\n",
              "      <td>0.038462</td>\n",
              "      <td>6</td>\n",
              "      <td>0</td>\n",
              "      <td>0</td>\n",
              "    </tr>\n",
              "    <tr>\n",
              "      <th>1</th>\n",
              "      <td>1</td>\n",
              "      <td>1</td>\n",
              "      <td>0</td>\n",
              "      <td>1</td>\n",
              "      <td>0</td>\n",
              "      <td>0</td>\n",
              "      <td>0</td>\n",
              "      <td>1</td>\n",
              "      <td>0</td>\n",
              "      <td>1</td>\n",
              "      <td>0.041667</td>\n",
              "      <td>5</td>\n",
              "      <td>0</td>\n",
              "      <td>1</td>\n",
              "    </tr>\n",
              "    <tr>\n",
              "      <th>2</th>\n",
              "      <td>1</td>\n",
              "      <td>1</td>\n",
              "      <td>0</td>\n",
              "      <td>1</td>\n",
              "      <td>1</td>\n",
              "      <td>0</td>\n",
              "      <td>1</td>\n",
              "      <td>1</td>\n",
              "      <td>1</td>\n",
              "      <td>1</td>\n",
              "      <td>0.037037</td>\n",
              "      <td>8</td>\n",
              "      <td>1</td>\n",
              "      <td>1</td>\n",
              "    </tr>\n",
              "    <tr>\n",
              "      <th>3</th>\n",
              "      <td>1</td>\n",
              "      <td>1</td>\n",
              "      <td>0</td>\n",
              "      <td>1</td>\n",
              "      <td>0</td>\n",
              "      <td>0</td>\n",
              "      <td>1</td>\n",
              "      <td>1</td>\n",
              "      <td>0</td>\n",
              "      <td>1</td>\n",
              "      <td>0.028571</td>\n",
              "      <td>6</td>\n",
              "      <td>0</td>\n",
              "      <td>0</td>\n",
              "    </tr>\n",
              "    <tr>\n",
              "      <th>4</th>\n",
              "      <td>1</td>\n",
              "      <td>0</td>\n",
              "      <td>0</td>\n",
              "      <td>0</td>\n",
              "      <td>0</td>\n",
              "      <td>0</td>\n",
              "      <td>0</td>\n",
              "      <td>1</td>\n",
              "      <td>0</td>\n",
              "      <td>0</td>\n",
              "      <td>0.025000</td>\n",
              "      <td>2</td>\n",
              "      <td>0</td>\n",
              "      <td>0</td>\n",
              "    </tr>\n",
              "    <tr>\n",
              "      <th>...</th>\n",
              "      <td>...</td>\n",
              "      <td>...</td>\n",
              "      <td>...</td>\n",
              "      <td>...</td>\n",
              "      <td>...</td>\n",
              "      <td>...</td>\n",
              "      <td>...</td>\n",
              "      <td>...</td>\n",
              "      <td>...</td>\n",
              "      <td>...</td>\n",
              "      <td>...</td>\n",
              "      <td>...</td>\n",
              "      <td>...</td>\n",
              "      <td>...</td>\n",
              "    </tr>\n",
              "    <tr>\n",
              "      <th>699</th>\n",
              "      <td>0</td>\n",
              "      <td>0</td>\n",
              "      <td>0</td>\n",
              "      <td>0</td>\n",
              "      <td>0</td>\n",
              "      <td>0</td>\n",
              "      <td>1</td>\n",
              "      <td>1</td>\n",
              "      <td>0</td>\n",
              "      <td>1</td>\n",
              "      <td>0.058824</td>\n",
              "      <td>3</td>\n",
              "      <td>0</td>\n",
              "      <td>1</td>\n",
              "    </tr>\n",
              "    <tr>\n",
              "      <th>700</th>\n",
              "      <td>0</td>\n",
              "      <td>0</td>\n",
              "      <td>0</td>\n",
              "      <td>0</td>\n",
              "      <td>0</td>\n",
              "      <td>0</td>\n",
              "      <td>0</td>\n",
              "      <td>1</td>\n",
              "      <td>0</td>\n",
              "      <td>0</td>\n",
              "      <td>0.017857</td>\n",
              "      <td>1</td>\n",
              "      <td>0</td>\n",
              "      <td>1</td>\n",
              "    </tr>\n",
              "    <tr>\n",
              "      <th>701</th>\n",
              "      <td>0</td>\n",
              "      <td>0</td>\n",
              "      <td>1</td>\n",
              "      <td>0</td>\n",
              "      <td>0</td>\n",
              "      <td>0</td>\n",
              "      <td>1</td>\n",
              "      <td>1</td>\n",
              "      <td>0</td>\n",
              "      <td>0</td>\n",
              "      <td>0.020000</td>\n",
              "      <td>3</td>\n",
              "      <td>0</td>\n",
              "      <td>0</td>\n",
              "    </tr>\n",
              "    <tr>\n",
              "      <th>702</th>\n",
              "      <td>0</td>\n",
              "      <td>0</td>\n",
              "      <td>0</td>\n",
              "      <td>0</td>\n",
              "      <td>1</td>\n",
              "      <td>0</td>\n",
              "      <td>0</td>\n",
              "      <td>0</td>\n",
              "      <td>0</td>\n",
              "      <td>0</td>\n",
              "      <td>0.032258</td>\n",
              "      <td>1</td>\n",
              "      <td>0</td>\n",
              "      <td>0</td>\n",
              "    </tr>\n",
              "    <tr>\n",
              "      <th>703</th>\n",
              "      <td>0</td>\n",
              "      <td>1</td>\n",
              "      <td>0</td>\n",
              "      <td>1</td>\n",
              "      <td>1</td>\n",
              "      <td>0</td>\n",
              "      <td>1</td>\n",
              "      <td>1</td>\n",
              "      <td>1</td>\n",
              "      <td>1</td>\n",
              "      <td>0.040000</td>\n",
              "      <td>7</td>\n",
              "      <td>1</td>\n",
              "      <td>0</td>\n",
              "    </tr>\n",
              "  </tbody>\n",
              "</table>\n",
              "<p>701 rows × 14 columns</p>\n",
              "</div>"
            ],
            "text/plain": [
              "     A1_Score  A2_Score  A3_Score  ...  result  Class_ASD  gender\n",
              "0           1         1         1  ...       6          0       0\n",
              "1           1         1         0  ...       5          0       1\n",
              "2           1         1         0  ...       8          1       1\n",
              "3           1         1         0  ...       6          0       0\n",
              "4           1         0         0  ...       2          0       0\n",
              "..        ...       ...       ...  ...     ...        ...     ...\n",
              "699         0         0         0  ...       3          0       1\n",
              "700         0         0         0  ...       1          0       1\n",
              "701         0         0         1  ...       3          0       0\n",
              "702         0         0         0  ...       1          0       0\n",
              "703         0         1         0  ...       7          1       0\n",
              "\n",
              "[701 rows x 14 columns]"
            ]
          },
          "metadata": {
            "tags": []
          },
          "execution_count": 54
        }
      ]
    },
    {
      "cell_type": "code",
      "metadata": {
        "id": "EGLbn_x0qLQq"
      },
      "source": [
        "transform_scale1 = transform_scale.copy()"
      ],
      "execution_count": null,
      "outputs": []
    },
    {
      "cell_type": "code",
      "metadata": {
        "id": "GFctcAqsqLYA"
      },
      "source": [
        "train"
      ],
      "execution_count": null,
      "outputs": []
    },
    {
      "cell_type": "code",
      "metadata": {
        "id": "X5CEWPvQF7sx"
      },
      "source": [
        "tf.random.set_seed(13)"
      ],
      "execution_count": null,
      "outputs": []
    },
    {
      "cell_type": "markdown",
      "metadata": {
        "id": "-R4-mhNDGNqk"
      },
      "source": [
        "##Splitting the dataset"
      ]
    },
    {
      "cell_type": "code",
      "metadata": {
        "id": "pH8dZ3l1GLgk"
      },
      "source": [
        "transform_scale = transform_scale.sample(frac=1)"
      ],
      "execution_count": null,
      "outputs": []
    },
    {
      "cell_type": "code",
      "metadata": {
        "colab": {
          "base_uri": "https://localhost:8080/"
        },
        "id": "k7uPD1UWlMbL",
        "outputId": "bdaba016-50a5-434c-ab28-1858492af1fe"
      },
      "source": [
        "train_df,test_df = train_test_split(transform_scale,test_size=0.4)\n",
        "\n",
        "print(train_df.shape)\n",
        "print(test_df.shape)"
      ],
      "execution_count": null,
      "outputs": [
        {
          "output_type": "stream",
          "text": [
            "(420, 14)\n",
            "(281, 14)\n"
          ],
          "name": "stdout"
        }
      ]
    },
    {
      "cell_type": "code",
      "metadata": {
        "colab": {
          "base_uri": "https://localhost:8080/"
        },
        "id": "JWnGc4lylrb9",
        "outputId": "a8f471c7-668a-4353-bdb8-f517e1354596"
      },
      "source": [
        "#splitting into testing and validation dataset from test_df\n",
        "y_test,valid_test = train_test_split(test_df,test_size=0.5)\n",
        "\n",
        "print(y_test.shape)\n",
        "print(valid_test.shape)"
      ],
      "execution_count": null,
      "outputs": [
        {
          "output_type": "stream",
          "text": [
            "(140, 14)\n",
            "(141, 14)\n"
          ],
          "name": "stdout"
        }
      ]
    },
    {
      "cell_type": "code",
      "metadata": {
        "colab": {
          "base_uri": "https://localhost:8080/"
        },
        "id": "h1bxgpWXmM-M",
        "outputId": "75c21eca-98b8-4623-f490-034dff80d5e4"
      },
      "source": [
        "X_train = train_df.drop(\"Class_ASD\",axis=1)\n",
        "y_train = train_df[\"Class_ASD\"]\n",
        "\n",
        "print(X_train.shape)\n",
        "print(y_train.shape)"
      ],
      "execution_count": null,
      "outputs": [
        {
          "output_type": "stream",
          "text": [
            "(420, 13)\n",
            "(420,)\n"
          ],
          "name": "stdout"
        }
      ]
    },
    {
      "cell_type": "code",
      "metadata": {
        "colab": {
          "base_uri": "https://localhost:8080/"
        },
        "id": "29lIQMbKoJXM",
        "outputId": "f50a8f39-c678-4c73-b3b4-226bdee965b7"
      },
      "source": [
        "X_test1 = y_test.drop(\"Class_ASD\",axis=1)\n",
        "y_test1 =  y_test[\"Class_ASD\"]\n",
        "\n",
        "print(X_test1.shape)\n",
        "print(y_test1.shape)"
      ],
      "execution_count": null,
      "outputs": [
        {
          "output_type": "stream",
          "text": [
            "(140, 13)\n",
            "(140,)\n"
          ],
          "name": "stdout"
        }
      ]
    },
    {
      "cell_type": "code",
      "metadata": {
        "colab": {
          "base_uri": "https://localhost:8080/"
        },
        "id": "-Xqd8I8cpxP8",
        "outputId": "3e4963c5-6b19-4a8b-eff8-5e6b626bf685"
      },
      "source": [
        "train_valid = valid_test.drop(\"Class_ASD\",axis=1)\n",
        "test_valid = valid_test[\"Class_ASD\"]\n",
        "\n",
        "print(train_valid.shape)\n",
        "print(test_valid.shape)"
      ],
      "execution_count": null,
      "outputs": [
        {
          "output_type": "stream",
          "text": [
            "(141, 13)\n",
            "(141,)\n"
          ],
          "name": "stdout"
        }
      ]
    },
    {
      "cell_type": "code",
      "metadata": {
        "id": "2-tZmjSeqAtE"
      },
      "source": [
        "X_train = scale.fit_transform(X_train)\n",
        "X_test1 = scale.fit_transform(X_test1)\n",
        "train_valid = scale.fit_transform(train_valid)"
      ],
      "execution_count": null,
      "outputs": []
    },
    {
      "cell_type": "code",
      "metadata": {
        "id": "xBGGknA9qweE"
      },
      "source": [
        "def build_model():\n",
        "\n",
        "  model = Sequential()\n",
        "\n",
        "  model.add(Dense(32, input_shape = (X_train.shape[1],)))\n",
        "\n",
        "  model.add(Dense(32,Activation('relu')))\n",
        "  model.add(Dense(64,Activation('relu')))\n",
        "  model.add(Dense(128,Activation('relu')))\n",
        "  model.add(Dense(1,Activation('sigmoid')))\n",
        "  learning_rate = 0.00001\n",
        "  #optimizer = optimizers.SGD(learning_rate)\n",
        "  optimizer = optimizers.Adam(learning_rate)\n",
        "  model.compile(optimizer=optimizer,loss=tf.keras.losses.BinaryCrossentropy(from_logits=True),metrics=['accuracy'])\n",
        "  return model"
      ],
      "execution_count": null,
      "outputs": []
    },
    {
      "cell_type": "code",
      "metadata": {
        "id": "2yxhMisOq4iJ"
      },
      "source": [
        "model2 = build_model()"
      ],
      "execution_count": null,
      "outputs": []
    },
    {
      "cell_type": "code",
      "metadata": {
        "colab": {
          "base_uri": "https://localhost:8080/"
        },
        "id": "pvQHF1VfrBvH",
        "outputId": "035c952a-7dcf-4e14-f0e0-b75313ea0cb3"
      },
      "source": [
        "model2.summary()"
      ],
      "execution_count": null,
      "outputs": [
        {
          "output_type": "stream",
          "text": [
            "Model: \"sequential_2\"\n",
            "_________________________________________________________________\n",
            "Layer (type)                 Output Shape              Param #   \n",
            "=================================================================\n",
            "dense_10 (Dense)             (None, 32)                448       \n",
            "_________________________________________________________________\n",
            "dense_11 (Dense)             (None, 32)                1056      \n",
            "_________________________________________________________________\n",
            "dense_12 (Dense)             (None, 64)                2112      \n",
            "_________________________________________________________________\n",
            "dense_13 (Dense)             (None, 128)               8320      \n",
            "_________________________________________________________________\n",
            "dense_14 (Dense)             (None, 1)                 129       \n",
            "=================================================================\n",
            "Total params: 12,065\n",
            "Trainable params: 12,065\n",
            "Non-trainable params: 0\n",
            "_________________________________________________________________\n"
          ],
          "name": "stdout"
        }
      ]
    },
    {
      "cell_type": "code",
      "metadata": {
        "colab": {
          "base_uri": "https://localhost:8080/"
        },
        "id": "b8U7EOoRrC6U",
        "outputId": "7732ad33-dc93-467e-9463-ba193eda9050"
      },
      "source": [
        "history = model2.fit(X_train,y_train,batch_size=16,epochs=500,validation_data=(train_valid,test_valid))"
      ],
      "execution_count": null,
      "outputs": [
        {
          "output_type": "stream",
          "text": [
            "Epoch 1/500\n"
          ],
          "name": "stdout"
        },
        {
          "output_type": "stream",
          "text": [
            "/usr/local/lib/python3.7/dist-packages/tensorflow/python/keras/backend.py:5017: UserWarning: \"`binary_crossentropy` received `from_logits=True`, but the `output` argument was produced by a sigmoid or softmax activation and thus does not represent logits. Was this intended?\"\n",
            "  '\"`binary_crossentropy` received `from_logits=True`, but the `output`'\n"
          ],
          "name": "stderr"
        },
        {
          "output_type": "stream",
          "text": [
            "27/27 [==============================] - 1s 7ms/step - loss: 0.7014 - accuracy: 0.4810 - val_loss: 0.6974 - val_accuracy: 0.5035\n",
            "Epoch 2/500\n",
            "27/27 [==============================] - 0s 3ms/step - loss: 0.6983 - accuracy: 0.5000 - val_loss: 0.6944 - val_accuracy: 0.5461\n",
            "Epoch 3/500\n",
            "27/27 [==============================] - 0s 3ms/step - loss: 0.6953 - accuracy: 0.5357 - val_loss: 0.6915 - val_accuracy: 0.5887\n",
            "Epoch 4/500\n",
            "27/27 [==============================] - 0s 3ms/step - loss: 0.6924 - accuracy: 0.5667 - val_loss: 0.6887 - val_accuracy: 0.5957\n",
            "Epoch 5/500\n",
            "27/27 [==============================] - 0s 3ms/step - loss: 0.6895 - accuracy: 0.5905 - val_loss: 0.6858 - val_accuracy: 0.5957\n",
            "Epoch 6/500\n",
            "27/27 [==============================] - 0s 2ms/step - loss: 0.6867 - accuracy: 0.6048 - val_loss: 0.6829 - val_accuracy: 0.6241\n",
            "Epoch 7/500\n",
            "27/27 [==============================] - 0s 3ms/step - loss: 0.6838 - accuracy: 0.6333 - val_loss: 0.6801 - val_accuracy: 0.6596\n",
            "Epoch 8/500\n",
            "27/27 [==============================] - 0s 3ms/step - loss: 0.6811 - accuracy: 0.6548 - val_loss: 0.6776 - val_accuracy: 0.6950\n",
            "Epoch 9/500\n",
            "27/27 [==============================] - 0s 3ms/step - loss: 0.6784 - accuracy: 0.6690 - val_loss: 0.6748 - val_accuracy: 0.7163\n",
            "Epoch 10/500\n",
            "27/27 [==============================] - 0s 4ms/step - loss: 0.6758 - accuracy: 0.6786 - val_loss: 0.6720 - val_accuracy: 0.7163\n",
            "Epoch 11/500\n",
            "27/27 [==============================] - 0s 3ms/step - loss: 0.6731 - accuracy: 0.6833 - val_loss: 0.6696 - val_accuracy: 0.7163\n",
            "Epoch 12/500\n",
            "27/27 [==============================] - 0s 3ms/step - loss: 0.6704 - accuracy: 0.6905 - val_loss: 0.6671 - val_accuracy: 0.7234\n",
            "Epoch 13/500\n",
            "27/27 [==============================] - 0s 3ms/step - loss: 0.6677 - accuracy: 0.6929 - val_loss: 0.6645 - val_accuracy: 0.7305\n",
            "Epoch 14/500\n",
            "27/27 [==============================] - 0s 3ms/step - loss: 0.6651 - accuracy: 0.7000 - val_loss: 0.6619 - val_accuracy: 0.7376\n",
            "Epoch 15/500\n",
            "27/27 [==============================] - 0s 3ms/step - loss: 0.6623 - accuracy: 0.7071 - val_loss: 0.6594 - val_accuracy: 0.7376\n",
            "Epoch 16/500\n",
            "27/27 [==============================] - 0s 3ms/step - loss: 0.6596 - accuracy: 0.7167 - val_loss: 0.6570 - val_accuracy: 0.7447\n",
            "Epoch 17/500\n",
            "27/27 [==============================] - 0s 2ms/step - loss: 0.6568 - accuracy: 0.7214 - val_loss: 0.6545 - val_accuracy: 0.7447\n",
            "Epoch 18/500\n",
            "27/27 [==============================] - 0s 3ms/step - loss: 0.6541 - accuracy: 0.7238 - val_loss: 0.6518 - val_accuracy: 0.7447\n",
            "Epoch 19/500\n",
            "27/27 [==============================] - 0s 3ms/step - loss: 0.6513 - accuracy: 0.7262 - val_loss: 0.6492 - val_accuracy: 0.7447\n",
            "Epoch 20/500\n",
            "27/27 [==============================] - 0s 3ms/step - loss: 0.6486 - accuracy: 0.7286 - val_loss: 0.6466 - val_accuracy: 0.7589\n",
            "Epoch 21/500\n",
            "27/27 [==============================] - 0s 3ms/step - loss: 0.6457 - accuracy: 0.7286 - val_loss: 0.6439 - val_accuracy: 0.7589\n",
            "Epoch 22/500\n",
            "27/27 [==============================] - 0s 3ms/step - loss: 0.6429 - accuracy: 0.7310 - val_loss: 0.6415 - val_accuracy: 0.7589\n",
            "Epoch 23/500\n",
            "27/27 [==============================] - 0s 2ms/step - loss: 0.6401 - accuracy: 0.7333 - val_loss: 0.6388 - val_accuracy: 0.7730\n",
            "Epoch 24/500\n",
            "27/27 [==============================] - 0s 3ms/step - loss: 0.6372 - accuracy: 0.7333 - val_loss: 0.6359 - val_accuracy: 0.7730\n",
            "Epoch 25/500\n",
            "27/27 [==============================] - 0s 3ms/step - loss: 0.6343 - accuracy: 0.7333 - val_loss: 0.6334 - val_accuracy: 0.7801\n",
            "Epoch 26/500\n",
            "27/27 [==============================] - 0s 3ms/step - loss: 0.6313 - accuracy: 0.7333 - val_loss: 0.6306 - val_accuracy: 0.7801\n",
            "Epoch 27/500\n",
            "27/27 [==============================] - 0s 3ms/step - loss: 0.6284 - accuracy: 0.7333 - val_loss: 0.6278 - val_accuracy: 0.7801\n",
            "Epoch 28/500\n",
            "27/27 [==============================] - 0s 3ms/step - loss: 0.6254 - accuracy: 0.7405 - val_loss: 0.6250 - val_accuracy: 0.7801\n",
            "Epoch 29/500\n",
            "27/27 [==============================] - 0s 3ms/step - loss: 0.6224 - accuracy: 0.7405 - val_loss: 0.6221 - val_accuracy: 0.7943\n",
            "Epoch 30/500\n",
            "27/27 [==============================] - 0s 3ms/step - loss: 0.6193 - accuracy: 0.7500 - val_loss: 0.6191 - val_accuracy: 0.7943\n",
            "Epoch 31/500\n",
            "27/27 [==============================] - 0s 2ms/step - loss: 0.6161 - accuracy: 0.7571 - val_loss: 0.6160 - val_accuracy: 0.7943\n",
            "Epoch 32/500\n",
            "27/27 [==============================] - 0s 2ms/step - loss: 0.6129 - accuracy: 0.7714 - val_loss: 0.6132 - val_accuracy: 0.8014\n",
            "Epoch 33/500\n",
            "27/27 [==============================] - 0s 3ms/step - loss: 0.6096 - accuracy: 0.7786 - val_loss: 0.6102 - val_accuracy: 0.7872\n",
            "Epoch 34/500\n",
            "27/27 [==============================] - 0s 2ms/step - loss: 0.6063 - accuracy: 0.7810 - val_loss: 0.6073 - val_accuracy: 0.7943\n",
            "Epoch 35/500\n",
            "27/27 [==============================] - 0s 2ms/step - loss: 0.6030 - accuracy: 0.7833 - val_loss: 0.6042 - val_accuracy: 0.8014\n",
            "Epoch 36/500\n",
            "27/27 [==============================] - 0s 3ms/step - loss: 0.5997 - accuracy: 0.7881 - val_loss: 0.6011 - val_accuracy: 0.8085\n",
            "Epoch 37/500\n",
            "27/27 [==============================] - 0s 3ms/step - loss: 0.5962 - accuracy: 0.7952 - val_loss: 0.5981 - val_accuracy: 0.8085\n",
            "Epoch 38/500\n",
            "27/27 [==============================] - 0s 2ms/step - loss: 0.5926 - accuracy: 0.8024 - val_loss: 0.5950 - val_accuracy: 0.8085\n",
            "Epoch 39/500\n",
            "27/27 [==============================] - 0s 3ms/step - loss: 0.5891 - accuracy: 0.8048 - val_loss: 0.5916 - val_accuracy: 0.8156\n",
            "Epoch 40/500\n",
            "27/27 [==============================] - 0s 3ms/step - loss: 0.5854 - accuracy: 0.8071 - val_loss: 0.5882 - val_accuracy: 0.8156\n",
            "Epoch 41/500\n",
            "27/27 [==============================] - 0s 2ms/step - loss: 0.5817 - accuracy: 0.8095 - val_loss: 0.5846 - val_accuracy: 0.8156\n",
            "Epoch 42/500\n",
            "27/27 [==============================] - 0s 2ms/step - loss: 0.5779 - accuracy: 0.8119 - val_loss: 0.5814 - val_accuracy: 0.8085\n",
            "Epoch 43/500\n",
            "27/27 [==============================] - 0s 2ms/step - loss: 0.5742 - accuracy: 0.8119 - val_loss: 0.5778 - val_accuracy: 0.8014\n",
            "Epoch 44/500\n",
            "27/27 [==============================] - 0s 3ms/step - loss: 0.5704 - accuracy: 0.8190 - val_loss: 0.5744 - val_accuracy: 0.8085\n",
            "Epoch 45/500\n",
            "27/27 [==============================] - 0s 3ms/step - loss: 0.5664 - accuracy: 0.8238 - val_loss: 0.5709 - val_accuracy: 0.8156\n",
            "Epoch 46/500\n",
            "27/27 [==============================] - 0s 3ms/step - loss: 0.5625 - accuracy: 0.8238 - val_loss: 0.5672 - val_accuracy: 0.8085\n",
            "Epoch 47/500\n",
            "27/27 [==============================] - 0s 3ms/step - loss: 0.5585 - accuracy: 0.8286 - val_loss: 0.5636 - val_accuracy: 0.8085\n",
            "Epoch 48/500\n",
            "27/27 [==============================] - 0s 3ms/step - loss: 0.5545 - accuracy: 0.8310 - val_loss: 0.5600 - val_accuracy: 0.8085\n",
            "Epoch 49/500\n",
            "27/27 [==============================] - 0s 3ms/step - loss: 0.5505 - accuracy: 0.8310 - val_loss: 0.5562 - val_accuracy: 0.8156\n",
            "Epoch 50/500\n",
            "27/27 [==============================] - 0s 2ms/step - loss: 0.5464 - accuracy: 0.8333 - val_loss: 0.5526 - val_accuracy: 0.8156\n",
            "Epoch 51/500\n",
            "27/27 [==============================] - 0s 3ms/step - loss: 0.5423 - accuracy: 0.8357 - val_loss: 0.5492 - val_accuracy: 0.8156\n",
            "Epoch 52/500\n",
            "27/27 [==============================] - 0s 3ms/step - loss: 0.5381 - accuracy: 0.8452 - val_loss: 0.5454 - val_accuracy: 0.8440\n",
            "Epoch 53/500\n",
            "27/27 [==============================] - 0s 3ms/step - loss: 0.5339 - accuracy: 0.8571 - val_loss: 0.5415 - val_accuracy: 0.8440\n",
            "Epoch 54/500\n",
            "27/27 [==============================] - 0s 3ms/step - loss: 0.5298 - accuracy: 0.8619 - val_loss: 0.5381 - val_accuracy: 0.8511\n",
            "Epoch 55/500\n",
            "27/27 [==============================] - 0s 3ms/step - loss: 0.5256 - accuracy: 0.8667 - val_loss: 0.5346 - val_accuracy: 0.8582\n",
            "Epoch 56/500\n",
            "27/27 [==============================] - 0s 3ms/step - loss: 0.5214 - accuracy: 0.8643 - val_loss: 0.5310 - val_accuracy: 0.8511\n",
            "Epoch 57/500\n",
            "27/27 [==============================] - 0s 3ms/step - loss: 0.5172 - accuracy: 0.8643 - val_loss: 0.5275 - val_accuracy: 0.8511\n",
            "Epoch 58/500\n",
            "27/27 [==============================] - 0s 2ms/step - loss: 0.5130 - accuracy: 0.8667 - val_loss: 0.5238 - val_accuracy: 0.8582\n",
            "Epoch 59/500\n",
            "27/27 [==============================] - 0s 2ms/step - loss: 0.5088 - accuracy: 0.8667 - val_loss: 0.5199 - val_accuracy: 0.8582\n",
            "Epoch 60/500\n",
            "27/27 [==============================] - 0s 3ms/step - loss: 0.5045 - accuracy: 0.8667 - val_loss: 0.5161 - val_accuracy: 0.8582\n",
            "Epoch 61/500\n",
            "27/27 [==============================] - 0s 3ms/step - loss: 0.5003 - accuracy: 0.8714 - val_loss: 0.5120 - val_accuracy: 0.8582\n",
            "Epoch 62/500\n",
            "27/27 [==============================] - 0s 2ms/step - loss: 0.4961 - accuracy: 0.8714 - val_loss: 0.5086 - val_accuracy: 0.8582\n",
            "Epoch 63/500\n",
            "27/27 [==============================] - 0s 3ms/step - loss: 0.4918 - accuracy: 0.8738 - val_loss: 0.5048 - val_accuracy: 0.8582\n",
            "Epoch 64/500\n",
            "27/27 [==============================] - 0s 3ms/step - loss: 0.4875 - accuracy: 0.8714 - val_loss: 0.5012 - val_accuracy: 0.8582\n",
            "Epoch 65/500\n",
            "27/27 [==============================] - 0s 3ms/step - loss: 0.4833 - accuracy: 0.8714 - val_loss: 0.4975 - val_accuracy: 0.8582\n",
            "Epoch 66/500\n",
            "27/27 [==============================] - 0s 3ms/step - loss: 0.4791 - accuracy: 0.8762 - val_loss: 0.4939 - val_accuracy: 0.8582\n",
            "Epoch 67/500\n",
            "27/27 [==============================] - 0s 3ms/step - loss: 0.4748 - accuracy: 0.8738 - val_loss: 0.4904 - val_accuracy: 0.8582\n",
            "Epoch 68/500\n",
            "27/27 [==============================] - 0s 3ms/step - loss: 0.4707 - accuracy: 0.8762 - val_loss: 0.4868 - val_accuracy: 0.8582\n",
            "Epoch 69/500\n",
            "27/27 [==============================] - 0s 3ms/step - loss: 0.4665 - accuracy: 0.8786 - val_loss: 0.4837 - val_accuracy: 0.8440\n",
            "Epoch 70/500\n",
            "27/27 [==============================] - 0s 3ms/step - loss: 0.4624 - accuracy: 0.8786 - val_loss: 0.4801 - val_accuracy: 0.8582\n",
            "Epoch 71/500\n",
            "27/27 [==============================] - 0s 3ms/step - loss: 0.4582 - accuracy: 0.8810 - val_loss: 0.4766 - val_accuracy: 0.8582\n",
            "Epoch 72/500\n",
            "27/27 [==============================] - 0s 3ms/step - loss: 0.4541 - accuracy: 0.8881 - val_loss: 0.4734 - val_accuracy: 0.8511\n",
            "Epoch 73/500\n",
            "27/27 [==============================] - 0s 3ms/step - loss: 0.4499 - accuracy: 0.8929 - val_loss: 0.4702 - val_accuracy: 0.8440\n",
            "Epoch 74/500\n",
            "27/27 [==============================] - 0s 3ms/step - loss: 0.4458 - accuracy: 0.8929 - val_loss: 0.4670 - val_accuracy: 0.8369\n",
            "Epoch 75/500\n",
            "27/27 [==============================] - 0s 2ms/step - loss: 0.4418 - accuracy: 0.8929 - val_loss: 0.4633 - val_accuracy: 0.8369\n",
            "Epoch 76/500\n",
            "27/27 [==============================] - 0s 3ms/step - loss: 0.4377 - accuracy: 0.8929 - val_loss: 0.4603 - val_accuracy: 0.8298\n",
            "Epoch 77/500\n",
            "27/27 [==============================] - 0s 3ms/step - loss: 0.4336 - accuracy: 0.8929 - val_loss: 0.4567 - val_accuracy: 0.8298\n",
            "Epoch 78/500\n",
            "27/27 [==============================] - 0s 3ms/step - loss: 0.4296 - accuracy: 0.8952 - val_loss: 0.4539 - val_accuracy: 0.8369\n",
            "Epoch 79/500\n",
            "27/27 [==============================] - 0s 3ms/step - loss: 0.4257 - accuracy: 0.8952 - val_loss: 0.4502 - val_accuracy: 0.8369\n",
            "Epoch 80/500\n",
            "27/27 [==============================] - 0s 2ms/step - loss: 0.4217 - accuracy: 0.8952 - val_loss: 0.4469 - val_accuracy: 0.8440\n",
            "Epoch 81/500\n",
            "27/27 [==============================] - 0s 3ms/step - loss: 0.4179 - accuracy: 0.8952 - val_loss: 0.4439 - val_accuracy: 0.8440\n",
            "Epoch 82/500\n",
            "27/27 [==============================] - 0s 3ms/step - loss: 0.4140 - accuracy: 0.8976 - val_loss: 0.4410 - val_accuracy: 0.8369\n",
            "Epoch 83/500\n",
            "27/27 [==============================] - 0s 3ms/step - loss: 0.4102 - accuracy: 0.9000 - val_loss: 0.4380 - val_accuracy: 0.8298\n",
            "Epoch 84/500\n",
            "27/27 [==============================] - 0s 2ms/step - loss: 0.4065 - accuracy: 0.9024 - val_loss: 0.4350 - val_accuracy: 0.8298\n",
            "Epoch 85/500\n",
            "27/27 [==============================] - 0s 3ms/step - loss: 0.4028 - accuracy: 0.9024 - val_loss: 0.4321 - val_accuracy: 0.8298\n",
            "Epoch 86/500\n",
            "27/27 [==============================] - 0s 3ms/step - loss: 0.3990 - accuracy: 0.9048 - val_loss: 0.4290 - val_accuracy: 0.8298\n",
            "Epoch 87/500\n",
            "27/27 [==============================] - 0s 2ms/step - loss: 0.3953 - accuracy: 0.9024 - val_loss: 0.4259 - val_accuracy: 0.8298\n",
            "Epoch 88/500\n",
            "27/27 [==============================] - 0s 3ms/step - loss: 0.3916 - accuracy: 0.9024 - val_loss: 0.4227 - val_accuracy: 0.8298\n",
            "Epoch 89/500\n",
            "27/27 [==============================] - 0s 3ms/step - loss: 0.3880 - accuracy: 0.9000 - val_loss: 0.4203 - val_accuracy: 0.8369\n",
            "Epoch 90/500\n",
            "27/27 [==============================] - 0s 3ms/step - loss: 0.3845 - accuracy: 0.9000 - val_loss: 0.4173 - val_accuracy: 0.8369\n",
            "Epoch 91/500\n",
            "27/27 [==============================] - 0s 3ms/step - loss: 0.3811 - accuracy: 0.9024 - val_loss: 0.4149 - val_accuracy: 0.8440\n",
            "Epoch 92/500\n",
            "27/27 [==============================] - 0s 3ms/step - loss: 0.3775 - accuracy: 0.9024 - val_loss: 0.4120 - val_accuracy: 0.8440\n",
            "Epoch 93/500\n",
            "27/27 [==============================] - 0s 3ms/step - loss: 0.3741 - accuracy: 0.9024 - val_loss: 0.4092 - val_accuracy: 0.8440\n",
            "Epoch 94/500\n",
            "27/27 [==============================] - 0s 2ms/step - loss: 0.3706 - accuracy: 0.9048 - val_loss: 0.4063 - val_accuracy: 0.8440\n",
            "Epoch 95/500\n",
            "27/27 [==============================] - 0s 3ms/step - loss: 0.3672 - accuracy: 0.9119 - val_loss: 0.4041 - val_accuracy: 0.8440\n",
            "Epoch 96/500\n",
            "27/27 [==============================] - 0s 3ms/step - loss: 0.3638 - accuracy: 0.9119 - val_loss: 0.4012 - val_accuracy: 0.8440\n",
            "Epoch 97/500\n",
            "27/27 [==============================] - 0s 4ms/step - loss: 0.3605 - accuracy: 0.9119 - val_loss: 0.3988 - val_accuracy: 0.8440\n",
            "Epoch 98/500\n",
            "27/27 [==============================] - 0s 4ms/step - loss: 0.3573 - accuracy: 0.9119 - val_loss: 0.3961 - val_accuracy: 0.8511\n",
            "Epoch 99/500\n",
            "27/27 [==============================] - 0s 3ms/step - loss: 0.3540 - accuracy: 0.9143 - val_loss: 0.3939 - val_accuracy: 0.8511\n",
            "Epoch 100/500\n",
            "27/27 [==============================] - 0s 3ms/step - loss: 0.3508 - accuracy: 0.9167 - val_loss: 0.3916 - val_accuracy: 0.8511\n",
            "Epoch 101/500\n",
            "27/27 [==============================] - 0s 3ms/step - loss: 0.3478 - accuracy: 0.9119 - val_loss: 0.3892 - val_accuracy: 0.8511\n",
            "Epoch 102/500\n",
            "27/27 [==============================] - 0s 3ms/step - loss: 0.3447 - accuracy: 0.9119 - val_loss: 0.3870 - val_accuracy: 0.8511\n",
            "Epoch 103/500\n",
            "27/27 [==============================] - 0s 3ms/step - loss: 0.3417 - accuracy: 0.9119 - val_loss: 0.3845 - val_accuracy: 0.8511\n",
            "Epoch 104/500\n",
            "27/27 [==============================] - 0s 3ms/step - loss: 0.3387 - accuracy: 0.9119 - val_loss: 0.3819 - val_accuracy: 0.8511\n",
            "Epoch 105/500\n",
            "27/27 [==============================] - 0s 3ms/step - loss: 0.3358 - accuracy: 0.9095 - val_loss: 0.3797 - val_accuracy: 0.8582\n",
            "Epoch 106/500\n",
            "27/27 [==============================] - 0s 3ms/step - loss: 0.3330 - accuracy: 0.9095 - val_loss: 0.3774 - val_accuracy: 0.8582\n",
            "Epoch 107/500\n",
            "27/27 [==============================] - 0s 2ms/step - loss: 0.3301 - accuracy: 0.9095 - val_loss: 0.3747 - val_accuracy: 0.8582\n",
            "Epoch 108/500\n",
            "27/27 [==============================] - 0s 3ms/step - loss: 0.3273 - accuracy: 0.9119 - val_loss: 0.3725 - val_accuracy: 0.8582\n",
            "Epoch 109/500\n",
            "27/27 [==============================] - 0s 2ms/step - loss: 0.3245 - accuracy: 0.9119 - val_loss: 0.3706 - val_accuracy: 0.8511\n",
            "Epoch 110/500\n",
            "27/27 [==============================] - 0s 3ms/step - loss: 0.3218 - accuracy: 0.9119 - val_loss: 0.3685 - val_accuracy: 0.8511\n",
            "Epoch 111/500\n",
            "27/27 [==============================] - 0s 3ms/step - loss: 0.3191 - accuracy: 0.9119 - val_loss: 0.3662 - val_accuracy: 0.8511\n",
            "Epoch 112/500\n",
            "27/27 [==============================] - 0s 3ms/step - loss: 0.3165 - accuracy: 0.9119 - val_loss: 0.3641 - val_accuracy: 0.8511\n",
            "Epoch 113/500\n",
            "27/27 [==============================] - 0s 3ms/step - loss: 0.3139 - accuracy: 0.9119 - val_loss: 0.3621 - val_accuracy: 0.8511\n",
            "Epoch 114/500\n",
            "27/27 [==============================] - 0s 3ms/step - loss: 0.3113 - accuracy: 0.9119 - val_loss: 0.3594 - val_accuracy: 0.8511\n",
            "Epoch 115/500\n",
            "27/27 [==============================] - 0s 3ms/step - loss: 0.3090 - accuracy: 0.9143 - val_loss: 0.3579 - val_accuracy: 0.8511\n",
            "Epoch 116/500\n",
            "27/27 [==============================] - 0s 3ms/step - loss: 0.3064 - accuracy: 0.9167 - val_loss: 0.3557 - val_accuracy: 0.8511\n",
            "Epoch 117/500\n",
            "27/27 [==============================] - 0s 3ms/step - loss: 0.3039 - accuracy: 0.9167 - val_loss: 0.3536 - val_accuracy: 0.8511\n",
            "Epoch 118/500\n",
            "27/27 [==============================] - 0s 2ms/step - loss: 0.3016 - accuracy: 0.9167 - val_loss: 0.3518 - val_accuracy: 0.8511\n",
            "Epoch 119/500\n",
            "27/27 [==============================] - 0s 3ms/step - loss: 0.2992 - accuracy: 0.9167 - val_loss: 0.3497 - val_accuracy: 0.8511\n",
            "Epoch 120/500\n",
            "27/27 [==============================] - 0s 3ms/step - loss: 0.2969 - accuracy: 0.9167 - val_loss: 0.3474 - val_accuracy: 0.8511\n",
            "Epoch 121/500\n",
            "27/27 [==============================] - 0s 3ms/step - loss: 0.2945 - accuracy: 0.9167 - val_loss: 0.3459 - val_accuracy: 0.8511\n",
            "Epoch 122/500\n",
            "27/27 [==============================] - 0s 3ms/step - loss: 0.2923 - accuracy: 0.9190 - val_loss: 0.3439 - val_accuracy: 0.8511\n",
            "Epoch 123/500\n",
            "27/27 [==============================] - 0s 3ms/step - loss: 0.2900 - accuracy: 0.9190 - val_loss: 0.3430 - val_accuracy: 0.8511\n",
            "Epoch 124/500\n",
            "27/27 [==============================] - 0s 3ms/step - loss: 0.2880 - accuracy: 0.9167 - val_loss: 0.3415 - val_accuracy: 0.8511\n",
            "Epoch 125/500\n",
            "27/27 [==============================] - 0s 3ms/step - loss: 0.2858 - accuracy: 0.9167 - val_loss: 0.3392 - val_accuracy: 0.8511\n",
            "Epoch 126/500\n",
            "27/27 [==============================] - 0s 2ms/step - loss: 0.2837 - accuracy: 0.9167 - val_loss: 0.3371 - val_accuracy: 0.8511\n",
            "Epoch 127/500\n",
            "27/27 [==============================] - 0s 3ms/step - loss: 0.2815 - accuracy: 0.9167 - val_loss: 0.3356 - val_accuracy: 0.8511\n",
            "Epoch 128/500\n",
            "27/27 [==============================] - 0s 3ms/step - loss: 0.2794 - accuracy: 0.9167 - val_loss: 0.3340 - val_accuracy: 0.8511\n",
            "Epoch 129/500\n",
            "27/27 [==============================] - 0s 3ms/step - loss: 0.2774 - accuracy: 0.9167 - val_loss: 0.3318 - val_accuracy: 0.8582\n",
            "Epoch 130/500\n",
            "27/27 [==============================] - 0s 3ms/step - loss: 0.2754 - accuracy: 0.9167 - val_loss: 0.3298 - val_accuracy: 0.8582\n",
            "Epoch 131/500\n",
            "27/27 [==============================] - 0s 3ms/step - loss: 0.2734 - accuracy: 0.9167 - val_loss: 0.3284 - val_accuracy: 0.8582\n",
            "Epoch 132/500\n",
            "27/27 [==============================] - 0s 3ms/step - loss: 0.2714 - accuracy: 0.9167 - val_loss: 0.3267 - val_accuracy: 0.8582\n",
            "Epoch 133/500\n",
            "27/27 [==============================] - 0s 3ms/step - loss: 0.2694 - accuracy: 0.9167 - val_loss: 0.3247 - val_accuracy: 0.8582\n",
            "Epoch 134/500\n",
            "27/27 [==============================] - 0s 3ms/step - loss: 0.2675 - accuracy: 0.9167 - val_loss: 0.3229 - val_accuracy: 0.8582\n",
            "Epoch 135/500\n",
            "27/27 [==============================] - 0s 3ms/step - loss: 0.2656 - accuracy: 0.9167 - val_loss: 0.3211 - val_accuracy: 0.8582\n",
            "Epoch 136/500\n",
            "27/27 [==============================] - 0s 3ms/step - loss: 0.2637 - accuracy: 0.9167 - val_loss: 0.3198 - val_accuracy: 0.8582\n",
            "Epoch 137/500\n",
            "27/27 [==============================] - 0s 3ms/step - loss: 0.2619 - accuracy: 0.9167 - val_loss: 0.3187 - val_accuracy: 0.8652\n",
            "Epoch 138/500\n",
            "27/27 [==============================] - 0s 2ms/step - loss: 0.2600 - accuracy: 0.9143 - val_loss: 0.3170 - val_accuracy: 0.8652\n",
            "Epoch 139/500\n",
            "27/27 [==============================] - 0s 3ms/step - loss: 0.2582 - accuracy: 0.9143 - val_loss: 0.3148 - val_accuracy: 0.8652\n",
            "Epoch 140/500\n",
            "27/27 [==============================] - 0s 3ms/step - loss: 0.2565 - accuracy: 0.9143 - val_loss: 0.3137 - val_accuracy: 0.8652\n",
            "Epoch 141/500\n",
            "27/27 [==============================] - 0s 3ms/step - loss: 0.2547 - accuracy: 0.9143 - val_loss: 0.3136 - val_accuracy: 0.8582\n",
            "Epoch 142/500\n",
            "27/27 [==============================] - 0s 3ms/step - loss: 0.2530 - accuracy: 0.9143 - val_loss: 0.3119 - val_accuracy: 0.8582\n",
            "Epoch 143/500\n",
            "27/27 [==============================] - 0s 3ms/step - loss: 0.2513 - accuracy: 0.9167 - val_loss: 0.3104 - val_accuracy: 0.8582\n",
            "Epoch 144/500\n",
            "27/27 [==============================] - 0s 3ms/step - loss: 0.2495 - accuracy: 0.9167 - val_loss: 0.3089 - val_accuracy: 0.8582\n",
            "Epoch 145/500\n",
            "27/27 [==============================] - 0s 2ms/step - loss: 0.2478 - accuracy: 0.9167 - val_loss: 0.3070 - val_accuracy: 0.8652\n",
            "Epoch 146/500\n",
            "27/27 [==============================] - 0s 3ms/step - loss: 0.2461 - accuracy: 0.9167 - val_loss: 0.3056 - val_accuracy: 0.8652\n",
            "Epoch 147/500\n",
            "27/27 [==============================] - 0s 3ms/step - loss: 0.2445 - accuracy: 0.9190 - val_loss: 0.3042 - val_accuracy: 0.8652\n",
            "Epoch 148/500\n",
            "27/27 [==============================] - 0s 3ms/step - loss: 0.2428 - accuracy: 0.9214 - val_loss: 0.3026 - val_accuracy: 0.8652\n",
            "Epoch 149/500\n",
            "27/27 [==============================] - 0s 3ms/step - loss: 0.2412 - accuracy: 0.9214 - val_loss: 0.3015 - val_accuracy: 0.8652\n",
            "Epoch 150/500\n",
            "27/27 [==============================] - 0s 2ms/step - loss: 0.2396 - accuracy: 0.9214 - val_loss: 0.2996 - val_accuracy: 0.8723\n",
            "Epoch 151/500\n",
            "27/27 [==============================] - 0s 3ms/step - loss: 0.2381 - accuracy: 0.9214 - val_loss: 0.2991 - val_accuracy: 0.8652\n",
            "Epoch 152/500\n",
            "27/27 [==============================] - 0s 3ms/step - loss: 0.2365 - accuracy: 0.9214 - val_loss: 0.2970 - val_accuracy: 0.8652\n",
            "Epoch 153/500\n",
            "27/27 [==============================] - 0s 3ms/step - loss: 0.2349 - accuracy: 0.9214 - val_loss: 0.2957 - val_accuracy: 0.8652\n",
            "Epoch 154/500\n",
            "27/27 [==============================] - 0s 3ms/step - loss: 0.2334 - accuracy: 0.9214 - val_loss: 0.2944 - val_accuracy: 0.8652\n",
            "Epoch 155/500\n",
            "27/27 [==============================] - 0s 3ms/step - loss: 0.2318 - accuracy: 0.9238 - val_loss: 0.2922 - val_accuracy: 0.8794\n",
            "Epoch 156/500\n",
            "27/27 [==============================] - 0s 3ms/step - loss: 0.2304 - accuracy: 0.9238 - val_loss: 0.2910 - val_accuracy: 0.8794\n",
            "Epoch 157/500\n",
            "27/27 [==============================] - 0s 3ms/step - loss: 0.2289 - accuracy: 0.9286 - val_loss: 0.2894 - val_accuracy: 0.8794\n",
            "Epoch 158/500\n",
            "27/27 [==============================] - 0s 3ms/step - loss: 0.2275 - accuracy: 0.9310 - val_loss: 0.2876 - val_accuracy: 0.8794\n",
            "Epoch 159/500\n",
            "27/27 [==============================] - 0s 3ms/step - loss: 0.2260 - accuracy: 0.9286 - val_loss: 0.2878 - val_accuracy: 0.8723\n",
            "Epoch 160/500\n",
            "27/27 [==============================] - 0s 3ms/step - loss: 0.2246 - accuracy: 0.9238 - val_loss: 0.2866 - val_accuracy: 0.8723\n",
            "Epoch 161/500\n",
            "27/27 [==============================] - 0s 4ms/step - loss: 0.2231 - accuracy: 0.9333 - val_loss: 0.2848 - val_accuracy: 0.8723\n",
            "Epoch 162/500\n",
            "27/27 [==============================] - 0s 3ms/step - loss: 0.2217 - accuracy: 0.9333 - val_loss: 0.2837 - val_accuracy: 0.8723\n",
            "Epoch 163/500\n",
            "27/27 [==============================] - 0s 3ms/step - loss: 0.2203 - accuracy: 0.9333 - val_loss: 0.2824 - val_accuracy: 0.8723\n",
            "Epoch 164/500\n",
            "27/27 [==============================] - 0s 3ms/step - loss: 0.2189 - accuracy: 0.9333 - val_loss: 0.2813 - val_accuracy: 0.8723\n",
            "Epoch 165/500\n",
            "27/27 [==============================] - 0s 3ms/step - loss: 0.2175 - accuracy: 0.9333 - val_loss: 0.2803 - val_accuracy: 0.8723\n",
            "Epoch 166/500\n",
            "27/27 [==============================] - 0s 3ms/step - loss: 0.2163 - accuracy: 0.9333 - val_loss: 0.2787 - val_accuracy: 0.8723\n",
            "Epoch 167/500\n",
            "27/27 [==============================] - 0s 3ms/step - loss: 0.2149 - accuracy: 0.9333 - val_loss: 0.2776 - val_accuracy: 0.8652\n",
            "Epoch 168/500\n",
            "27/27 [==============================] - 0s 2ms/step - loss: 0.2136 - accuracy: 0.9357 - val_loss: 0.2760 - val_accuracy: 0.8723\n",
            "Epoch 169/500\n",
            "27/27 [==============================] - 0s 3ms/step - loss: 0.2122 - accuracy: 0.9357 - val_loss: 0.2747 - val_accuracy: 0.8723\n",
            "Epoch 170/500\n",
            "27/27 [==============================] - 0s 3ms/step - loss: 0.2109 - accuracy: 0.9381 - val_loss: 0.2728 - val_accuracy: 0.8794\n",
            "Epoch 171/500\n",
            "27/27 [==============================] - 0s 3ms/step - loss: 0.2096 - accuracy: 0.9381 - val_loss: 0.2716 - val_accuracy: 0.8723\n",
            "Epoch 172/500\n",
            "27/27 [==============================] - 0s 3ms/step - loss: 0.2085 - accuracy: 0.9381 - val_loss: 0.2708 - val_accuracy: 0.8723\n",
            "Epoch 173/500\n",
            "27/27 [==============================] - 0s 3ms/step - loss: 0.2071 - accuracy: 0.9357 - val_loss: 0.2696 - val_accuracy: 0.8723\n",
            "Epoch 174/500\n",
            "27/27 [==============================] - 0s 3ms/step - loss: 0.2058 - accuracy: 0.9357 - val_loss: 0.2683 - val_accuracy: 0.8723\n",
            "Epoch 175/500\n",
            "27/27 [==============================] - 0s 3ms/step - loss: 0.2046 - accuracy: 0.9357 - val_loss: 0.2675 - val_accuracy: 0.8723\n",
            "Epoch 176/500\n",
            "27/27 [==============================] - 0s 3ms/step - loss: 0.2033 - accuracy: 0.9357 - val_loss: 0.2656 - val_accuracy: 0.8723\n",
            "Epoch 177/500\n",
            "27/27 [==============================] - 0s 3ms/step - loss: 0.2021 - accuracy: 0.9357 - val_loss: 0.2642 - val_accuracy: 0.8723\n",
            "Epoch 178/500\n",
            "27/27 [==============================] - 0s 3ms/step - loss: 0.2010 - accuracy: 0.9357 - val_loss: 0.2633 - val_accuracy: 0.8723\n",
            "Epoch 179/500\n",
            "27/27 [==============================] - 0s 3ms/step - loss: 0.1998 - accuracy: 0.9357 - val_loss: 0.2617 - val_accuracy: 0.8794\n",
            "Epoch 180/500\n",
            "27/27 [==============================] - 0s 3ms/step - loss: 0.1986 - accuracy: 0.9357 - val_loss: 0.2609 - val_accuracy: 0.8794\n",
            "Epoch 181/500\n",
            "27/27 [==============================] - 0s 3ms/step - loss: 0.1975 - accuracy: 0.9357 - val_loss: 0.2602 - val_accuracy: 0.8723\n",
            "Epoch 182/500\n",
            "27/27 [==============================] - 0s 3ms/step - loss: 0.1965 - accuracy: 0.9357 - val_loss: 0.2606 - val_accuracy: 0.8652\n",
            "Epoch 183/500\n",
            "27/27 [==============================] - 0s 3ms/step - loss: 0.1953 - accuracy: 0.9357 - val_loss: 0.2591 - val_accuracy: 0.8652\n",
            "Epoch 184/500\n",
            "27/27 [==============================] - 0s 3ms/step - loss: 0.1942 - accuracy: 0.9357 - val_loss: 0.2574 - val_accuracy: 0.8794\n",
            "Epoch 185/500\n",
            "27/27 [==============================] - 0s 3ms/step - loss: 0.1930 - accuracy: 0.9357 - val_loss: 0.2564 - val_accuracy: 0.8794\n",
            "Epoch 186/500\n",
            "27/27 [==============================] - 0s 4ms/step - loss: 0.1920 - accuracy: 0.9357 - val_loss: 0.2550 - val_accuracy: 0.8794\n",
            "Epoch 187/500\n",
            "27/27 [==============================] - 0s 4ms/step - loss: 0.1909 - accuracy: 0.9357 - val_loss: 0.2534 - val_accuracy: 0.8865\n",
            "Epoch 188/500\n",
            "27/27 [==============================] - 0s 3ms/step - loss: 0.1900 - accuracy: 0.9357 - val_loss: 0.2527 - val_accuracy: 0.8865\n",
            "Epoch 189/500\n",
            "27/27 [==============================] - 0s 3ms/step - loss: 0.1889 - accuracy: 0.9357 - val_loss: 0.2523 - val_accuracy: 0.8865\n",
            "Epoch 190/500\n",
            "27/27 [==============================] - 0s 3ms/step - loss: 0.1878 - accuracy: 0.9357 - val_loss: 0.2508 - val_accuracy: 0.8865\n",
            "Epoch 191/500\n",
            "27/27 [==============================] - 0s 2ms/step - loss: 0.1867 - accuracy: 0.9357 - val_loss: 0.2494 - val_accuracy: 0.8865\n",
            "Epoch 192/500\n",
            "27/27 [==============================] - 0s 2ms/step - loss: 0.1857 - accuracy: 0.9357 - val_loss: 0.2484 - val_accuracy: 0.8865\n",
            "Epoch 193/500\n",
            "27/27 [==============================] - 0s 3ms/step - loss: 0.1846 - accuracy: 0.9357 - val_loss: 0.2484 - val_accuracy: 0.8794\n",
            "Epoch 194/500\n",
            "27/27 [==============================] - 0s 3ms/step - loss: 0.1836 - accuracy: 0.9357 - val_loss: 0.2474 - val_accuracy: 0.8794\n",
            "Epoch 195/500\n",
            "27/27 [==============================] - 0s 2ms/step - loss: 0.1826 - accuracy: 0.9357 - val_loss: 0.2470 - val_accuracy: 0.8794\n",
            "Epoch 196/500\n",
            "27/27 [==============================] - 0s 4ms/step - loss: 0.1816 - accuracy: 0.9357 - val_loss: 0.2456 - val_accuracy: 0.8794\n",
            "Epoch 197/500\n",
            "27/27 [==============================] - 0s 3ms/step - loss: 0.1809 - accuracy: 0.9381 - val_loss: 0.2456 - val_accuracy: 0.8794\n",
            "Epoch 198/500\n",
            "27/27 [==============================] - 0s 2ms/step - loss: 0.1796 - accuracy: 0.9357 - val_loss: 0.2439 - val_accuracy: 0.8794\n",
            "Epoch 199/500\n",
            "27/27 [==============================] - 0s 3ms/step - loss: 0.1787 - accuracy: 0.9357 - val_loss: 0.2421 - val_accuracy: 0.8865\n",
            "Epoch 200/500\n",
            "27/27 [==============================] - 0s 3ms/step - loss: 0.1777 - accuracy: 0.9357 - val_loss: 0.2416 - val_accuracy: 0.8865\n",
            "Epoch 201/500\n",
            "27/27 [==============================] - 0s 3ms/step - loss: 0.1767 - accuracy: 0.9357 - val_loss: 0.2402 - val_accuracy: 0.8936\n",
            "Epoch 202/500\n",
            "27/27 [==============================] - 0s 3ms/step - loss: 0.1757 - accuracy: 0.9357 - val_loss: 0.2396 - val_accuracy: 0.8936\n",
            "Epoch 203/500\n",
            "27/27 [==============================] - 0s 3ms/step - loss: 0.1748 - accuracy: 0.9381 - val_loss: 0.2388 - val_accuracy: 0.8936\n",
            "Epoch 204/500\n",
            "27/27 [==============================] - 0s 3ms/step - loss: 0.1739 - accuracy: 0.9381 - val_loss: 0.2376 - val_accuracy: 0.8936\n",
            "Epoch 205/500\n",
            "27/27 [==============================] - 0s 3ms/step - loss: 0.1731 - accuracy: 0.9381 - val_loss: 0.2371 - val_accuracy: 0.8865\n",
            "Epoch 206/500\n",
            "27/27 [==============================] - 0s 3ms/step - loss: 0.1720 - accuracy: 0.9381 - val_loss: 0.2367 - val_accuracy: 0.8865\n",
            "Epoch 207/500\n",
            "27/27 [==============================] - 0s 3ms/step - loss: 0.1710 - accuracy: 0.9381 - val_loss: 0.2358 - val_accuracy: 0.8865\n",
            "Epoch 208/500\n",
            "27/27 [==============================] - 0s 3ms/step - loss: 0.1702 - accuracy: 0.9405 - val_loss: 0.2352 - val_accuracy: 0.8865\n",
            "Epoch 209/500\n",
            "27/27 [==============================] - 0s 3ms/step - loss: 0.1692 - accuracy: 0.9405 - val_loss: 0.2345 - val_accuracy: 0.8865\n",
            "Epoch 210/500\n",
            "27/27 [==============================] - 0s 3ms/step - loss: 0.1685 - accuracy: 0.9405 - val_loss: 0.2324 - val_accuracy: 0.8865\n",
            "Epoch 211/500\n",
            "27/27 [==============================] - 0s 4ms/step - loss: 0.1675 - accuracy: 0.9405 - val_loss: 0.2319 - val_accuracy: 0.8865\n",
            "Epoch 212/500\n",
            "27/27 [==============================] - 0s 4ms/step - loss: 0.1666 - accuracy: 0.9405 - val_loss: 0.2307 - val_accuracy: 0.8865\n",
            "Epoch 213/500\n",
            "27/27 [==============================] - 0s 4ms/step - loss: 0.1658 - accuracy: 0.9405 - val_loss: 0.2305 - val_accuracy: 0.8865\n",
            "Epoch 214/500\n",
            "27/27 [==============================] - 0s 3ms/step - loss: 0.1649 - accuracy: 0.9405 - val_loss: 0.2287 - val_accuracy: 0.8865\n",
            "Epoch 215/500\n",
            "27/27 [==============================] - 0s 4ms/step - loss: 0.1640 - accuracy: 0.9405 - val_loss: 0.2279 - val_accuracy: 0.8865\n",
            "Epoch 216/500\n",
            "27/27 [==============================] - 0s 3ms/step - loss: 0.1632 - accuracy: 0.9405 - val_loss: 0.2265 - val_accuracy: 0.9007\n",
            "Epoch 217/500\n",
            "27/27 [==============================] - 0s 3ms/step - loss: 0.1624 - accuracy: 0.9405 - val_loss: 0.2258 - val_accuracy: 0.9007\n",
            "Epoch 218/500\n",
            "27/27 [==============================] - 0s 3ms/step - loss: 0.1616 - accuracy: 0.9405 - val_loss: 0.2262 - val_accuracy: 0.8936\n",
            "Epoch 219/500\n",
            "27/27 [==============================] - 0s 3ms/step - loss: 0.1609 - accuracy: 0.9405 - val_loss: 0.2255 - val_accuracy: 0.9007\n",
            "Epoch 220/500\n",
            "27/27 [==============================] - 0s 3ms/step - loss: 0.1600 - accuracy: 0.9429 - val_loss: 0.2246 - val_accuracy: 0.9007\n",
            "Epoch 221/500\n",
            "27/27 [==============================] - 0s 4ms/step - loss: 0.1592 - accuracy: 0.9429 - val_loss: 0.2239 - val_accuracy: 0.9007\n",
            "Epoch 222/500\n",
            "27/27 [==============================] - 0s 3ms/step - loss: 0.1584 - accuracy: 0.9429 - val_loss: 0.2232 - val_accuracy: 0.9007\n",
            "Epoch 223/500\n",
            "27/27 [==============================] - 0s 3ms/step - loss: 0.1576 - accuracy: 0.9452 - val_loss: 0.2227 - val_accuracy: 0.9007\n",
            "Epoch 224/500\n",
            "27/27 [==============================] - 0s 4ms/step - loss: 0.1568 - accuracy: 0.9452 - val_loss: 0.2217 - val_accuracy: 0.9007\n",
            "Epoch 225/500\n",
            "27/27 [==============================] - 0s 3ms/step - loss: 0.1561 - accuracy: 0.9452 - val_loss: 0.2212 - val_accuracy: 0.9007\n",
            "Epoch 226/500\n",
            "27/27 [==============================] - 0s 3ms/step - loss: 0.1552 - accuracy: 0.9452 - val_loss: 0.2207 - val_accuracy: 0.9007\n",
            "Epoch 227/500\n",
            "27/27 [==============================] - 0s 3ms/step - loss: 0.1545 - accuracy: 0.9452 - val_loss: 0.2203 - val_accuracy: 0.9007\n",
            "Epoch 228/500\n",
            "27/27 [==============================] - 0s 3ms/step - loss: 0.1537 - accuracy: 0.9452 - val_loss: 0.2197 - val_accuracy: 0.9007\n",
            "Epoch 229/500\n",
            "27/27 [==============================] - 0s 3ms/step - loss: 0.1529 - accuracy: 0.9452 - val_loss: 0.2191 - val_accuracy: 0.9007\n",
            "Epoch 230/500\n",
            "27/27 [==============================] - 0s 3ms/step - loss: 0.1522 - accuracy: 0.9452 - val_loss: 0.2181 - val_accuracy: 0.9007\n",
            "Epoch 231/500\n",
            "27/27 [==============================] - 0s 3ms/step - loss: 0.1514 - accuracy: 0.9452 - val_loss: 0.2167 - val_accuracy: 0.9007\n",
            "Epoch 232/500\n",
            "27/27 [==============================] - 0s 3ms/step - loss: 0.1507 - accuracy: 0.9452 - val_loss: 0.2162 - val_accuracy: 0.9007\n",
            "Epoch 233/500\n",
            "27/27 [==============================] - 0s 3ms/step - loss: 0.1500 - accuracy: 0.9452 - val_loss: 0.2156 - val_accuracy: 0.9007\n",
            "Epoch 234/500\n",
            "27/27 [==============================] - 0s 3ms/step - loss: 0.1494 - accuracy: 0.9452 - val_loss: 0.2152 - val_accuracy: 0.9007\n",
            "Epoch 235/500\n",
            "27/27 [==============================] - 0s 3ms/step - loss: 0.1485 - accuracy: 0.9452 - val_loss: 0.2144 - val_accuracy: 0.9007\n",
            "Epoch 236/500\n",
            "27/27 [==============================] - 0s 3ms/step - loss: 0.1478 - accuracy: 0.9452 - val_loss: 0.2136 - val_accuracy: 0.9007\n",
            "Epoch 237/500\n",
            "27/27 [==============================] - 0s 3ms/step - loss: 0.1471 - accuracy: 0.9452 - val_loss: 0.2131 - val_accuracy: 0.9007\n",
            "Epoch 238/500\n",
            "27/27 [==============================] - 0s 3ms/step - loss: 0.1464 - accuracy: 0.9452 - val_loss: 0.2127 - val_accuracy: 0.9007\n",
            "Epoch 239/500\n",
            "27/27 [==============================] - 0s 3ms/step - loss: 0.1457 - accuracy: 0.9476 - val_loss: 0.2124 - val_accuracy: 0.9007\n",
            "Epoch 240/500\n",
            "27/27 [==============================] - 0s 3ms/step - loss: 0.1450 - accuracy: 0.9476 - val_loss: 0.2111 - val_accuracy: 0.9007\n",
            "Epoch 241/500\n",
            "27/27 [==============================] - 0s 3ms/step - loss: 0.1442 - accuracy: 0.9476 - val_loss: 0.2108 - val_accuracy: 0.9007\n",
            "Epoch 242/500\n",
            "27/27 [==============================] - 0s 3ms/step - loss: 0.1436 - accuracy: 0.9476 - val_loss: 0.2106 - val_accuracy: 0.9007\n",
            "Epoch 243/500\n",
            "27/27 [==============================] - 0s 3ms/step - loss: 0.1429 - accuracy: 0.9500 - val_loss: 0.2106 - val_accuracy: 0.9007\n",
            "Epoch 244/500\n",
            "27/27 [==============================] - 0s 3ms/step - loss: 0.1422 - accuracy: 0.9500 - val_loss: 0.2092 - val_accuracy: 0.9007\n",
            "Epoch 245/500\n",
            "27/27 [==============================] - 0s 3ms/step - loss: 0.1415 - accuracy: 0.9476 - val_loss: 0.2087 - val_accuracy: 0.9007\n",
            "Epoch 246/500\n",
            "27/27 [==============================] - 0s 8ms/step - loss: 0.1408 - accuracy: 0.9524 - val_loss: 0.2085 - val_accuracy: 0.9007\n",
            "Epoch 247/500\n",
            "27/27 [==============================] - 0s 3ms/step - loss: 0.1402 - accuracy: 0.9500 - val_loss: 0.2080 - val_accuracy: 0.9007\n",
            "Epoch 248/500\n",
            "27/27 [==============================] - 0s 3ms/step - loss: 0.1395 - accuracy: 0.9524 - val_loss: 0.2065 - val_accuracy: 0.9007\n",
            "Epoch 249/500\n",
            "27/27 [==============================] - 0s 3ms/step - loss: 0.1389 - accuracy: 0.9500 - val_loss: 0.2061 - val_accuracy: 0.9007\n",
            "Epoch 250/500\n",
            "27/27 [==============================] - 0s 3ms/step - loss: 0.1382 - accuracy: 0.9524 - val_loss: 0.2059 - val_accuracy: 0.9007\n",
            "Epoch 251/500\n",
            "27/27 [==============================] - 0s 3ms/step - loss: 0.1377 - accuracy: 0.9500 - val_loss: 0.2063 - val_accuracy: 0.9007\n",
            "Epoch 252/500\n",
            "27/27 [==============================] - 0s 3ms/step - loss: 0.1369 - accuracy: 0.9500 - val_loss: 0.2062 - val_accuracy: 0.9007\n",
            "Epoch 253/500\n",
            "27/27 [==============================] - 0s 3ms/step - loss: 0.1363 - accuracy: 0.9500 - val_loss: 0.2047 - val_accuracy: 0.9007\n",
            "Epoch 254/500\n",
            "27/27 [==============================] - 0s 3ms/step - loss: 0.1357 - accuracy: 0.9524 - val_loss: 0.2040 - val_accuracy: 0.9007\n",
            "Epoch 255/500\n",
            "27/27 [==============================] - 0s 3ms/step - loss: 0.1351 - accuracy: 0.9524 - val_loss: 0.2032 - val_accuracy: 0.9007\n",
            "Epoch 256/500\n",
            "27/27 [==============================] - 0s 3ms/step - loss: 0.1344 - accuracy: 0.9500 - val_loss: 0.2027 - val_accuracy: 0.9007\n",
            "Epoch 257/500\n",
            "27/27 [==============================] - 0s 3ms/step - loss: 0.1340 - accuracy: 0.9548 - val_loss: 0.2032 - val_accuracy: 0.9007\n",
            "Epoch 258/500\n",
            "27/27 [==============================] - 0s 4ms/step - loss: 0.1332 - accuracy: 0.9548 - val_loss: 0.2021 - val_accuracy: 0.9007\n",
            "Epoch 259/500\n",
            "27/27 [==============================] - 0s 3ms/step - loss: 0.1327 - accuracy: 0.9548 - val_loss: 0.2013 - val_accuracy: 0.9007\n",
            "Epoch 260/500\n",
            "27/27 [==============================] - 0s 3ms/step - loss: 0.1321 - accuracy: 0.9548 - val_loss: 0.2009 - val_accuracy: 0.9007\n",
            "Epoch 261/500\n",
            "27/27 [==============================] - 0s 3ms/step - loss: 0.1315 - accuracy: 0.9548 - val_loss: 0.2002 - val_accuracy: 0.9007\n",
            "Epoch 262/500\n",
            "27/27 [==============================] - 0s 3ms/step - loss: 0.1309 - accuracy: 0.9524 - val_loss: 0.1995 - val_accuracy: 0.9007\n",
            "Epoch 263/500\n",
            "27/27 [==============================] - 0s 3ms/step - loss: 0.1303 - accuracy: 0.9548 - val_loss: 0.1990 - val_accuracy: 0.9007\n",
            "Epoch 264/500\n",
            "27/27 [==============================] - 0s 4ms/step - loss: 0.1298 - accuracy: 0.9548 - val_loss: 0.1981 - val_accuracy: 0.9007\n",
            "Epoch 265/500\n",
            "27/27 [==============================] - 0s 3ms/step - loss: 0.1292 - accuracy: 0.9524 - val_loss: 0.1971 - val_accuracy: 0.9007\n",
            "Epoch 266/500\n",
            "27/27 [==============================] - 0s 4ms/step - loss: 0.1286 - accuracy: 0.9548 - val_loss: 0.1966 - val_accuracy: 0.9007\n",
            "Epoch 267/500\n",
            "27/27 [==============================] - 0s 3ms/step - loss: 0.1281 - accuracy: 0.9524 - val_loss: 0.1959 - val_accuracy: 0.9007\n",
            "Epoch 268/500\n",
            "27/27 [==============================] - 0s 3ms/step - loss: 0.1276 - accuracy: 0.9548 - val_loss: 0.1959 - val_accuracy: 0.9007\n",
            "Epoch 269/500\n",
            "27/27 [==============================] - 0s 3ms/step - loss: 0.1270 - accuracy: 0.9548 - val_loss: 0.1952 - val_accuracy: 0.9007\n",
            "Epoch 270/500\n",
            "27/27 [==============================] - 0s 3ms/step - loss: 0.1264 - accuracy: 0.9571 - val_loss: 0.1950 - val_accuracy: 0.9007\n",
            "Epoch 271/500\n",
            "27/27 [==============================] - 0s 3ms/step - loss: 0.1259 - accuracy: 0.9571 - val_loss: 0.1951 - val_accuracy: 0.9007\n",
            "Epoch 272/500\n",
            "27/27 [==============================] - 0s 3ms/step - loss: 0.1253 - accuracy: 0.9571 - val_loss: 0.1944 - val_accuracy: 0.9007\n",
            "Epoch 273/500\n",
            "27/27 [==============================] - 0s 3ms/step - loss: 0.1248 - accuracy: 0.9571 - val_loss: 0.1941 - val_accuracy: 0.9007\n",
            "Epoch 274/500\n",
            "27/27 [==============================] - 0s 4ms/step - loss: 0.1242 - accuracy: 0.9595 - val_loss: 0.1932 - val_accuracy: 0.9007\n",
            "Epoch 275/500\n",
            "27/27 [==============================] - 0s 3ms/step - loss: 0.1236 - accuracy: 0.9571 - val_loss: 0.1933 - val_accuracy: 0.9007\n",
            "Epoch 276/500\n",
            "27/27 [==============================] - 0s 3ms/step - loss: 0.1231 - accuracy: 0.9571 - val_loss: 0.1930 - val_accuracy: 0.9007\n",
            "Epoch 277/500\n",
            "27/27 [==============================] - 0s 3ms/step - loss: 0.1226 - accuracy: 0.9571 - val_loss: 0.1926 - val_accuracy: 0.9078\n",
            "Epoch 278/500\n",
            "27/27 [==============================] - 0s 3ms/step - loss: 0.1222 - accuracy: 0.9571 - val_loss: 0.1922 - val_accuracy: 0.9078\n",
            "Epoch 279/500\n",
            "27/27 [==============================] - 0s 4ms/step - loss: 0.1216 - accuracy: 0.9571 - val_loss: 0.1923 - val_accuracy: 0.9078\n",
            "Epoch 280/500\n",
            "27/27 [==============================] - 0s 3ms/step - loss: 0.1213 - accuracy: 0.9595 - val_loss: 0.1906 - val_accuracy: 0.9078\n",
            "Epoch 281/500\n",
            "27/27 [==============================] - 0s 3ms/step - loss: 0.1206 - accuracy: 0.9571 - val_loss: 0.1913 - val_accuracy: 0.9078\n",
            "Epoch 282/500\n",
            "27/27 [==============================] - 0s 3ms/step - loss: 0.1201 - accuracy: 0.9571 - val_loss: 0.1914 - val_accuracy: 0.9149\n",
            "Epoch 283/500\n",
            "27/27 [==============================] - 0s 3ms/step - loss: 0.1196 - accuracy: 0.9595 - val_loss: 0.1904 - val_accuracy: 0.9078\n",
            "Epoch 284/500\n",
            "27/27 [==============================] - 0s 3ms/step - loss: 0.1190 - accuracy: 0.9571 - val_loss: 0.1908 - val_accuracy: 0.9149\n",
            "Epoch 285/500\n",
            "27/27 [==============================] - 0s 3ms/step - loss: 0.1186 - accuracy: 0.9571 - val_loss: 0.1897 - val_accuracy: 0.9149\n",
            "Epoch 286/500\n",
            "27/27 [==============================] - 0s 3ms/step - loss: 0.1181 - accuracy: 0.9619 - val_loss: 0.1890 - val_accuracy: 0.9078\n",
            "Epoch 287/500\n",
            "27/27 [==============================] - 0s 3ms/step - loss: 0.1175 - accuracy: 0.9595 - val_loss: 0.1890 - val_accuracy: 0.9149\n",
            "Epoch 288/500\n",
            "27/27 [==============================] - 0s 3ms/step - loss: 0.1171 - accuracy: 0.9571 - val_loss: 0.1892 - val_accuracy: 0.9149\n",
            "Epoch 289/500\n",
            "27/27 [==============================] - 0s 3ms/step - loss: 0.1167 - accuracy: 0.9571 - val_loss: 0.1884 - val_accuracy: 0.9149\n",
            "Epoch 290/500\n",
            "27/27 [==============================] - 0s 3ms/step - loss: 0.1161 - accuracy: 0.9619 - val_loss: 0.1875 - val_accuracy: 0.9149\n",
            "Epoch 291/500\n",
            "27/27 [==============================] - 0s 3ms/step - loss: 0.1157 - accuracy: 0.9619 - val_loss: 0.1865 - val_accuracy: 0.9149\n",
            "Epoch 292/500\n",
            "27/27 [==============================] - 0s 4ms/step - loss: 0.1152 - accuracy: 0.9619 - val_loss: 0.1866 - val_accuracy: 0.9149\n",
            "Epoch 293/500\n",
            "27/27 [==============================] - 0s 3ms/step - loss: 0.1147 - accuracy: 0.9619 - val_loss: 0.1860 - val_accuracy: 0.9149\n",
            "Epoch 294/500\n",
            "27/27 [==============================] - 0s 3ms/step - loss: 0.1142 - accuracy: 0.9619 - val_loss: 0.1858 - val_accuracy: 0.9149\n",
            "Epoch 295/500\n",
            "27/27 [==============================] - 0s 3ms/step - loss: 0.1138 - accuracy: 0.9619 - val_loss: 0.1855 - val_accuracy: 0.9149\n",
            "Epoch 296/500\n",
            "27/27 [==============================] - 0s 3ms/step - loss: 0.1135 - accuracy: 0.9619 - val_loss: 0.1848 - val_accuracy: 0.9078\n",
            "Epoch 297/500\n",
            "27/27 [==============================] - 0s 3ms/step - loss: 0.1129 - accuracy: 0.9619 - val_loss: 0.1855 - val_accuracy: 0.9149\n",
            "Epoch 298/500\n",
            "27/27 [==============================] - 0s 3ms/step - loss: 0.1125 - accuracy: 0.9619 - val_loss: 0.1843 - val_accuracy: 0.9149\n",
            "Epoch 299/500\n",
            "27/27 [==============================] - 0s 3ms/step - loss: 0.1119 - accuracy: 0.9619 - val_loss: 0.1834 - val_accuracy: 0.9149\n",
            "Epoch 300/500\n",
            "27/27 [==============================] - 0s 3ms/step - loss: 0.1115 - accuracy: 0.9619 - val_loss: 0.1831 - val_accuracy: 0.9149\n",
            "Epoch 301/500\n",
            "27/27 [==============================] - 0s 3ms/step - loss: 0.1112 - accuracy: 0.9619 - val_loss: 0.1839 - val_accuracy: 0.9149\n",
            "Epoch 302/500\n",
            "27/27 [==============================] - 0s 3ms/step - loss: 0.1106 - accuracy: 0.9619 - val_loss: 0.1832 - val_accuracy: 0.9149\n",
            "Epoch 303/500\n",
            "27/27 [==============================] - 0s 3ms/step - loss: 0.1101 - accuracy: 0.9619 - val_loss: 0.1827 - val_accuracy: 0.9149\n",
            "Epoch 304/500\n",
            "27/27 [==============================] - 0s 4ms/step - loss: 0.1097 - accuracy: 0.9619 - val_loss: 0.1819 - val_accuracy: 0.9149\n",
            "Epoch 305/500\n",
            "27/27 [==============================] - 0s 3ms/step - loss: 0.1092 - accuracy: 0.9643 - val_loss: 0.1812 - val_accuracy: 0.9149\n",
            "Epoch 306/500\n",
            "27/27 [==============================] - 0s 3ms/step - loss: 0.1089 - accuracy: 0.9643 - val_loss: 0.1804 - val_accuracy: 0.9149\n",
            "Epoch 307/500\n",
            "27/27 [==============================] - 0s 4ms/step - loss: 0.1085 - accuracy: 0.9643 - val_loss: 0.1803 - val_accuracy: 0.9149\n",
            "Epoch 308/500\n",
            "27/27 [==============================] - 0s 3ms/step - loss: 0.1081 - accuracy: 0.9619 - val_loss: 0.1805 - val_accuracy: 0.9149\n",
            "Epoch 309/500\n",
            "27/27 [==============================] - 0s 4ms/step - loss: 0.1075 - accuracy: 0.9643 - val_loss: 0.1797 - val_accuracy: 0.9149\n",
            "Epoch 310/500\n",
            "27/27 [==============================] - 0s 4ms/step - loss: 0.1072 - accuracy: 0.9643 - val_loss: 0.1796 - val_accuracy: 0.9149\n",
            "Epoch 311/500\n",
            "27/27 [==============================] - 0s 3ms/step - loss: 0.1067 - accuracy: 0.9643 - val_loss: 0.1788 - val_accuracy: 0.9149\n",
            "Epoch 312/500\n",
            "27/27 [==============================] - 0s 3ms/step - loss: 0.1062 - accuracy: 0.9643 - val_loss: 0.1784 - val_accuracy: 0.9149\n",
            "Epoch 313/500\n",
            "27/27 [==============================] - 0s 3ms/step - loss: 0.1059 - accuracy: 0.9643 - val_loss: 0.1779 - val_accuracy: 0.9149\n",
            "Epoch 314/500\n",
            "27/27 [==============================] - 0s 4ms/step - loss: 0.1054 - accuracy: 0.9643 - val_loss: 0.1777 - val_accuracy: 0.9149\n",
            "Epoch 315/500\n",
            "27/27 [==============================] - 0s 3ms/step - loss: 0.1050 - accuracy: 0.9643 - val_loss: 0.1777 - val_accuracy: 0.9149\n",
            "Epoch 316/500\n",
            "27/27 [==============================] - 0s 3ms/step - loss: 0.1046 - accuracy: 0.9643 - val_loss: 0.1777 - val_accuracy: 0.9149\n",
            "Epoch 317/500\n",
            "27/27 [==============================] - 0s 3ms/step - loss: 0.1041 - accuracy: 0.9643 - val_loss: 0.1771 - val_accuracy: 0.9149\n",
            "Epoch 318/500\n",
            "27/27 [==============================] - 0s 3ms/step - loss: 0.1039 - accuracy: 0.9643 - val_loss: 0.1776 - val_accuracy: 0.9149\n",
            "Epoch 319/500\n",
            "27/27 [==============================] - 0s 3ms/step - loss: 0.1033 - accuracy: 0.9643 - val_loss: 0.1767 - val_accuracy: 0.9149\n",
            "Epoch 320/500\n",
            "27/27 [==============================] - 0s 4ms/step - loss: 0.1029 - accuracy: 0.9643 - val_loss: 0.1763 - val_accuracy: 0.9149\n",
            "Epoch 321/500\n",
            "27/27 [==============================] - 0s 3ms/step - loss: 0.1024 - accuracy: 0.9643 - val_loss: 0.1754 - val_accuracy: 0.9078\n",
            "Epoch 322/500\n",
            "27/27 [==============================] - 0s 3ms/step - loss: 0.1020 - accuracy: 0.9643 - val_loss: 0.1743 - val_accuracy: 0.9078\n",
            "Epoch 323/500\n",
            "27/27 [==============================] - 0s 4ms/step - loss: 0.1017 - accuracy: 0.9643 - val_loss: 0.1746 - val_accuracy: 0.9078\n",
            "Epoch 324/500\n",
            "27/27 [==============================] - 0s 3ms/step - loss: 0.1013 - accuracy: 0.9643 - val_loss: 0.1738 - val_accuracy: 0.9078\n",
            "Epoch 325/500\n",
            "27/27 [==============================] - 0s 3ms/step - loss: 0.1010 - accuracy: 0.9643 - val_loss: 0.1735 - val_accuracy: 0.9078\n",
            "Epoch 326/500\n",
            "27/27 [==============================] - 0s 3ms/step - loss: 0.1005 - accuracy: 0.9643 - val_loss: 0.1739 - val_accuracy: 0.9149\n",
            "Epoch 327/500\n",
            "27/27 [==============================] - 0s 3ms/step - loss: 0.1001 - accuracy: 0.9643 - val_loss: 0.1735 - val_accuracy: 0.9078\n",
            "Epoch 328/500\n",
            "27/27 [==============================] - 0s 3ms/step - loss: 0.0998 - accuracy: 0.9643 - val_loss: 0.1739 - val_accuracy: 0.9149\n",
            "Epoch 329/500\n",
            "27/27 [==============================] - 0s 3ms/step - loss: 0.0993 - accuracy: 0.9643 - val_loss: 0.1730 - val_accuracy: 0.9149\n",
            "Epoch 330/500\n",
            "27/27 [==============================] - 0s 3ms/step - loss: 0.0989 - accuracy: 0.9643 - val_loss: 0.1732 - val_accuracy: 0.9149\n",
            "Epoch 331/500\n",
            "27/27 [==============================] - 0s 3ms/step - loss: 0.0985 - accuracy: 0.9643 - val_loss: 0.1721 - val_accuracy: 0.9149\n",
            "Epoch 332/500\n",
            "27/27 [==============================] - 0s 3ms/step - loss: 0.0981 - accuracy: 0.9643 - val_loss: 0.1722 - val_accuracy: 0.9149\n",
            "Epoch 333/500\n",
            "27/27 [==============================] - 0s 3ms/step - loss: 0.0977 - accuracy: 0.9643 - val_loss: 0.1707 - val_accuracy: 0.9078\n",
            "Epoch 334/500\n",
            "27/27 [==============================] - 0s 3ms/step - loss: 0.0973 - accuracy: 0.9643 - val_loss: 0.1708 - val_accuracy: 0.9149\n",
            "Epoch 335/500\n",
            "27/27 [==============================] - 0s 4ms/step - loss: 0.0970 - accuracy: 0.9643 - val_loss: 0.1702 - val_accuracy: 0.9078\n",
            "Epoch 336/500\n",
            "27/27 [==============================] - 0s 3ms/step - loss: 0.0967 - accuracy: 0.9643 - val_loss: 0.1701 - val_accuracy: 0.9149\n",
            "Epoch 337/500\n",
            "27/27 [==============================] - 0s 3ms/step - loss: 0.0961 - accuracy: 0.9643 - val_loss: 0.1708 - val_accuracy: 0.9220\n",
            "Epoch 338/500\n",
            "27/27 [==============================] - 0s 3ms/step - loss: 0.0958 - accuracy: 0.9643 - val_loss: 0.1703 - val_accuracy: 0.9220\n",
            "Epoch 339/500\n",
            "27/27 [==============================] - 0s 3ms/step - loss: 0.0956 - accuracy: 0.9643 - val_loss: 0.1709 - val_accuracy: 0.9220\n",
            "Epoch 340/500\n",
            "27/27 [==============================] - 0s 3ms/step - loss: 0.0951 - accuracy: 0.9643 - val_loss: 0.1695 - val_accuracy: 0.9220\n",
            "Epoch 341/500\n",
            "27/27 [==============================] - 0s 4ms/step - loss: 0.0947 - accuracy: 0.9643 - val_loss: 0.1693 - val_accuracy: 0.9220\n",
            "Epoch 342/500\n",
            "27/27 [==============================] - 0s 4ms/step - loss: 0.0943 - accuracy: 0.9667 - val_loss: 0.1679 - val_accuracy: 0.9078\n",
            "Epoch 343/500\n",
            "27/27 [==============================] - 0s 4ms/step - loss: 0.0940 - accuracy: 0.9667 - val_loss: 0.1688 - val_accuracy: 0.9220\n",
            "Epoch 344/500\n",
            "27/27 [==============================] - 0s 3ms/step - loss: 0.0935 - accuracy: 0.9667 - val_loss: 0.1685 - val_accuracy: 0.9220\n",
            "Epoch 345/500\n",
            "27/27 [==============================] - 0s 3ms/step - loss: 0.0932 - accuracy: 0.9643 - val_loss: 0.1685 - val_accuracy: 0.9220\n",
            "Epoch 346/500\n",
            "27/27 [==============================] - 0s 3ms/step - loss: 0.0929 - accuracy: 0.9667 - val_loss: 0.1675 - val_accuracy: 0.9220\n",
            "Epoch 347/500\n",
            "27/27 [==============================] - 0s 3ms/step - loss: 0.0925 - accuracy: 0.9667 - val_loss: 0.1678 - val_accuracy: 0.9220\n",
            "Epoch 348/500\n",
            "27/27 [==============================] - 0s 3ms/step - loss: 0.0921 - accuracy: 0.9667 - val_loss: 0.1674 - val_accuracy: 0.9220\n",
            "Epoch 349/500\n",
            "27/27 [==============================] - 0s 3ms/step - loss: 0.0917 - accuracy: 0.9667 - val_loss: 0.1671 - val_accuracy: 0.9220\n",
            "Epoch 350/500\n",
            "27/27 [==============================] - 0s 3ms/step - loss: 0.0914 - accuracy: 0.9667 - val_loss: 0.1664 - val_accuracy: 0.9220\n",
            "Epoch 351/500\n",
            "27/27 [==============================] - 0s 4ms/step - loss: 0.0910 - accuracy: 0.9667 - val_loss: 0.1664 - val_accuracy: 0.9220\n",
            "Epoch 352/500\n",
            "27/27 [==============================] - 0s 3ms/step - loss: 0.0907 - accuracy: 0.9667 - val_loss: 0.1662 - val_accuracy: 0.9220\n",
            "Epoch 353/500\n",
            "27/27 [==============================] - 0s 3ms/step - loss: 0.0904 - accuracy: 0.9667 - val_loss: 0.1658 - val_accuracy: 0.9220\n",
            "Epoch 354/500\n",
            "27/27 [==============================] - 0s 3ms/step - loss: 0.0899 - accuracy: 0.9667 - val_loss: 0.1658 - val_accuracy: 0.9220\n",
            "Epoch 355/500\n",
            "27/27 [==============================] - 0s 4ms/step - loss: 0.0896 - accuracy: 0.9667 - val_loss: 0.1652 - val_accuracy: 0.9220\n",
            "Epoch 356/500\n",
            "27/27 [==============================] - 0s 3ms/step - loss: 0.0893 - accuracy: 0.9690 - val_loss: 0.1652 - val_accuracy: 0.9220\n",
            "Epoch 357/500\n",
            "27/27 [==============================] - 0s 3ms/step - loss: 0.0889 - accuracy: 0.9690 - val_loss: 0.1648 - val_accuracy: 0.9220\n",
            "Epoch 358/500\n",
            "27/27 [==============================] - 0s 3ms/step - loss: 0.0886 - accuracy: 0.9690 - val_loss: 0.1641 - val_accuracy: 0.9220\n",
            "Epoch 359/500\n",
            "27/27 [==============================] - 0s 4ms/step - loss: 0.0882 - accuracy: 0.9690 - val_loss: 0.1640 - val_accuracy: 0.9220\n",
            "Epoch 360/500\n",
            "27/27 [==============================] - 0s 3ms/step - loss: 0.0879 - accuracy: 0.9690 - val_loss: 0.1638 - val_accuracy: 0.9220\n",
            "Epoch 361/500\n",
            "27/27 [==============================] - 0s 3ms/step - loss: 0.0876 - accuracy: 0.9690 - val_loss: 0.1631 - val_accuracy: 0.9220\n",
            "Epoch 362/500\n",
            "27/27 [==============================] - 0s 3ms/step - loss: 0.0873 - accuracy: 0.9714 - val_loss: 0.1632 - val_accuracy: 0.9220\n",
            "Epoch 363/500\n",
            "27/27 [==============================] - 0s 3ms/step - loss: 0.0870 - accuracy: 0.9690 - val_loss: 0.1620 - val_accuracy: 0.9291\n",
            "Epoch 364/500\n",
            "27/27 [==============================] - 0s 3ms/step - loss: 0.0866 - accuracy: 0.9690 - val_loss: 0.1624 - val_accuracy: 0.9220\n",
            "Epoch 365/500\n",
            "27/27 [==============================] - 0s 4ms/step - loss: 0.0863 - accuracy: 0.9690 - val_loss: 0.1616 - val_accuracy: 0.9291\n",
            "Epoch 366/500\n",
            "27/27 [==============================] - 0s 3ms/step - loss: 0.0859 - accuracy: 0.9714 - val_loss: 0.1617 - val_accuracy: 0.9291\n",
            "Epoch 367/500\n",
            "27/27 [==============================] - 0s 3ms/step - loss: 0.0856 - accuracy: 0.9690 - val_loss: 0.1609 - val_accuracy: 0.9291\n",
            "Epoch 368/500\n",
            "27/27 [==============================] - 0s 3ms/step - loss: 0.0852 - accuracy: 0.9690 - val_loss: 0.1610 - val_accuracy: 0.9291\n",
            "Epoch 369/500\n",
            "27/27 [==============================] - 0s 3ms/step - loss: 0.0849 - accuracy: 0.9714 - val_loss: 0.1614 - val_accuracy: 0.9291\n",
            "Epoch 370/500\n",
            "27/27 [==============================] - 0s 3ms/step - loss: 0.0845 - accuracy: 0.9690 - val_loss: 0.1600 - val_accuracy: 0.9291\n",
            "Epoch 371/500\n",
            "27/27 [==============================] - 0s 3ms/step - loss: 0.0842 - accuracy: 0.9714 - val_loss: 0.1599 - val_accuracy: 0.9291\n",
            "Epoch 372/500\n",
            "27/27 [==============================] - 0s 3ms/step - loss: 0.0838 - accuracy: 0.9714 - val_loss: 0.1597 - val_accuracy: 0.9291\n",
            "Epoch 373/500\n",
            "27/27 [==============================] - 0s 3ms/step - loss: 0.0836 - accuracy: 0.9714 - val_loss: 0.1591 - val_accuracy: 0.9291\n",
            "Epoch 374/500\n",
            "27/27 [==============================] - 0s 3ms/step - loss: 0.0832 - accuracy: 0.9714 - val_loss: 0.1590 - val_accuracy: 0.9291\n",
            "Epoch 375/500\n",
            "27/27 [==============================] - 0s 3ms/step - loss: 0.0829 - accuracy: 0.9714 - val_loss: 0.1586 - val_accuracy: 0.9291\n",
            "Epoch 376/500\n",
            "27/27 [==============================] - 0s 3ms/step - loss: 0.0827 - accuracy: 0.9738 - val_loss: 0.1601 - val_accuracy: 0.9291\n",
            "Epoch 377/500\n",
            "27/27 [==============================] - 0s 3ms/step - loss: 0.0822 - accuracy: 0.9738 - val_loss: 0.1588 - val_accuracy: 0.9291\n",
            "Epoch 378/500\n",
            "27/27 [==============================] - 0s 3ms/step - loss: 0.0819 - accuracy: 0.9738 - val_loss: 0.1585 - val_accuracy: 0.9291\n",
            "Epoch 379/500\n",
            "27/27 [==============================] - 0s 3ms/step - loss: 0.0817 - accuracy: 0.9762 - val_loss: 0.1592 - val_accuracy: 0.9291\n",
            "Epoch 380/500\n",
            "27/27 [==============================] - 0s 3ms/step - loss: 0.0813 - accuracy: 0.9786 - val_loss: 0.1589 - val_accuracy: 0.9291\n",
            "Epoch 381/500\n",
            "27/27 [==============================] - 0s 3ms/step - loss: 0.0810 - accuracy: 0.9762 - val_loss: 0.1577 - val_accuracy: 0.9291\n",
            "Epoch 382/500\n",
            "27/27 [==============================] - 0s 3ms/step - loss: 0.0807 - accuracy: 0.9786 - val_loss: 0.1581 - val_accuracy: 0.9291\n",
            "Epoch 383/500\n",
            "27/27 [==============================] - 0s 3ms/step - loss: 0.0805 - accuracy: 0.9762 - val_loss: 0.1568 - val_accuracy: 0.9291\n",
            "Epoch 384/500\n",
            "27/27 [==============================] - 0s 3ms/step - loss: 0.0800 - accuracy: 0.9786 - val_loss: 0.1574 - val_accuracy: 0.9291\n",
            "Epoch 385/500\n",
            "27/27 [==============================] - 0s 3ms/step - loss: 0.0798 - accuracy: 0.9786 - val_loss: 0.1567 - val_accuracy: 0.9291\n",
            "Epoch 386/500\n",
            "27/27 [==============================] - 0s 3ms/step - loss: 0.0795 - accuracy: 0.9786 - val_loss: 0.1572 - val_accuracy: 0.9291\n",
            "Epoch 387/500\n",
            "27/27 [==============================] - 0s 3ms/step - loss: 0.0793 - accuracy: 0.9762 - val_loss: 0.1556 - val_accuracy: 0.9291\n",
            "Epoch 388/500\n",
            "27/27 [==============================] - 0s 4ms/step - loss: 0.0788 - accuracy: 0.9786 - val_loss: 0.1558 - val_accuracy: 0.9291\n",
            "Epoch 389/500\n",
            "27/27 [==============================] - 0s 3ms/step - loss: 0.0785 - accuracy: 0.9786 - val_loss: 0.1547 - val_accuracy: 0.9291\n",
            "Epoch 390/500\n",
            "27/27 [==============================] - 0s 3ms/step - loss: 0.0782 - accuracy: 0.9786 - val_loss: 0.1550 - val_accuracy: 0.9291\n",
            "Epoch 391/500\n",
            "27/27 [==============================] - 0s 3ms/step - loss: 0.0779 - accuracy: 0.9786 - val_loss: 0.1544 - val_accuracy: 0.9291\n",
            "Epoch 392/500\n",
            "27/27 [==============================] - 0s 3ms/step - loss: 0.0777 - accuracy: 0.9786 - val_loss: 0.1542 - val_accuracy: 0.9291\n",
            "Epoch 393/500\n",
            "27/27 [==============================] - 0s 3ms/step - loss: 0.0774 - accuracy: 0.9786 - val_loss: 0.1546 - val_accuracy: 0.9291\n",
            "Epoch 394/500\n",
            "27/27 [==============================] - 0s 3ms/step - loss: 0.0770 - accuracy: 0.9810 - val_loss: 0.1542 - val_accuracy: 0.9291\n",
            "Epoch 395/500\n",
            "27/27 [==============================] - 0s 3ms/step - loss: 0.0768 - accuracy: 0.9810 - val_loss: 0.1533 - val_accuracy: 0.9291\n",
            "Epoch 396/500\n",
            "27/27 [==============================] - 0s 3ms/step - loss: 0.0765 - accuracy: 0.9810 - val_loss: 0.1539 - val_accuracy: 0.9291\n",
            "Epoch 397/500\n",
            "27/27 [==============================] - 0s 3ms/step - loss: 0.0761 - accuracy: 0.9810 - val_loss: 0.1534 - val_accuracy: 0.9291\n",
            "Epoch 398/500\n",
            "27/27 [==============================] - 0s 3ms/step - loss: 0.0758 - accuracy: 0.9810 - val_loss: 0.1526 - val_accuracy: 0.9291\n",
            "Epoch 399/500\n",
            "27/27 [==============================] - 0s 3ms/step - loss: 0.0756 - accuracy: 0.9810 - val_loss: 0.1512 - val_accuracy: 0.9291\n",
            "Epoch 400/500\n",
            "27/27 [==============================] - 0s 3ms/step - loss: 0.0752 - accuracy: 0.9810 - val_loss: 0.1516 - val_accuracy: 0.9291\n",
            "Epoch 401/500\n",
            "27/27 [==============================] - 0s 3ms/step - loss: 0.0749 - accuracy: 0.9810 - val_loss: 0.1516 - val_accuracy: 0.9291\n",
            "Epoch 402/500\n",
            "27/27 [==============================] - 0s 3ms/step - loss: 0.0746 - accuracy: 0.9810 - val_loss: 0.1520 - val_accuracy: 0.9291\n",
            "Epoch 403/500\n",
            "27/27 [==============================] - 0s 4ms/step - loss: 0.0744 - accuracy: 0.9810 - val_loss: 0.1515 - val_accuracy: 0.9291\n",
            "Epoch 404/500\n",
            "27/27 [==============================] - 0s 3ms/step - loss: 0.0741 - accuracy: 0.9810 - val_loss: 0.1504 - val_accuracy: 0.9291\n",
            "Epoch 405/500\n",
            "27/27 [==============================] - 0s 3ms/step - loss: 0.0737 - accuracy: 0.9810 - val_loss: 0.1509 - val_accuracy: 0.9291\n",
            "Epoch 406/500\n",
            "27/27 [==============================] - 0s 3ms/step - loss: 0.0735 - accuracy: 0.9810 - val_loss: 0.1509 - val_accuracy: 0.9291\n",
            "Epoch 407/500\n",
            "27/27 [==============================] - 0s 3ms/step - loss: 0.0732 - accuracy: 0.9810 - val_loss: 0.1504 - val_accuracy: 0.9291\n",
            "Epoch 408/500\n",
            "27/27 [==============================] - 0s 3ms/step - loss: 0.0729 - accuracy: 0.9810 - val_loss: 0.1509 - val_accuracy: 0.9291\n",
            "Epoch 409/500\n",
            "27/27 [==============================] - 0s 3ms/step - loss: 0.0727 - accuracy: 0.9810 - val_loss: 0.1506 - val_accuracy: 0.9291\n",
            "Epoch 410/500\n",
            "27/27 [==============================] - 0s 4ms/step - loss: 0.0724 - accuracy: 0.9810 - val_loss: 0.1501 - val_accuracy: 0.9291\n",
            "Epoch 411/500\n",
            "27/27 [==============================] - 0s 3ms/step - loss: 0.0722 - accuracy: 0.9810 - val_loss: 0.1489 - val_accuracy: 0.9362\n",
            "Epoch 412/500\n",
            "27/27 [==============================] - 0s 3ms/step - loss: 0.0719 - accuracy: 0.9810 - val_loss: 0.1492 - val_accuracy: 0.9362\n",
            "Epoch 413/500\n",
            "27/27 [==============================] - 0s 3ms/step - loss: 0.0715 - accuracy: 0.9810 - val_loss: 0.1485 - val_accuracy: 0.9362\n",
            "Epoch 414/500\n",
            "27/27 [==============================] - 0s 3ms/step - loss: 0.0712 - accuracy: 0.9810 - val_loss: 0.1483 - val_accuracy: 0.9362\n",
            "Epoch 415/500\n",
            "27/27 [==============================] - 0s 3ms/step - loss: 0.0710 - accuracy: 0.9810 - val_loss: 0.1482 - val_accuracy: 0.9362\n",
            "Epoch 416/500\n",
            "27/27 [==============================] - 0s 3ms/step - loss: 0.0707 - accuracy: 0.9810 - val_loss: 0.1481 - val_accuracy: 0.9362\n",
            "Epoch 417/500\n",
            "27/27 [==============================] - 0s 3ms/step - loss: 0.0705 - accuracy: 0.9810 - val_loss: 0.1482 - val_accuracy: 0.9362\n",
            "Epoch 418/500\n",
            "27/27 [==============================] - 0s 3ms/step - loss: 0.0702 - accuracy: 0.9810 - val_loss: 0.1470 - val_accuracy: 0.9362\n",
            "Epoch 419/500\n",
            "27/27 [==============================] - 0s 3ms/step - loss: 0.0698 - accuracy: 0.9810 - val_loss: 0.1472 - val_accuracy: 0.9362\n",
            "Epoch 420/500\n",
            "27/27 [==============================] - 0s 3ms/step - loss: 0.0696 - accuracy: 0.9810 - val_loss: 0.1475 - val_accuracy: 0.9362\n",
            "Epoch 421/500\n",
            "27/27 [==============================] - 0s 3ms/step - loss: 0.0693 - accuracy: 0.9810 - val_loss: 0.1471 - val_accuracy: 0.9362\n",
            "Epoch 422/500\n",
            "27/27 [==============================] - 0s 3ms/step - loss: 0.0691 - accuracy: 0.9810 - val_loss: 0.1464 - val_accuracy: 0.9362\n",
            "Epoch 423/500\n",
            "27/27 [==============================] - 0s 4ms/step - loss: 0.0688 - accuracy: 0.9833 - val_loss: 0.1459 - val_accuracy: 0.9362\n",
            "Epoch 424/500\n",
            "27/27 [==============================] - 0s 4ms/step - loss: 0.0685 - accuracy: 0.9833 - val_loss: 0.1446 - val_accuracy: 0.9362\n",
            "Epoch 425/500\n",
            "27/27 [==============================] - 0s 3ms/step - loss: 0.0683 - accuracy: 0.9833 - val_loss: 0.1442 - val_accuracy: 0.9362\n",
            "Epoch 426/500\n",
            "27/27 [==============================] - 0s 4ms/step - loss: 0.0680 - accuracy: 0.9833 - val_loss: 0.1450 - val_accuracy: 0.9362\n",
            "Epoch 427/500\n",
            "27/27 [==============================] - 0s 4ms/step - loss: 0.0678 - accuracy: 0.9833 - val_loss: 0.1443 - val_accuracy: 0.9362\n",
            "Epoch 428/500\n",
            "27/27 [==============================] - 0s 3ms/step - loss: 0.0675 - accuracy: 0.9833 - val_loss: 0.1440 - val_accuracy: 0.9362\n",
            "Epoch 429/500\n",
            "27/27 [==============================] - 0s 3ms/step - loss: 0.0672 - accuracy: 0.9833 - val_loss: 0.1443 - val_accuracy: 0.9362\n",
            "Epoch 430/500\n",
            "27/27 [==============================] - 0s 3ms/step - loss: 0.0670 - accuracy: 0.9833 - val_loss: 0.1439 - val_accuracy: 0.9362\n",
            "Epoch 431/500\n",
            "27/27 [==============================] - 0s 3ms/step - loss: 0.0667 - accuracy: 0.9833 - val_loss: 0.1439 - val_accuracy: 0.9362\n",
            "Epoch 432/500\n",
            "27/27 [==============================] - 0s 3ms/step - loss: 0.0665 - accuracy: 0.9833 - val_loss: 0.1439 - val_accuracy: 0.9362\n",
            "Epoch 433/500\n",
            "27/27 [==============================] - 0s 4ms/step - loss: 0.0662 - accuracy: 0.9833 - val_loss: 0.1434 - val_accuracy: 0.9362\n",
            "Epoch 434/500\n",
            "27/27 [==============================] - 0s 3ms/step - loss: 0.0659 - accuracy: 0.9833 - val_loss: 0.1427 - val_accuracy: 0.9362\n",
            "Epoch 435/500\n",
            "27/27 [==============================] - 0s 3ms/step - loss: 0.0657 - accuracy: 0.9833 - val_loss: 0.1431 - val_accuracy: 0.9362\n",
            "Epoch 436/500\n",
            "27/27 [==============================] - 0s 3ms/step - loss: 0.0655 - accuracy: 0.9833 - val_loss: 0.1425 - val_accuracy: 0.9362\n",
            "Epoch 437/500\n",
            "27/27 [==============================] - 0s 3ms/step - loss: 0.0652 - accuracy: 0.9833 - val_loss: 0.1429 - val_accuracy: 0.9362\n",
            "Epoch 438/500\n",
            "27/27 [==============================] - 0s 3ms/step - loss: 0.0650 - accuracy: 0.9833 - val_loss: 0.1434 - val_accuracy: 0.9362\n",
            "Epoch 439/500\n",
            "27/27 [==============================] - 0s 3ms/step - loss: 0.0647 - accuracy: 0.9833 - val_loss: 0.1425 - val_accuracy: 0.9362\n",
            "Epoch 440/500\n",
            "27/27 [==============================] - 0s 3ms/step - loss: 0.0644 - accuracy: 0.9833 - val_loss: 0.1422 - val_accuracy: 0.9362\n",
            "Epoch 441/500\n",
            "27/27 [==============================] - 0s 3ms/step - loss: 0.0642 - accuracy: 0.9833 - val_loss: 0.1417 - val_accuracy: 0.9362\n",
            "Epoch 442/500\n",
            "27/27 [==============================] - 0s 3ms/step - loss: 0.0640 - accuracy: 0.9857 - val_loss: 0.1416 - val_accuracy: 0.9362\n",
            "Epoch 443/500\n",
            "27/27 [==============================] - 0s 3ms/step - loss: 0.0637 - accuracy: 0.9857 - val_loss: 0.1418 - val_accuracy: 0.9362\n",
            "Epoch 444/500\n",
            "27/27 [==============================] - 0s 4ms/step - loss: 0.0634 - accuracy: 0.9857 - val_loss: 0.1414 - val_accuracy: 0.9362\n",
            "Epoch 445/500\n",
            "27/27 [==============================] - 0s 4ms/step - loss: 0.0632 - accuracy: 0.9857 - val_loss: 0.1418 - val_accuracy: 0.9362\n",
            "Epoch 446/500\n",
            "27/27 [==============================] - 0s 5ms/step - loss: 0.0630 - accuracy: 0.9857 - val_loss: 0.1419 - val_accuracy: 0.9362\n",
            "Epoch 447/500\n",
            "27/27 [==============================] - 0s 3ms/step - loss: 0.0627 - accuracy: 0.9857 - val_loss: 0.1420 - val_accuracy: 0.9362\n",
            "Epoch 448/500\n",
            "27/27 [==============================] - 0s 3ms/step - loss: 0.0624 - accuracy: 0.9881 - val_loss: 0.1412 - val_accuracy: 0.9362\n",
            "Epoch 449/500\n",
            "27/27 [==============================] - 0s 3ms/step - loss: 0.0623 - accuracy: 0.9881 - val_loss: 0.1401 - val_accuracy: 0.9362\n",
            "Epoch 450/500\n",
            "27/27 [==============================] - 0s 3ms/step - loss: 0.0620 - accuracy: 0.9881 - val_loss: 0.1398 - val_accuracy: 0.9362\n",
            "Epoch 451/500\n",
            "27/27 [==============================] - 0s 3ms/step - loss: 0.0618 - accuracy: 0.9881 - val_loss: 0.1393 - val_accuracy: 0.9362\n",
            "Epoch 452/500\n",
            "27/27 [==============================] - 0s 3ms/step - loss: 0.0615 - accuracy: 0.9881 - val_loss: 0.1393 - val_accuracy: 0.9362\n",
            "Epoch 453/500\n",
            "27/27 [==============================] - 0s 4ms/step - loss: 0.0613 - accuracy: 0.9881 - val_loss: 0.1396 - val_accuracy: 0.9362\n",
            "Epoch 454/500\n",
            "27/27 [==============================] - 0s 3ms/step - loss: 0.0611 - accuracy: 0.9881 - val_loss: 0.1380 - val_accuracy: 0.9362\n",
            "Epoch 455/500\n",
            "27/27 [==============================] - 0s 4ms/step - loss: 0.0608 - accuracy: 0.9881 - val_loss: 0.1391 - val_accuracy: 0.9362\n",
            "Epoch 456/500\n",
            "27/27 [==============================] - 0s 3ms/step - loss: 0.0606 - accuracy: 0.9881 - val_loss: 0.1387 - val_accuracy: 0.9362\n",
            "Epoch 457/500\n",
            "27/27 [==============================] - 0s 4ms/step - loss: 0.0604 - accuracy: 0.9881 - val_loss: 0.1390 - val_accuracy: 0.9362\n",
            "Epoch 458/500\n",
            "27/27 [==============================] - 0s 4ms/step - loss: 0.0602 - accuracy: 0.9881 - val_loss: 0.1394 - val_accuracy: 0.9362\n",
            "Epoch 459/500\n",
            "27/27 [==============================] - 0s 3ms/step - loss: 0.0598 - accuracy: 0.9881 - val_loss: 0.1385 - val_accuracy: 0.9362\n",
            "Epoch 460/500\n",
            "27/27 [==============================] - 0s 3ms/step - loss: 0.0596 - accuracy: 0.9881 - val_loss: 0.1374 - val_accuracy: 0.9362\n",
            "Epoch 461/500\n",
            "27/27 [==============================] - 0s 3ms/step - loss: 0.0595 - accuracy: 0.9881 - val_loss: 0.1386 - val_accuracy: 0.9362\n",
            "Epoch 462/500\n",
            "27/27 [==============================] - 0s 3ms/step - loss: 0.0591 - accuracy: 0.9881 - val_loss: 0.1379 - val_accuracy: 0.9362\n",
            "Epoch 463/500\n",
            "27/27 [==============================] - 0s 3ms/step - loss: 0.0590 - accuracy: 0.9881 - val_loss: 0.1374 - val_accuracy: 0.9362\n",
            "Epoch 464/500\n",
            "27/27 [==============================] - 0s 3ms/step - loss: 0.0587 - accuracy: 0.9881 - val_loss: 0.1381 - val_accuracy: 0.9362\n",
            "Epoch 465/500\n",
            "27/27 [==============================] - 0s 3ms/step - loss: 0.0585 - accuracy: 0.9881 - val_loss: 0.1366 - val_accuracy: 0.9362\n",
            "Epoch 466/500\n",
            "27/27 [==============================] - 0s 5ms/step - loss: 0.0583 - accuracy: 0.9881 - val_loss: 0.1372 - val_accuracy: 0.9362\n",
            "Epoch 467/500\n",
            "27/27 [==============================] - 0s 3ms/step - loss: 0.0581 - accuracy: 0.9881 - val_loss: 0.1374 - val_accuracy: 0.9362\n",
            "Epoch 468/500\n",
            "27/27 [==============================] - 0s 4ms/step - loss: 0.0578 - accuracy: 0.9881 - val_loss: 0.1367 - val_accuracy: 0.9362\n",
            "Epoch 469/500\n",
            "27/27 [==============================] - 0s 3ms/step - loss: 0.0576 - accuracy: 0.9881 - val_loss: 0.1363 - val_accuracy: 0.9362\n",
            "Epoch 470/500\n",
            "27/27 [==============================] - 0s 3ms/step - loss: 0.0573 - accuracy: 0.9905 - val_loss: 0.1352 - val_accuracy: 0.9362\n",
            "Epoch 471/500\n",
            "27/27 [==============================] - 0s 4ms/step - loss: 0.0572 - accuracy: 0.9905 - val_loss: 0.1347 - val_accuracy: 0.9362\n",
            "Epoch 472/500\n",
            "27/27 [==============================] - 0s 3ms/step - loss: 0.0570 - accuracy: 0.9905 - val_loss: 0.1350 - val_accuracy: 0.9362\n",
            "Epoch 473/500\n",
            "27/27 [==============================] - 0s 3ms/step - loss: 0.0570 - accuracy: 0.9905 - val_loss: 0.1340 - val_accuracy: 0.9362\n",
            "Epoch 474/500\n",
            "27/27 [==============================] - 0s 3ms/step - loss: 0.0565 - accuracy: 0.9905 - val_loss: 0.1347 - val_accuracy: 0.9362\n",
            "Epoch 475/500\n",
            "27/27 [==============================] - 0s 3ms/step - loss: 0.0566 - accuracy: 0.9905 - val_loss: 0.1353 - val_accuracy: 0.9362\n",
            "Epoch 476/500\n",
            "27/27 [==============================] - 0s 4ms/step - loss: 0.0561 - accuracy: 0.9905 - val_loss: 0.1349 - val_accuracy: 0.9362\n",
            "Epoch 477/500\n",
            "27/27 [==============================] - 0s 3ms/step - loss: 0.0559 - accuracy: 0.9905 - val_loss: 0.1346 - val_accuracy: 0.9362\n",
            "Epoch 478/500\n",
            "27/27 [==============================] - 0s 3ms/step - loss: 0.0557 - accuracy: 0.9905 - val_loss: 0.1345 - val_accuracy: 0.9362\n",
            "Epoch 479/500\n",
            "27/27 [==============================] - 0s 3ms/step - loss: 0.0555 - accuracy: 0.9905 - val_loss: 0.1340 - val_accuracy: 0.9362\n",
            "Epoch 480/500\n",
            "27/27 [==============================] - 0s 4ms/step - loss: 0.0553 - accuracy: 0.9905 - val_loss: 0.1347 - val_accuracy: 0.9362\n",
            "Epoch 481/500\n",
            "27/27 [==============================] - 0s 3ms/step - loss: 0.0551 - accuracy: 0.9905 - val_loss: 0.1344 - val_accuracy: 0.9362\n",
            "Epoch 482/500\n",
            "27/27 [==============================] - 0s 3ms/step - loss: 0.0549 - accuracy: 0.9905 - val_loss: 0.1345 - val_accuracy: 0.9362\n",
            "Epoch 483/500\n",
            "27/27 [==============================] - 0s 3ms/step - loss: 0.0546 - accuracy: 0.9905 - val_loss: 0.1348 - val_accuracy: 0.9362\n",
            "Epoch 484/500\n",
            "27/27 [==============================] - 0s 3ms/step - loss: 0.0545 - accuracy: 0.9905 - val_loss: 0.1337 - val_accuracy: 0.9362\n",
            "Epoch 485/500\n",
            "27/27 [==============================] - 0s 3ms/step - loss: 0.0543 - accuracy: 0.9905 - val_loss: 0.1341 - val_accuracy: 0.9362\n",
            "Epoch 486/500\n",
            "27/27 [==============================] - 0s 4ms/step - loss: 0.0540 - accuracy: 0.9905 - val_loss: 0.1336 - val_accuracy: 0.9362\n",
            "Epoch 487/500\n",
            "27/27 [==============================] - 0s 3ms/step - loss: 0.0538 - accuracy: 0.9905 - val_loss: 0.1333 - val_accuracy: 0.9362\n",
            "Epoch 488/500\n",
            "27/27 [==============================] - 0s 3ms/step - loss: 0.0535 - accuracy: 0.9905 - val_loss: 0.1334 - val_accuracy: 0.9362\n",
            "Epoch 489/500\n",
            "27/27 [==============================] - 0s 3ms/step - loss: 0.0534 - accuracy: 0.9905 - val_loss: 0.1327 - val_accuracy: 0.9362\n",
            "Epoch 490/500\n",
            "27/27 [==============================] - 0s 3ms/step - loss: 0.0532 - accuracy: 0.9905 - val_loss: 0.1330 - val_accuracy: 0.9362\n",
            "Epoch 491/500\n",
            "27/27 [==============================] - 0s 3ms/step - loss: 0.0529 - accuracy: 0.9905 - val_loss: 0.1331 - val_accuracy: 0.9362\n",
            "Epoch 492/500\n",
            "27/27 [==============================] - 0s 4ms/step - loss: 0.0529 - accuracy: 0.9905 - val_loss: 0.1321 - val_accuracy: 0.9362\n",
            "Epoch 493/500\n",
            "27/27 [==============================] - 0s 3ms/step - loss: 0.0525 - accuracy: 0.9905 - val_loss: 0.1329 - val_accuracy: 0.9362\n",
            "Epoch 494/500\n",
            "27/27 [==============================] - 0s 3ms/step - loss: 0.0524 - accuracy: 0.9905 - val_loss: 0.1333 - val_accuracy: 0.9362\n",
            "Epoch 495/500\n",
            "27/27 [==============================] - 0s 3ms/step - loss: 0.0522 - accuracy: 0.9905 - val_loss: 0.1323 - val_accuracy: 0.9362\n",
            "Epoch 496/500\n",
            "27/27 [==============================] - 0s 4ms/step - loss: 0.0519 - accuracy: 0.9905 - val_loss: 0.1327 - val_accuracy: 0.9362\n",
            "Epoch 497/500\n",
            "27/27 [==============================] - 0s 3ms/step - loss: 0.0519 - accuracy: 0.9905 - val_loss: 0.1318 - val_accuracy: 0.9362\n",
            "Epoch 498/500\n",
            "27/27 [==============================] - 0s 3ms/step - loss: 0.0515 - accuracy: 0.9905 - val_loss: 0.1326 - val_accuracy: 0.9362\n",
            "Epoch 499/500\n",
            "27/27 [==============================] - 0s 4ms/step - loss: 0.0514 - accuracy: 0.9905 - val_loss: 0.1328 - val_accuracy: 0.9362\n",
            "Epoch 500/500\n",
            "27/27 [==============================] - 0s 4ms/step - loss: 0.0511 - accuracy: 0.9905 - val_loss: 0.1322 - val_accuracy: 0.9362\n"
          ],
          "name": "stdout"
        }
      ]
    },
    {
      "cell_type": "code",
      "metadata": {
        "colab": {
          "base_uri": "https://localhost:8080/"
        },
        "id": "7CZei-yZreSD",
        "outputId": "d3ebd8a5-e81a-47a7-84e5-1ba704ade3aa"
      },
      "source": [
        "history.history[\"accuracy\"][-1]"
      ],
      "execution_count": null,
      "outputs": [
        {
          "output_type": "execute_result",
          "data": {
            "text/plain": [
              "0.9904761910438538"
            ]
          },
          "metadata": {
            "tags": []
          },
          "execution_count": 78
        }
      ]
    },
    {
      "cell_type": "code",
      "metadata": {
        "colab": {
          "base_uri": "https://localhost:8080/"
        },
        "id": "75F4AVOxsszY",
        "outputId": "424489a5-0453-42c3-de0a-f7f77b4c1521"
      },
      "source": [
        "history.history[\"val_accuracy\"][-1]"
      ],
      "execution_count": null,
      "outputs": [
        {
          "output_type": "execute_result",
          "data": {
            "text/plain": [
              "0.936170220375061"
            ]
          },
          "metadata": {
            "tags": []
          },
          "execution_count": 79
        }
      ]
    },
    {
      "cell_type": "code",
      "metadata": {
        "colab": {
          "base_uri": "https://localhost:8080/",
          "height": 295
        },
        "id": "eEgAIiWQswxV",
        "outputId": "56ee065c-bbc5-4e73-c8dc-9dbecb947c84"
      },
      "source": [
        "plt.plot(history.history[\"accuracy\"])\n",
        "plt.plot(history.history[\"val_accuracy\"])\n",
        "plt.title('model_Accuracy')\n",
        "plt.ylabel('accuracy')\n",
        "plt.xlabel('epoch')\n",
        "plt.legend(['Train',\"cross_validation\"],loc='upper left')\n",
        "plt.show()"
      ],
      "execution_count": null,
      "outputs": [
        {
          "output_type": "display_data",
          "data": {
            "image/png": "[encoded data removed]",
            "text/plain": [
              "<Figure size 432x288 with 1 Axes>"
            ]
          },
          "metadata": {
            "tags": []
          }
        }
      ]
    },
    {
      "cell_type": "code",
      "metadata": {
        "colab": {
          "base_uri": "https://localhost:8080/",
          "height": 295
        },
        "id": "wUtMzHhis2RN",
        "outputId": "0f75ee3e-fd9c-4a1c-ff58-714521825e68"
      },
      "source": [
        "plt.plot(history.history[\"loss\"])\n",
        "plt.plot(history.history[\"val_loss\"])\n",
        "plt.title('model_loss')\n",
        "plt.ylabel('loss')\n",
        "plt.xlabel('epoch')\n",
        "plt.legend(['Train',\"cross_validation\"],loc='upper left')\n",
        "plt.show()"
      ],
      "execution_count": null,
      "outputs": [
        {
          "output_type": "display_data",
          "data": {
            "image/png": "[encoded data removed]",
            "text/plain": [
              "<Figure size 432x288 with 1 Axes>"
            ]
          },
          "metadata": {
            "tags": []
          }
        }
      ]
    },
    {
      "cell_type": "code",
      "metadata": {
        "colab": {
          "base_uri": "https://localhost:8080/"
        },
        "id": "4Df6cVnSs5_1",
        "outputId": "ee59f56f-7a48-4209-90d9-6d5ce4f82ed1"
      },
      "source": [
        "loss, accuracy = model2.evaluate(train_valid,test_valid,verbose=2)\n",
        "print(\"Accuracy : {:5.2f}\".format(accuracy))"
      ],
      "execution_count": null,
      "outputs": [
        {
          "output_type": "stream",
          "text": [
            "5/5 - 0s - loss: 0.1322 - accuracy: 0.9362\n",
            "Accuracy :  0.94\n"
          ],
          "name": "stdout"
        }
      ]
    },
    {
      "cell_type": "code",
      "metadata": {
        "colab": {
          "base_uri": "https://localhost:8080/"
        },
        "id": "3MeL6VW_tGbf",
        "outputId": "1a118e0f-3f4e-45f9-db36-0214f46515a1"
      },
      "source": [
        "loss, accuracy1 = model2.evaluate(X_test1,y_test1,verbose=2)\n",
        "print(\"Accuracy : {:5.2f}\".format(accuracy1))"
      ],
      "execution_count": null,
      "outputs": [
        {
          "output_type": "stream",
          "text": [
            "5/5 - 0s - loss: 0.0923 - accuracy: 0.9643\n",
            "Accuracy :  0.96\n"
          ],
          "name": "stdout"
        }
      ]
    },
    {
      "cell_type": "code",
      "metadata": {
        "id": "qAfAJY1jtOhD"
      },
      "source": [
        "from sklearn.metrics import confusion_matrix"
      ],
      "execution_count": null,
      "outputs": []
    },
    {
      "cell_type": "code",
      "metadata": {
        "id": "e3eAdwjJtT2I"
      },
      "source": [
        "y_pred = model2.predict(X_test1)"
      ],
      "execution_count": null,
      "outputs": []
    },
    {
      "cell_type": "code",
      "metadata": {
        "colab": {
          "base_uri": "https://localhost:8080/"
        },
        "id": "k7ihJHO8tXgQ",
        "outputId": "91649db1-9d1c-4f0c-93ca-e2aaa5eb64c5"
      },
      "source": [
        "y_pred > 0.5"
      ],
      "execution_count": null,
      "outputs": [
        {
          "output_type": "execute_result",
          "data": {
            "text/plain": [
              "array([[False],\n",
              "       [False],\n",
              "       [ True],\n",
              "       [ True],\n",
              "       [False],\n",
              "       [False],\n",
              "       [False],\n",
              "       [False],\n",
              "       [False],\n",
              "       [False],\n",
              "       [False],\n",
              "       [False],\n",
              "       [False],\n",
              "       [False],\n",
              "       [False],\n",
              "       [ True],\n",
              "       [False],\n",
              "       [ True],\n",
              "       [False],\n",
              "       [False],\n",
              "       [False],\n",
              "       [ True],\n",
              "       [False],\n",
              "       [ True],\n",
              "       [False],\n",
              "       [False],\n",
              "       [False],\n",
              "       [False],\n",
              "       [False],\n",
              "       [False],\n",
              "       [ True],\n",
              "       [False],\n",
              "       [ True],\n",
              "       [False],\n",
              "       [ True],\n",
              "       [False],\n",
              "       [False],\n",
              "       [ True],\n",
              "       [ True],\n",
              "       [False],\n",
              "       [False],\n",
              "       [ True],\n",
              "       [False],\n",
              "       [ True],\n",
              "       [False],\n",
              "       [False],\n",
              "       [False],\n",
              "       [False],\n",
              "       [False],\n",
              "       [False],\n",
              "       [ True],\n",
              "       [False],\n",
              "       [ True],\n",
              "       [False],\n",
              "       [False],\n",
              "       [False],\n",
              "       [False],\n",
              "       [False],\n",
              "       [False],\n",
              "       [False],\n",
              "       [ True],\n",
              "       [False],\n",
              "       [False],\n",
              "       [False],\n",
              "       [False],\n",
              "       [False],\n",
              "       [ True],\n",
              "       [ True],\n",
              "       [ True],\n",
              "       [False],\n",
              "       [False],\n",
              "       [False],\n",
              "       [ True],\n",
              "       [False],\n",
              "       [False],\n",
              "       [False],\n",
              "       [False],\n",
              "       [False],\n",
              "       [False],\n",
              "       [ True],\n",
              "       [False],\n",
              "       [False],\n",
              "       [False],\n",
              "       [ True],\n",
              "       [False],\n",
              "       [False],\n",
              "       [False],\n",
              "       [False],\n",
              "       [False],\n",
              "       [False],\n",
              "       [False],\n",
              "       [False],\n",
              "       [False],\n",
              "       [False],\n",
              "       [False],\n",
              "       [False],\n",
              "       [False],\n",
              "       [ True],\n",
              "       [False],\n",
              "       [ True],\n",
              "       [ True],\n",
              "       [False],\n",
              "       [False],\n",
              "       [False],\n",
              "       [ True],\n",
              "       [False],\n",
              "       [False],\n",
              "       [ True],\n",
              "       [ True],\n",
              "       [ True],\n",
              "       [ True],\n",
              "       [False],\n",
              "       [ True],\n",
              "       [ True],\n",
              "       [False],\n",
              "       [False],\n",
              "       [False],\n",
              "       [False],\n",
              "       [False],\n",
              "       [False],\n",
              "       [False],\n",
              "       [False],\n",
              "       [ True],\n",
              "       [False],\n",
              "       [False],\n",
              "       [False],\n",
              "       [False],\n",
              "       [False],\n",
              "       [False],\n",
              "       [ True],\n",
              "       [ True],\n",
              "       [False],\n",
              "       [False],\n",
              "       [False],\n",
              "       [False],\n",
              "       [False],\n",
              "       [False],\n",
              "       [False],\n",
              "       [False],\n",
              "       [False]])"
            ]
          },
          "metadata": {
            "tags": []
          },
          "execution_count": 87
        }
      ]
    },
    {
      "cell_type": "code",
      "metadata": {
        "colab": {
          "base_uri": "https://localhost:8080/"
        },
        "id": "H3R9M2Z2tbpd",
        "outputId": "b148e446-8d84-4b6c-cfb8-f1fac234292e"
      },
      "source": [
        "print(confusion_matrix(y_test1,y_pred>0.5))"
      ],
      "execution_count": null,
      "outputs": [
        {
          "output_type": "stream",
          "text": [
            "[[104   4]\n",
            " [  1  31]]\n"
          ],
          "name": "stdout"
        }
      ]
    },
    {
      "cell_type": "code",
      "metadata": {
        "id": "1tMzKSc9tiOE"
      },
      "source": [
        "from sklearn.metrics import roc_curve,roc_auc_score,classification_report,auc"
      ],
      "execution_count": null,
      "outputs": []
    },
    {
      "cell_type": "code",
      "metadata": {
        "id": "vTnGK0bu9dhR"
      },
      "source": [
        "roc = roc_auc_score(y_test1,y_pred>0.5)"
      ],
      "execution_count": null,
      "outputs": []
    },
    {
      "cell_type": "code",
      "metadata": {
        "id": "AbDoCb7o_TV8"
      },
      "source": [
        "roc_auc = auc(fpr,tpr)"
      ],
      "execution_count": null,
      "outputs": []
    },
    {
      "cell_type": "code",
      "metadata": {
        "colab": {
          "base_uri": "https://localhost:8080/"
        },
        "id": "ZPvY9vfd97HO",
        "outputId": "8750046e-3bfa-4400-8683-ca26a6f1c99c"
      },
      "source": [
        "roc"
      ],
      "execution_count": null,
      "outputs": [
        {
          "output_type": "execute_result",
          "data": {
            "text/plain": [
              "0.9658564814814815"
            ]
          },
          "metadata": {
            "tags": []
          },
          "execution_count": 91
        }
      ]
    },
    {
      "cell_type": "code",
      "metadata": {
        "id": "oOhFkzeK970D"
      },
      "source": [
        "fpr, tpr, threshold = roc_curve(y_test1,y_pred)"
      ],
      "execution_count": null,
      "outputs": []
    },
    {
      "cell_type": "code",
      "metadata": {
        "colab": {
          "base_uri": "https://localhost:8080/"
        },
        "id": "-AHQDoBz-SkL",
        "outputId": "aa5859a7-2d67-4dda-c64e-496ab779c705"
      },
      "source": [
        "fpr"
      ],
      "execution_count": null,
      "outputs": [
        {
          "output_type": "execute_result",
          "data": {
            "text/plain": [
              "array([0.        , 0.        , 0.        , 0.00925926, 0.00925926,\n",
              "       0.02777778, 0.02777778, 0.0462963 , 0.0462963 , 0.92592593,\n",
              "       0.94444444, 1.        ])"
            ]
          },
          "metadata": {
            "tags": []
          },
          "execution_count": 93
        }
      ]
    },
    {
      "cell_type": "code",
      "metadata": {
        "colab": {
          "base_uri": "https://localhost:8080/"
        },
        "id": "tDFlWNgA-TuJ",
        "outputId": "6bc783b9-0e65-4725-9bde-434ab2cf1b8b"
      },
      "source": [
        "tpr"
      ],
      "execution_count": null,
      "outputs": [
        {
          "output_type": "execute_result",
          "data": {
            "text/plain": [
              "array([0.     , 0.03125, 0.8125 , 0.8125 , 0.84375, 0.84375, 0.96875,\n",
              "       0.96875, 1.     , 1.     , 1.     , 1.     ])"
            ]
          },
          "metadata": {
            "tags": []
          },
          "execution_count": 94
        }
      ]
    },
    {
      "cell_type": "code",
      "metadata": {
        "colab": {
          "base_uri": "https://localhost:8080/"
        },
        "id": "3Cs8obaC-Usj",
        "outputId": "37232f4f-a3fb-4b56-d5d2-9d3d1844bb6d"
      },
      "source": [
        "threshold"
      ],
      "execution_count": null,
      "outputs": [
        {
          "output_type": "execute_result",
          "data": {
            "text/plain": [
              "array([1.9989160e+00, 9.9891603e-01, 8.5784215e-01, 8.5549712e-01,\n",
              "       7.9098594e-01, 7.7295291e-01, 5.5798864e-01, 4.1171333e-01,\n",
              "       3.5099301e-01, 1.7665057e-05, 1.7425686e-05, 7.1739430e-07],\n",
              "      dtype=float32)"
            ]
          },
          "metadata": {
            "tags": []
          },
          "execution_count": 95
        }
      ]
    },
    {
      "cell_type": "code",
      "metadata": {
        "colab": {
          "base_uri": "https://localhost:8080/",
          "height": 295
        },
        "id": "1xJ4wwRv-WAf",
        "outputId": "fbc84997-7ed4-4b4a-b891-b6288b946edc"
      },
      "source": [
        "plt.title('Receiver Operating Characteristic')\n",
        "plt.plot(fpr, tpr, 'b', label = 'AUC = %0.2f' % roc_auc)\n",
        "plt.legend(loc = 'lower right')\n",
        "plt.plot([0, 1], [0, 1],'r--')\n",
        "plt.xlim([0, 1])\n",
        "plt.ylim([0, 1])\n",
        "plt.ylabel('True Positive Rate')\n",
        "plt.xlabel('False Positive Rate')\n",
        "plt.show()"
      ],
      "execution_count": null,
      "outputs": [
        {
          "output_type": "display_data",
          "data": {
            "image/png": "[encoded data removed]",
            "text/plain": [
              "<Figure size 432x288 with 1 Axes>"
            ]
          },
          "metadata": {
            "tags": []
          }
        }
      ]
    },
    {
      "cell_type": "code",
      "metadata": {
        "id": "ebVFOKu0-tcm"
      },
      "source": [
        "from sklearn.metrics import plot_roc_curve"
      ],
      "execution_count": null,
      "outputs": []
    },
    {
      "cell_type": "code",
      "metadata": {
        "id": "tD0cyuMF-yWt"
      },
      "source": [
        ""
      ],
      "execution_count": null,
      "outputs": []
    },
    {
      "cell_type": "code",
      "metadata": {
        "id": "QFIqsP4d-2tc"
      },
      "source": [
        ""
      ],
      "execution_count": null,
      "outputs": []
    }
  ]
}